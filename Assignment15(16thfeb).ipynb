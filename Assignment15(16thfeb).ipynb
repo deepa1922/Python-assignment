{
  "cells": [
    {
      "cell_type": "code",
      "source": [
        "#Q1. What is a database? Differentiate between SQL and NoSQL databases.\n",
        "\"\"\"A database is a software system that is designed to store, manage,\n",
        "and retrieve data. It is a structured way of organizing and accessing data \n",
        "in a digital format. Databases can be used for a wide range of purposes, such \n",
        "as managing business transactions, storing customer information, or managing \n",
        "scientific data.\n",
        "\n",
        "There are two main types of databases: SQL (relational) and NoSQL (non-relational).\n",
        "The main differences between the two are in how they store and manage data.\"\"\"\n",
        "#SQL\n",
        "'''SQL databases are based on the relational model of data, which means that data \n",
        "is organized into tables with rows and columns. SQL databases use a language \n",
        "called Structured Query Language (SQL) to interact with the data. SQL databases \n",
        "are known for their ability to handle complex queries and for their strong data \n",
        "consistency and reliability.'''\n",
        "#NOSQL\n",
        "'''NoSQL databases, on the other hand, are designed for handling large volumes of \n",
        "unstructured or semi-structured data. NoSQL databases do not use tables, \n",
        "but instead use data structures such as key-value stores, document stores, \n",
        "or graph databases. NoSQL databases are typically more flexible and scalable \n",
        "than SQL databases, but they may sacrifice some consistency and reliability for \n",
        "performance and scalability.\n",
        "\n",
        "In summary, SQL databases are best suited for structured data that requires strong \n",
        "data consistency and reliability, while NoSQL databases are better suited for handling\n",
        "large volumes of unstructured or semi-structured data with high scalability\n",
        "and flexibility requirements\"\"\""
      ],
      "metadata": {
        "id": "5aq6z63lva2x"
      },
      "id": "5aq6z63lva2x",
      "execution_count": null,
      "outputs": []
    },
    {
      "cell_type": "code",
      "source": [
        "#Q2. What is DDL? Explain why CREATE, DROP, ALTER, and TRUNCATE are used with an example.\n",
        "''' DDL stands for Data Definition Language, which is a set of SQL commands used to define, modify, and manage the structure of a database\n",
        "DDL commands are used to create, alter, and drop tables, indexes, and other database objects, as well as to define constraints and specify \n",
        "access controls.'''\n",
        "#CREATE :- is used to create a new table or database.\n",
        " ex:- CREATE database shiva;\n",
        "\n",
        " #DROP :- is used to drop(or delete the table) table\n",
        "  ex:- DROP table aman;\n",
        "\n",
        "#ALTER :- is used to modify the structure of an existing database object, such as a table or column.\n",
        "  ex:- ALTER TABLE Customers\n",
        "  ADD Email VARCHAR(255);\n",
        "\n",
        "#TRUNCATE :- is used to remove all data from a table while keeping its structure intact.\n",
        "  ex:- TRUNCATE TABLE Customers;\n",
        "\n"
      ],
      "metadata": {
        "id": "RT8EIKRO0RF6"
      },
      "id": "RT8EIKRO0RF6",
      "execution_count": null,
      "outputs": []
    },
    {
      "cell_type": "code",
      "source": [
        "#Q3. What is DML? Explain INSERT, UPDATE, and DELETE with an example.\n",
        "'''DML stands for Data Manipulation Language, which is a set of SQL commands used to manage data within a database.\n",
        "DML commands are used to insert, update, and delete data in a database, as well as to retrieve data from a database.\n",
        "\n",
        "INSERT: used to insert new data into a table.\n",
        "\n",
        "  ex:- INSERT INTO Customers (Name, Email)\n",
        "      VALUES ('som', 'som@gmail.com');\n",
        "\n",
        "UPDATE: used to modify existing data in a table.\n",
        "\n",
        "  ex:- UPDATE Customers\n",
        "      SET Email = 'john@email.com'\n",
        "      WHERE Name = 'Jon Sem';\n",
        "\n",
        "DELETE: used to remove data from a table.\n",
        "\n",
        "  ex:- DELETE FROM Customers\n",
        "      WHERE Name = 'jon';"
      ],
      "metadata": {
        "id": "jBb6bFX-1si0"
      },
      "id": "jBb6bFX-1si0",
      "execution_count": null,
      "outputs": []
    },
    {
      "cell_type": "code",
      "source": [
        "#Q4. What is DQL? Explain SELECT with an example.\n",
        "'''DQL stands for Data Query Language, which is a subset of SQL that is used to \n",
        "retrieve data from a database. DQL is used to select and filter data from tables, \n",
        "and it includes the SELECT statement.\n",
        "\n",
        "SELECT is a SQL command used to retrieve data from one or more tables in a database. It is the most commonly used\n",
        " SQL command and is often used in combination with other SQL commands to retrieve, filter, and sort data based on specific criteria.\n",
        "\n",
        "    ex:- SELECT Name, Email FROM Customers;\n",
        "    '''"
      ],
      "metadata": {
        "id": "ULhBXn4A2nBT"
      },
      "id": "ULhBXn4A2nBT",
      "execution_count": null,
      "outputs": []
    },
    {
      "cell_type": "code",
      "source": [
        "#Q5. Explain Primary Key and Foreign Key.\n",
        "#primary key\n",
        "''' A primary key is a column or set of columns in a table that uniquely identifies each row in that table.\n",
        " Primary keys are used to enforce data integrity and ensure that each row in a table is unique.\n",
        "\n",
        " ex:- consider a table called \"Customers\" with columns for \"CustomerID\", \"Name\", \"Email\", and \"City\". \n",
        " We can make \"CustomerID\" the primary key for the \"Customers\" table, which means that each value in the \"CustomerID\" column must be unique and\n",
        "  cannot be null. This ensures that we can easily and efficiently retrieve data for a specific customer by their unique identifier.'''\n",
        "#foreign key\n",
        " '''A foreign key is a column or set of columns in one table that refers to the primary key of another table. Foreign keys are used to \n",
        " establish relationships between tables and ensure that data in related tables is consistent.\n",
        "\n",
        " ex:- consider a table called \"Orders\" with columns for \"OrderID\", \"CustomerID\", \"OrderDate\", and \"TotalAmount\". \n",
        " We can make \"CustomerID\" a foreign key that refers to the \"CustomerID\" column in the \"Customers\" table. \n",
        " This ensures that each order is associated with a valid customer, and we can easily retrieve customer information when querying the \"Orders\" table.\n",
        "\n"
      ],
      "metadata": {
        "id": "8FtJ3pN43dTC"
      },
      "id": "8FtJ3pN43dTC",
      "execution_count": null,
      "outputs": []
    },
    {
      "cell_type": "code",
      "source": [
        "#Q6. Write a python code to connect MySQL to python. Explain the cursor() and execute() method.\n",
        "import mysql.connector\n",
        "\n",
        "myDB = mysql.connector.connect(\n",
        "    host = 'localhost',\n",
        "    user = 'abc',\n",
        "    password = 'password'\n",
        ")\n",
        "\n",
        "myCoursor = myDB.cursor()\n",
        "myCoursor.execute(\"CREATE database \")\n",
        "myDB.close()\n",
        "\n",
        "#cursor() :- \n",
        "'''method is used to create a cursor object, which is used to execute SQL statements and retrieve data from the database.\n",
        " The cursor object is used to traverse the records of a result set and perform database operations like inserting, updating, and deleting records.'''\n",
        " #execute() :- \n",
        " '''method is used to execute a SQL statement on a cursor object. The SQL statement can be a parameterized query, \n",
        " which allows you to pass values into the query at runtime. The execute() method returns a cursor object that can be used to fetch the\n",
        "  results of the query.'''"
      ],
      "metadata": {
        "id": "x8F5ZpRi4-jO"
      },
      "id": "x8F5ZpRi4-jO",
      "execution_count": null,
      "outputs": []
    },
    {
      "cell_type": "code",
      "source": [
        "#Q7. Give the order of execution of SQL clauses in an SQL query.\n",
        "'''\n",
        "#FROM: This clause specifies the table or tables from which the data is being retrieved.\n",
        "\n",
        "#JOIN: This clause is used to join two or more tables based on a common column.\n",
        "\n",
        "#WHERE: This clause is used to filter the data based on one or more conditions.\n",
        "\n",
        "#GROUP BY: This clause is used to group the data based on one or more columns.\n",
        "\n",
        "#HAVING: This clause is used to filter the grouped data based on one or more conditions.\n",
        "\n",
        "#SELECT: This clause is used to specify the columns that should be retrieved from the table(s).\n",
        "\n",
        "#DISTINCT: This clause is used to retrieve only unique values for the specified columns.\n",
        "\n",
        "#ORDER BY: This clause is used to sort the data based on one or more columns.\n",
        "\n",
        "#LIMIT: This clause is used to limit the number of rows that are retrieved from the table(s).'''"
      ],
      "metadata": {
        "id": "KPbPvuPW6fSp"
      },
      "id": "KPbPvuPW6fSp",
      "execution_count": null,
      "outputs": []
    }
  ],
  "metadata": {
    "kernelspec": {
      "display_name": "Python 3",
      "name": "python3"
    },
    "language_info": {
      "name": "python"
    },
    "colab": {
      "provenance": []
    }
  },
  "nbformat": 4,
  "nbformat_minor": 5
}