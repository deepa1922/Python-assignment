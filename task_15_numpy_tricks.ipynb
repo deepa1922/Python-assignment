{
  "cells": [
    {
      "cell_type": "markdown",
      "metadata": {
        "id": "J88qfqQEk_sT"
      },
      "source": [
        "###`Q-1:` Create a random 3x4 matrix with value between 0-100. And perform below tasks\n",
        "\n",
        "    i. Sort this matrix. np.sort()\n",
        "    ii. Sort this matrix based on values in 2nd column.\n",
        "    iii. Sort this matrix based on max value in each row.\n",
        "    iv. Sort based on elements value.\n"
      ]
    },
    {
      "cell_type": "markdown",
      "metadata": {
        "id": "xpOwOdhqlE9R"
      },
      "source": [
        "See examples:\n",
        "```\n",
        "arr =\n",
        "    [[92 90 74]\n",
        "    [ 6 63 93]\n",
        "    [15 93 96]\n",
        "    [70 60 48]]\n",
        "```\n",
        "```\n",
        "i. np.sort\n",
        "[[74 90 92]\n",
        " [ 6 63 93]\n",
        " [15 93 96]\n",
        " [48 60 70]]\n",
        "\n",
        "ii. based on 2nd column\n",
        "[[70 60 48]\n",
        " [ 6 63 93]\n",
        " [92 90 74]\n",
        " [15 93 96]]\n",
        "\n",
        "iii. based on row max- ascending\n",
        "[[15 93 96]\n",
        " [ 6 63 93]\n",
        " [92 90 74]\n",
        " [70 60 48]]\n",
        "\n",
        "iv. based on elements value\n",
        "[[ 6 15 48]\n",
        " [60 63 70]\n",
        " [74 90 92]\n",
        " [93 93 96]]\n",
        "\n",
        "```"
      ]
    },
    {
      "cell_type": "code",
      "execution_count": null,
      "metadata": {
        "colab": {
          "base_uri": "https://localhost:8080/"
        },
        "id": "Auy-guUwlALv",
        "outputId": "8ef46b6d-6bf7-4eb5-c79b-67ed8ce9f107"
      },
      "outputs": [
        {
          "data": {
            "text/plain": [
              "array([[31, 51, 45, 28],\n",
              "       [53, 82,  9, 42],\n",
              "       [18, 39, 73, 87]])"
            ]
          },
          "execution_count": 2,
          "metadata": {},
          "output_type": "execute_result"
        }
      ],
      "source": [
        "# code here\n",
        "import numpy as np\n",
        "arr = np.random.randint(0,101,size=(3,4))\n",
        "arr"
      ]
    },
    {
      "cell_type": "code",
      "execution_count": null,
      "metadata": {
        "colab": {
          "base_uri": "https://localhost:8080/"
        },
        "id": "MRjbm9WhIiXp",
        "outputId": "b22ee5c8-cfad-4aba-d8ee-70da937676bd"
      },
      "outputs": [
        {
          "data": {
            "text/plain": [
              "array([[28, 31, 45, 51],\n",
              "       [ 9, 42, 53, 82],\n",
              "       [18, 39, 73, 87]])"
            ]
          },
          "execution_count": 3,
          "metadata": {},
          "output_type": "execute_result"
        }
      ],
      "source": [
        "np.sort(arr)"
      ]
    },
    {
      "cell_type": "code",
      "execution_count": null,
      "metadata": {
        "colab": {
          "base_uri": "https://localhost:8080/"
        },
        "id": "QGHzMM1EIra0",
        "outputId": "e8e394b8-ae4a-4812-c58a-e18aa48925dd"
      },
      "outputs": [
        {
          "data": {
            "text/plain": [
              "array([[18, 39, 73, 87],\n",
              "       [31, 51, 45, 28],\n",
              "       [53, 82,  9, 42]])"
            ]
          },
          "execution_count": 7,
          "metadata": {},
          "output_type": "execute_result"
        }
      ],
      "source": [
        "arr[np.argsort(arr[:,1])]"
      ]
    },
    {
      "cell_type": "code",
      "execution_count": null,
      "metadata": {
        "colab": {
          "base_uri": "https://localhost:8080/"
        },
        "id": "qqpOnb5vJYfk",
        "outputId": "28e9f2ea-ae63-4dd2-9b12-122981ff03ab"
      },
      "outputs": [
        {
          "name": "stdout",
          "output_type": "stream",
          "text": [
            "max_value [51 82 87]\n",
            "sorted indices [0 1 2]\n"
          ]
        },
        {
          "data": {
            "text/plain": [
              "array([[31, 51, 45, 28],\n",
              "       [53, 82,  9, 42],\n",
              "       [18, 39, 73, 87]])"
            ]
          },
          "execution_count": 11,
          "metadata": {},
          "output_type": "execute_result"
        }
      ],
      "source": [
        "# Sort this matrix based on max value in each row.\n",
        "max_value = arr.max(axis=1)\n",
        "print(\"max_value\",max_value)\n",
        "sorted_indices = np.argsort(max_value)\n",
        "print(\"sorted indices\",sorted_indices)\n",
        "sorted_arr = arr[sorted_indices]\n",
        "sorted_arr"
      ]
    },
    {
      "cell_type": "code",
      "execution_count": null,
      "metadata": {
        "colab": {
          "base_uri": "https://localhost:8080/"
        },
        "id": "VFF44g70V4M0",
        "outputId": "0e49a1d4-b411-4143-b868-15b9b8d5a73e"
      },
      "outputs": [
        {
          "data": {
            "text/plain": [
              "array([[ 9, 18, 28, 31],\n",
              "       [39, 42, 45, 51],\n",
              "       [53, 73, 82, 87]])"
            ]
          },
          "execution_count": 15,
          "metadata": {},
          "output_type": "execute_result"
        }
      ],
      "source": [
        "#Sort based on elements value.\n",
        "\n",
        "np.sort(arr,axis=None).reshape(3,4)"
      ]
    },
    {
      "cell_type": "markdown",
      "metadata": {
        "id": "Jx_I3gx9lBay"
      },
      "source": [
        "###`Q-2:` There is an array of marks of 5 students in 4 subjects. Further you are asked to perform below task.\n",
        "    i. Add marks every student of an extra subject in the same array.\n",
        "    ii. Add two new students marks in respective 5 subjects.(one subject added in above task)\n",
        "    iii. Add extra column with sum of all subjects(5-subjects) marks\n",
        "    iv. Sort the array(non-ascending order) on total marks column--one added in above task. Show top 2 rows.\n",
        "\n",
        "Note: Change dimension of arrays during concatenation or appending if required."
      ]
    },
    {
      "cell_type": "markdown",
      "metadata": {
        "id": "lXF-CE6ylNIw"
      },
      "source": [
        "Given Array-\n",
        "```\n",
        "marks = [[13, 10,  9, 33],\n",
        "       [63, 46, 90, 42],\n",
        "       [39, 76, 13, 29],\n",
        "       [82,  9, 29, 78],\n",
        "       [67, 61, 59, 36]]\n",
        "\n",
        "extra_subject = [41, 87, 72, 36, 92]\n",
        "#Two extra students record-\n",
        "rec1 = [77, 83, 98, 95, 89]\n",
        "rec2 = [92, 71, 52, 61, 53]\n",
        "```"
      ]
    },
    {
      "cell_type": "code",
      "execution_count": null,
      "metadata": {
        "colab": {
          "base_uri": "https://localhost:8080/"
        },
        "id": "7YKsWO2olMkq",
        "outputId": "7a7edfd5-5063-4c68-ddcb-8da6ca333310"
      },
      "outputs": [
        {
          "data": {
            "text/plain": [
              "array([[13, 10,  9, 33, 41],\n",
              "       [63, 46, 90, 42, 87],\n",
              "       [39, 76, 13, 29, 72],\n",
              "       [82,  9, 29, 78, 36],\n",
              "       [67, 61, 59, 36, 92]])"
            ]
          },
          "execution_count": 75,
          "metadata": {},
          "output_type": "execute_result"
        }
      ],
      "source": [
        "# code here\n",
        "marks = np.array([[13, 10,  9, 33],\n",
        "       [63, 46, 90, 42],\n",
        "       [39, 76, 13, 29],\n",
        "       [82,  9, 29, 78],\n",
        "       [67, 61, 59, 36]])\n",
        "\n",
        "#1Add marks every student of an extra subject in the same array.\n",
        "extra_subject = np.array([41, 87, 72, 36, 92]).reshape(-1,1)\n",
        "#append\n",
        "#np.append(marks,extra_subject,axis=1)\n",
        "#concatenate\n",
        "marks = np.concatenate((marks,extra_subject),axis=1)\n",
        "marks"
      ]
    },
    {
      "cell_type": "code",
      "execution_count": null,
      "metadata": {
        "colab": {
          "base_uri": "https://localhost:8080/"
        },
        "id": "NJ3yW65f-E9N",
        "outputId": "8e791678-65dd-4960-9b07-ed4746aa4f95"
      },
      "outputs": [
        {
          "data": {
            "text/plain": [
              "array([[13, 10,  9, 33, 41],\n",
              "       [63, 46, 90, 42, 87],\n",
              "       [39, 76, 13, 29, 72],\n",
              "       [82,  9, 29, 78, 36],\n",
              "       [67, 61, 59, 36, 92],\n",
              "       [77, 83, 98, 95, 89],\n",
              "       [92, 71, 52, 61, 53]])"
            ]
          },
          "execution_count": 76,
          "metadata": {},
          "output_type": "execute_result"
        }
      ],
      "source": [
        "\n",
        "#ii. Add two new students marks in respective 5 subjects.(one subject added in above task)\n",
        "rec1 = np.array([77, 83, 98, 95, 89]).reshape(1,-1)\n",
        "rec2 = np.array([92, 71, 52, 61, 53]).reshape(1,-1)\n",
        "marks = np.concatenate((marks,rec1,rec2),axis=0)\n",
        "marks"
      ]
    },
    {
      "cell_type": "code",
      "execution_count": null,
      "metadata": {
        "colab": {
          "base_uri": "https://localhost:8080/"
        },
        "id": "4nR2ohEiCY5L",
        "outputId": "a921caad-b9d9-4791-89d2-6f17cfcd8acd"
      },
      "outputs": [
        {
          "data": {
            "text/plain": [
              "array([[ 13,  10,   9,  33,  41, 106],\n",
              "       [ 63,  46,  90,  42,  87, 328],\n",
              "       [ 39,  76,  13,  29,  72, 229],\n",
              "       [ 82,   9,  29,  78,  36, 234],\n",
              "       [ 67,  61,  59,  36,  92, 315],\n",
              "       [ 77,  83,  98,  95,  89, 442],\n",
              "       [ 92,  71,  52,  61,  53, 329]])"
            ]
          },
          "execution_count": 78,
          "metadata": {},
          "output_type": "execute_result"
        }
      ],
      "source": [
        "#iii. Add extra column with sum of all subjects(5-subjects) marks\n",
        "sum = np.array(marks.sum(axis=1)).reshape(-1,1)\n",
        "marks = np.concatenate((marks,sum),axis=1)\n",
        "marks"
      ]
    },
    {
      "cell_type": "code",
      "execution_count": null,
      "metadata": {
        "colab": {
          "base_uri": "https://localhost:8080/"
        },
        "id": "KClzH3_WA2TW",
        "outputId": "9e3a1380-b83b-4644-e731-b4ad69697106"
      },
      "outputs": [
        {
          "data": {
            "text/plain": [
              "array([[ 77,  83,  98,  95,  89, 442],\n",
              "       [ 92,  71,  52,  61,  53, 329],\n",
              "       [ 63,  46,  90,  42,  87, 328],\n",
              "       [ 67,  61,  59,  36,  92, 315],\n",
              "       [ 82,   9,  29,  78,  36, 234],\n",
              "       [ 39,  76,  13,  29,  72, 229],\n",
              "       [ 13,  10,   9,  33,  41, 106]])"
            ]
          },
          "execution_count": 82,
          "metadata": {},
          "output_type": "execute_result"
        }
      ],
      "source": [
        "#iv.Sort the array(non-ascending order) on total marks column--one added in above task. Show top 2 rows.\n",
        "indices = np.argsort(marks[:,5])[::-1]\n",
        "marks[indices]"
      ]
    },
    {
      "cell_type": "markdown",
      "metadata": {
        "id": "VmOyK_8klRqR"
      },
      "source": [
        "###`Q-3:` Find unique arrays from a 2D array column wise and row wise.\n",
        "```\n",
        "arr = np.array([[1,2,3,3,1,1],\n",
        "                [0,9,1,2,8,8],\n",
        "                [1,2,3,8,8,8],\n",
        "                [1,2,3,3,1,1]])\n",
        "```\n",
        "Expected Result-\n",
        "```\n",
        "Row Wise\n",
        "[[0 9 1 2 8 8]\n",
        " [1 2 3 3 1 1]\n",
        " [1 2 3 8 8 8]]\n",
        "\n",
        "Col Wise\n",
        "[[1 1 2 3 3]\n",
        " [0 8 9 1 2]\n",
        " [1 8 2 3 8]\n",
        " [1 1 2 3 3]]\n",
        "```"
      ]
    },
    {
      "cell_type": "code",
      "execution_count": null,
      "metadata": {
        "colab": {
          "base_uri": "https://localhost:8080/"
        },
        "id": "LJl10VQrlU5q",
        "outputId": "ddb7d94a-867d-4761-9423-00e45c824029"
      },
      "outputs": [
        {
          "name": "stdout",
          "output_type": "stream",
          "text": [
            "[[0 9 1 2 8 8]\n",
            " [1 2 3 3 1 1]\n",
            " [1 2 3 8 8 8]]\n",
            "[[1 1 2 3 3]\n",
            " [0 8 9 1 2]\n",
            " [1 8 2 3 8]\n",
            " [1 1 2 3 3]]\n"
          ]
        }
      ],
      "source": [
        "#solution\n",
        "arr = np.array([[1,2,3,3,1,1],\n",
        "                [0,9,1,2,8,8],\n",
        "                [1,2,3,8,8,8],\n",
        "                [1,2,3,3,1,1]])\n",
        "\n",
        "#row-wise\n",
        "row_wise = np.unique(arr,axis=0)\n",
        "print(row_wise)\n",
        "#column wise\n",
        "col_wise = np.unique(arr,axis=1)\n",
        "print(col_wise)"
      ]
    },
    {
      "cell_type": "markdown",
      "metadata": {
        "id": "RaXwVkywlWY2"
      },
      "source": [
        "###`Q-4:` Flip given 2-D array along both axes at the same time."
      ]
    },
    {
      "cell_type": "code",
      "execution_count": null,
      "metadata": {
        "colab": {
          "base_uri": "https://localhost:8080/"
        },
        "id": "mN7-4G8Kleeq",
        "outputId": "0bd6a377-9ce5-4fd7-f1b1-86a8cfe0f0dd"
      },
      "outputs": [
        {
          "name": "stdout",
          "output_type": "stream",
          "text": [
            "array\n",
            " [[21  6  5]\n",
            " [17  5  5]]\n",
            "flip array\n",
            " [[ 5  5 17]\n",
            " [ 5  6 21]]\n"
          ]
        }
      ],
      "source": [
        "# code here\n",
        "arr = np.random.randint(1,30,size=(2,3))\n",
        "print(\"array\\n\",arr)\n",
        "print(\"flip array\\n\",np.flip(arr))"
      ]
    },
    {
      "cell_type": "markdown",
      "metadata": {
        "id": "X0S7BUNTlfoq"
      },
      "source": [
        "### `Q-5:` Get row numbers of NumPy array having element larger than X.\n",
        "```\n",
        "arr = [[1,2,3,4,5],\n",
        "      [10,-3,30,4,5],\n",
        "      [3,2,5,-4,5],\n",
        "      [9,7,3,6,5]]\n",
        "\n",
        "X = 6\n",
        "```"
      ]
    },
    {
      "cell_type": "code",
      "execution_count": null,
      "metadata": {
        "colab": {
          "base_uri": "https://localhost:8080/"
        },
        "id": "bi8jRmWhlkBU",
        "outputId": "8c05b4c0-b132-4bfd-b0d0-db005d55d891"
      },
      "outputs": [
        {
          "data": {
            "text/plain": [
              "(array([1, 3]),)"
            ]
          },
          "execution_count": 97,
          "metadata": {},
          "output_type": "execute_result"
        }
      ],
      "source": [
        "# code here\n",
        "arr = np.array([[1,2,3,4,5],\n",
        "      [10,-3,30,4,5],\n",
        "      [3,2,5,-4,5],\n",
        "      [9,7,3,6,5]])\n",
        "\n",
        "X = 6\n",
        "np.where(np.any(arr>X,axis=1))"
      ]
    },
    {
      "cell_type": "markdown",
      "metadata": {
        "id": "DSCQMo4mlnDG"
      },
      "source": [
        "### `Q-6:` How to convert an array of arrays into a flat 1d array?\n"
      ]
    },
    {
      "cell_type": "code",
      "execution_count": null,
      "metadata": {
        "colab": {
          "base_uri": "https://localhost:8080/"
        },
        "id": "QZhSkUT2lsJW",
        "outputId": "6087159d-480d-423b-f5d8-129163ba7d9e"
      },
      "outputs": [
        {
          "name": "stdout",
          "output_type": "stream",
          "text": [
            "[0 1 2]\n",
            "[3 4 5 6]\n",
            "[7 8 9]\n"
          ]
        }
      ],
      "source": [
        "# These arrays are given.\n",
        "arr1 = np.arange(3)\n",
        "print(arr1)\n",
        "arr2 = np.arange(3,7)\n",
        "print(arr2)\n",
        "arr3 = np.arange(7,10)\n",
        "print(arr3)"
      ]
    },
    {
      "cell_type": "code",
      "execution_count": null,
      "metadata": {
        "colab": {
          "base_uri": "https://localhost:8080/"
        },
        "id": "f42OXNrFls0I",
        "outputId": "07c7bba8-505c-4eaa-d008-8bafdb746256"
      },
      "outputs": [
        {
          "data": {
            "text/plain": [
              "array([0, 1, 2, 3, 4, 5, 6, 7, 8, 9])"
            ]
          },
          "execution_count": 102,
          "metadata": {},
          "output_type": "execute_result"
        }
      ],
      "source": [
        "# code here\n",
        "np.concatenate([arr1,arr2,arr3])\n"
      ]
    },
    {
      "cell_type": "markdown",
      "metadata": {
        "id": "A1J4oOVCluqO"
      },
      "source": [
        "### `Q-7:` You are given a array. You have to find the minimum and maximum array element and remove that from the array.\n",
        "\n",
        "```python\n",
        "import numpy as np\n",
        "\n",
        "np.random.seed(400)\n",
        "arr = np.random.randint(100, 1000, 200).reshape((1, 200))\n",
        "```"
      ]
    },
    {
      "cell_type": "code",
      "execution_count": null,
      "metadata": {
        "colab": {
          "base_uri": "https://localhost:8080/"
        },
        "id": "c6kmgtUJlybZ",
        "outputId": "aa0349b9-8606-414a-f515-85d3136d351e"
      },
      "outputs": [
        {
          "data": {
            "text/plain": [
              "array([[448, 563, 418, 240, 507, 362, 345, 236, 719, 291, 298, 639, 458,\n",
              "        387, 262, 613, 267, 882, 181, 425, 790, 635, 889, 818, 872, 967,\n",
              "        277, 470, 336, 920, 917, 295, 557, 830, 506, 385, 353, 975, 592,\n",
              "        997, 137, 340, 222, 215, 472, 459, 617, 649, 935, 956, 914, 932,\n",
              "        645, 952, 921, 490, 527, 972, 278, 307, 840, 958, 246, 449, 251,\n",
              "        957, 103, 627, 920, 824, 356, 825, 173, 323, 372, 960, 710, 464,\n",
              "        244, 782, 763, 635, 436, 774, 171, 469, 178, 458, 624, 211, 771,\n",
              "        270, 308, 231, 952, 514, 699, 702, 433, 900, 373, 318, 998, 265,\n",
              "        503, 320, 230, 324, 922, 967, 620, 743, 527, 117, 566, 804, 123,\n",
              "        946, 587, 227, 853, 757, 944, 328, 855, 930, 325, 729, 426, 514,\n",
              "        296, 879, 575, 936, 705, 209, 191, 743, 510, 513, 628, 559, 658,\n",
              "        528, 395, 525, 922, 136, 496, 225, 895, 975, 263, 908, 420, 711,\n",
              "        800, 976, 786, 235, 930, 859, 618, 226, 695, 460, 218, 483, 490,\n",
              "        803, 621, 453, 193, 607, 677, 637, 728, 724, 534, 748, 291, 194,\n",
              "        761, 875, 687, 569, 228, 482, 781, 554, 654, 739, 885, 197, 266,\n",
              "        228, 892, 207, 883, 588]])"
            ]
          },
          "execution_count": 104,
          "metadata": {},
          "output_type": "execute_result"
        }
      ],
      "source": [
        "# code here\n",
        "import numpy as np\n",
        "\n",
        "np.random.seed(400)\n",
        "arr = np.random.randint(100, 1000, 200).reshape((1, 200))\n",
        "arr"
      ]
    },
    {
      "cell_type": "code",
      "execution_count": null,
      "metadata": {
        "colab": {
          "base_uri": "https://localhost:8080/"
        },
        "id": "5k1ipxXsZsjc",
        "outputId": "69834e8b-6361-4cac-cc2a-aacdffba6288"
      },
      "outputs": [
        {
          "name": "stdout",
          "output_type": "stream",
          "text": [
            "998 103\n",
            "997 117\n"
          ]
        }
      ],
      "source": [
        "max_element = np.argmax(arr)\n",
        "min_element = np.argmin(arr)\n",
        "print(arr.max(), arr.min())\n",
        "arr = np.delete(arr,[max_element,min_element])\n",
        "arr\n",
        "print(arr.max(), arr.min())"
      ]
    },
    {
      "cell_type": "markdown",
      "metadata": {
        "id": "0dHN1sdnl0Jy"
      },
      "source": [
        "### `Q-8:` You are given an arrays. You have to limit this array's elements between 100 to 200. $arr ∈ [100, 700]$. So replace those values accordingly with the minimum and maximum value. Then sort the array and perform the cumulative sum of that array."
      ]
    },
    {
      "cell_type": "code",
      "execution_count": null,
      "metadata": {
        "colab": {
          "base_uri": "https://localhost:8080/"
        },
        "id": "a3YF_E-Hlza7",
        "outputId": "804c5c81-3072-4f77-cb1e-b45650714b70"
      },
      "outputs": [
        {
          "data": {
            "text/plain": [
              "array([ 145,  297,  497,  697,  897, 1097, 1297, 1497, 1697, 1897])"
            ]
          },
          "execution_count": 113,
          "metadata": {},
          "output_type": "execute_result"
        }
      ],
      "source": [
        "# code here\n",
        "arr = np.random.randint(99,701,size=10)\n",
        "np.cumsum(np.sort(np.clip(arr,a_min=100,a_max= 200)))"
      ]
    },
    {
      "cell_type": "markdown",
      "metadata": {
        "id": "cXj90Susl4-I"
      },
      "source": [
        "### `Q-9:` You are given a array ($arr ∈ [0, 1]$). First you have round off the elements upto 3 decimal places and compare that\n",
        "- 0th percentile == minimum value of the array\n",
        "- 100th percentile == maximum value of the array\n",
        "- also find the difference betwen 51th percenile and 50th percentile values"
      ]
    },
    {
      "cell_type": "code",
      "execution_count": null,
      "metadata": {
        "colab": {
          "base_uri": "https://localhost:8080/"
        },
        "id": "SgBEHodgl7Lo",
        "outputId": "291ade84-99e9-497c-bea5-35bf113709ef"
      },
      "outputs": [
        {
          "output_type": "stream",
          "name": "stdout",
          "text": [
            "0th percentile == minimum value of the array: True\n",
            "100th percentile == maximum value of the array: True\n",
            "difference betwen 51th percenile and 50th percentile values:  0.014469999999999983\n"
          ]
        }
      ],
      "source": [
        "# code here\n",
        "arr = np.random.rand(100)\n",
        "arr = np.round(arr,3)\n",
        "print(\"0th percentile == minimum value of the array:\",np.percentile(arr,0)==arr.min())\n",
        "print(\"100th percentile == maximum value of the array:\",np.percentile(arr,100)==arr.max())\n",
        "print(\"difference betwen 51th percenile and 50th percentile values: \",(np.percentile(arr,51)-np.percentile(arr,50)))"
      ]
    },
    {
      "cell_type": "code",
      "execution_count": null,
      "metadata": {
        "id": "CN8bYgNwiWnI"
      },
      "outputs": [],
      "source": []
    }
  ],
  "metadata": {
    "colab": {
      "provenance": []
    },
    "kernelspec": {
      "display_name": "Python 3",
      "name": "python3"
    },
    "language_info": {
      "name": "python"
    }
  },
  "nbformat": 4,
  "nbformat_minor": 0
}