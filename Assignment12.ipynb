{
  "cells": [
    {
      "cell_type": "code",
      "source": [
        "#Q1. What is Exception in python ? what is defference between Exceptions and Syntax Error.\n",
        "\"\"\"An exception is an event, which occurs during the execution of a program that \n",
        "disrupts the normal flow of the program's instructions. In general, when a \n",
        "Python script encounters a situation that it cannot cope with, it raises an \n",
        "exception. An exception is a Python object that represents an error.\n",
        "\n",
        "An Error might indicate critical problems that a reasonable application should\n",
        "not try to catch, while an Exception might indicate conditions that an application \n",
        "should try to catch. Errors are a form of an unchecked exception and are \n",
        "irrecoverable like an OutOfMemoryError, which a programmer should not try to handle.\"\"\""
      ],
      "metadata": {
        "id": "kT040XbTEJsI"
      },
      "id": "kT040XbTEJsI",
      "execution_count": null,
      "outputs": []
    },
    {
      "cell_type": "code",
      "source": [
        "#Q2. What happens when an exception is not handled? Explain with an example.\n",
        "'''if an exception is not handled then it may cause the program to stop if it is not properly'''\n",
        "#example:-\n",
        "a = 10/0;\n",
        "print(\"this statement will not execute because exception is not handled\")"
      ],
      "metadata": {
        "colab": {
          "base_uri": "https://localhost:8080/",
          "height": 218
        },
        "id": "HEqqVFfSF6wF",
        "outputId": "2faf01a5-a47a-4a0d-9f8f-5b9139c71d89"
      },
      "id": "HEqqVFfSF6wF",
      "execution_count": 2,
      "outputs": [
        {
          "output_type": "error",
          "ename": "ZeroDivisionError",
          "evalue": "ignored",
          "traceback": [
            "\u001b[0;31m---------------------------------------------------------------------------\u001b[0m",
            "\u001b[0;31mZeroDivisionError\u001b[0m                         Traceback (most recent call last)",
            "\u001b[0;32m<ipython-input-2-c5b6f4fe764c>\u001b[0m in \u001b[0;36m<module>\u001b[0;34m\u001b[0m\n\u001b[1;32m      2\u001b[0m \u001b[0;34m'''if an exception is not handled then it may cause the program to stop if it is not properly'''\u001b[0m\u001b[0;34m\u001b[0m\u001b[0;34m\u001b[0m\u001b[0m\n\u001b[1;32m      3\u001b[0m \u001b[0;31m#example:-\u001b[0m\u001b[0;34m\u001b[0m\u001b[0;34m\u001b[0m\u001b[0;34m\u001b[0m\u001b[0m\n\u001b[0;32m----> 4\u001b[0;31m \u001b[0ma\u001b[0m \u001b[0;34m=\u001b[0m \u001b[0;36m10\u001b[0m\u001b[0;34m/\u001b[0m\u001b[0;36m0\u001b[0m\u001b[0;34m;\u001b[0m\u001b[0;34m\u001b[0m\u001b[0;34m\u001b[0m\u001b[0m\n\u001b[0m\u001b[1;32m      5\u001b[0m \u001b[0mprint\u001b[0m\u001b[0;34m(\u001b[0m\u001b[0;34m\"this statement will not execute because exception is not handled\"\u001b[0m\u001b[0;34m)\u001b[0m\u001b[0;34m\u001b[0m\u001b[0;34m\u001b[0m\u001b[0m\n",
            "\u001b[0;31mZeroDivisionError\u001b[0m: division by zero"
          ]
        }
      ]
    },
    {
      "cell_type": "code",
      "source": [
        "'''\n",
        "as we can see above theexception 10/0 is not handled so the next  line \n",
        "print(\"this statement will not execute because exception is not handled\") was also not executed.\n",
        "\n",
        "'''"
      ],
      "metadata": {
        "id": "LSjVvVDfHCTm"
      },
      "id": "LSjVvVDfHCTm",
      "execution_count": null,
      "outputs": []
    },
    {
      "cell_type": "code",
      "source": [
        "#Q3. Which Python statements are used to catch and handle exceptions? Explain with an example.\n",
        "'''\n",
        "Try and except is used to handle the exception in pyhton \n",
        "'''\n",
        "\n",
        "#example\n",
        "\n",
        "try:\n",
        "    print(90/0);\n",
        "except Exception as e:\n",
        "    print(\"Invalid \",e)\n",
        "    "
      ],
      "metadata": {
        "colab": {
          "base_uri": "https://localhost:8080/"
        },
        "id": "AbgSXkcbHs1n",
        "outputId": "d9403f6d-9881-47a7-a9f4-59dbc188c880"
      },
      "id": "AbgSXkcbHs1n",
      "execution_count": 3,
      "outputs": [
        {
          "output_type": "stream",
          "name": "stdout",
          "text": [
            "Invalid  division by zero\n"
          ]
        }
      ]
    },
    {
      "cell_type": "code",
      "source": [
        "#Q4. Explain with an example:\n",
        "#a) try and else\n",
        "#b)finally\n",
        "#c)raise\n"
      ],
      "metadata": {
        "id": "gcNHiT14JRKD"
      },
      "id": "gcNHiT14JRKD",
      "execution_count": null,
      "outputs": []
    },
    {
      "cell_type": "code",
      "source": [
        "#try and else\n",
        "'''\n",
        "try and else: in try and else, else execute only and only when try is executed sucessfully and\n",
        "except is not executed '''\n",
        "#example\n",
        "\n",
        "try:\n",
        "    print(\"Hello\")\n",
        "except:\n",
        "    print(\"execute except\")\n",
        "else:\n",
        "    print(\"execute else\")"
      ],
      "metadata": {
        "colab": {
          "base_uri": "https://localhost:8080/"
        },
        "id": "-Y55L_nuKyol",
        "outputId": "ab61d6df-e78a-4895-dfb9-957c596251d2"
      },
      "id": "-Y55L_nuKyol",
      "execution_count": 4,
      "outputs": [
        {
          "output_type": "stream",
          "name": "stdout",
          "text": [
            "Hello\n",
            "execute else\n"
          ]
        }
      ]
    },
    {
      "cell_type": "code",
      "source": [
        "#finally :code under finally will be executed doesnt matter whether exception occur or not\n",
        "\n",
        "#example\n",
        "try:\n",
        "    a=5/0\n",
        "except:\n",
        "    print(\"execute except \")\n",
        "else:\n",
        "    print(\"execute else\")\n",
        "finally:\n",
        "    print(\"finally execute in any situation\")"
      ],
      "metadata": {
        "colab": {
          "base_uri": "https://localhost:8080/"
        },
        "id": "ZMfnP-diLP5d",
        "outputId": "dc63930b-8ec7-4175-e9cc-e5c6a2315ecb"
      },
      "id": "ZMfnP-diLP5d",
      "execution_count": 6,
      "outputs": [
        {
          "output_type": "stream",
          "name": "stdout",
          "text": [
            "execute except \n",
            "finally execute in any situation\n"
          ]
        }
      ]
    },
    {
      "cell_type": "code",
      "source": [
        "#raise:The raise keyword is used to raise an exception.\n",
        "\n",
        "\n",
        "#example\n",
        "\n",
        "x = -1\n",
        "\n",
        "if x < 0:\n",
        "    raise Exception(\"Sorry, no numbers below zero\");\n",
        "    "
      ],
      "metadata": {
        "colab": {
          "base_uri": "https://localhost:8080/",
          "height": 218
        },
        "id": "2X4zW1sZL01H",
        "outputId": "2e8fdde0-45ef-47a2-fe9f-b8c76be45053"
      },
      "id": "2X4zW1sZL01H",
      "execution_count": 7,
      "outputs": [
        {
          "output_type": "error",
          "ename": "Exception",
          "evalue": "ignored",
          "traceback": [
            "\u001b[0;31m---------------------------------------------------------------------------\u001b[0m",
            "\u001b[0;31mException\u001b[0m                                 Traceback (most recent call last)",
            "\u001b[0;32m<ipython-input-7-bbe4c1e7bbcc>\u001b[0m in \u001b[0;36m<module>\u001b[0;34m\u001b[0m\n\u001b[1;32m      7\u001b[0m \u001b[0;34m\u001b[0m\u001b[0m\n\u001b[1;32m      8\u001b[0m \u001b[0;32mif\u001b[0m \u001b[0mx\u001b[0m \u001b[0;34m<\u001b[0m \u001b[0;36m0\u001b[0m\u001b[0;34m:\u001b[0m\u001b[0;34m\u001b[0m\u001b[0;34m\u001b[0m\u001b[0m\n\u001b[0;32m----> 9\u001b[0;31m     \u001b[0;32mraise\u001b[0m \u001b[0mException\u001b[0m\u001b[0;34m(\u001b[0m\u001b[0;34m\"Sorry, no numbers below zero\"\u001b[0m\u001b[0;34m)\u001b[0m\u001b[0;34m;\u001b[0m\u001b[0;34m\u001b[0m\u001b[0;34m\u001b[0m\u001b[0m\n\u001b[0m\u001b[1;32m     10\u001b[0m \u001b[0;34m\u001b[0m\u001b[0m\n",
            "\u001b[0;31mException\u001b[0m: Sorry, no numbers below zero"
          ]
        }
      ]
    },
    {
      "cell_type": "code",
      "source": [
        "#Q5. What are Custom Exceptions in python? Why do we need Custom Exceptions? Explain with an example.\n",
        "#custom exception:-\n",
        "\"\"\"A custom exception in Python is an exception that we create ourself by defining a new class that inherits from the built-in Exception class.\"\"\"\n",
        "#need of custom exception:-\n",
        "\"\"\"Custom exceptions provide us the flexibility to add attributes and methods that are not part of a standard exception.\"\"\"\n",
        "\n"
      ],
      "metadata": {
        "id": "nQmAonHkML2i"
      },
      "id": "nQmAonHkML2i",
      "execution_count": null,
      "outputs": []
    },
    {
      "cell_type": "code",
      "source": [
        "#example:-\n",
        "\n",
        "class check_age(Exception):\n",
        "    def __init__(self,msg):\n",
        "        self.msg=msg;"
      ],
      "metadata": {
        "id": "INX3nTL9N0kd"
      },
      "id": "INX3nTL9N0kd",
      "execution_count": 8,
      "outputs": []
    },
    {
      "cell_type": "code",
      "source": [
        "def validate_age(age):\n",
        "     if age<0:\n",
        "        raise check_age(\"Invalid\");"
      ],
      "metadata": {
        "id": "wBzEXeCCOA7N"
      },
      "id": "wBzEXeCCOA7N",
      "execution_count": 9,
      "outputs": []
    },
    {
      "cell_type": "code",
      "source": [
        "try:\n",
        "    a=-345\n",
        "    validate_age(a)\n",
        "    print(\"my age is\",a);\n",
        "except Exception as e:\n",
        "    print(e)"
      ],
      "metadata": {
        "colab": {
          "base_uri": "https://localhost:8080/"
        },
        "id": "bAJgwKPrOFB5",
        "outputId": "e8624a55-420f-4626-864f-024fd2e6458b"
      },
      "id": "bAJgwKPrOFB5",
      "execution_count": 10,
      "outputs": [
        {
          "output_type": "stream",
          "name": "stdout",
          "text": [
            "Invalid\n"
          ]
        }
      ]
    },
    {
      "cell_type": "code",
      "source": [
        "#Q6. Create custom exception class. Use this class to handle an exception."
      ],
      "metadata": {
        "id": "9ndwPdeOOKb6"
      },
      "id": "9ndwPdeOOKb6",
      "execution_count": null,
      "outputs": []
    },
    {
      "cell_type": "code",
      "source": [
        "class check_age(Exception):\n",
        "    def __init__(self,msg):\n",
        "        self.msg=msg;\n",
        "def validateage(age):\n",
        "    if(age<0):\n",
        "        raise check_age(\"negative age is invalid\")\n",
        "    elif(age>200):\n",
        "        raise check_age(\"died\")\n",
        "    else:\n",
        "        raise check_age(\"ok ok\")\n",
        "        \n",
        "try:\n",
        "    validateage(-23);\n",
        "except check_age as c:\n",
        "    print(\"Invalid: \",c)"
      ],
      "metadata": {
        "colab": {
          "base_uri": "https://localhost:8080/"
        },
        "id": "BwolOD_1Oeyd",
        "outputId": "58a62ac1-75ec-4efc-a8f7-b391f9c59ba1"
      },
      "id": "BwolOD_1Oeyd",
      "execution_count": 11,
      "outputs": [
        {
          "output_type": "stream",
          "name": "stdout",
          "text": [
            "Invalid:  negative age is invalid\n"
          ]
        }
      ]
    },
    {
      "cell_type": "code",
      "source": [],
      "metadata": {
        "id": "3jZk_1-OOgpd"
      },
      "id": "3jZk_1-OOgpd",
      "execution_count": null,
      "outputs": []
    }
  ],
  "metadata": {
    "kernelspec": {
      "display_name": "Python 3",
      "name": "python3"
    },
    "language_info": {
      "name": "python"
    },
    "colab": {
      "provenance": []
    }
  },
  "nbformat": 4,
  "nbformat_minor": 5
}