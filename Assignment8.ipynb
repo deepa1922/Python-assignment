{
  "nbformat": 4,
  "nbformat_minor": 0,
  "metadata": {
    "colab": {
      "provenance": []
    },
    "kernelspec": {
      "name": "python3",
      "display_name": "Python 3"
    },
    "language_info": {
      "name": "python"
    }
  },
  "cells": [
    {
      "cell_type": "code",
      "source": [
        "# Q1. You are writing code for a company. The requirement of the company is that you create a python\n",
        "# function that will check whether the password entered by the user is correct or not. The function should\n",
        "# take the password as input and return the string “Valid Password” if the entered password follows the\n",
        "# below-given password guidelines else it should return “Invalid Password”.\n",
        "# Note: \n",
        "# 1. The Password should contain at least two uppercase letters and at least two lowercase letters.\n",
        "# 2. The Password should contain at least a number and three special characters.\n",
        "# 3. The length of the password should be 10 characters long.\n",
        "\n"
      ],
      "metadata": {
        "id": "ZfMYLV4a0V36"
      },
      "execution_count": null,
      "outputs": []
    },
    {
      "cell_type": "code",
      "source": [
        "def check_uppercase(s):\n",
        "   count = 0; \n",
        "   for i in s:\n",
        "      if i >='A' and i<='Z':\n",
        "         count = +1\n",
        "      if count==2:\n",
        "          return True;\n",
        "   return False;\n",
        "\n",
        "def check_lowercase(s):\n",
        "    count = 0;\n",
        "    for i in s:\n",
        "        if i>='a' and i<='z':\n",
        "           count +=1;\n",
        "        if count>2 :\n",
        "           return True;\n",
        "    return False;\n",
        "\n",
        "def check_num(s):\n",
        "     for i in s:\n",
        "       if i >='0' and i<= '9':\n",
        "          return True;\n",
        "     return False;\n",
        "\n",
        "def special_char(s):\n",
        "     count = 0;\n",
        "     n = '[@_!#$%^&*()<>?/\\|}{~:]]';\n",
        "     for i in range(len(s)):\n",
        "         if s[i] in n:\n",
        "            count+=1;\n",
        "     if count>=3:\n",
        "        return True;\n",
        "     else:\n",
        "        return False;\n",
        "\n",
        "def password_check(s):\n",
        "    if len(s)==10 and check_uppercase(s) and check_lowercase and check_num and special_char(s):\n",
        "        return 'valid password';\n",
        "    return 'invalid password';"
      ],
      "metadata": {
        "id": "aWqIIgJy0rlj"
      },
      "execution_count": 18,
      "outputs": []
    },
    {
      "cell_type": "code",
      "source": [
        "password = input(\"enter the password \")\n",
        "print(password_check(password));"
      ],
      "metadata": {
        "colab": {
          "base_uri": "https://localhost:8080/"
        },
        "id": "2L-t2o5q0r7r",
        "outputId": "6965a341-1d58-46c4-d4a6-8fefda1040b8"
      },
      "execution_count": 19,
      "outputs": [
        {
          "output_type": "stream",
          "name": "stdout",
          "text": [
            "enter the password john2\n",
            "invalid password\n"
          ]
        }
      ]
    },
    {
      "cell_type": "code",
      "source": [
        "#Q2. Solve the below-given questions using at least one of the following:\n",
        "#Lambda function\n",
        "#Filter function\n",
        "#Map function\n",
        "#List Comprehension\n",
        "#1Check if the string starts with a particular letter\n",
        "#2Check if the string is numeric\n",
        "#3Sort a list of tuples having fruit names and their quantity. [(\"mango\",99),(\"orange\",80), (\"grapes\", 1000)]\n",
        "#4Find the squares of numbers from 1 to 10\n",
        "#5Find the cube root of numbers from 1 to 10\n",
        "#6Check if a given number is even\n",
        "#7Filter odd numbers from the given list. [1,2,3,4,5,6,7,8,9,10]\n",
        "#8Sort a list of integers into positive and negative integers lists. [1,2,3,4,5,6,-1,-2,-3,-4,-5,0]"
      ],
      "metadata": {
        "id": "GDdikD_u0WPk"
      },
      "execution_count": null,
      "outputs": []
    },
    {
      "cell_type": "code",
      "source": [
        "#1Check if the string starts with a particular letter\n",
        "x = lambda a: a.startswith('e')\n",
        "print(x(\"emraan\"))"
      ],
      "metadata": {
        "colab": {
          "base_uri": "https://localhost:8080/"
        },
        "id": "HVaYZvjJ0Wh4",
        "outputId": "1848fcff-21d9-4b42-e57d-fbd6272b1cc8"
      },
      "execution_count": 20,
      "outputs": [
        {
          "output_type": "stream",
          "name": "stdout",
          "text": [
            "True\n"
          ]
        }
      ]
    },
    {
      "cell_type": "code",
      "source": [
        "#2Check if the string is numeric\n",
        "y = lambda b : b.isdigit()\n",
        "print(y('546877'))"
      ],
      "metadata": {
        "colab": {
          "base_uri": "https://localhost:8080/"
        },
        "id": "bsazy7pQz6se",
        "outputId": "22d4b4df-4639-4766-ee9e-22b2f374f60f"
      },
      "execution_count": 21,
      "outputs": [
        {
          "output_type": "stream",
          "name": "stdout",
          "text": [
            "True\n"
          ]
        }
      ]
    },
    {
      "cell_type": "code",
      "source": [
        "#3Sort a list of tuples having fruit names and their quantity. [(\"mango\",99),(\"orange\",80), (\"grapes\", 1000)]\n",
        "list = [(\"mango\",99),(\"orange\",80), (\"grapes\", 1000)]\n",
        "list.sort( key= lambda a:a[1])\n",
        "print(list)"
      ],
      "metadata": {
        "colab": {
          "base_uri": "https://localhost:8080/"
        },
        "id": "xN2qCqRRz64Q",
        "outputId": "6bf2275a-5c6b-4274-c149-333679bb95ab"
      },
      "execution_count": 22,
      "outputs": [
        {
          "output_type": "stream",
          "name": "stdout",
          "text": [
            "[('orange', 80), ('mango', 99), ('grapes', 1000)]\n"
          ]
        }
      ]
    },
    {
      "cell_type": "code",
      "source": [
        "#4Find the squares of numbers from 1 to 10\n",
        "square = [ i*i  for i in range(1,11)]\n",
        "square"
      ],
      "metadata": {
        "colab": {
          "base_uri": "https://localhost:8080/"
        },
        "id": "Ujk4ThO5z7A7",
        "outputId": "8441809a-4019-47ee-9b54-e5102c2772ee"
      },
      "execution_count": 23,
      "outputs": [
        {
          "output_type": "execute_result",
          "data": {
            "text/plain": [
              "[1, 4, 9, 16, 25, 36, 49, 64, 81, 100]"
            ]
          },
          "metadata": {},
          "execution_count": 23
        }
      ]
    },
    {
      "cell_type": "code",
      "source": [
        "#5Find the cube root of numbers from 1 to 10\n",
        "cube_root = [ i**(1/3)  for i in range(1,11)]\n",
        "cube_root    \n"
      ],
      "metadata": {
        "colab": {
          "base_uri": "https://localhost:8080/"
        },
        "id": "pgPhr-pcz7I6",
        "outputId": "da48f54a-1911-4ba3-ade2-a327464ba01f"
      },
      "execution_count": 24,
      "outputs": [
        {
          "output_type": "execute_result",
          "data": {
            "text/plain": [
              "[1.0,\n",
              " 1.2599210498948732,\n",
              " 1.4422495703074083,\n",
              " 1.5874010519681994,\n",
              " 1.7099759466766968,\n",
              " 1.8171205928321397,\n",
              " 1.912931182772389,\n",
              " 2.0,\n",
              " 2.080083823051904,\n",
              " 2.154434690031884]"
            ]
          },
          "metadata": {},
          "execution_count": 24
        }
      ]
    },
    {
      "cell_type": "code",
      "source": [
        "#6Check if a given number is even\n",
        "num = int(input(\"enter the number: \"))\n",
        "even_num = lambda a: a%2==0\n",
        "print(even_num(num))"
      ],
      "metadata": {
        "colab": {
          "base_uri": "https://localhost:8080/"
        },
        "id": "NO7JTdVlz7Ti",
        "outputId": "80344a66-c34f-4ed7-add8-a3f000bb5c7d"
      },
      "execution_count": 25,
      "outputs": [
        {
          "output_type": "stream",
          "name": "stdout",
          "text": [
            "enter the number: 4\n",
            "True\n"
          ]
        }
      ]
    },
    {
      "cell_type": "code",
      "source": [
        "#7Filter odd numbers from the given list. [1,2,3,4,5,6,7,8,9,10]\n",
        "\n",
        "l1 = [1,2,3,4,5,6,7,8,9,10]\n",
        "odd = list(filter(lambda x:x%2!=0,l1))\n",
        "print(odd)"
      ],
      "metadata": {
        "id": "Vb72I3Ia5Z1I"
      },
      "execution_count": null,
      "outputs": []
    },
    {
      "cell_type": "code",
      "source": [
        "#8 Sort a list of integers into positive and negative integers lists. [1,2,3,4,5,6,-1,-2,-3,-4,-5,0]\n",
        "l1 = [1,2,3,5,6,-1,-2,-3,-4]\n",
        "l2 = list(filter(lambda a: a<0,l1))\n",
        "print('negative integer list : ', l2)\n",
        "l3 = list(filter(lambda a: a>=0,l1))\n",
        "print('positive integer list :',l3)\n"
      ],
      "metadata": {
        "colab": {
          "base_uri": "https://localhost:8080/"
        },
        "id": "CesB2CEQzhQ_",
        "outputId": "8b50f923-2c31-4dfb-a109-712a000adda5"
      },
      "execution_count": 2,
      "outputs": [
        {
          "output_type": "stream",
          "name": "stdout",
          "text": [
            "negative integer list :  [-1, -2, -3, -4]\n",
            "positive integer list : [1, 2, 3, 5, 6]\n"
          ]
        }
      ]
    },
    {
      "cell_type": "code",
      "source": [],
      "metadata": {
        "id": "0KmARIEEzkbL"
      },
      "execution_count": null,
      "outputs": []
    }
  ]
}