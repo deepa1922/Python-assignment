{
  "nbformat": 4,
  "nbformat_minor": 0,
  "metadata": {
    "colab": {
      "provenance": []
    },
    "kernelspec": {
      "name": "python3",
      "display_name": "Python 3"
    },
    "language_info": {
      "name": "python"
    }
  },
  "cells": [
    {
      "cell_type": "markdown",
      "source": [
        "## Exception Handling\n"
      ],
      "metadata": {
        "id": "ajVfqio_GinI"
      }
    },
    {
      "cell_type": "markdown",
      "source": [
        "###`Q-1`: You are given a function definition. There might be several issues on execution of this function. You are asked to do exception handling for diffrent errors that this function goes in to `without altering this function`. And print error text.\n",
        "\n"
      ],
      "metadata": {
        "id": "0qnQkJtnGozz"
      }
    },
    {
      "cell_type": "markdown",
      "source": [
        "Function parameters `l -> list, s -> could be anything`\n",
        "\n",
        "```\n",
        "def function(l: list, s, **args):\n",
        "    last_element = l[-1]\n",
        "    \n",
        "    l[int(s)]=10\n",
        "    any_element = l[int(s)+10]\n",
        "    l[s]=10\n",
        "    \n",
        "    res = sum(l)\n",
        "    \n",
        "    p = args['p']\n",
        "    # print(p)\n",
        "    return res/last_element * p + any_element\n",
        "\n",
        "```\n",
        "Check for different function calls:-\n",
        "\n",
        "```\n",
        "function([1,2,1], 12)\n",
        "function([1,2,1]*9, '1-2')\n",
        "function([1,'2',1]*9, 12)\n",
        "function([1,'2',1]*9, 12)\n",
        "function([1,2,0]*9, 12  )\n",
        "function([1,2,1]*9, 12, p=None)\n",
        "function([1,2,0]*9, 12, p=10)\n",
        "```"
      ],
      "metadata": {
        "id": "2no_EB2fGyGq"
      }
    },
    {
      "cell_type": "code",
      "source": [
        "def function(l: list, s, **args):\n",
        " try:\n",
        "    last_element = l[-1]\n",
        "\n",
        "    l[int(s)]=10\n",
        "    any_element = l[int(s)+10]\n",
        "    l[s]=10\n",
        "\n",
        "    res = sum(l)\n",
        "\n",
        "    p = args['p']\n",
        "    # print(p)\n",
        "    return res/last_element * p + any_element\n",
        " except IndexError:\n",
        "  print(\"index is out of range\")\n",
        " except ValueError:\n",
        "   print('the value entered cannot be converted into to an integer')\n",
        " except TypeError as t:\n",
        "    print(type(t))\n",
        "    print(t)\n",
        " except KeyError:\n",
        "  print(\"key 'p' is missing\")\n",
        " except ZeroDivisionError:\n",
        "  print(\"last element is 0 causing division by zero error\")\n",
        "# except Exception as e:\n",
        "   #print(f\"An unexpected error occurred: {e}\")\n"
      ],
      "metadata": {
        "id": "VoaL4_9eGjFU"
      },
      "execution_count": null,
      "outputs": []
    },
    {
      "cell_type": "code",
      "source": [
        "function([1,2,1], 12)\n",
        "function([1,2,1]*9, '1-2')\n",
        "function([1,'2',1]*9, 12)\n",
        "function([1,'2',1]*9, 12)\n",
        "function([1,2,0]*9, 12  )\n",
        "function([1,2,1]*9, 12, p=None)\n",
        "function([1,2,0]*9, 12, p=10)\n"
      ],
      "metadata": {
        "id": "NhfmMTEWKlZA",
        "colab": {
          "base_uri": "https://localhost:8080/"
        },
        "outputId": "ebedfc1c-98ac-4354-c189-b53563e88bd9"
      },
      "execution_count": null,
      "outputs": [
        {
          "output_type": "stream",
          "name": "stdout",
          "text": [
            "IndexError: list assignment index out of range\n",
            "ValueError: invalid literal for int() with base 10: '1-2'\n",
            "TypeError: unsupported operand type(s) for +: 'int' and 'str'\n",
            "TypeError: unsupported operand type(s) for +: 'int' and 'str'\n",
            "KeyError: 'p'\n",
            "TypeError: 'p' should be a numeric value, not None.\n",
            "ZeroDivisionError: division by zero\n"
          ]
        }
      ]
    },
    {
      "cell_type": "code",
      "source": [
        " \"\"\"except TypeError as e:\n",
        "     if\" unsupported operand type(s) for *: 'float' and 'NoneType'\" in str(e):\n",
        "       print(\"TypeError: 'p' should be a numeric value, not None.\")\n",
        "     elif \"'int' object does not support item assignment\" in str(e):\n",
        "        print(\"TypeError: The 's' argument should be an integer to access elements in the list.\")\n",
        "     else:\n",
        "            print(f\"TypeError: {e}\")\"\"\""
      ],
      "metadata": {
        "colab": {
          "base_uri": "https://localhost:8080/",
          "height": 70
        },
        "id": "sb4gixmmQ0go",
        "outputId": "16bf7660-aefd-4583-d321-8ef5680a4f2c"
      },
      "execution_count": null,
      "outputs": [
        {
          "output_type": "execute_result",
          "data": {
            "text/plain": [
              "'except TypeError as e:\\n    if\" unsupported operand type(s) for *: \\'float\\' and \\'NoneType\\'\" in str(e):\\n      print(\"TypeError: \\'p\\' should be a numeric value, not None.\")\\n    elif \"\\'int\\' object does not support item assignment\" in str(e):\\n       print(\"TypeError: The \\'s\\' argument should be an integer to access elements in the list.\")\\n    else:\\n           print(f\"TypeError: {e}\")'"
            ],
            "application/vnd.google.colaboratory.intrinsic+json": {
              "type": "string"
            }
          },
          "metadata": {},
          "execution_count": 72
        }
      ]
    },
    {
      "cell_type": "markdown",
      "source": [
        "###`Q-2:` You are given a code snippet. There might be several issues on execution of this code. You are asked to do exception handling for diffrent errors, condition is what ever happens we need to execute last line printing correct result of `sum of elements`.\n",
        "\n",
        "List have elemnts as any no of  `key-pair dict with key as list index and value as any integer`, `integers` and `numeric-strings`. There is always only one element in the dict.\n",
        "\n",
        "\n",
        "```\n",
        "l = [{0:2},2,3,4,'5', {5:10}]\n",
        "# For calculating sum of above list\n",
        "s=0\n",
        "for i in range(len(l)):\n",
        "    #You can Edit code from here\n",
        "    s += l[i].get(i)\n",
        "    s += l[i]\n",
        "    s += int(l[i])\n",
        "\n",
        "\n",
        "print(s)\n",
        "```"
      ],
      "metadata": {
        "id": "HuLMy2fVG9sL"
      }
    },
    {
      "cell_type": "code",
      "source": [
        "# For calculating sum of above list\n",
        "l = [{0:2},2,3,4,'5', {5:10}]\n",
        "s=0\n",
        "for i in range(len(l)):\n",
        "   try:\n",
        "      s += l[i].get(i)\n",
        "   except AttributeError:\n",
        "     try:\n",
        "       s += l[i]\n",
        "     except TypeError:\n",
        "        try:\n",
        "            s += int(l[i])\n",
        "        except Exception as e:\n",
        "            print(type(e))\n",
        "\n",
        "print(s)"
      ],
      "metadata": {
        "id": "pEP8JU0qHAf8",
        "colab": {
          "base_uri": "https://localhost:8080/"
        },
        "outputId": "1f5c29bc-304b-4545-94f6-af0897b840a3"
      },
      "execution_count": 18,
      "outputs": [
        {
          "output_type": "stream",
          "name": "stdout",
          "text": [
            "26\n"
          ]
        }
      ]
    },
    {
      "cell_type": "markdown",
      "source": [
        "### `Q-3:`: File Handling with Exception handling\n",
        "\n",
        "Write a program that opens a text file and write data to it as \"Hello, Good Morning!!!\". Handle exceptions that can be generated during the I/O operations. Do not show the success message on the main exception handling block (write inside the else block)."
      ],
      "metadata": {
        "id": "ohE2fDTXHIan"
      }
    },
    {
      "cell_type": "code",
      "source": [
        "try:\n",
        "   with open('msg.txt','w') as f:\n",
        "       f.write(\"Hello, Good Morning!!!\")\n",
        "except FileNotFoundError:\n",
        "     print(\"file not found\")\n",
        "except IOError:\n",
        "    print(\"Error: Input/Output error occurred.\")\n",
        "except Exception as e:\n",
        "      print(type(e))\n",
        "else:\n",
        "      print(\"file read successfully!!\")"
      ],
      "metadata": {
        "id": "iOeiWrcIHPlY",
        "colab": {
          "base_uri": "https://localhost:8080/"
        },
        "outputId": "ade53abb-30f2-43ca-a4fe-3e38d52830eb"
      },
      "execution_count": 30,
      "outputs": [
        {
          "output_type": "stream",
          "name": "stdout",
          "text": [
            "file read successfully!!\n"
          ]
        }
      ]
    },
    {
      "cell_type": "markdown",
      "source": [
        "### `Q-4`: Number game program.\n",
        "\n",
        "Write a number game program. Ask the user to enter a number. If the number is greater than number to be guessed, raise a **ValueTooLarge** exception. If the value is smaller the number to be guessed the, raise a **ValueTooSmall** exception and prompt the user to enter again. Quit the program only when the user enters the correct number. Also raise **GuessError** if user guess a number less than 1."
      ],
      "metadata": {
        "id": "ru8g8-_bHTUf"
      }
    },
    {
      "cell_type": "code",
      "source": [
        "import random\n",
        "class GuessError(Exception):\n",
        "    def display(self):\n",
        "       print(\"Guess the number between 1 and 100\")\n",
        "class ValueTooSmall(Exception):\n",
        "     def display(self):\n",
        "       print(\"input value is too small\")\n",
        "class ValueTooLarge(Exception):\n",
        "     def display(self):\n",
        "       print(\"input value is too large\")\n",
        "class ValueError(Exception):\n",
        "     def display(self):\n",
        "       print(\"\")\n",
        "num = random.randint(1,20)\n",
        "\n",
        "while(True):\n",
        "  try:\n",
        "     guess= int(input())\n",
        "     if guess<1:\n",
        "        raise GuessError()\n",
        "     elif guess<num:\n",
        "        raise ValueTooSmall(\"try higher \")\n",
        "     elif guess>num:\n",
        "        raise ValueTooLarge(\"try lower\")\n",
        "     else:\n",
        "        print(\"congrats\")\n",
        "        break\n",
        "  except ValueTooSmall as s:\n",
        "         s.display()\n",
        "  except ValueTooLarge as l:\n",
        "         l.display()\n",
        "  except GuessError as g:\n",
        "         g.display()"
      ],
      "metadata": {
        "id": "QftlN5LJHZSX",
        "colab": {
          "base_uri": "https://localhost:8080/"
        },
        "outputId": "60fc4ac8-44cd-4749-d402-1967800cb6b6"
      },
      "execution_count": 44,
      "outputs": [
        {
          "output_type": "stream",
          "name": "stdout",
          "text": [
            "5\n",
            "input value is too large\n",
            "4\n",
            "input value is too large\n",
            "3\n",
            "congrats\n"
          ]
        }
      ]
    },
    {
      "cell_type": "markdown",
      "source": [
        "### `Q-5:` Cast vote\n",
        "\n",
        "Write a program that validate name and age as entered by the user to determine whether the person can cast vote or not. To handle the age, create **InvalidAge** exception and for name, create **InvalidName** exception. The name will be invalid when the string will be empty or name has only one word.\n",
        "\n",
        "Example 1:\n",
        "\n",
        "Input:\n",
        "\n",
        "```bash\n",
        "Enter the name:               goransh singh\n",
        "Enter the age: 25\n",
        "```\n",
        "\n",
        "Output:\n",
        "\n",
        "```bash\n",
        "Goransh Singh  Congratulation !!! You can vote.\n",
        "```"
      ],
      "metadata": {
        "id": "ZsGI_40fHcsd"
      }
    },
    {
      "cell_type": "code",
      "source": [
        "class InvalidAge(Exception):\n",
        "    def display(self):\n",
        "      print(\"sorry age can not be below 18\")\n",
        "class InvalidName(Exception):\n",
        "    def display(self):\n",
        "        print(\"enter a vaild name\")\n",
        "try:\n",
        "   name = input(\"enter your name\")\n",
        "   if len(name)==0 or len(name.split()) < 2:\n",
        "     raise InvalidName()\n",
        "   age = int(input(\"enter your age\"))\n",
        "   if age< 18:\n",
        "     raise InvalidAge()\n",
        "except InvalidName as i:\n",
        "    i.display()\n",
        "except InvalidAge as a:\n",
        "    a.display()\n",
        "else:\n",
        "     print(\"Your vote is accepted successfully\")\n",
        "finally:\n",
        "     print(\"thank you\")"
      ],
      "metadata": {
        "id": "OHL3UiS4Hi3U",
        "colab": {
          "base_uri": "https://localhost:8080/"
        },
        "outputId": "90a9aea1-fe63-4559-e719-4aab7bf9e21d"
      },
      "execution_count": 52,
      "outputs": [
        {
          "output_type": "stream",
          "name": "stdout",
          "text": [
            "enter your namee\n",
            "enter a vaild name\n",
            "thank you\n"
          ]
        }
      ]
    },
    {
      "cell_type": "markdown",
      "source": [
        "### `Q-6`: Write a python function which infinitely prints natural numbers in a single line. Raise the **StopIteration** exception after displaying first 20 numnbers to exit from the program."
      ],
      "metadata": {
        "id": "SCvs0QjgHlOG"
      }
    },
    {
      "cell_type": "code",
      "source": [
        "def infinite_natural_no(start_num):\n",
        "    count = start_num\n",
        "    while True:\n",
        "      print(count, end=' ')\n",
        "      if count == start_num+20:\n",
        "        raise StopIteration\n",
        "      count +=1\n",
        "try :\n",
        "   infinite_natural_no(100)\n",
        "except StopIteration:\n",
        "    print(\"stopped after display first 20 numbers\")"
      ],
      "metadata": {
        "id": "Lc5ilNgNHoSx",
        "colab": {
          "base_uri": "https://localhost:8080/"
        },
        "outputId": "3184a202-3e83-4f3f-da30-dce16aac8526"
      },
      "execution_count": 55,
      "outputs": [
        {
          "output_type": "stream",
          "name": "stdout",
          "text": [
            "100 101 102 103 104 105 106 107 108 109 110 111 112 113 114 115 116 117 118 119 120 stopped after display first 20 numbers\n"
          ]
        }
      ]
    },
    {
      "cell_type": "code",
      "source": [],
      "metadata": {
        "id": "6-4Ih13z0Zl0"
      },
      "execution_count": null,
      "outputs": []
    }
  ]
}