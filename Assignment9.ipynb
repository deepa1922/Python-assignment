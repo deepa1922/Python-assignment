{
  "cells": [
    {
      "cell_type": "code",
      "source": [
        "#Q1. What is Abstraction in OOps? Explain with an example.\n",
        "'''\n",
        "Abstraction in python is defined as a process of handling complexity by hiding unnecessary information from the user. \n",
        "This is one of the core concepts of object-oriented programming (OOP) languages.\n",
        "\n",
        "Example - When we use the TV remote to increase the volume. We don't know how pressing a key increases \n",
        "the volume of the TV. We only know to press the \"+\" button to increase the volume.\n",
        "\n",
        "'''\n",
        "#example:-\n",
        "class BankAccount:\n",
        "    def __init__(self, balance): # hide from the user \n",
        "        self.__balance = balance\n",
        "    \n",
        "    def deposit(self, amount):   # user can deposite amount \n",
        "        self.__balance += amount\n",
        "        \n",
        "    def withdraw(self, amount):  # user can withdrow amount\n",
        "        if amount > self.__balance:\n",
        "            return \"Insufficient balance\"\n",
        "        self.__balance -= amount\n",
        "        \n",
        "    def get_balance(self):       # user can check balance in account\n",
        "        return self.__balance"
      ],
      "metadata": {
        "id": "2Rus7B7yOBtc"
      },
      "id": "2Rus7B7yOBtc",
      "execution_count": null,
      "outputs": []
    },
    {
      "cell_type": "code",
      "source": [
        "minni = BankAccount(1000)\n",
        "minni.deposit(100)      #deposite in account\n",
        "minni.get_balance()"
      ],
      "metadata": {
        "id": "uTINs0U9PVvl",
        "outputId": "368a5468-36af-4232-d690-be21566f0d91",
        "colab": {
          "base_uri": "https://localhost:8080/"
        }
      },
      "id": "uTINs0U9PVvl",
      "execution_count": null,
      "outputs": [
        {
          "output_type": "execute_result",
          "data": {
            "text/plain": [
              "1100"
            ]
          },
          "metadata": {},
          "execution_count": 2
        }
      ]
    },
    {
      "cell_type": "code",
      "source": [
        "minni.withdraw(100) #withdraw in account\n",
        "minni.get_balance()"
      ],
      "metadata": {
        "id": "ri1O9uLdPj_A",
        "outputId": "5012b4a0-f11b-466d-efb7-85a9157d5bdd",
        "colab": {
          "base_uri": "https://localhost:8080/"
        }
      },
      "id": "ri1O9uLdPj_A",
      "execution_count": null,
      "outputs": [
        {
          "output_type": "execute_result",
          "data": {
            "text/plain": [
              "1000"
            ]
          },
          "metadata": {},
          "execution_count": 4
        }
      ]
    },
    {
      "cell_type": "code",
      "source": [
        "#Q2. Differentiate between Abstraction and Encapsulation. Explain with an example.\n",
        "\n",
        "#Data Abstraction\t\n",
        "''' .Data Abstraction can be described as the technique of hiding internal details of a program \n",
        "and exposing the functionality only.\n",
        "ii. Implementation hiding is done using this technique.\n",
        "\n",
        "example: Suppose we are driving wer car.., so when we are driving, at that time we only need to know about the basic \n",
        "functionalities of the car , \n",
        "like how steering works n all. And we are not going into the much detail about the internal working of the car. \n",
        "\n",
        "Same is in the case of programming, there are some information which is not important for users. \n",
        "So that kind of information is made private by the programmers. \n",
        "So in short, abstraction is a mechanism with the help of which programmers hide the unnecessary details from the users.'''\n",
        "\n",
        "#Data Encapsulation \n",
        "''' Data Encapsulation can be described as the technique of binding up of data along with its correlate methods as a single unit.\n",
        "Implementation hiding is done using this technique.\n",
        "ii. Information hiding is done using this technique'''\n",
        "#example:-\n",
        "'''Example:- of abstraction and encapsulation in OOP is a simple car\". The car can be considered as an abstract class, and various types of cars\n",
        "such as sedan, SUV,truck, etc., can be considered as its concrete implementations. The abstract class \"car\" can have properties like number of wheel\n",
        " number of doors, and a method to start the engine. The concrete implementations, such as sedan or SUV,can have specific details like number of seats\n",
        " and fuel capacity, but the user of the car class only needs to know that it has wheels, doors, and an engine that can be started, which is the\n",
        "  abstract information.The user doesn't need to know the internal details of how the engine starts, as that is encapsulated within the class.'''\n"
      ],
      "metadata": {
        "id": "8NtptM3kS1v0"
      },
      "id": "8NtptM3kS1v0",
      "execution_count": null,
      "outputs": []
    },
    {
      "cell_type": "code",
      "source": [
        "#Q3. What is abc module in python? Why is it used?\n",
        "'''The abc module in Python is the Abstract Base Class module. It provides a way to define abstract base classes in Python, which are \n",
        "classes that cannot be instantiated but can be used as a base class for other classes.\n",
        "it is used to ensure that a certain set of methods and properties are defined in any concrete class that inherits from the abstract base class.\n",
        "This is useful for creating a common interface for a group of related classes, and for making sure that these classes have certain\n",
        " methods or properties that are required for their intended use.'''\n"
      ],
      "metadata": {
        "id": "f_zmYHh-USD_"
      },
      "id": "f_zmYHh-USD_",
      "execution_count": null,
      "outputs": []
    },
    {
      "cell_type": "code",
      "source": [
        "#Q4. How can we achieve data abstraction?\n",
        "'''Data abstraction can be achieved in several ways, including the following'''\n",
        "#Abstraction through Encapsulation:-\n",
        "'''Wrapping data and the operations that can be performed on the data inside an object or class, thus hiding the implementation details.'''\n",
        "#Abstraction through Interfaces: -\n",
        "'''Defining a set of methods that an object or class must implement, without specifying the implementation details.'''\n",
        "#Abstraction through Abstract Classes:-\n",
        "'''A class that can't be instantiated and must be subclassed, providing a base implementation for subclasses to build upon.'''\n",
        "#Abstraction through Modules:-\n",
        "'''Dividing a large system into smaller, more manageable components that can be abstracted behind a well-defined interface.'''\n",
        "#These techniques allow to define the essential characteristics of data structures and algorithms, and hide the details that are not essential\n",
        "# for users of these structures and algorithms.\n"
      ],
      "metadata": {
        "id": "gP08BnP4dYOk"
      },
      "id": "gP08BnP4dYOk",
      "execution_count": null,
      "outputs": []
    },
    {
      "cell_type": "code",
      "source": [
        "#Q5. Can we create an instance of an abstract class? Explain your answer.\n",
        "'''\n",
        "No, you cannot create an instance of an abstract class. An abstract class is a blueprint for other \n",
        "classes, and its purpose is to define the common interface or properties that must be implemented by\n",
        "its derived classes. Because it is just a blueprint, it doesn't have any implementation of its own and\n",
        "therefore cannot be instantiated.\n",
        "\n",
        "In other words, an abstract class is not a complete class, and its purpose is to serve as \n",
        "a base for other classes that inherit from it and provide a concrete implementation of the \n",
        "abstract methods and properties defined by the abstract class.'''"
      ],
      "metadata": {
        "id": "XS0DTEowfJBc"
      },
      "id": "XS0DTEowfJBc",
      "execution_count": null,
      "outputs": []
    }
  ],
  "metadata": {
    "kernelspec": {
      "display_name": "Python 3",
      "name": "python3"
    },
    "language_info": {
      "name": "python"
    },
    "colab": {
      "provenance": []
    }
  },
  "nbformat": 4,
  "nbformat_minor": 5
}