{
  "cells": [
    {
      "cell_type": "code",
      "source": [
        "#QUESTION 1:-Create a python program to sort the given list of tuples based on integer value using a lambda function. \n",
        "\n",
        "s= l1=[('Sachin Tendulkar', 34357), ('Ricky Ponting', 27483), ('Jack Kallis', 25534),('Virat Kohli', 24936)]\n",
        "s.sort(key = lambda x:x[1])\n",
        "print(s) "
      ],
      "metadata": {
        "id": "vssVAp5AX0LZ",
        "outputId": "ee1b383c-a2db-4b72-9ee7-3694cecf221d",
        "colab": {
          "base_uri": "https://localhost:8080/"
        }
      },
      "id": "vssVAp5AX0LZ",
      "execution_count": null,
      "outputs": [
        {
          "output_type": "stream",
          "name": "stdout",
          "text": [
            "[('Virat Kohli', 24936), ('Jack Kallis', 25534), ('Ricky Ponting', 27483), ('Sachin Tendulkar', 34357)]\n"
          ]
        }
      ]
    },
    {
      "cell_type": "code",
      "source": [
        "#QUESTION 2:-  Write a Python Program to find the squares of all the numbers in the given list of integers using lambda and map functions.\n",
        "l=[1, 2, 3, 4, 5, 6, 7, 8, 9, 10]\n",
        "list(map(lambda x:x**2,l))\n"
      ],
      "metadata": {
        "id": "KBT0b-lzYuEd",
        "colab": {
          "base_uri": "https://localhost:8080/"
        },
        "outputId": "26453191-19af-47cb-9dc9-99b7c219c31c"
      },
      "id": "KBT0b-lzYuEd",
      "execution_count": 2,
      "outputs": [
        {
          "output_type": "execute_result",
          "data": {
            "text/plain": [
              "[1, 4, 9, 16, 25, 36, 49, 64, 81, 100]"
            ]
          },
          "metadata": {},
          "execution_count": 2
        }
      ]
    },
    {
      "cell_type": "code",
      "source": [
        "#QUESTION 3:-Write a python program to convert the given list of integers into a tuple of strings. Use map and lambda functions.\n",
        "\n",
        "s= [1, 2, 3, 4, 5, 6, 7, 8, 9, 10]\n",
        "tuple(map(lambda x:str(x),s))\n",
        "\n",
        "\n"
      ],
      "metadata": {
        "colab": {
          "base_uri": "https://localhost:8080/"
        },
        "id": "tajOhs0FglsH",
        "outputId": "1ab5ef63-9bb4-4c98-9ef9-11e441f6e10d"
      },
      "id": "tajOhs0FglsH",
      "execution_count": 4,
      "outputs": [
        {
          "output_type": "execute_result",
          "data": {
            "text/plain": [
              "('1', '2', '3', '4', '5', '6', '7', '8', '9', '10')"
            ]
          },
          "metadata": {},
          "execution_count": 4
        }
      ]
    },
    {
      "cell_type": "code",
      "source": [
        "#QUESTION 4:- Write a python program using reduce function to compute the product of a list containing numbers from 1 to 25.\n",
        "from functools import reduce\n",
        "l1=[]\n",
        "for i in range(1,26):\n",
        "    l1.append(i)\n",
        "(reduce(lambda x,y:x*y,l1))\n"
      ],
      "metadata": {
        "colab": {
          "base_uri": "https://localhost:8080/"
        },
        "id": "915Qh2E4hy3g",
        "outputId": "b2554a1f-d2a9-426a-a28e-3805b07ec9ea"
      },
      "id": "915Qh2E4hy3g",
      "execution_count": 14,
      "outputs": [
        {
          "output_type": "execute_result",
          "data": {
            "text/plain": [
              "15511210043330985984000000"
            ]
          },
          "metadata": {},
          "execution_count": 14
        }
      ]
    },
    {
      "cell_type": "code",
      "source": [
        "#QUESSTION 5:- Write a python program to filter the numbers in a given list that are divisible by 2 and 3 using the filter function.\n",
        "l=[2, 3, 6, 9, 27, 60, 90, 120, 55, 46]\n",
        "list(filter(lambda x: x%2==0 and x%3==0,l))"
      ],
      "metadata": {
        "colab": {
          "base_uri": "https://localhost:8080/"
        },
        "id": "QKOd6UGVkdk8",
        "outputId": "75dc65af-6084-4ab4-af1f-3320f3936e62"
      },
      "id": "QKOd6UGVkdk8",
      "execution_count": 17,
      "outputs": [
        {
          "output_type": "execute_result",
          "data": {
            "text/plain": [
              "[6, 60, 90, 120]"
            ]
          },
          "metadata": {},
          "execution_count": 17
        }
      ]
    },
    {
      "cell_type": "code",
      "source": [
        "#QUESTION 6:- Write a python program to find palindromes in the given list of strings using lambda and filter functi\n",
        "\n",
        "l1= ['python', 'php', 'aba', 'radar', 'level']\n",
        "print(list(filter(lambda s: s==s[::-1], l1)))"
      ],
      "metadata": {
        "colab": {
          "base_uri": "https://localhost:8080/"
        },
        "id": "UzbOrkIPlXh8",
        "outputId": "6635003b-20ed-442c-e75d-7f4cf8cc242d"
      },
      "id": "UzbOrkIPlXh8",
      "execution_count": 18,
      "outputs": [
        {
          "output_type": "stream",
          "name": "stdout",
          "text": [
            "['php', 'aba', 'radar', 'level']\n"
          ]
        }
      ]
    },
    {
      "cell_type": "code",
      "source": [],
      "metadata": {
        "id": "MUKWTqInmveT"
      },
      "id": "MUKWTqInmveT",
      "execution_count": null,
      "outputs": []
    }
  ],
  "metadata": {
    "kernelspec": {
      "display_name": "Python 3",
      "name": "python3"
    },
    "language_info": {
      "name": "python"
    },
    "colab": {
      "provenance": []
    }
  },
  "nbformat": 4,
  "nbformat_minor": 5
}