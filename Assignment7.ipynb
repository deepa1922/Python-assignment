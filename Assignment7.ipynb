{
  "nbformat": 4,
  "nbformat_minor": 0,
  "metadata": {
    "colab": {
      "provenance": []
    },
    "kernelspec": {
      "name": "python3",
      "display_name": "Python 3"
    },
    "language_info": {
      "name": "python"
    }
  },
  "cells": [
    {
      "cell_type": "code",
      "execution_count": null,
      "metadata": {
        "id": "J3r821Qc7wRe"
      },
      "outputs": [],
      "source": [
        "#Q1. Create a function which will take a list as an argument and return the product of all the numbers after creating a flat list.\n",
        "#Use the below-given list as an argument for your function.\n",
        "#list = [1,2,3,4, [44,55,66, True], False, (34,56,78,89,34), {1,2,3,3,2,1}, {1:34, \"key2\": \n",
        "#[55, 67, 78, 89], 4: (45,22, 61, 34)}, [56, 'data science'], 'Machine Learning']\n"
      ]
    },
    {
      "cell_type": "code",
      "source": [
        "list1 = [1,2,3,4, [44,55,66, True], False, (34,56,78,89,34), {1,2,3,3,2,1}, {1:34, \"key2\": \n",
        "[55, 67, 78, 89], 4: (45,22, 61, 34)}, [56, 'data science'], 'Machine Learning']\n",
        "\n",
        "def product(l):\n",
        "    l_ans=[];\n",
        "    ans=1;\n",
        "    for i in l:\n",
        "        if type(i)==int:\n",
        "            l_ans.append(i);\n",
        "        elif type(i)==list or type(i)==set or type(i)==tuple :\n",
        "            for j in i:\n",
        "                if type(j)==int:\n",
        "                    l_ans.append(j);\n",
        "        elif  type(i)==dict:\n",
        "            for j in i.values():\n",
        "                if type(j)==int:\n",
        "                    l_ans.append(j);\n",
        "                elif type(j)==list or type(j)==set or type(j)==tuple :\n",
        "                    for l in j:\n",
        "                        if type(l)==int:\n",
        "                            l_ans.append(l);\n",
        "            for j in i.keys():\n",
        "                if type(j)==int:\n",
        "                    l_ans.append(j);\n",
        "        else:\n",
        "            continue;\n",
        "        \n",
        "    \n",
        " \n",
        "    for i in l_ans:\n",
        "        ans*=i;\n",
        "    \n",
        "    return ans,l_ans;"
      ],
      "metadata": {
        "id": "RGPkjNg175UV"
      },
      "execution_count": 1,
      "outputs": []
    },
    {
      "cell_type": "code",
      "source": [
        "print(\"product of \",product(list1)[1],\"is \",product(list1)[0]);"
      ],
      "metadata": {
        "colab": {
          "base_uri": "https://localhost:8080/"
        },
        "id": "nTbJo6Z575gt",
        "outputId": "e36a1154-240c-4ce9-c8d9-e12d7e653b7a"
      },
      "execution_count": 2,
      "outputs": [
        {
          "output_type": "stream",
          "name": "stdout",
          "text": [
            "product of  [1, 2, 3, 4, 44, 55, 66, 34, 56, 78, 89, 34, 1, 2, 3, 34, 55, 67, 78, 89, 45, 22, 61, 34, 1, 4, 56] is  4134711838987085478833841242112000\n"
          ]
        }
      ]
    },
    {
      "cell_type": "code",
      "source": [
        "#Q2. Write a python program for encrypting a message sent to you by your friend. The logic of encryption\n",
        "#should be such that, for a the output should be z. For b, the output should be y. For c, the output should\n",
        "#be x respectively. Also, the whitespace should be replaced with a dollar sign. Keep the punctuation\n",
        "#marks unchanged.\n",
        "#Input Sentence: I want to become a Data Scientist.\n",
        "#Encrypt the above input sentence using the program you just created.\n",
        "#Note: Convert the given input sentence into lowercase before encrypting. The final output should be\n",
        "#lowercase."
      ],
      "metadata": {
        "id": "ZenKfRRv9SY2"
      },
      "execution_count": null,
      "outputs": []
    },
    {
      "cell_type": "code",
      "source": [
        "string = \"I want to become a Data Scientist.\"\n",
        "str = string.lower();\n",
        "str1= \"abcdefghijklmnopqrstuvwxyz \"\n",
        "str2= \"zyxwvutsrqponmlkjihgfedcba$\"\n",
        "table = str.maketrans(str1,str2)   \n",
        "str.translate(table)"
      ],
      "metadata": {
        "colab": {
          "base_uri": "https://localhost:8080/",
          "height": 35
        },
        "id": "9Bka-GQA9cS-",
        "outputId": "cdd6ae82-a0a1-4719-981d-30c0385c6a25"
      },
      "execution_count": 3,
      "outputs": [
        {
          "output_type": "execute_result",
          "data": {
            "text/plain": [
              "'r$dzmg$gl$yvxlnv$z$wzgz$hxrvmgrhg.'"
            ],
            "application/vnd.google.colaboratory.intrinsic+json": {
              "type": "string"
            }
          },
          "metadata": {},
          "execution_count": 3
        }
      ]
    },
    {
      "cell_type": "code",
      "source": [],
      "metadata": {
        "id": "A0rMUxIl9hlx"
      },
      "execution_count": null,
      "outputs": []
    }
  ]
}