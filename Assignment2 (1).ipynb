{
 "cells": [
  {
   "cell_type": "code",
   "execution_count": 28,
   "id": "e5e3f640-7eb6-486b-bd5e-4dba0cfc96ad",
   "metadata": {},
   "outputs": [
    {
     "name": "stdin",
     "output_type": "stream",
     "text": [
      "enter your marks 93\n"
     ]
    },
    {
     "name": "stdout",
     "output_type": "stream",
     "text": [
      "congrats!! you got GRADE A\n"
     ]
    }
   ],
   "source": [
    "##30th jan 2023 assignment\n",
    "##QUESTION 1:-write program to accept the  pecentage from user  and display the grade according to them.\n",
    "marks = int(input(\"enter your marks\"))\n",
    "if (marks >90):\n",
    "        print(\"congrats!! you got GRADE A\")\n",
    "elif(marks > 80 and marks<= 90):\n",
    "            print(\"well-done you got GRADE B\")\n",
    "elif(marks>=60 and marks<=80):\n",
    "        print(\"you got GRADE C,next time give your best\")\n",
    "else:\n",
    "                print(\"you got GRADE D,try again :)\")\n",
    "    "
   ]
  },
  {
   "cell_type": "code",
   "execution_count": 2,
   "id": "828999b3-8fe4-46d2-8b64-dbbf7a9d39cd",
   "metadata": {},
   "outputs": [
    {
     "name": "stdin",
     "output_type": "stream",
     "text": [
      "enter cost price 200\n"
     ]
    },
    {
     "name": "stdout",
     "output_type": "stream",
     "text": [
      "paid 5% road tax\n"
     ]
    }
   ],
   "source": [
    "##question 2 write program to accept the cost price of a bike and display the road tax to be paid \n",
    "cost_price = int(input(\"enter cost price\"))\n",
    "if(cost_price>100000):\n",
    "    print(\" paid 15% road tax\")\n",
    "elif(cost_price>50000 and cost_price <= 100000):\n",
    "         print(\"tax 10%\")\n",
    "elif(cost_price <= 50000):\n",
    "                 print(\"paid 5% road tax\")\n",
    "        "
   ]
  },
  {
   "cell_type": "code",
   "execution_count": 3,
   "id": "92ce5214-f7e3-4825-88d6-0f434540f5dd",
   "metadata": {},
   "outputs": [
    {
     "name": "stdin",
     "output_type": "stream",
     "text": [
      "enter the name of city jaipur\n"
     ]
    },
    {
     "name": "stdout",
     "output_type": "stream",
     "text": [
      "jal mahal\n"
     ]
    }
   ],
   "source": [
    "## question 3 accept any city from user and display monument of that city.\n",
    "city = input(\"enter the name of city\")\n",
    "if(city == \"delhi\"):\n",
    "    print(\"red fort\")\n",
    "elif(city == \"agra\"):\n",
    "        print(\"taj mahal\")\n",
    "elif(city == \"jaipur\"):\n",
    "            print(\"jal mahal\")\n",
    "else:\n",
    "    print(\"incorrect city, try again\")"
   ]
  },
  {
   "cell_type": "code",
   "execution_count": 4,
   "id": "8d1697ad-7958-4c10-bdc4-e1a2452ea7dc",
   "metadata": {},
   "outputs": [
    {
     "name": "stdin",
     "output_type": "stream",
     "text": [
      " enter  number :  5\n"
     ]
    },
    {
     "name": "stdout",
     "output_type": "stream",
     "text": [
      "1\n"
     ]
    }
   ],
   "source": [
    "##question 4 check how many times a given number can be divided by 3 before it is less than or equal to 10.\n",
    "number = int(input(\" enter  number : \"))\n",
    "check = True\n",
    "while check :\n",
    "    if number /3 <=10:\n",
    "        print(f\"{int(number/3)}\")\n",
    "        check = False\n",
    "\n"
   ]
  },
  {
   "cell_type": "code",
   "execution_count": 8,
   "id": "0f1b33d9-0a7c-4333-88c5-0b77443f52ed",
   "metadata": {},
   "outputs": [
    {
     "name": "stdin",
     "output_type": "stream",
     "text": [
      "Enter a number:  5\n"
     ]
    },
    {
     "name": "stdout",
     "output_type": "stream",
     "text": [
      "Sum is = 15\n"
     ]
    }
   ],
   "source": [
    "## question 5 why and when to use while loop in  python\n",
    "\"\"\"A While loop in Python allows a part of the code to be executed repeatedly as long as a given condition is true. \n",
    "The While loop in Python is also called a pre-tested loop.\n",
    "It is typically used when the number of iterations is not known.\n",
    "A Python While loop expression/condition consists of three parts:\n",
    "1.A piece of code that needs to be repeated over and over\n",
    "2.The while keyword\n",
    "3.A condition that translates to either True or False\"\"\"\n",
    "#EXAMPLE:\n",
    "# program to calculate the sum of numbers\n",
    "# until the user enters zero\n",
    "\n",
    "number = int(input('Enter a number: '))\n",
    "Sum = 0;\n",
    "while number>0:\n",
    "         Sum+= number  \n",
    "         number = number-1;\n",
    "    \n",
    "print('Sum is =', Sum)"
   ]
  },
  {
   "cell_type": "code",
   "execution_count": 1,
   "id": "f1459c78-6e4e-47db-944b-1a2631560101",
   "metadata": {},
   "outputs": [
    {
     "name": "stdin",
     "output_type": "stream",
     "text": [
      "enter the number: 4\n"
     ]
    },
    {
     "name": "stdout",
     "output_type": "stream",
     "text": [
      "* \n",
      "* * \n",
      "* * * \n",
      "* * * * \n"
     ]
    }
   ],
   "source": [
    "##question 6 use nested while loop to print 3 different pattern.\n",
    "#1-pattern\n",
    "n = int(input(\"enter the number:\"))\n",
    "i=1\n",
    "while(i<=n):\n",
    "    j=1\n",
    "    while(j<=i):\n",
    "        print(\"*\",end=\" \")\n",
    "        j += 1\n",
    "    print()\n",
    "    i+= 1\n",
    "\n"
   ]
  },
  {
   "cell_type": "code",
   "execution_count": 2,
   "id": "20c6684f-ae97-485b-aec7-b88ea0ace985",
   "metadata": {},
   "outputs": [
    {
     "name": "stdin",
     "output_type": "stream",
     "text": [
      "enter the number: 4\n"
     ]
    },
    {
     "name": "stdout",
     "output_type": "stream",
     "text": [
      "1 \n",
      "1 2 \n",
      "1 2 3 \n",
      "1 2 3 4 \n"
     ]
    }
   ],
   "source": [
    "#2 pattern\n",
    "n = int(input(\"enter the number:\"))\n",
    "i=1\n",
    "while(i<=n):\n",
    "    j=1\n",
    "    while(j<=i):\n",
    "        print(j,end=\" \")\n",
    "        j += 1\n",
    "    print()\n",
    "    i+= 1"
   ]
  },
  {
   "cell_type": "code",
   "execution_count": 1,
   "id": "81d6c839-6004-42ef-8ec0-83cfbeb11b6f",
   "metadata": {},
   "outputs": [
    {
     "name": "stdin",
     "output_type": "stream",
     "text": [
      "enter the number: 4\n"
     ]
    },
    {
     "name": "stdout",
     "output_type": "stream",
     "text": [
      "* * * * \n",
      "* * * \n",
      "* * \n",
      "* \n"
     ]
    }
   ],
   "source": [
    "#pattern 3\n",
    "n = int(input(\"enter the number:\"))\n",
    "i=1\n",
    "while(i<=n):\n",
    "    j=n\n",
    "    while(j>=i):\n",
    "        print(\"*\",end=\" \")\n",
    "        j -= 1\n",
    "    print()\n",
    "    i += 1\n",
    "    "
   ]
  },
  {
   "cell_type": "code",
   "execution_count": null,
   "id": "692bd411-6b27-4778-b67a-9886fd0489f2",
   "metadata": {},
   "outputs": [],
   "source": [
    "## question 7 reverse a while loop to display number from 10 to 1\n",
    "i=10\n",
    "while(i=>1):\n",
    "print(i)\n",
    "i-1\n"
   ]
  },
  {
   "cell_type": "code",
   "execution_count": null,
   "id": "e4c6f3dc-ceef-4ea5-960f-67026fc29086",
   "metadata": {},
   "outputs": [],
   "source": [
    "## question 8\n",
    "i=10\n",
    "while(i=>1):\n",
    "print(i)\n",
    "i-1\n"
   ]
  }
 ],
 "metadata": {
  "kernelspec": {
   "display_name": "Python 3 (ipykernel)",
   "language": "python",
   "name": "python3"
  },
  "language_info": {
   "codemirror_mode": {
    "name": "ipython",
    "version": 3
   },
   "file_extension": ".py",
   "mimetype": "text/x-python",
   "name": "python",
   "nbconvert_exporter": "python",
   "pygments_lexer": "ipython3",
   "version": "3.10.8"
  }
 },
 "nbformat": 4,
 "nbformat_minor": 5
}
