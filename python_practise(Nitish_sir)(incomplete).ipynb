{
  "nbformat": 4,
  "nbformat_minor": 0,
  "metadata": {
    "colab": {
      "provenance": []
    },
    "kernelspec": {
      "name": "python3",
      "display_name": "Python 3"
    },
    "language_info": {
      "name": "python"
    }
  },
  "cells": [
    {
      "cell_type": "code",
      "execution_count": null,
      "metadata": {
        "id": "kZzzOzynxpKf"
      },
      "outputs": [],
      "source": [
        "#start at 2 august 2023(Python Practice Problems-nitsh's sir(campusx) )"
      ]
    },
    {
      "cell_type": "code",
      "source": [
        "#1 User will input (3ages).Find the oldest one\n",
        "age1 = int(input())\n",
        "age2 = int(input())\n",
        "age3 = int(input())\n",
        "if age1>= age2 and age1>=age3:\n",
        "  print(age1,\"is oldest\")\n",
        "elif age2>= age1 and age2>=age3:\n",
        "  print(age2,\"is oldest\")\n",
        "else:\n",
        "  print(age3,\"is oldest\")"
      ],
      "metadata": {
        "colab": {
          "base_uri": "https://localhost:8080/"
        },
        "id": "EZsvdeI5yBIY",
        "outputId": "fc9cc747-288e-493c-9797-ad2a310ae96f"
      },
      "execution_count": null,
      "outputs": [
        {
          "output_type": "stream",
          "name": "stdout",
          "text": [
            "20\n",
            "20\n",
            "19\n",
            "20 is oldest\n"
          ]
        }
      ]
    },
    {
      "cell_type": "code",
      "source": [
        "#2 Write a program that will convert celsius value to fahrenheit\n",
        "celsius = float(input())\n",
        "fahrenheit = celsius*1.8 + 32\n",
        "print(\"{} celsius value in fahrenheit {}\".format(celsius,fahrenheit))\n"
      ],
      "metadata": {
        "colab": {
          "base_uri": "https://localhost:8080/"
        },
        "id": "II_jxpFL0FD9",
        "outputId": "a188749f-e1dd-4311-c20b-bf50ceaba8c7"
      },
      "execution_count": null,
      "outputs": [
        {
          "output_type": "stream",
          "name": "stdout",
          "text": [
            "23\n",
            "23.0 celsius value in fahrenheit 73.4\n"
          ]
        }
      ]
    },
    {
      "cell_type": "code",
      "source": [
        "#3 User will input (2numbers).Write a program to swap the numbers\n",
        "x = int(input(\"first number:\"))\n",
        "y = int(input(\"second number\"))\n",
        "temp = x\n",
        "x = y\n",
        "y = temp\n",
        "print(\"after swapping first number=\",x,\",after swapping second number=\",y)"
      ],
      "metadata": {
        "colab": {
          "base_uri": "https://localhost:8080/"
        },
        "id": "b2JOSO8h1H45",
        "outputId": "7ea4eb70-0b83-4603-d2ae-1141d6384f6e"
      },
      "execution_count": null,
      "outputs": [
        {
          "output_type": "stream",
          "name": "stdout",
          "text": [
            "first number:1\n",
            "second number5\n",
            "after swapping first number= 5 ,after swapping second number= 1\n"
          ]
        }
      ]
    },
    {
      "cell_type": "code",
      "source": [
        "#4 Write a program that will give you the sum of 3 digits\n",
        "n1 = int(input(\"enter first digit\"))\n",
        "n2 = int(input(\"enter second digit\"))\n",
        "n3 = int(input(\"enter third digit\"))\n",
        "sum = n1+n2+n3\n",
        "print(\"sum\",sum)"
      ],
      "metadata": {
        "colab": {
          "base_uri": "https://localhost:8080/"
        },
        "id": "cqdS6Sme5mEg",
        "outputId": "8fae71ff-1202-4310-ad6f-b133806dcd7d"
      },
      "execution_count": null,
      "outputs": [
        {
          "output_type": "stream",
          "name": "stdout",
          "text": [
            "enter first digit5\n",
            "enter second digit4\n",
            "enter third digit7\n",
            "sum 16\n"
          ]
        }
      ]
    },
    {
      "cell_type": "code",
      "source": [
        "#5 Write a program that will reverse a four digit number.Also it checks whether the reverse is true.\n",
        "#1st way 4->43(4*10+3)->432(43*10+2)->4321(432*10+1)   \"rev = rev*10+last_digit\"\n",
        "n = int(input(\"enter number\"))\n",
        "orig = n\n",
        "rev = 0\n",
        "while n!=0:\n",
        "  last_digit = n%10\n",
        "  rev = rev*10+last_digit\n",
        "  n =n//10\n",
        "print(\"reverse of number \",rev)\n",
        "if orig == rev:\n",
        "  print(\"reverse is true\")\n",
        "else:\n",
        "  print(\"reverse is not true\")"
      ],
      "metadata": {
        "colab": {
          "base_uri": "https://localhost:8080/"
        },
        "id": "OoaNpC7h7Rrx",
        "outputId": "2eb4f94d-f5e4-4e3d-e228-ab67993e9aff"
      },
      "execution_count": null,
      "outputs": [
        {
          "output_type": "stream",
          "name": "stdout",
          "text": [
            "enter number1234\n",
            "reverse of number  4321\n",
            "reverse is not true\n"
          ]
        }
      ]
    },
    {
      "cell_type": "code",
      "source": [
        "#2nd way  1234->1000+200+30+4\n",
        "# 1000+200+30+4\n",
        "#rev 4(0+4*1)->34(4+3*10)->342(34+2*100)->1234(342+1*1000)       rev+last_digit*place_value\n",
        "\n",
        "n = int(input(\"enter number\"))\n",
        "orig = n\n",
        "rev = 0\n",
        "place_value = 1\n",
        "while n!=0:\n",
        "  last_digit = n%10\n",
        "  rev = rev + last_digit*place_value\n",
        "  place_value *= 10\n",
        "  n = n//10\n",
        "print(\"reverse number \",rev)\n",
        "if orig==rev:\n",
        "  print(\"reverse is true \")\n",
        "else:\n",
        "  print(\"reverse is not true\")"
      ],
      "metadata": {
        "colab": {
          "base_uri": "https://localhost:8080/"
        },
        "id": "FFAhYDnDMqAc",
        "outputId": "c6fe82b9-5e03-4ad2-c5ad-de83d99a982d"
      },
      "execution_count": null,
      "outputs": [
        {
          "output_type": "stream",
          "name": "stdout",
          "text": [
            "enter number1221\n",
            "reverse number  1221\n",
            "reverse is true \n"
          ]
        }
      ]
    },
    {
      "cell_type": "code",
      "source": [
        "#6 Write a program that will tell whether the number entered by the user is odd or even.\n",
        "n = int(input(\"enter the number to check whether its odd or even\"))\n",
        "if (n%2==0):\n",
        "  print(n,\"is even\")\n",
        "else:\n",
        "   print(n,\"is odd\")\n"
      ],
      "metadata": {
        "colab": {
          "base_uri": "https://localhost:8080/"
        },
        "id": "Zxs4MnWX9Wjx",
        "outputId": "3e0de580-d8f5-4469-f711-8f353987a7d5"
      },
      "execution_count": null,
      "outputs": [
        {
          "output_type": "stream",
          "name": "stdout",
          "text": [
            "enter the number to check whether its odd or even14\n",
            "14 is even\n"
          ]
        }
      ]
    },
    {
      "cell_type": "code",
      "source": [
        "#7 Write a program that will tell whether the given year is a leap year or not.\n",
        "year = int(input(\"enter year\"))\n",
        "if year%4==0 and ( year%100!=0 or  year%400==0) :\n",
        "   print(year,\"is a leap year\")\n",
        "else:\n",
        "  print(year,\"not a leap year\")"
      ],
      "metadata": {
        "id": "0MIzWoi0ACF8",
        "colab": {
          "base_uri": "https://localhost:8080/"
        },
        "outputId": "ea79b9ba-03d3-464b-9275-8ef8faae44c2"
      },
      "execution_count": null,
      "outputs": [
        {
          "output_type": "stream",
          "name": "stdout",
          "text": [
            "enter year2024\n",
            "2024 is a leap year\n"
          ]
        }
      ]
    },
    {
      "cell_type": "code",
      "source": [
        "#8 Write a program to find the euclidean distance between two coordinates.\n",
        "x1 = int(input(\"enter x coordinate of 1st point\"))\n",
        "y1 = int(input(\"enter y coordinate of 1st point\"))\n",
        "x2 = int(input(\"enter x coordinate of 2nd point\"))\n",
        "y2 = int(input(\"enter y coordinate of 2nd point\"))\n",
        "distance = ((x2-x1)**2 + (y2-y1)**2)**0.5\n",
        "print(distance)"
      ],
      "metadata": {
        "colab": {
          "base_uri": "https://localhost:8080/"
        },
        "id": "30M8doXjV5Z7",
        "outputId": "ccf3e9b0-5055-45dd-8069-4e8d6e2f9a9d"
      },
      "execution_count": null,
      "outputs": [
        {
          "output_type": "stream",
          "name": "stdout",
          "text": [
            "enter x coordinate of 1st point3\n",
            "enter y coordinate of 1st point3\n",
            "enter x coordinate of 2nd point2\n",
            "enter y coordinate of 2nd point5\n",
            "2.23606797749979\n"
          ]
        }
      ]
    },
    {
      "cell_type": "code",
      "source": [
        "#9 Write a program that take a user input of three angles and will find out whether it can form a triangle or not.\n",
        "angle1 = int(input(\"enter first angle\"))\n",
        "angle2 =  int(input(\"enter second angle\"))\n",
        "angle3 =  int(input(\"enter third angle\"))\n",
        "if (angle1+angle2+angle3 == 180):\n",
        "  print(\"yes!, these angles can form triangle\")\n",
        "else:\n",
        "  print(\"NO ! these angles cannot form triangle\")"
      ],
      "metadata": {
        "colab": {
          "base_uri": "https://localhost:8080/"
        },
        "id": "IPOrDatgYlwm",
        "outputId": "9a4d3020-0d45-48f6-febd-fa265c19b4cf"
      },
      "execution_count": null,
      "outputs": [
        {
          "output_type": "stream",
          "name": "stdout",
          "text": [
            "enter first angle120\n",
            "enter second angle60\n",
            "enter third angle0\n",
            "yes!, these angles can form triangle\n"
          ]
        }
      ]
    },
    {
      "cell_type": "code",
      "source": [
        "#10 Write a program that will take user input of cost price and selling price and determines whether its a loss or a profit\n",
        "cost_price = int(input(\"enter cost price: \"))\n",
        "selling_price = int(input(\"enter selling price: \"))\n",
        "if cost_price > selling_price:\n",
        "   loss = cost_price-selling_price\n",
        "   print(\"You incurred a loss of\",loss)\n",
        "elif cost_price < selling_price:\n",
        "   profit = selling_price-cost_price\n",
        "   print(\"you made a  profit of \",profit)\n",
        "else:\n",
        "  print(\"No profit, no loss. You broke even.\")"
      ],
      "metadata": {
        "colab": {
          "base_uri": "https://localhost:8080/"
        },
        "id": "m92CH1OeaLen",
        "outputId": "b7dc1491-b881-43a2-b77d-09b028371e0c"
      },
      "execution_count": null,
      "outputs": [
        {
          "output_type": "stream",
          "name": "stdout",
          "text": [
            "enter cost price: 30\n",
            "enter selling price: 50\n",
            "you made a  profit of  20\n"
          ]
        }
      ]
    },
    {
      "cell_type": "code",
      "source": [
        "#11 Write a program to find the simple interest when the value of principle,rate of interest and time period is given.\n",
        "principle = int(input(\"enter principle value: \"))\n",
        "rate = int(input(\"enter rate: \"))\n",
        "time = int(input(\"enter time period: \"))\n",
        "SI = (principle*rate*time)/100\n",
        "print(\"simple interest\",SI)"
      ],
      "metadata": {
        "colab": {
          "base_uri": "https://localhost:8080/"
        },
        "id": "peC3OPxQcyen",
        "outputId": "5972d004-d22d-4a3f-e3af-45b58060d836"
      },
      "execution_count": null,
      "outputs": [
        {
          "output_type": "stream",
          "name": "stdout",
          "text": [
            "enter principle value: 1000\n",
            "enter rate: 5\n",
            "enter time period: 3\n",
            "simple interest 150.0\n"
          ]
        }
      ]
    },
    {
      "cell_type": "code",
      "source": [
        "#12 Write a program to find the volume of the cylinder. Also find the cost when ,when the cost of 1litre milk is 40Rs.\n",
        "import math # to get exact value of pi\n",
        "r = float(input(\"enter radius of cylinder : \"))\n",
        "h = float(input(\"enter height of cylinder: \"))\n",
        "vol = math.pi*(r**2)*h\n",
        "print(\"volume of cylinder \",vol)\n",
        "litre = vol*1000 # # Converting volume from cubic units to liters (1 cubic unit = 1000 liters)\n",
        "\n",
        "cost = litre*40\n",
        "print(\"cost of {} litre milk is {}.Rs\".format(litre,cost))\n"
      ],
      "metadata": {
        "colab": {
          "base_uri": "https://localhost:8080/"
        },
        "id": "iQwoXeppgSk_",
        "outputId": "56423a1a-6833-4392-e0f5-843e74489240"
      },
      "execution_count": null,
      "outputs": [
        {
          "output_type": "stream",
          "name": "stdout",
          "text": [
            "enter radius of cylinder : 3\n",
            "enter height of cylinder: 2\n",
            "volume of cylinder  56.548667764616276\n",
            "cost of 56548.66776461628 litre milk is 2261946.710584651.Rs\n"
          ]
        }
      ]
    },
    {
      "cell_type": "code",
      "source": [
        "#13 Write  a program that will tell whether the given number is divisible by 3 & 6.\n",
        "n = int(input(\"enter the number you want to check whether its divible by 3 and 6 or not: \"))\n",
        "if n%3==0 and n%6==0:\n",
        "  print(n,\"is divisible by 3 and 6\")\n",
        "else:\n",
        "  print(n,\"is not divisible by 3 and 6\")"
      ],
      "metadata": {
        "colab": {
          "base_uri": "https://localhost:8080/"
        },
        "id": "RcbgEYYLjQak",
        "outputId": "27150bac-32de-42c5-82ee-f4a6dbec3a03"
      },
      "execution_count": null,
      "outputs": [
        {
          "output_type": "stream",
          "name": "stdout",
          "text": [
            "enter the number you want to check whether its divible by 3 and 6 or not: 12\n",
            "12 is divisible by 3 and 6\n"
          ]
        }
      ]
    },
    {
      "cell_type": "code",
      "source": [
        "#14 Angle between hour and minute hand\n",
        "time = input(\"enter the time in 24 hour hh:mm: \")\n",
        "hour,minute = time.split(':')\n",
        "hour = int(hour)\n",
        "minute = int(minute)\n",
        "hour_angle = 0.5*(hour*60+minute)\n",
        "minute_angle = 6*minute\n",
        "angle = abs(hour_angle - minute_angle)\n",
        "angle = min(360 - angle, angle)  # Ensure the smaller angle is considered\n",
        "\n",
        "# Step 5: Output the result\n",
        "print(\"Angle between hour and minute hands:\", angle, \"degrees\")"
      ],
      "metadata": {
        "id": "r4ykZNdLnj0j",
        "colab": {
          "base_uri": "https://localhost:8080/"
        },
        "outputId": "1f3fd314-2c31-46d3-c3a6-83f96d7793f7"
      },
      "execution_count": null,
      "outputs": [
        {
          "output_type": "stream",
          "name": "stdout",
          "text": [
            "enter the time in 24 hour hh:mm: 11:30\n",
            "Angle between hour and minute hands: 165.0 degrees\n"
          ]
        }
      ]
    },
    {
      "cell_type": "code",
      "source": [
        "#2nd way\n",
        "time = input(\"enter the time in 24 hour hh:mm: \")\n",
        "hour,minute = time.split(':')\n",
        "hour = int(hour)\n",
        "minute = int(minute)\n",
        "hour_angle = 30*hour+0.5*minute\n",
        "minute_angle = 6*minute\n",
        "angle = abs(hour_angle-minute_angle)\n",
        "angle = min(360-angle,angle)\n",
        "print(\"Angle between hour and minute hands:\", angle, \"degrees\")"
      ],
      "metadata": {
        "colab": {
          "base_uri": "https://localhost:8080/"
        },
        "id": "xw_Sw-d6Othy",
        "outputId": "a76c475b-6314-47a0-f46a-8f3d474959b2"
      },
      "execution_count": null,
      "outputs": [
        {
          "output_type": "stream",
          "name": "stdout",
          "text": [
            "enter the time in 24 hour hh:mm: 9:10\n",
            "Angle between hour and minute hands: 145.0 degrees\n"
          ]
        }
      ]
    },
    {
      "cell_type": "code",
      "source": [
        "#15 Overlapping rectangles\n",
        "#two rectangle input find if two rectanglr overlap or not\n",
        "def doOverlap(l1,r1,l2,r2):\n",
        "  if\n",
        "\n"
      ],
      "metadata": {
        "id": "JrIPnKMUZshf"
      },
      "execution_count": null,
      "outputs": []
    },
    {
      "cell_type": "code",
      "source": [
        "#16 Write a program that will determine weather when the value of temperature and humidity is provided by the user.\n",
        "\"\"\"\"TEMPERATURE(C)      HUMIDITY(%)      WEATHER\n",
        "\n",
        "      >= 30              >=90            Hot and Humid\n",
        "      >= 30              < 90             Hot\n",
        "     <30                >= 90            Cool and Humid\n",
        "      <30                 <90             Cool                 \"\"\""
      ],
      "metadata": {
        "id": "WzkrmCvgpg4k"
      },
      "execution_count": null,
      "outputs": []
    },
    {
      "cell_type": "code",
      "source": [
        "temp = float(input(\"enter temperature (C) : \"))\n",
        "humidity = float(input(\"enter hmidtiy(%) : \"))\n",
        "if temp >= 30 and humidity >=90:\n",
        "   print(\"Hot and Humid\")\n",
        "elif temp>=30 and humidity <90:\n",
        "   print(\"Hot\")\n",
        "elif temp<30 and humidity >= 90:\n",
        "   print(\"Cool and Humid\")\n",
        "elif temp<30 and humidity <90:\n",
        "   print(\"cool\")\n"
      ],
      "metadata": {
        "colab": {
          "base_uri": "https://localhost:8080/"
        },
        "id": "kU57QXriNudj",
        "outputId": "c6d7a9ba-3417-4004-becf-5805cca890cb"
      },
      "execution_count": null,
      "outputs": [
        {
          "output_type": "stream",
          "name": "stdout",
          "text": [
            "enter temperature (C) : 29\n",
            "enter hmidtiy(%) : 89\n",
            "cool\n"
          ]
        }
      ]
    },
    {
      "cell_type": "code",
      "source": [
        "#17 Write a program that will take three digits from the user and add the square of each digit.\n",
        "n1 = int(input(\"enter first number\"))\n",
        "n2 = int(input(\"enter second number\"))\n",
        "n3 = int(input(\"enter  third  number\"))\n",
        "sum = n1*n1 + n2*n2 + n3*n3\n",
        "print(sum)"
      ],
      "metadata": {
        "colab": {
          "base_uri": "https://localhost:8080/"
        },
        "id": "mFMqdNRxO65u",
        "outputId": "e61b5274-eb2b-45c4-f65d-9ef1c4b08c94"
      },
      "execution_count": null,
      "outputs": [
        {
          "output_type": "stream",
          "name": "stdout",
          "text": [
            "enter first number2\n",
            "enter second number1\n",
            "enter  third  number1\n",
            "6\n"
          ]
        }
      ]
    },
    {
      "cell_type": "code",
      "source": [
        "#2nd way\n",
        "num = int(input(\"enter three  digit number \"))  #234\n",
        "a = num%10      #a = 4\n",
        "num = num//10    #num= 234-> 234//10-> 23\n",
        "b = num%10      #b = 3 #num=23\n",
        "c = num//10       #23//10 = 2\n",
        "sum_of_digit = a**2 + b**2 + c**2\n",
        "print(sum_of_digit)"
      ],
      "metadata": {
        "colab": {
          "base_uri": "https://localhost:8080/"
        },
        "id": "ZnII4PmpShH0",
        "outputId": "ebfe6768-b76f-4c3c-aa6b-dbc4b68b8444"
      },
      "execution_count": null,
      "outputs": [
        {
          "output_type": "stream",
          "name": "stdout",
          "text": [
            "enter three  digit number 234\n",
            "29\n"
          ]
        }
      ]
    },
    {
      "cell_type": "code",
      "source": [
        "#3rd way\n",
        "num = int(input(\"enter the three digit num \"))\n",
        "sum_of_digit = 0\n",
        "while num!=0:\n",
        "  digit = num%10\n",
        "  sum_of_digit += digit**2\n",
        "  num = num//10\n",
        "\n",
        "print(sum_of_digit)"
      ],
      "metadata": {
        "colab": {
          "base_uri": "https://localhost:8080/"
        },
        "id": "cptG_qVsZT9t",
        "outputId": "5a3980db-198c-4cd5-f7b1-e5f365bd43df"
      },
      "execution_count": null,
      "outputs": [
        {
          "output_type": "stream",
          "name": "stdout",
          "text": [
            "enter the three digit num 234\n",
            "29\n"
          ]
        }
      ]
    },
    {
      "cell_type": "code",
      "source": [
        "#18 Write a program that will check whether the number is armstrong number or not.\n",
        "num = int(input(\"enter number\"))\n",
        "orig = num\n",
        "power = len(str(num))          #len() function to a string, it returns the number of characters (length) in that string. In the case of len('153'), the output will be an integer, not a string.\n",
        "sum = 0                        #len() return integer\n",
        "while num!=0:\n",
        "  digit = num%10\n",
        "  sum += digit**(power)\n",
        "  num = num//10\n",
        "print(sum)\n",
        "if sum == orig:\n",
        "  print(\"armstrong\")\n",
        "else:\n",
        "  print(\"not armstrong\")"
      ],
      "metadata": {
        "colab": {
          "base_uri": "https://localhost:8080/"
        },
        "id": "dIQbouXLa29d",
        "outputId": "43a5f40a-7dcb-4ddc-fc11-a710d1f31e93"
      },
      "execution_count": null,
      "outputs": [
        {
          "output_type": "stream",
          "name": "stdout",
          "text": [
            "enter number153\n",
            "153\n",
            "armstrong\n"
          ]
        }
      ]
    },
    {
      "cell_type": "code",
      "source": [
        "#19 Write a program that will take user input of (4 digits number) and check whether the number is narcissist number or not.\n",
        "#arcissistic = Armstrong number.\n",
        "num = int(input(\"enter 4 digit number\"))\n",
        "\n",
        "if  1000 <= num < 100000:\n",
        "  orig = num\n",
        "  power = len(str(num))\n",
        "  sum_of_digit = 0\n",
        "\n",
        "  while num!=0:\n",
        "     digit = num%10\n",
        "     sum_of_digit += digit**4\n",
        "     num = num//10\n",
        "\n",
        "  if orig==sum_of_digit:\n",
        "     print(\"armstrong number\")\n",
        "  else:\n",
        "     print(\"not an armstrong number\")\n",
        "else:\n",
        "   print(\"invalid number! number should be 4 digit only\")"
      ],
      "metadata": {
        "colab": {
          "base_uri": "https://localhost:8080/"
        },
        "id": "y1Smzlz8d26F",
        "outputId": "510ed368-ee1a-47fa-d666-fd934aecc7d8"
      },
      "execution_count": null,
      "outputs": [
        {
          "output_type": "stream",
          "name": "stdout",
          "text": [
            "enter 4 digit number1634\n",
            "armstrong number\n"
          ]
        }
      ]
    },
    {
      "cell_type": "code",
      "source": [
        "#20 Write a program that will give you the in hand salary after deduction of HRA(10%),DA(5%),PF(3%), and\n",
        "#tax(if salary is between 5-10 lakh–10%),(11-20lakh–20%),(20< _   – 30%)(0-1lakh print k).\n",
        "#mathematically\n",
        "\"\"\"Gross Salary = G\n",
        "HRA Deduction: HRA = 0.10 * G\n",
        "DA Deduction: DA = 0.05 * G\n",
        "PF Deduction: PF = 0.03 * G\n",
        "Taxable Income: Taxable Income = G - (HRA + DA + PF)\n",
        "Calculate Income Tax based on Taxable Income:\n",
        "if Taxable Income is between 5 lakh and 10 lakh, Income Tax = 0.10 * Taxable Income\n",
        "If Taxable Income is between 11 lakh and 20 lakh, Income Tax = 0.20 * Taxable Income\n",
        "If Taxable Income is greater than 20 lakh, Income Tax = 0.30 * Taxable Income\n",
        "In-Hand Salary: In-Hand Salary = G - (HRA + DA + PF + Income Tax)\n",
        "\"\"\""
      ],
      "metadata": {
        "id": "V1jCPSNKlpqj"
      },
      "execution_count": null,
      "outputs": []
    },
    {
      "cell_type": "code",
      "source": [
        "G = float(input(\"enter gross salary\"))       # before any deductions or taxes are taken out.\n",
        "HRA = 0.10*G\n",
        "DA = 0.05*G                                     #0.5 (50%), 0.05 (5%)\n",
        "PF = 0.03*G\n",
        "texable_income = G - (HRA+DA+PF)    #the income on which the individual is required to pay taxes to the government.\n",
        "if  5<= texable_income <= 10:\n",
        "   Net_Salary = texable_income*0.10  #actual amount an employee receives in their bank account after all deductions (such as taxes, provident fund contributions, and other deductions)\n",
        "elif  11<= texable_income <= 20 :\n",
        "   Net_Salary = texable_income*0.20\n",
        "else:\n",
        "   Net_Salary = 0.30*texable_income\n",
        "\n",
        "print(\"net salery\",Net_Salary)"
      ],
      "metadata": {
        "colab": {
          "base_uri": "https://localhost:8080/"
        },
        "id": "6dyJMrcIow_c",
        "outputId": "1e2a02e1-ebc6-4f5f-d0e3-cf39c0b3b3cf"
      },
      "execution_count": null,
      "outputs": [
        {
          "output_type": "stream",
          "name": "stdout",
          "text": [
            "enter gross salary800000\n",
            "net salery 196800.0\n"
          ]
        }
      ]
    },
    {
      "cell_type": "code",
      "source": [
        "G = float(input(\"Enter gross salary: \"))\n",
        "\n",
        "# Calculate deductions\n",
        "HRA = 0.10 * G\n",
        "DA = 0.05 * G\n",
        "PF = 0.03 * G\n",
        "\n",
        "# Calculate taxable income\n",
        "taxable_income = (G - (HRA + DA + PF))\n",
        "\n",
        "# Calculate income tax based on tax slabs\n",
        "if 500000 <= taxable_income <= 1000000:\n",
        "    Net_Salary1 = taxable_income * 0.10\n",
        "elif 1100000 <= taxable_income <= 2000000:\n",
        "    Net_Salary1 = taxable_income * 0.20\n",
        "else:\n",
        "    Net_Salary1 = taxable_income * 0.30\n",
        "\n",
        "\n",
        "if Net_Salary1 <= 999:\n",
        "  print(Net_Salary)\n",
        "elif 1000 <= Net_Salary <= 9999:\n",
        "  print(Net_Salary//10,\"k\")\n",
        "elif 100000 <= Net_Salary <= 9999999:\n",
        "  print(Net_Salary//10000,'l')\n",
        "else:\n",
        "  print(Net_Salary//10000000,'Cr')\n",
        "\n",
        "monthly_salery = Net_Salary\n",
        "print(\"monthly salery\",monthly_salery)\n",
        "# Print the result\n",
        "\n",
        "print(\"Net Salary (In-Hand Salary):\", Net_Salary)\n",
        "\n",
        "\n",
        "#confsing"
      ],
      "metadata": {
        "colab": {
          "base_uri": "https://localhost:8080/"
        },
        "id": "bCb_ZJpBsbad",
        "outputId": "8ccc53b4-7597-4201-a754-b43d64f28fa0"
      },
      "execution_count": null,
      "outputs": [
        {
          "output_type": "stream",
          "name": "stdout",
          "text": [
            "Enter gross salary: 600000000\n",
            "1.0 Cr\n",
            "monthly salery 12300000.0\n",
            "Net Salary (In-Hand Salary): 12300000.0\n"
          ]
        }
      ]
    },
    {
      "cell_type": "code",
      "source": [],
      "metadata": {
        "id": "qu7mv5oGx4_1"
      },
      "execution_count": null,
      "outputs": []
    }
  ]
}