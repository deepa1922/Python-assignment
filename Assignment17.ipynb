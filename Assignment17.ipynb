{
  "cells": [
    {
      "cell_type": "code",
      "source": [
        "#Q1. What is an API? Give an example, where an API is used in real life.\n",
        "'''APIs are mechanisms that enable two software components to communicate with each other using a set of definitions and protocols.\n",
        "For example, the weather bureau's software system contains daily weather data. The weather app on your phone “talks” to this system via\n",
        " APIs and shows you daily weather updates on your phone.\n",
        "\n",
        " example:- Google map + Uber\n",
        "Google Maps is using Uber’s API to request information by sending a HTTP request function with the start and end points of the ride.\n",
        "Uber’s API then sends information back such as how many cars are available, where are they currently located,\n",
        " and the costs for the various ride options.\n",
        "This information is then processed by Google Maps and is available to the user directly linking them the the Uber app if it is previously downloaded."
      ],
      "metadata": {
        "id": "cTKkH0WcwzEO"
      },
      "id": "cTKkH0WcwzEO",
      "execution_count": null,
      "outputs": []
    },
    {
      "cell_type": "code",
      "source": [
        "#Q2. Give advantages and disadvantages of using API.\n",
        "#Advantages of using APIs:\n",
        "'''\n",
        "1-Integration: APIs allow different software applications to communicate and \n",
        "exchange data with each other, making it easier to integrate different systems\n",
        "and components.\n",
        "\n",
        "2-Efficiency: APIs can streamline workflows and reduce the amount of manual work\n",
        "required to perform tasks. This can improve efficiency and productivity.\n",
        "\n",
        "3-Customization: APIs can be customized to meet specific needs, allowing developers \n",
        "to create unique and tailored applications.\n",
        "\n",
        "4-Scalability: APIs can be used to build scalable applications that can handle large \n",
        "amounts of data and traffic.\n",
        "\n",
        "5-Innovation: APIs can be used to create new applications and services, enabling\n",
        "innovation and new business opportunities.'''\n",
        "\n",
        "#Disadvantages of using APIs:\n",
        "\n",
        "'''1-Complexity: APIs can be complex to develop and integrate, requiring \n",
        "specialized skills and expertise.\n",
        "\n",
        "2-Security: APIs can be a security risk if not implemented properly. \n",
        "Developers must ensure that proper security measures are in place to\n",
        "protect data and prevent unauthorized access.\n",
        "\n",
        "3-Dependence: Applications that rely heavily on third-party APIs can become\n",
        "dependent on them, making it difficult to switch to alternative solutions if needed.\n",
        "\n",
        "4-Stability: APIs can change over time, requiring developers to update their\n",
        "applications to maintain compatibility.\n",
        "\n",
        "5-Cost: Some APIs may require payment or subscription fees, which can be a \n",
        "barrier to entry for smaller businesses or developers.'''"
      ],
      "metadata": {
        "id": "9JAkDvNXxqih"
      },
      "id": "9JAkDvNXxqih",
      "execution_count": null,
      "outputs": []
    },
    {
      "cell_type": "code",
      "source": [
        "#Q3. What is a Web API? Differentiate between API and Web API.\n",
        "'''A web API, also known as a web service, is an API that is \n",
        "accessed over the internet through HTTP(S) protocols. A web \n",
        "API provides a way for web-based applications to interact with and\n",
        "retrieve data from a server-side application or service. The most common\n",
        "types of web APIs are RESTful APIs.\n",
        "\n",
        "API, on the other hand, is a general term that encompasses any type of\n",
        "programming interface, whether it is accessed locally or over the internet. \n",
        "APIs can be accessed through various means, such as operating system calls,\n",
        "libraries, or remote procedure calls.\n",
        "\n",
        "Here are some key differences between APIs and web APIs:\n",
        "\n",
        "1-Transport protocol: APIs can be accessed over a variety of transport protocols, \n",
        "such as local function calls or messaging systems, whereas web APIs are accessed\n",
        "over the HTTP(S) protocol.\n",
        "\n",
        "2-Data format: APIs can use any type of data format for communication, whereas web \n",
        "APIs typically use JSON or XML for data exchange.\n",
        "\n",
        "3-Access: APIs can be accessed both locally and over the internet, whereas web APIs\n",
        "can only be accessed over the internet.\n",
        "\n",
        "4-Usage: APIs are used by any kind of software application or system, whereas web APIs\n",
        "are specifically designed for web-based applications.\n",
        "\n",
        "5-Security: Web APIs must be secured over the internet to prevent unauthorized access,\n",
        "whereas APIs used internally do not need to be secured to the same extent.\n",
        "\n",
        "In summary, while all web APIs are APIs, not all APIs are web APIs. Web APIs are a \n",
        "specific type of API that is used to provide web-based applications with access to \n",
        "server-side data and functionality over the internet.'''"
      ],
      "metadata": {
        "id": "crf9cRqvyYUS"
      },
      "id": "crf9cRqvyYUS",
      "execution_count": null,
      "outputs": []
    },
    {
      "cell_type": "code",
      "source": [
        "#Q4. Explain REST and SOAP Architecture. Mention shortcomings of SOAP.\n",
        "'''REST (Representational State Transfer) and SOAP (Simple Object Access Protocol)\n",
        "are two popular architectural styles used in building web services.\n",
        "Here's a brief explanation of each:\n",
        "\n",
        "REST Architecture:\n",
        "\n",
        "REST is an architectural style for building web services that use the HTTP\n",
        "protocol to provide data access. It is a lightweight, flexible and scalable\n",
        "architecture that is widely adopted by modern web services. RESTful services \n",
        "are designed around resources and provide CRUD (Create, Read, Update, Delete)\n",
        "operations through simple HTTP methods such as GET, POST, PUT and DELETE.\n",
        "\n",
        "RESTful services also rely on the use of URIs (Uniform Resource Identifiers) \n",
        "to identify resources, and they use a variety of data formats for communication,\n",
        "including JSON and XML. RESTful services are known for their simplicity, scalability,\n",
        "and ease of use.\n",
        "\n",
        "SOAP Architecture:\n",
        "\n",
        "SOAP is a messaging protocol used in web services that rely on XML for communication.\n",
        "It is a complex, heavyweight and rigid architecture that has been around for many years.\n",
        "SOAP is designed around the use of a formal contract or specification called a WSDL \n",
        "(Web Services Description Language) that defines the operations, parameters, and data\n",
        "types used by the service.\n",
        "\n",
        "SOAP services provide a set of standardized operations that can be used by any \n",
        "\n",
        "client application that understands the WSDL. It uses a wide variety of protocols \n",
        "for communication, including HTTP, SMTP and FTP. SOAP services are known for their\n",
        "robustness and ability to handle complex transactions.\n",
        "\n",
        "Shortcomings of SOAP:\n",
        "\n",
        "SOAP has several disadvantages, including:\n",
        "\n",
        "1-Complexity: SOAP is a complex architecture that can be difficult to use and understand, \n",
        "especially for developers who are new to web services.\n",
        "\n",
        "2-Overhead: SOAP requires a lot of additional XML data for each message, which can \n",
        "increase network traffic and slow down performance.\n",
        "\n",
        "3-Speed: SOAP can be slow, especially compared to RESTful services, which use simpler\n",
        "protocols and data formats.\n",
        "\n",
        "4-Compatibility: SOAP can be incompatible with some systems and platforms, especially \n",
        "those that use non-XML data formats.\n",
        "\n",
        "5-Security: SOAP requires a lot of overhead for security features, which can make it \n",
        "difficult to secure services properly.\n",
        "\n"
      ],
      "metadata": {
        "id": "mN-NQJ8ny6ZX"
      },
      "id": "mN-NQJ8ny6ZX",
      "execution_count": null,
      "outputs": []
    },
    {
      "cell_type": "code",
      "source": [
        "#Q5. Differentiate between REST and SOAP.\n",
        "'''Relies on SOAP (Simple Object Access Protocol)\n",
        "\n",
        "Relies on REST (Representational State Transfer) architecture using HTTP.\n",
        "\n",
        "Transports data in standard XML format.\n",
        "\n",
        "Generally transports data in JSON. It is based on URI. Because REST follows stateless model,\n",
        " REST does not enforces message format as XML or JSON etc.\n",
        "\n",
        "Because it is XML based and relies on SOAP, it works with WSDL\n",
        "\n",
        "It works with GET, POST, PUT, DELETE\n",
        "'''\n"
      ],
      "metadata": {
        "id": "sIg5wt91zk3d"
      },
      "id": "sIg5wt91zk3d",
      "execution_count": null,
      "outputs": []
    }
  ],
  "metadata": {
    "kernelspec": {
      "display_name": "Python 3",
      "name": "python3"
    },
    "language_info": {
      "name": "python"
    },
    "colab": {
      "provenance": []
    }
  },
  "nbformat": 4,
  "nbformat_minor": 5
}