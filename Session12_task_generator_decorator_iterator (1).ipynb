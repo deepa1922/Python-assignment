{
  "nbformat": 4,
  "nbformat_minor": 0,
  "metadata": {
    "colab": {
      "provenance": []
    },
    "kernelspec": {
      "name": "python3",
      "display_name": "Python 3"
    },
    "language_info": {
      "name": "python"
    }
  },
  "cells": [
    {
      "cell_type": "markdown",
      "source": [
        "## Namespace and Scope"
      ],
      "metadata": {
        "id": "hM8V4LxHKV6x"
      }
    },
    {
      "cell_type": "markdown",
      "source": [
        "###`Q1:` Write `Person` Class as given below and then display it's namespace.\n",
        "\n"
      ],
      "metadata": {
        "id": "Kl3s2TonKYgY"
      }
    },
    {
      "cell_type": "markdown",
      "source": [
        "```\n",
        "Class Name - Person\n",
        "\n",
        "Attributes:\n",
        "name - public\n",
        "state - public\n",
        "city - private\n",
        "age - private\n",
        "\n",
        "Methods:\n",
        "address - public\n",
        "It give address of the person as \"<name>, <city>, <state>\"\n",
        "```"
      ],
      "metadata": {
        "id": "grudG97hL83C"
      }
    },
    {
      "cell_type": "code",
      "source": [
        "class Person:\n",
        "  def __init__(self,name,state):\n",
        "      self.name = name\n",
        "      self.state = state\n",
        "      self.__city = None\n",
        "      self.__age = None\n",
        "  def set_city(self,city):\n",
        "       self.__city = city\n",
        "  def get_city(self):\n",
        "      return self.__city\n",
        "  def set_age(self,age):\n",
        "     self.__age = age\n",
        "  def get_age(self):\n",
        "    return self.__age\n",
        "  def adress(self):\n",
        "     return f\"<{self.name}>,<{self.state}>,<{self.__city}>\""
      ],
      "metadata": {
        "id": "BRq-I4jmKX0U"
      },
      "execution_count": null,
      "outputs": []
    },
    {
      "cell_type": "code",
      "source": [
        "#1st way: # Displaying the namespace of the Person class using Person.__dict__\n",
        "for i in vars(Person):\n",
        "  print(i)"
      ],
      "metadata": {
        "id": "6CSEw2aW5P2L",
        "outputId": "a8fe1a2f-13bf-4de3-b633-4ed759cd81d2",
        "colab": {
          "base_uri": "https://localhost:8080/"
        }
      },
      "execution_count": null,
      "outputs": [
        {
          "output_type": "stream",
          "name": "stdout",
          "text": [
            "__module__\n",
            "__init__\n",
            "set_city\n",
            "get_city\n",
            "set_age\n",
            "get_age\n",
            "adress\n",
            "__dict__\n",
            "__weakref__\n",
            "__doc__\n"
          ]
        }
      ]
    },
    {
      "cell_type": "code",
      "source": [
        "# Displaying the namespace of the Person class using vars()\n",
        "for i in Person.__dict__:\n",
        "  print(i)"
      ],
      "metadata": {
        "id": "8XD7YgT-L_ZU",
        "outputId": "25c2f17b-28fd-48b3-9895-ecd2ed0b7f51",
        "colab": {
          "base_uri": "https://localhost:8080/"
        }
      },
      "execution_count": null,
      "outputs": [
        {
          "output_type": "stream",
          "name": "stdout",
          "text": [
            "__module__\n",
            "__init__\n",
            "set_city\n",
            "get_city\n",
            "set_age\n",
            "get_age\n",
            "adress\n",
            "__dict__\n",
            "__weakref__\n",
            "__doc__\n"
          ]
        }
      ]
    },
    {
      "cell_type": "markdown",
      "source": [
        "###`Q2:` Write a program to show namespace of object/instance of above(Person) class."
      ],
      "metadata": {
        "id": "NLtOPOXDL_zB"
      }
    },
    {
      "cell_type": "code",
      "source": [
        "p=Person(\"fika\",\"London\")\n",
        "p.set_age(23)\n",
        "p.set_city(\"kolkata\")\n",
        "print(\"adress\",p.adress())\n",
        "for i in p.__dict__:\n",
        "  print(i)\n"
      ],
      "metadata": {
        "id": "w3fj9tf0MJ3Z",
        "outputId": "a3d4f6d4-43ab-406d-8899-ae50b86b3d7f",
        "colab": {
          "base_uri": "https://localhost:8080/"
        }
      },
      "execution_count": null,
      "outputs": [
        {
          "output_type": "stream",
          "name": "stdout",
          "text": [
            "adress <fika>,<London>,<kolkata>\n",
            "name\n",
            "state\n",
            "_Person__city\n",
            "_Person__age\n"
          ]
        }
      ]
    },
    {
      "cell_type": "markdown",
      "source": [
        "###`Q3:` Write a recursive program to to calculate `gcd` and print no. of function calls taken to find the solution.\n",
        "```\n",
        "gcd(5,10) -> result in 5 as gcd and function call 4\n",
        "```"
      ],
      "metadata": {
        "id": "rRnCZmlUY8sn"
      }
    },
    {
      "cell_type": "code",
      "source": [
        "counter = 1\n",
        "def gcd(a,b):\n",
        "  global counter\n",
        "  counter += 1\n",
        "  if b == 0:\n",
        "    return a\n",
        "  else:\n",
        "    return gcd(b,a%b)\n",
        "print(\"gcd\",gcd(5,10),\"function call\",counter)"
      ],
      "metadata": {
        "id": "jYiVzxhUZRln",
        "colab": {
          "base_uri": "https://localhost:8080/"
        },
        "outputId": "4968ac73-11d6-4eb8-f7fa-a582ef9c188f"
      },
      "execution_count": null,
      "outputs": [
        {
          "output_type": "stream",
          "name": "stdout",
          "text": [
            "gcd 5 function call 4\n"
          ]
        }
      ]
    },
    {
      "cell_type": "markdown",
      "source": [
        "## Itterator And Generator"
      ],
      "metadata": {
        "id": "FbDepR9QNGnh"
      }
    },
    {
      "cell_type": "markdown",
      "source": [
        "###`Q4:` Create MyEnumerate class,\n",
        "Create your own `MyEnumerate` class such that someone can use it instead of enumerate. It will need to return a `tuple` with each iteration, with the first element in the tuple being the `index` (starting with 0) and the second element being the `current element` from the underlying data structure. Trying to use `MyEnumerate` with a noniterable argument will result in an error.\n",
        "\n",
        "```\n",
        "for index, letter in MyEnumerate('abc'):\n",
        "    print(f'{index} : {letter}')\n",
        "```\n",
        "\n",
        "Output:\n",
        "```\n",
        "0 : a\n",
        "1 : b\n",
        "2 : c\n",
        "```"
      ],
      "metadata": {
        "id": "Nj5WaR_4NJTu"
      }
    },
    {
      "cell_type": "code",
      "source": [
        "class  MyEnumerate:\n",
        "  def __init__(self,iterable):\n",
        "     self.iterable = iterable\n",
        "     self.index = 0\n",
        "  def __iter__(self):\n",
        "     return self\n",
        "  def __next__(self):\n",
        "    if self.index >= len(self.iterable):\n",
        "      raise StopIteration\n",
        "    value = (self.index,self.iterable[self.index])\n",
        "    self.index += 1\n",
        "    return value\n",
        "for index, letter in MyEnumerate('abc'):\n",
        "    print(f'{index} : {letter}')"
      ],
      "metadata": {
        "id": "6zjcm2gxNbfJ",
        "colab": {
          "base_uri": "https://localhost:8080/"
        },
        "outputId": "ff0e0a70-258a-4f85-c912-6c334e39a847"
      },
      "execution_count": null,
      "outputs": [
        {
          "output_type": "stream",
          "name": "stdout",
          "text": [
            "0 : a\n",
            "1 : b\n",
            "2 : c\n"
          ]
        }
      ]
    },
    {
      "cell_type": "code",
      "source": [
        "#2nd way\n",
        "class MyEnumerate:\n",
        "  def __init__(self,iterable):\n",
        "      self.iterable = iterable\n",
        "      self.index = 0\n",
        "  def __iter__(self):\n",
        "    return self\n",
        "  def __next__(self):\n",
        "     if self.index < len(self.iterable):\n",
        "        index = self.index\n",
        "        element = self.iterable[self.index]\n",
        "        self.index += 1\n",
        "        return (index,element)\n",
        "     else:\n",
        "        raise StopIteration\n",
        "for index, letter in MyEnumerate('abc'):\n",
        "    print(f'{index} : {letter}')"
      ],
      "metadata": {
        "colab": {
          "base_uri": "https://localhost:8080/"
        },
        "id": "m_gdOG4ANkVN",
        "outputId": "a1271422-1a71-45f8-de05-5346ddd72f8c"
      },
      "execution_count": null,
      "outputs": [
        {
          "output_type": "stream",
          "name": "stdout",
          "text": [
            "0 : a\n",
            "1 : b\n",
            "2 : c\n"
          ]
        }
      ]
    },
    {
      "cell_type": "markdown",
      "source": [
        "###`Q5:` Iterate in circle\n",
        "Define a class, `Circle`, that takes two arguments when defined: a sequence and a number. The idea is that the object will then return elements the defined number of times. If the number is greater than the number of elements, then the sequence  repeats as necessary. You can define an another class used as a helper (like I call `CircleIterator`).\n",
        "\n",
        "```\n",
        "c = Circle('abc', 5)\n",
        "d = Circle('abc', 7)\n",
        "print(list(c))\n",
        "print(list(d))\n",
        "```\n",
        "\n",
        "Output\n",
        "```\n",
        "[a, b, c, a, b]\n",
        "[a, b, c, a, b, c, a]\n",
        "```"
      ],
      "metadata": {
        "id": "U2Ai7rVDOLBw"
      }
    },
    {
      "cell_type": "code",
      "source": [
        "\n",
        "class Circle:\n",
        "  def __init__(self,data,max_iters):\n",
        "     self.data = data\n",
        "     self.index = 0\n",
        "     self.max_iters = max_iters\n",
        "\n",
        "  def __iter__(self):\n",
        "     return self\n",
        "\n",
        "  def __next__(self):\n",
        "     if self.index <= self.max_iters:\n",
        "        value = self.data[self.index % len(self.data)]\n",
        "        self.index+=1\n",
        "        return value\n",
        "     else:\n",
        "      raise StopIteration\n"
      ],
      "metadata": {
        "id": "iwcTy1HyO5hs"
      },
      "execution_count": null,
      "outputs": []
    },
    {
      "cell_type": "code",
      "source": [
        "c = Circle('abc', 5)\n",
        "d = Circle('abc', 7)\n",
        "print(list(c))\n",
        "print(list(d))"
      ],
      "metadata": {
        "colab": {
          "base_uri": "https://localhost:8080/"
        },
        "id": "wZlcmTt7PHLm",
        "outputId": "36f23494-cc36-4fbb-f5d0-3a9cb3ad4252"
      },
      "execution_count": null,
      "outputs": [
        {
          "output_type": "stream",
          "name": "stdout",
          "text": [
            "['a', 'b', 'c', 'a', 'b', 'c']\n",
            "['a', 'b', 'c', 'a', 'b', 'c', 'a', 'b']\n"
          ]
        }
      ]
    },
    {
      "cell_type": "markdown",
      "source": [
        "###`Q6:` Generator time elapsed\n",
        "Write a generator function whose argument must be iterable. With each iteration, the generator will return a two-element tuple. The first element in the tuple will be an integer indicating how many seconds have passed since the previous iteration. The tuple’s second element will be the next item from the passed argument.\n",
        "\n",
        "Note that the timing should be relative to the previous iteration, not when the\n",
        "generator was first created or invoked. Thus the timing number in the first iteration\n",
        "will be 0\n",
        "\n",
        "```\n",
        "for t in elapsed_since('abcd'):\n",
        "    print(t)\n",
        "    time.sleep(2)\n",
        "```\n",
        "\n",
        "Output:\n",
        "```\n",
        "(0.0, 'a')\n",
        "(2.005651817999933, 'b')\n",
        "(2.0023095009998997, 'c')\n",
        "(2.001949742000079, 'd')\n",
        "```\n",
        "Note: Your output may differ because of diffrent system has different processing configuration."
      ],
      "metadata": {
        "id": "17KyhciKQnAE"
      }
    },
    {
      "cell_type": "code",
      "source": [
        "import time\n",
        "def elapsed_since(iterable):\n",
        "  start_time = time.time()\n",
        "  for item in iterable:\n",
        "      current_time = time.time()\n",
        "      elapsed_time = current_time - start_time\n",
        "      start_time = current_time\n",
        "      yield elapsed_time,item\n",
        "\n",
        "\n",
        "for t in elapsed_since('abcd'):\n",
        "    print(t)\n",
        "    time.sleep(2)"
      ],
      "metadata": {
        "colab": {
          "base_uri": "https://localhost:8080/"
        },
        "id": "xzutzZvBBXIp",
        "outputId": "49dcddde-ec49-4790-b01b-dae14fd3c29f"
      },
      "execution_count": null,
      "outputs": [
        {
          "output_type": "stream",
          "name": "stdout",
          "text": [
            "(1.1920928955078125e-06, 'a')\n",
            "(2.002284526824951, 'b')\n",
            "(2.003340244293213, 'c')\n",
            "(2.0023748874664307, 'd')\n"
          ]
        }
      ]
    },
    {
      "cell_type": "markdown",
      "source": [
        "## Decorators"
      ],
      "metadata": {
        "id": "fXr3OJxJSC1j"
      }
    },
    {
      "cell_type": "markdown",
      "source": [
        "###`Q7:` Write a Python program to make a chain of function decorators (bold, italic, underline etc.) on a given function which prints \"hello world\"\n",
        "\n",
        "```\n",
        "def hello():\n",
        "    return \"hello world\"\n",
        "```\n",
        "\n",
        "```\n",
        "bold - wrap string with <b> tag. <b>Str</b>\n",
        "italic - wrap string with <i> tag. <i>Str</i>\n",
        "underline- wrap string with <u> tag. <u>Str</u>\n",
        "```"
      ],
      "metadata": {
        "id": "xSjvwAt-SFhi"
      }
    },
    {
      "cell_type": "code",
      "source": [
        "def bold_decorator(func):\n",
        "   def wrapper():\n",
        "       return f\"<b>\"+func()+\"</b>\"\n",
        "   return wrapper\n",
        "\n",
        "def italic_decorator(func):\n",
        "   def wrapper():\n",
        "       return f\"<i>\"+func()+\"</i>\"\n",
        "   return wrapper\n",
        "def underline_decorator(func):\n",
        "  def wrapper():\n",
        "      return f\"<u>\"+func()+\"</u>\"\n",
        "  return wrapper\n",
        "@bold_decorator\n",
        "@italic_decorator\n",
        "@underline_decorator\n",
        "def display():\n",
        "  return \"hello world\"\n",
        "\n",
        "print(display())"
      ],
      "metadata": {
        "id": "prVeZGYlSorr",
        "colab": {
          "base_uri": "https://localhost:8080/"
        },
        "outputId": "bd89e4ee-5847-47b4-9fda-be06870e7611"
      },
      "execution_count": null,
      "outputs": [
        {
          "output_type": "stream",
          "name": "stdout",
          "text": [
            "<b><i><u>hello world</u></i></b>\n"
          ]
        }
      ]
    },
    {
      "cell_type": "markdown",
      "source": [
        "###`Q8:` Write a decorator called `printer` which causes any decorated function to print their return values. If the return value of a given function is `None`, printer should do nothing.\n",
        "\n"
      ],
      "metadata": {
        "id": "miKBwPy4TQWa"
      }
    },
    {
      "cell_type": "code",
      "source": [
        "def printer(func):\n",
        "  def wraper(*args,**kwargs):\n",
        "    result = func(*args,**kwargs)\n",
        "    if result is None:\n",
        "      return None\n",
        "\n",
        "    print(result)\n",
        "    return result\n",
        "  return wraper\n",
        "\n",
        "\n",
        "@printer\n",
        "def add(a,b):\n",
        "  return a+b"
      ],
      "metadata": {
        "id": "05s0poRoT9II"
      },
      "execution_count": null,
      "outputs": []
    },
    {
      "cell_type": "code",
      "source": [
        "print(add(4,6))"
      ],
      "metadata": {
        "colab": {
          "base_uri": "https://localhost:8080/"
        },
        "id": "U86ZE73WT-ux",
        "outputId": "27bcdc12-1665-475b-ef7f-f54730f26c87"
      },
      "execution_count": null,
      "outputs": [
        {
          "output_type": "stream",
          "name": "stdout",
          "text": [
            "10\n"
          ]
        }
      ]
    },
    {
      "cell_type": "markdown",
      "source": [
        "###`Q9:` Make a decorator which calls a given function twice. You can assume the functions don't return anything important, but they may take arguments.\n",
        "```\n",
        "#Lets say given function\n",
        "def hello(string):\n",
        "    print(string)\n",
        "\n",
        "#on calling after specified decorator is inplaced\n",
        "hello('hello')\n",
        "```\n",
        "\n",
        "Output:\n",
        "```\n",
        "hello\n",
        "hello\n",
        "```"
      ],
      "metadata": {
        "id": "DWJLjPOnURua"
      }
    },
    {
      "cell_type": "code",
      "source": [
        "def double(func):\n",
        "  def wraper(*args,**kwargs):\n",
        "      func(*args,**kwargs)\n",
        "      func(*args,**kwargs)\n",
        "  return wraper\n",
        "@double\n",
        "def hello(string):\n",
        "    print(string)"
      ],
      "metadata": {
        "id": "e38y0cz7UTdD"
      },
      "execution_count": null,
      "outputs": []
    },
    {
      "cell_type": "code",
      "source": [
        "hello(\"hello\")"
      ],
      "metadata": {
        "colab": {
          "base_uri": "https://localhost:8080/"
        },
        "id": "6uLp_cHcUVXR",
        "outputId": "6bbde624-d6db-40ef-9cdb-10e3dafe1f57"
      },
      "execution_count": null,
      "outputs": [
        {
          "output_type": "stream",
          "name": "stdout",
          "text": [
            "hello\n",
            "hello\n"
          ]
        }
      ]
    },
    {
      "cell_type": "markdown",
      "source": [
        "### `Q10:` Write a decorator which doubles the return value of any function. And test that decoratos is working correctly or not using `asert`.\n",
        "\n",
        "```\n",
        "add(2,3) -> result in 10. Without decorator it should be 5.\n",
        "```"
      ],
      "metadata": {
        "id": "8btcQI9pWi2w"
      }
    },
    {
      "cell_type": "code",
      "source": [
        "def double_return(func):\n",
        "  def wraper(*args,**kwargs):\n",
        "      result = func(*args,**kwargs)\n",
        "      print(result*2)\n",
        "      return result*2\n",
        "  return wraper\n",
        "@double_return\n",
        "def add_with_double(a,b):\n",
        "  return a+b\n",
        "\n",
        "def add(a,b):\n",
        "  return a+b\n",
        "\n",
        "a=2\n",
        "b=3\n",
        "assert add(a,b)*2 == add_with_double(a,b), \"value are not matching\"\n",
        "print(\"value are matching\")\n"
      ],
      "metadata": {
        "id": "nG6S_zQ9XFb3",
        "colab": {
          "base_uri": "https://localhost:8080/"
        },
        "outputId": "bf3b3b8b-4be3-4b6f-c272-3df1d441605e"
      },
      "execution_count": null,
      "outputs": [
        {
          "output_type": "stream",
          "name": "stdout",
          "text": [
            "10\n",
            "value are matching\n"
          ]
        }
      ]
    },
    {
      "cell_type": "code",
      "source": [],
      "metadata": {
        "id": "s16-A_RpXp2K"
      },
      "execution_count": null,
      "outputs": []
    }
  ]
}