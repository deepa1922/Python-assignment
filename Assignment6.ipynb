{
  "cells": [
    {
      "cell_type": "code",
      "source": [
        "#Q1. Explain Class and Object with respect to Object-Oriented Programming. Give a suitable example.\n",
        "#class\n",
        "\"\"\"A class is considered as a blueprint of objects. We can think of the class as a sketch \n",
        "(prototype) of a house. It contains all the details about the floors, doors, windows, \n",
        "etc. Based on these descriptions we build the house. House is the object.\n",
        "Since many houses can be made from the same description,\n",
        "we can create many objects from a class.\"\"\"\n",
        "#object:\n",
        "\"\"\"An object is called an instance of a class. For example, suppose Bike is \n",
        "a class then we can create objects like bike1, bike2, etc from the class.\"\"\"\n",
        "#Example\n",
        "\n",
        "class student_Detail :\n",
        "      def __init__(self,student_name, course,joined):\n",
        "          self.student_name1 = student_name\n",
        "          self.course1 = course\n",
        "          self.joined1 = joined\n",
        "      def  return_student_detail(self):\n",
        "           return self.student_name1,self.course1,self.joined1\n",
        " \n"
      ],
      "metadata": {
        "id": "h5yW_HUaB-ZS"
      },
      "id": "h5yW_HUaB-ZS",
      "execution_count": 34,
      "outputs": []
    },
    {
      "cell_type": "code",
      "source": [
        "information = student_Detail(\"sam\",\"data science master\",\"jan31\")"
      ],
      "metadata": {
        "id": "A85YIIGXdySN"
      },
      "id": "A85YIIGXdySN",
      "execution_count": 35,
      "outputs": []
    },
    {
      "cell_type": "code",
      "source": [
        "information.student_name1"
      ],
      "metadata": {
        "colab": {
          "base_uri": "https://localhost:8080/",
          "height": 35
        },
        "id": "qNsb5FJudyhe",
        "outputId": "acca918f-21d3-46c0-cc81-68b6b996558e"
      },
      "id": "qNsb5FJudyhe",
      "execution_count": 36,
      "outputs": [
        {
          "output_type": "execute_result",
          "data": {
            "text/plain": [
              "'sam'"
            ],
            "application/vnd.google.colaboratory.intrinsic+json": {
              "type": "string"
            }
          },
          "metadata": {},
          "execution_count": 36
        }
      ]
    },
    {
      "cell_type": "code",
      "source": [
        "#QUESTION 2:-Name the four pillars of OOPs.\n",
        "\"Inheritance\"\n",
        "\"Polymorphism\"\n",
        "\"Encapsulation\" \n",
        "\"Abstraction\""
      ],
      "metadata": {
        "id": "nrGIN7vBdy4f"
      },
      "id": "nrGIN7vBdy4f",
      "execution_count": null,
      "outputs": []
    },
    {
      "cell_type": "code",
      "source": [
        "#QUESTION 3:- Explain why the __init__() function is used. Give a suitable example.\n",
        "#ANS:\n",
        "##__init()__ function is used to initialize the attributes of an object as soon as the object is formed.\n",
        "## __init__ function is used to make constructor of the class\n",
        "# A constructor is a special method that is automatically called when an object of a class is created.\n",
        "\n",
        "#EXAMPLE:-\n",
        "class marks:\n",
        "    def __init__(self,m,s):\n",
        "        self.math = m\n",
        "        self.science = s\n",
        "\n",
        "c1 = marks(90,85)\n",
        "print(c1.math)\n",
        "print(c1.science)"
      ],
      "metadata": {
        "colab": {
          "base_uri": "https://localhost:8080/"
        },
        "id": "WkSrOyhLdzBz",
        "outputId": "1e473fe5-1e5f-40ca-d6a9-1c6c41b659a9"
      },
      "id": "WkSrOyhLdzBz",
      "execution_count": 38,
      "outputs": [
        {
          "output_type": "stream",
          "name": "stdout",
          "text": [
            "90\n",
            "85\n"
          ]
        }
      ]
    },
    {
      "cell_type": "code",
      "source": [
        "#QUESTION 4:-Why self is used in OOPs?\n",
        "\"\"\"The self parameter is a reference to the current instance of the class, \n",
        "and is used to access variables that belongs to the class.\n",
        "It does not have to be named self , you can call it whatever you like, \n",
        "but it has to be the first parameter of any function in the class:\"\"\""
      ],
      "metadata": {
        "id": "sLT3N5c1KlqX"
      },
      "id": "sLT3N5c1KlqX",
      "execution_count": null,
      "outputs": []
    },
    {
      "cell_type": "code",
      "source": [
        "#QUESTION 5:-What is inheritance? Give an example for each type of inheritance.\n",
        "\"\"\"Inheritance is one of the most important aspects of Object Oriented Programming (OOP). \n",
        "The key to understanding Inheritance is that it provides code re-usability. \n",
        "In place of writing the same code, again and again, we can simply inherit the properties of one class into the other.\n",
        "\n",
        "Types of Inheritance:\n",
        "\n",
        "1. Single Inheritance\n",
        "2. Multiple Inheritance\n",
        "3. Multilevel Inheritance \n",
        "4. Hierarchical Inheritance\n",
        "5. Hybrid Inheritance:\"\"\"\n",
        "\n",
        "#1 Simple inheritance:- which contain only 1 parent class and 1 child class.\n",
        "#example:-\n",
        "class A:\n",
        "  num1 = int(input(\"enter first number:\"))\n",
        "  num2 = int(input(\"enter second number:\"))\n",
        "  def Add(self):\n",
        "      print(\"addition:\", self.num1 + self.num2)\n",
        "  def Sub(self):\n",
        "      print(\"subtraction:\", self.num1- self.num2)\n",
        "class B(A):\n",
        "    def Multi(self):\n",
        "        print(\"multiplication:\", self.num1* self.num2)   \n",
        "    def Div(self):\n",
        "       print(\"division:\", self.num1/self.num2)\n",
        "\n",
        "#obj=A()   \n",
        "#obj.Add()\n",
        "#obj.Sub()   \n",
        "\n",
        "obj=B()   \n",
        "obj.Add()\n",
        "obj.Sub()  \n",
        "obj.Multi()\n",
        "obj.Div()"
      ],
      "metadata": {
        "id": "SA7_1HJcKmHQ",
        "colab": {
          "base_uri": "https://localhost:8080/"
        },
        "outputId": "41a02dd0-0203-4e09-abd2-3d819186499d"
      },
      "id": "SA7_1HJcKmHQ",
      "execution_count": 20,
      "outputs": [
        {
          "output_type": "stream",
          "name": "stdout",
          "text": [
            "enter first number:30\n",
            "enter second number:5\n",
            "addition: 35\n",
            "subtraction: 25\n",
            "multiplication: 150\n",
            "division: 6.0\n"
          ]
        }
      ]
    },
    {
      "cell_type": "code",
      "source": [
        "#2. Multiple Inheritance:- which contain more parents classes and only one child class is called mutiple inheritance.\n",
        "#example:\n",
        "class Employee1:\n",
        "     Back = \"oracle DB and java\"\n",
        "     def Backend(self):\n",
        "         print(\"backend task implemented using\", self.Back)\n",
        "class Employee2:\n",
        "     Front = \"HTML CSS Javascript\"\n",
        "     def Frontend(self):\n",
        "         print(\"frontend task implemented using\", self.Front)\n",
        "class Teamlead(Employee1, Employee2):\n",
        "     def show(self):\n",
        "         print(\"Dynamic website created\")\n",
        "\n",
        "T= Teamlead()\n",
        "T.Backend()\n",
        "T.Frontend()\n",
        "T.show()\n",
        "        \n",
        "\n",
        "    \n"
      ],
      "metadata": {
        "id": "BdnTQBw_PQws",
        "colab": {
          "base_uri": "https://localhost:8080/"
        },
        "outputId": "e5289259-e8cb-47cb-8953-c65b043fda46"
      },
      "id": "BdnTQBw_PQws",
      "execution_count": 21,
      "outputs": [
        {
          "output_type": "stream",
          "name": "stdout",
          "text": [
            "backend task implemented using oracle DB and java\n",
            "frontend task implemented using HTML CSS Javascript\n",
            "Dynamic website created\n"
          ]
        }
      ]
    },
    {
      "cell_type": "code",
      "source": [
        "#3.Multilevel Inheritance:- in this inheritance we have one parent class and multiple child classes.\n",
        "#example:-\n",
        "class Father:\n",
        "      surname = \"Saini\"\n",
        "class Son(Father):\n",
        "    def Show(self):\n",
        "        print(\"deepa\",self.surname)\n",
        "class Gson(Son):\n",
        "     def Disp(self):\n",
        "        print(\"Vikash\",self.surname)\n",
        "#s=Son()\n",
        "#s.show()\n",
        "\n",
        "Gs=Gson()\n",
        "Gs.Disp()\n",
        "Gs.Show()"
      ],
      "metadata": {
        "colab": {
          "base_uri": "https://localhost:8080/"
        },
        "id": "C5dkqPMmVEVq",
        "outputId": "d4f112d2-ae44-425a-8642-787c550f9560"
      },
      "id": "C5dkqPMmVEVq",
      "execution_count": 23,
      "outputs": [
        {
          "output_type": "stream",
          "name": "stdout",
          "text": [
            "Vikash Saini\n",
            "deepa Saini\n"
          ]
        }
      ]
    },
    {
      "cell_type": "code",
      "source": [
        "#4 Hierarchical Inheritance:- which contain only one parent class and multiple child classes but each class can access parent class property.\n",
        "#example:-\n",
        "class Father :\n",
        "       surname = \"singh\"\n",
        "       def Show(self):\n",
        "           print(\"my surname is\", self.surname)\n",
        "class Son1(Father):\n",
        "    def Disp(self):\n",
        "        print(\"my name is deepika\", self.surname)\n",
        "class Son2(Father):\n",
        "      def Out(self):\n",
        "        print(\"my name is krish\",self.surname)\n",
        "\n",
        "s1 = Son1()\n",
        "s2 = Son2()\n",
        "\n",
        "s1.Disp()\n",
        "s1.Show()\n",
        "s2.Out()\n",
        "s2.Show()"
      ],
      "metadata": {
        "colab": {
          "base_uri": "https://localhost:8080/"
        },
        "id": "kwEbsUDKW4so",
        "outputId": "dc6c2d0a-3f02-4b8e-db6c-683a9f442ec5"
      },
      "id": "kwEbsUDKW4so",
      "execution_count": 28,
      "outputs": [
        {
          "output_type": "stream",
          "name": "stdout",
          "text": [
            "my name is deepika singh\n",
            "my surname is singh\n",
            "my name is krish singh\n",
            "my surname is singh\n"
          ]
        }
      ]
    },
    {
      "cell_type": "code",
      "source": [
        "#5 Hybrid Inheritance: mix of 2 or more than 2 types of inheritance.\n",
        "#example:\n",
        "class School:\n",
        "\tdef func1(self):\n",
        "\t\tprint(\"This function is in school.\")\n",
        "class Student1(School):\n",
        "\tdef func2(self):\n",
        "\t\tprint(\"This function is in student 1. \")\n",
        "class Student2(School):\n",
        "\tdef func3(self):\n",
        "\t\tprint(\"This function is in student 2.\")\n",
        "class Student3(Student1, School):\n",
        "\tdef func4(self):\n",
        "\t\tprint(\"This function is in student 3.\")\n",
        "object = Student3()\n",
        "object.func1()\n",
        "object.func2()"
      ],
      "metadata": {
        "colab": {
          "base_uri": "https://localhost:8080/"
        },
        "id": "qo4CQVJubA7K",
        "outputId": "1146f2f5-88be-450b-efed-edad9de2127a"
      },
      "id": "qo4CQVJubA7K",
      "execution_count": 32,
      "outputs": [
        {
          "output_type": "stream",
          "name": "stdout",
          "text": [
            "This function is in school.\n",
            "This function is in student 1. \n"
          ]
        }
      ]
    },
    {
      "cell_type": "code",
      "source": [],
      "metadata": {
        "id": "kyduFPo2dKEt"
      },
      "id": "kyduFPo2dKEt",
      "execution_count": null,
      "outputs": []
    }
  ],
  "metadata": {
    "kernelspec": {
      "display_name": "Python 3",
      "name": "python3"
    },
    "language_info": {
      "name": "python"
    },
    "colab": {
      "provenance": []
    }
  },
  "nbformat": 4,
  "nbformat_minor": 5
}