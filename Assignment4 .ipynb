{
  "cells": [
    {
      "cell_type": "code",
      "source": [
        "#QUESTION 1:- Which keyword is used to create a function? Create a function to return a list of odd numbers in the range of 1 to 25.\n",
        "\n",
        "##def keyword is used to create a function\n",
        " \n",
        "def odd_num():\n",
        "   l1 = []\n",
        "   for i in range(1,25):\n",
        "     if (i%2!=0):\n",
        "         l1.append(i)\n",
        "   return l1  \n",
        "    \n",
        "\n"
      ],
      "metadata": {
        "id": "0sH4RPUOW6Oi"
      },
      "id": "0sH4RPUOW6Oi",
      "execution_count": null,
      "outputs": []
    },
    {
      "cell_type": "code",
      "source": [
        " (odd_num())"
      ],
      "metadata": {
        "colab": {
          "base_uri": "https://localhost:8080/"
        },
        "id": "FjJO8EQ9XGrz",
        "outputId": "8791a5cf-5d39-4abc-a69c-0ca1c01fd3e4"
      },
      "id": "FjJO8EQ9XGrz",
      "execution_count": null,
      "outputs": [
        {
          "output_type": "execute_result",
          "data": {
            "text/plain": [
              "[1, 3, 5, 7, 9, 11, 13, 15, 17, 19, 21, 23]"
            ]
          },
          "metadata": {},
          "execution_count": 3
        }
      ]
    },
    {
      "cell_type": "markdown",
      "source": [],
      "metadata": {
        "id": "uBLZXVg4W8H0"
      },
      "id": "uBLZXVg4W8H0"
    },
    {
      "cell_type": "code",
      "source": [
        "#QUESTION 2 Why *args and **kwargs is used in some functions? Create a function each for *args and **kwargs to demonstrate their use.\n",
        "\n",
        "#*args and **kwargs use as argument when we are unsure about the number of argument to pass in the function.\n",
        "# *args which allow us to pass the variable number of non keyword argument to function.\n",
        "# **kwargs which allow us to pass the variable length of keyword argument to function.\n",
        "# example:\n",
        "def display(*args,**kwargs):\n",
        "   print(args)\n",
        "   print(kwargs)\n"
      ],
      "metadata": {
        "id": "F5R8btQuXWL7"
      },
      "id": "F5R8btQuXWL7",
      "execution_count": null,
      "outputs": []
    },
    {
      "cell_type": "code",
      "source": [
        "display(\"deepa\",\"saini\",age =20, dob= 2003)"
      ],
      "metadata": {
        "colab": {
          "base_uri": "https://localhost:8080/"
        },
        "id": "oDVVuOQaX2Ht",
        "outputId": "28ce72e9-09f7-49c3-d06a-bdbcbcfb1482"
      },
      "id": "oDVVuOQaX2Ht",
      "execution_count": null,
      "outputs": [
        {
          "output_type": "stream",
          "name": "stdout",
          "text": [
            "('deepa', 'saini')\n",
            "{'age': 20, 'dob': 2003}\n"
          ]
        }
      ]
    },
    {
      "cell_type": "code",
      "source": [
        "#QUESTION 3: What is an iterator in python? Name the method used to initialise the iterator object and the method used for iteration. \n",
        "#Use these methods to print the first five elements of the given list [2, 4, 6, 8, 10, 12, 14,16,18,20]\n",
        "\n",
        "#ans:-\n",
        "#Iterator in Python is an object that is used to iterate over iterable objects like lists,tuples, dicts, and sets.\n",
        "#The iterator object is initialized using the iter() method. \n",
        "#It uses the next() method for iteration.\n",
        "\n",
        "l=[2, 4, 6, 8, 10, 12, 14,16, 18, 20]\n",
        "it=iter(l)\n",
        "# print(type(it))\n",
        "for i in range(5):\n",
        "    print(next(it))"
      ],
      "metadata": {
        "colab": {
          "base_uri": "https://localhost:8080/"
        },
        "id": "EDxTppmzX6__",
        "outputId": "c317aaf2-734f-43a7-e737-cdda64d32829"
      },
      "id": "EDxTppmzX6__",
      "execution_count": null,
      "outputs": [
        {
          "output_type": "stream",
          "name": "stdout",
          "text": [
            "2\n",
            "4\n",
            "6\n",
            "8\n",
            "10\n"
          ]
        }
      ]
    },
    {
      "cell_type": "code",
      "source": [
        "#QUESTION 4:- What is a generator function in python? Why yield keyword is used? Give an example of a generator function.\n",
        "# In Python, a generator is a function that returns an iterator that produces a sequence of values when iterated over.\n",
        "# Generators are useful when we want to produce a large sequence of values, but we don't want to store all of them in memory at once.\n",
        "#yield is a keyword that is used like return, except the function will return a generator.\n",
        "#example:\n",
        "def gene(l):\n",
        "    for i in l:\n",
        "        yield i;\n",
        "list(gene(\"DS\"))\n"
      ],
      "metadata": {
        "colab": {
          "base_uri": "https://localhost:8080/"
        },
        "id": "pWXk-vp1YDwK",
        "outputId": "c6b6f55e-5de7-4b7c-adf0-791da52e3d71"
      },
      "id": "pWXk-vp1YDwK",
      "execution_count": null,
      "outputs": [
        {
          "output_type": "execute_result",
          "data": {
            "text/plain": [
              "['D', 'S']"
            ]
          },
          "metadata": {},
          "execution_count": 7
        }
      ]
    },
    {
      "cell_type": "code",
      "source": [
        "#QUESTION 5:- Create a generator function for prime numbers less than 1000. Use the next() method to print the first 20 prime numbers.\n",
        "def prime_num():\n",
        "    for num in range(2,1001):\n",
        "        if num>1:\n",
        "           for i in range(2,num):\n",
        "               if (num%i==0): \n",
        "                   break\n",
        "           else:\n",
        "               yield num\n",
        "    "
      ],
      "metadata": {
        "id": "TAbV9c_8YMnm"
      },
      "id": "TAbV9c_8YMnm",
      "execution_count": null,
      "outputs": []
    },
    {
      "cell_type": "code",
      "source": [
        "first_20 = prime_num()"
      ],
      "metadata": {
        "id": "v1ojwz6csnJu"
      },
      "id": "v1ojwz6csnJu",
      "execution_count": null,
      "outputs": []
    },
    {
      "cell_type": "code",
      "source": [
        "for i in range(20):\n",
        "    print(next(first_20))"
      ],
      "metadata": {
        "colab": {
          "base_uri": "https://localhost:8080/"
        },
        "id": "OtrzQ9LTt35s",
        "outputId": "7e85c341-a5a3-44b1-de9c-b5fb670cc95d"
      },
      "id": "OtrzQ9LTt35s",
      "execution_count": null,
      "outputs": [
        {
          "output_type": "stream",
          "name": "stdout",
          "text": [
            "2\n",
            "3\n",
            "5\n",
            "7\n",
            "11\n",
            "13\n",
            "17\n",
            "19\n",
            "23\n",
            "29\n",
            "31\n",
            "37\n",
            "41\n",
            "43\n",
            "47\n",
            "53\n",
            "59\n",
            "61\n",
            "67\n",
            "71\n"
          ]
        }
      ]
    },
    {
      "cell_type": "code",
      "source": [
        "#QUESTION 6:- Write a python program to print the first 10 Fibonacci numbers using a while loop.\n",
        "num=10\n",
        " \n",
        "x=0\n",
        "y=1\n",
        "z=0\n",
        "while(z<=num):\n",
        "    x=y\n",
        "    y=z\n",
        "    z=x+y\n",
        "    print(z)"
      ],
      "metadata": {
        "id": "nfdYvoh5uqX-",
        "colab": {
          "base_uri": "https://localhost:8080/"
        },
        "outputId": "199269ea-bbd7-4fd5-96e6-2be68f9374ae"
      },
      "id": "nfdYvoh5uqX-",
      "execution_count": 1,
      "outputs": [
        {
          "output_type": "stream",
          "name": "stdout",
          "text": [
            "1\n",
            "1\n",
            "2\n",
            "3\n",
            "5\n",
            "8\n",
            "13\n"
          ]
        }
      ]
    },
    {
      "cell_type": "code",
      "source": [
        "#QUESTION 7:-Write a List Comprehension to iterate through the given string: ‘pwskills’.\n",
        "string =\"pwskills\"\n",
        "[i for i in string ]\n"
      ],
      "metadata": {
        "id": "vtt23r8xwUnt",
        "colab": {
          "base_uri": "https://localhost:8080/"
        },
        "outputId": "1784752f-0907-4482-9844-d127446dbf6f"
      },
      "id": "vtt23r8xwUnt",
      "execution_count": 5,
      "outputs": [
        {
          "output_type": "execute_result",
          "data": {
            "text/plain": [
              "['p', 'w', 's', 'k', 'i', 'l', 'l', 's']"
            ]
          },
          "metadata": {},
          "execution_count": 5
        }
      ]
    },
    {
      "cell_type": "code",
      "source": [
        "#QUESTION 8:-Write a python program to check whether a given number is Palindrome or not using a while loop.\n",
        "i = int(input(\"enter the number:\"))\n",
        "rev=0\n",
        "x=i\n",
        "while(i>0):\n",
        "      rev= rev*10+i%10\n",
        "      i=i//10\n",
        "if(x==rev):\n",
        "       print(\"yes! it's a palindrome number.\")\n",
        "else:\n",
        "    print(\"not palidrome\");\n",
        "\n",
        "\n"
      ],
      "metadata": {
        "id": "6HKws8GYwVvg",
        "colab": {
          "base_uri": "https://localhost:8080/"
        },
        "outputId": "01358849-1154-4d1c-fabc-d0c521e14fc6"
      },
      "id": "6HKws8GYwVvg",
      "execution_count": 1,
      "outputs": [
        {
          "output_type": "stream",
          "name": "stdout",
          "text": [
            "enter the number:535\n",
            "yes! it's a palindrome number.\n"
          ]
        }
      ]
    },
    {
      "cell_type": "code",
      "source": [
        "#QUESTION 9:- Write a code to print odd numbers from 1 to 100 using list comprehension.\n",
        "[ i for i in range(1,101) if i%2!=0]"
      ],
      "metadata": {
        "id": "hT2IFPiiwaYl",
        "colab": {
          "base_uri": "https://localhost:8080/"
        },
        "outputId": "e77dc72e-2668-4fd4-c90f-cd98a9e5f380"
      },
      "id": "hT2IFPiiwaYl",
      "execution_count": 8,
      "outputs": [
        {
          "output_type": "execute_result",
          "data": {
            "text/plain": [
              "[1,\n",
              " 3,\n",
              " 5,\n",
              " 7,\n",
              " 9,\n",
              " 11,\n",
              " 13,\n",
              " 15,\n",
              " 17,\n",
              " 19,\n",
              " 21,\n",
              " 23,\n",
              " 25,\n",
              " 27,\n",
              " 29,\n",
              " 31,\n",
              " 33,\n",
              " 35,\n",
              " 37,\n",
              " 39,\n",
              " 41,\n",
              " 43,\n",
              " 45,\n",
              " 47,\n",
              " 49,\n",
              " 51,\n",
              " 53,\n",
              " 55,\n",
              " 57,\n",
              " 59,\n",
              " 61,\n",
              " 63,\n",
              " 65,\n",
              " 67,\n",
              " 69,\n",
              " 71,\n",
              " 73,\n",
              " 75,\n",
              " 77,\n",
              " 79,\n",
              " 81,\n",
              " 83,\n",
              " 85,\n",
              " 87,\n",
              " 89,\n",
              " 91,\n",
              " 93,\n",
              " 95,\n",
              " 97,\n",
              " 99]"
            ]
          },
          "metadata": {},
          "execution_count": 8
        }
      ]
    },
    {
      "cell_type": "code",
      "source": [],
      "metadata": {
        "id": "kWrfcL_p7FGn"
      },
      "id": "kWrfcL_p7FGn",
      "execution_count": null,
      "outputs": []
    }
  ],
  "metadata": {
    "kernelspec": {
      "display_name": "Python 3",
      "name": "python3"
    },
    "language_info": {
      "name": "python"
    },
    "colab": {
      "provenance": []
    }
  },
  "nbformat": 4,
  "nbformat_minor": 5
}