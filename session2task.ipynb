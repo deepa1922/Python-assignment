{
  "nbformat": 4,
  "nbformat_minor": 0,
  "metadata": {
    "colab": {
      "provenance": []
    },
    "kernelspec": {
      "name": "python3",
      "display_name": "Python 3"
    },
    "language_info": {
      "name": "python"
    }
  },
  "cells": [
    {
      "cell_type": "markdown",
      "source": [
        "### `Problem 1`: Write a program that will give you in hand monthly salary after deduction on CTC - HRA(10%), DA(5%), PF(3%) and taxes deduction as below:\n",
        "\n",
        "> Salary(Lakhs) : Tax(%)\n",
        "\n",
        "*   Below 5 : 0%\n",
        "*   5-10 : 10%\n",
        "*   10-20 : 20%\n",
        "*   aboove 20 : 30%"
      ],
      "metadata": {
        "id": "w6RlOAXV2PWh"
      }
    },
    {
      "cell_type": "code",
      "source": [
        "# Write code here\n",
        "gross_salery = int(input(\"enter gross salery\"))\n",
        "HRA=gross_salery*10/100\n",
        "DA=gross_salery*5/100\n",
        "PF=gross_salery*3/100\n",
        "salery = gross_salery - HRA-DA-PF\n",
        "if salery<=500000 :\n",
        "  monthly_salery = salery\n",
        "elif salery<=10000:\n",
        "  monthly_salery = salery-10/100\n",
        "elif salery<=200000:\n",
        "  monthly_salery = salery-20/100\n",
        "elif salery>200000:\n",
        "  monthly_salery = salery-30/100\n",
        "print( monthly_salery)\n"
      ],
      "metadata": {
        "id": "7tMHvKYO2etI",
        "outputId": "7ad232d3-ca8a-4ee3-e23f-e49b7ed94266",
        "colab": {
          "base_uri": "https://localhost:8080/"
        }
      },
      "execution_count": null,
      "outputs": [
        {
          "output_type": "stream",
          "name": "stdout",
          "text": [
            "enter gross salery700000\n",
            "573999.7\n"
          ]
        }
      ]
    },
    {
      "cell_type": "code",
      "source": [
        "CTC = float(input(\"Enter CTC (in lakhs): \"))\n",
        "\n",
        "HRA = CTC * 0.1\n",
        "DA = CTC * 0.05\n",
        "PF = CTC * 0.03\n",
        "\n",
        "net_salary = CTC - HRA - DA - PF\n",
        "\n",
        "if CTC < 5:\n",
        "    monthly_salary = net_salary\n",
        "elif CTC >= 5 and CTC < 10:\n",
        "    monthly_salary = net_salary - (net_salary * 0.1)\n",
        "elif CTC >= 10 and CTC < 20:\n",
        "    monthly_salary = net_salary - (net_salary * 0.2)\n",
        "else:\n",
        "    monthly_salary = net_salary - (net_salary * 0.3)\n",
        "\n",
        "print(\"Monthly Salary: Rs.\", monthly_salary)\n"
      ],
      "metadata": {
        "id": "C3eZ7j_8fIYk",
        "outputId": "f20ecb8c-b14c-423f-c974-d24e6f4fe382",
        "colab": {
          "base_uri": "https://localhost:8080/"
        }
      },
      "execution_count": null,
      "outputs": [
        {
          "output_type": "stream",
          "name": "stdout",
          "text": [
            "Enter CTC (in lakhs): 700000\n",
            "Monthly Salary: Rs. 401800.0\n"
          ]
        }
      ]
    },
    {
      "cell_type": "markdown",
      "source": [
        "### `Problem 2`: Write a program that take a user input of three angles and will find out whether it can form a triangle or not."
      ],
      "metadata": {
        "id": "tYzCGqwl2hfN"
      }
    },
    {
      "cell_type": "code",
      "source": [
        "# Write code here\n",
        "a1 = int(input(\"enter 1st angle\"))\n",
        "a2 =int(input(\"enter 2nd angle\"))\n",
        "a3 = int(input(\"enter 3rd angle\"))\n",
        "sum=a1+a2+a3\n",
        "if sum==180:\n",
        "  print(\"triangle\")\n",
        "else:\n",
        "  print(\"not triangle\")\n"
      ],
      "metadata": {
        "id": "FYEqln-I2kxV",
        "outputId": "e5e985b9-6fbf-4424-cab9-b35ef2c9e703",
        "colab": {
          "base_uri": "https://localhost:8080/"
        }
      },
      "execution_count": null,
      "outputs": [
        {
          "output_type": "stream",
          "name": "stdout",
          "text": [
            "enter 1st angle30\n",
            "enter 2nd angle40\n",
            "enter 3rd angle110\n",
            "triangle\n"
          ]
        }
      ]
    },
    {
      "cell_type": "markdown",
      "source": [
        "### `Problem 3`: Write a program that will take user input of cost price and selling price and determines whether its a loss or a profit."
      ],
      "metadata": {
        "id": "5vEpPh8C2pE4"
      }
    },
    {
      "cell_type": "code",
      "source": [
        "# Write code here\n",
        "cost_price = int(input(\"enter cost price \"))\n",
        "selling_price = int(input(\"enter selling price \"))\n",
        "if cost_price<selling_price:\n",
        "  profit =selling_price-cost_price\n",
        "  print(\"profit\",profit)\n",
        "elif cost_price>selling_price:\n",
        "  loss = cost_price-selling_price\n",
        "  print(\"loss\",loss)\n",
        "else:\n",
        "  print(\"no loss no profit\")\n"
      ],
      "metadata": {
        "id": "jDwBXlkO2sfl",
        "outputId": "7da66652-ae1a-469f-9d59-0c319e21ee5e",
        "colab": {
          "base_uri": "https://localhost:8080/"
        }
      },
      "execution_count": null,
      "outputs": [
        {
          "output_type": "stream",
          "name": "stdout",
          "text": [
            "enter cost price 30\n",
            "enter selling price 40\n",
            "profit 10\n"
          ]
        }
      ]
    },
    {
      "cell_type": "markdown",
      "source": [
        "### `Problem 4`: Write a menu-driven program -\n",
        "1. cm to ft\n",
        "2. km to miles\n",
        "3. USD to INR\n",
        "4. exit"
      ],
      "metadata": {
        "id": "J_FG_cJW2ugT"
      }
    },
    {
      "cell_type": "code",
      "source": [
        "menu = int(input(\"\"\"choose the operation you want to perform\n",
        "1.enter 1 to convert cm to ft\n",
        "2.enter 2 to convert km to miles\n",
        "3.enter 3 to convert USD to INR\n",
        "4.enter 4 to exit\"\"\"))\n",
        "\n",
        "if menu==1 :\n",
        "  cm = float(input(\"enter cm\"))\n",
        "  ft = 0.0328084*cm\n",
        "  print(\"feat\", ft)\n",
        "elif menu==2 :\n",
        "  km = float(input(\"enter km\"))\n",
        "  miles = km*0.62137119\n",
        "  print(\"miles\", miles)\n",
        "elif menu==3 :\n",
        "  USD = float(input(\"enter USD\"))\n",
        "  INR= USD*82.32\n",
        "  print(\"usd\", INR)\n",
        "else:\n",
        "  print(\"exit\")\n",
        "\n",
        "\n"
      ],
      "metadata": {
        "id": "yBHhaCGQ2zpD",
        "outputId": "6216033d-fa96-450a-e9ed-18f94e25c410",
        "colab": {
          "base_uri": "https://localhost:8080/"
        }
      },
      "execution_count": null,
      "outputs": [
        {
          "output_type": "stream",
          "name": "stdout",
          "text": [
            "choose the operation you want to perform\n",
            "1.enter 1 to convert cm to ft\n",
            "2.enter 2 to convert km to miles\n",
            "3.enter 3 to convert USD to INR\n",
            "4.enter 4 to exit2\n",
            "enter km1\n",
            "miles 0.62137119\n"
          ]
        }
      ]
    },
    {
      "cell_type": "markdown",
      "source": [
        "### `Problem 5` - Exercise 12: Display Fibonacci series up to 10 terms.\n",
        "\n",
        "*Note: The Fibonacci Sequence is a series of numbers. The next number is found by adding up the two numbers before it. The first two numbers are 0 and 1. For example, 0, 1, 1, 2, 3, 5, 8, 13, 21. The next number in this series above is 13+21 = 34*"
      ],
      "metadata": {
        "id": "LJJ30_Yw27ZU"
      }
    },
    {
      "cell_type": "code",
      "source": [
        "# Write code here\n",
        "n = 8\n",
        "x=0\n",
        "print(0)\n",
        "y=1\n",
        "print(y)\n",
        "\n",
        "z=x+y\n",
        "while(n>=z):\n",
        "  print(z)\n",
        "  x=y\n",
        "  y=z\n",
        "  z=x+y\n"
      ],
      "metadata": {
        "id": "ae_1rpe52-5R",
        "colab": {
          "base_uri": "https://localhost:8080/"
        },
        "outputId": "722d2a11-96c9-4335-9e72-13c3e149a765"
      },
      "execution_count": null,
      "outputs": [
        {
          "output_type": "stream",
          "name": "stdout",
          "text": [
            "0\n",
            "1\n",
            "1\n",
            "2\n",
            "3\n",
            "5\n",
            "8\n"
          ]
        }
      ]
    },
    {
      "cell_type": "markdown",
      "source": [
        "### `Problem 6` - Find the factorial of a given number.\n",
        "\n",
        "Write a program to use the loop to find the factorial of a given number.\n",
        "\n",
        "The factorial (symbol: `!`) means to multiply all whole numbers from the chosen number down to 1.\n",
        "\n",
        "For example: calculate the factorial of 5\n",
        "\n",
        "```bash\n",
        "5! = 5 × 4 × 3 × 2 × 1 = 120\n",
        "```\n",
        "\n",
        "Output:\n",
        "\n",
        "```bash\n",
        "120\n",
        "```"
      ],
      "metadata": {
        "id": "pk_I_S4m3PT5"
      }
    },
    {
      "cell_type": "code",
      "source": [
        "i = int(input(\"enter number\"))\n",
        "fact = 1\n",
        "while(i>0):\n",
        "  fact = fact*i\n",
        "  i=i-1\n",
        "print(\"factorial\",fact)\n"
      ],
      "metadata": {
        "id": "lzXxHegx3Rkc",
        "colab": {
          "base_uri": "https://localhost:8080/"
        },
        "outputId": "47ee375b-c4c2-43d6-e49b-00a9e9f26853"
      },
      "execution_count": null,
      "outputs": [
        {
          "output_type": "stream",
          "name": "stdout",
          "text": [
            "enter number5\n",
            "factorial 120\n"
          ]
        }
      ]
    },
    {
      "cell_type": "markdown",
      "source": [
        "### `Problem 7` - Reverse a given integer number.\n",
        "\n",
        "Example:\n",
        "\n",
        "`Input:`\n",
        "\n",
        "```bash\n",
        "76542\n",
        "```\n",
        "\n",
        "`Output:`\n",
        "\n",
        "```bash\n",
        "24567\n",
        "```"
      ],
      "metadata": {
        "id": "-17IOi-g3UpU"
      }
    },
    {
      "cell_type": "code",
      "source": [
        "i = int(input())\n",
        "rev = 0\n",
        "while(i>0):\n",
        "  rev=rev*10+i%10\n",
        "  i//10\n",
        "print(\"reverse\",rev)"
      ],
      "metadata": {
        "id": "wJwLpKCr3aVA",
        "colab": {
          "base_uri": "https://localhost:8080/",
          "height": 253
        },
        "outputId": "1036f72f-cccd-4b39-e8a6-7b887252009e"
      },
      "execution_count": null,
      "outputs": [
        {
          "name": "stdout",
          "output_type": "stream",
          "text": [
            "78542\n"
          ]
        },
        {
          "output_type": "error",
          "ename": "KeyboardInterrupt",
          "evalue": "ignored",
          "traceback": [
            "\u001b[0;31m---------------------------------------------------------------------------\u001b[0m",
            "\u001b[0;31mKeyboardInterrupt\u001b[0m                         Traceback (most recent call last)",
            "\u001b[0;32m<ipython-input-5-c4d46273262f>\u001b[0m in \u001b[0;36m<cell line: 3>\u001b[0;34m()\u001b[0m\n\u001b[1;32m      1\u001b[0m \u001b[0mi\u001b[0m \u001b[0;34m=\u001b[0m \u001b[0mint\u001b[0m\u001b[0;34m(\u001b[0m\u001b[0minput\u001b[0m\u001b[0;34m(\u001b[0m\u001b[0;34m)\u001b[0m\u001b[0;34m)\u001b[0m\u001b[0;34m\u001b[0m\u001b[0;34m\u001b[0m\u001b[0m\n\u001b[1;32m      2\u001b[0m \u001b[0mrev\u001b[0m \u001b[0;34m=\u001b[0m \u001b[0;36m0\u001b[0m\u001b[0;34m\u001b[0m\u001b[0;34m\u001b[0m\u001b[0m\n\u001b[0;32m----> 3\u001b[0;31m \u001b[0;32mwhile\u001b[0m\u001b[0;34m(\u001b[0m\u001b[0mi\u001b[0m\u001b[0;34m>\u001b[0m\u001b[0;36m0\u001b[0m\u001b[0;34m)\u001b[0m\u001b[0;34m:\u001b[0m\u001b[0;34m\u001b[0m\u001b[0;34m\u001b[0m\u001b[0m\n\u001b[0m\u001b[1;32m      4\u001b[0m   \u001b[0mrev\u001b[0m\u001b[0;34m=\u001b[0m\u001b[0mrev\u001b[0m\u001b[0;34m*\u001b[0m\u001b[0;36m10\u001b[0m\u001b[0;34m+\u001b[0m\u001b[0mi\u001b[0m\u001b[0;34m%\u001b[0m\u001b[0;36m10\u001b[0m\u001b[0;34m\u001b[0m\u001b[0;34m\u001b[0m\u001b[0m\n\u001b[1;32m      5\u001b[0m   \u001b[0mi\u001b[0m\u001b[0;34m//\u001b[0m\u001b[0;36m10\u001b[0m\u001b[0;34m\u001b[0m\u001b[0;34m\u001b[0m\u001b[0m\n",
            "\u001b[0;31mKeyboardInterrupt\u001b[0m: "
          ]
        }
      ]
    },
    {
      "cell_type": "markdown",
      "source": [
        "### `Problem 8`: Take a user input as integer N. Find out the sum from 1 to N. If any number if divisible by 5, then skip that number. And if the sum is greater than 300, don't need to calculate the sum further more. Print the final result. And don't use for loop to solve this problem.\n",
        "\n",
        "**Example 1:**\n",
        "\n",
        "`Input:`\n",
        "\n",
        "```bash\n",
        "30\n",
        "```\n",
        "\n",
        "`Output:`\n",
        "\n",
        "```bash\n",
        "276\n",
        "```"
      ],
      "metadata": {
        "id": "-t8PJQaY3sHf"
      }
    },
    {
      "cell_type": "code",
      "source": [
        "c"
      ],
      "metadata": {
        "id": "GZB6mGMP3ujT",
        "colab": {
          "base_uri": "https://localhost:8080/"
        },
        "outputId": "5183fb83-2460-481e-c132-6cc28f1ffc60"
      },
      "execution_count": null,
      "outputs": [
        {
          "output_type": "stream",
          "name": "stdout",
          "text": [
            "enter number30\n",
            "303\n"
          ]
        }
      ]
    },
    {
      "cell_type": "code",
      "source": [
        "n = int(input(\"Enter a number: \"))\n",
        "total_sum = 0\n",
        "i = 1\n",
        "\n",
        "while i <= n:\n",
        "    if i % 5 == 0:\n",
        "        i += 1\n",
        "        continue\n",
        "    total_sum += i\n",
        "    if total_sum > 300:\n",
        "        break\n",
        "    i += 1\n",
        "\n",
        "print(\"Final result:\", total_sum)"
      ],
      "metadata": {
        "colab": {
          "base_uri": "https://localhost:8080/"
        },
        "id": "Nb9BYnTa63JE",
        "outputId": "2c5c209b-83d5-47bf-c503-c5e624e1796a"
      },
      "execution_count": null,
      "outputs": [
        {
          "output_type": "stream",
          "name": "stdout",
          "text": [
            "Enter a number: 30\n",
            "Final result: 303\n"
          ]
        }
      ]
    },
    {
      "cell_type": "markdown",
      "source": [
        "### `Problem 9`: Write a program that keeps on accepting a number from the user until the user enters Zero. Display the sum and average of all the numbers."
      ],
      "metadata": {
        "id": "Q7ggImeA3xm4"
      }
    },
    {
      "cell_type": "code",
      "source": [
        "# Write code here\n",
        "sum=0\n",
        "while True:\n",
        "  n = int(input(\"enter number [0 to stop]\"))\n",
        "  if n!=0:\n",
        "    sum=sum+n\n",
        "  else:\n",
        "    break\n",
        "print(sum)"
      ],
      "metadata": {
        "id": "t_YDSZDe4Kdo",
        "colab": {
          "base_uri": "https://localhost:8080/"
        },
        "outputId": "56818cfd-47ee-4ac6-e2c0-3e01350215ea"
      },
      "execution_count": null,
      "outputs": [
        {
          "output_type": "stream",
          "name": "stdout",
          "text": [
            "enter number [0 to stop]5\n",
            "enter number [0 to stop]2\n",
            "enter number [0 to stop]6\n",
            "enter number [0 to stop]0\n",
            "13\n"
          ]
        }
      ]
    },
    {
      "cell_type": "markdown",
      "source": [
        "###`Problem 9`: Write a program which will find all such numbers which are divisible by 7 but are not a multiple of 5, between 2000 and 3200 (both included). The numbers obtained should be printed in a comma-separated sequence on a single line."
      ],
      "metadata": {
        "id": "6EhvEMvm4R7s"
      }
    },
    {
      "cell_type": "code",
      "source": [
        "for n in range(2000,3201):\n",
        "  if n%7==0 and n%5!=0:\n",
        "    print(\"number\",n,end=\",\")\n"
      ],
      "metadata": {
        "id": "d6RgP1B34T6c",
        "colab": {
          "base_uri": "https://localhost:8080/"
        },
        "outputId": "42817ba9-004c-4ff4-91d9-013ed692a3b7"
      },
      "execution_count": null,
      "outputs": [
        {
          "output_type": "stream",
          "name": "stdout",
          "text": [
            "number 2002,number 2009,number 2016,number 2023,number 2037,number 2044,number 2051,number 2058,number 2072,number 2079,number 2086,number 2093,number 2107,number 2114,number 2121,number 2128,number 2142,number 2149,number 2156,number 2163,number 2177,number 2184,number 2191,number 2198,number 2212,number 2219,number 2226,number 2233,number 2247,number 2254,number 2261,number 2268,number 2282,number 2289,number 2296,number 2303,number 2317,number 2324,number 2331,number 2338,number 2352,number 2359,number 2366,number 2373,number 2387,number 2394,number 2401,number 2408,number 2422,number 2429,number 2436,number 2443,number 2457,number 2464,number 2471,number 2478,number 2492,number 2499,number 2506,number 2513,number 2527,number 2534,number 2541,number 2548,number 2562,number 2569,number 2576,number 2583,number 2597,number 2604,number 2611,number 2618,number 2632,number 2639,number 2646,number 2653,number 2667,number 2674,number 2681,number 2688,number 2702,number 2709,number 2716,number 2723,number 2737,number 2744,number 2751,number 2758,number 2772,number 2779,number 2786,number 2793,number 2807,number 2814,number 2821,number 2828,number 2842,number 2849,number 2856,number 2863,number 2877,number 2884,number 2891,number 2898,number 2912,number 2919,number 2926,number 2933,number 2947,number 2954,number 2961,number 2968,number 2982,number 2989,number 2996,number 3003,number 3017,number 3024,number 3031,number 3038,number 3052,number 3059,number 3066,number 3073,number 3087,number 3094,number 3101,number 3108,number 3122,number 3129,number 3136,number 3143,number 3157,number 3164,number 3171,number 3178,number 3192,number 3199,"
          ]
        }
      ]
    },
    {
      "cell_type": "markdown",
      "source": [
        "###`Problem 10`: Write a program, which will find all such numbers between 1000 and 3000 (both included) such that each digit of the number is an even number. The numbers obtained should be printed in a space-separated sequence on a single line.\n",
        "\n"
      ],
      "metadata": {
        "id": "tYvmRR-G4Vp4"
      }
    },
    {
      "cell_type": "code",
      "source": [
        "for number in range(1000,3001 ):\n",
        "    thousands = number // 1000\n",
        "    hundreds = (number // 100) % 10\n",
        "    tens = (number // 10) % 10\n",
        "    units = number % 10\n",
        "\n",
        "    # Check if all digits are even\n",
        "    if thousands % 2 == 0 and hundreds % 2 == 0 and tens % 2 == 0 and units % 2 == 0:\n",
        "        print(number, end=\" \")"
      ],
      "metadata": {
        "id": "k6Gs1kIf4k19",
        "colab": {
          "base_uri": "https://localhost:8080/"
        },
        "outputId": "741ce714-65ec-47e7-9af1-9e35273b985a"
      },
      "execution_count": null,
      "outputs": [
        {
          "output_type": "stream",
          "name": "stdout",
          "text": [
            "2000 2002 2004 2006 2008 2020 2022 2024 2026 2028 2040 2042 2044 2046 2048 2060 2062 2064 2066 2068 2080 2082 2084 2086 2088 2200 2202 2204 2206 2208 2220 2222 2224 2226 2228 2240 2242 2244 2246 2248 2260 2262 2264 2266 2268 2280 2282 2284 2286 2288 2400 2402 2404 2406 2408 2420 2422 2424 2426 2428 2440 2442 2444 2446 2448 2460 2462 2464 2466 2468 2480 2482 2484 2486 2488 2600 2602 2604 2606 2608 2620 2622 2624 2626 2628 2640 2642 2644 2646 2648 2660 2662 2664 2666 2668 2680 2682 2684 2686 2688 2800 2802 2804 2806 2808 2820 2822 2824 2826 2828 2840 2842 2844 2846 2848 2860 2862 2864 2866 2868 2880 2882 2884 2886 2888 "
          ]
        }
      ]
    },
    {
      "cell_type": "code",
      "source": [
        "result = []  # List to store the numbers that satisfy the condition\n",
        "\n",
        "for number in range(1000, 3001):\n",
        "    thousands = number // 1000\n",
        "    hundreds = (number // 100) % 10\n",
        "    tens = (number // 10) % 10\n",
        "    units = number % 10\n",
        "\n",
        "    # Check if all digits are even\n",
        "    if thousands % 2 == 0 and hundreds % 2 == 0 and tens % 2 == 0 and units % 2 == 0:\n",
        "        print(number,end=\" \")"
      ],
      "metadata": {
        "colab": {
          "base_uri": "https://localhost:8080/"
        },
        "id": "jKS2Go0ISLC0",
        "outputId": "d1ed2410-321b-468b-eb3a-d71f668f423f"
      },
      "execution_count": null,
      "outputs": [
        {
          "output_type": "stream",
          "name": "stdout",
          "text": [
            "2000 2002 2004 2006 2008 2020 2022 2024 2026 2028 2040 2042 2044 2046 2048 2060 2062 2064 2066 2068 2080 2082 2084 2086 2088 2200 2202 2204 2206 2208 2220 2222 2224 2226 2228 2240 2242 2244 2246 2248 2260 2262 2264 2266 2268 2280 2282 2284 2286 2288 2400 2402 2404 2406 2408 2420 2422 2424 2426 2428 2440 2442 2444 2446 2448 2460 2462 2464 2466 2468 2480 2482 2484 2486 2488 2600 2602 2604 2606 2608 2620 2622 2624 2626 2628 2640 2642 2644 2646 2648 2660 2662 2664 2666 2668 2680 2682 2684 2686 2688 2800 2802 2804 2806 2808 2820 2822 2824 2826 2828 2840 2842 2844 2846 2848 2860 2862 2864 2866 2868 2880 2882 2884 2886 2888 "
          ]
        }
      ]
    },
    {
      "cell_type": "markdown",
      "source": [
        "###`Problem 11`: A robot moves in a plane starting from the original point (0,0). The robot can move toward UP, DOWN, LEFT and RIGHT with a given steps.\n",
        "The trace of robot movement is shown as the following:\n",
        "```\n",
        "UP 5\n",
        "DOWN 3\n",
        "LEFT 3\n",
        "RIGHT 2\n",
        "!\n",
        "```\n",
        "> The numbers after the direction are steps.\n",
        "\n",
        "> `!` means robot stop there.\n",
        "\n",
        "**Please write a program to compute the distance from current position after a sequence of movement and original point.**\n",
        "\n",
        "*If the distance is a float, then just print the nearest integer.*\n",
        "\n",
        "Example:\n",
        "\n",
        "`Input`:\n",
        "```\n",
        "UP 5\n",
        "DOWN 3\n",
        "LEFT 3\n",
        "RIGHT 2\n",
        "!\n",
        "```\n",
        "`Output`:\n",
        "```\n",
        "2\n",
        "```"
      ],
      "metadata": {
        "id": "GV18IINT4mf5"
      }
    },
    {
      "cell_type": "code",
      "source": [
        "# Write code here"
      ],
      "metadata": {
        "id": "6UNMC2aR4w5x"
      },
      "execution_count": null,
      "outputs": []
    },
    {
      "cell_type": "markdown",
      "source": [
        "###`Problem 12`:Write a program to print whether a given number is a prime number or not"
      ],
      "metadata": {
        "id": "3fsAIAhK5GYY"
      }
    },
    {
      "cell_type": "code",
      "source": [
        "n = int(input(\"enter number\"))\n",
        "count = 0\n",
        "i=1\n",
        "while(i<=n):\n",
        "  if(n%i==0):\n",
        "    count+=1\n",
        "i=i+1\n",
        "if(count==2):\n",
        "  print(\"prime no\")\n",
        "else:\n",
        "  print(\"composite no\")"
      ],
      "metadata": {
        "id": "j6y91lxy5LZs"
      },
      "execution_count": null,
      "outputs": []
    },
    {
      "cell_type": "markdown",
      "source": [
        "###`Problem 13`:Print all the Armstrong numbers in a given range.\n",
        "Range will be provided by the user<br>\n",
        "Armstrong number is a number that is equal to the sum of cubes of its digits. For example 0, 1, 153, 370, 371 and 407 are the Armstrong numbers."
      ],
      "metadata": {
        "id": "asAbmbK-5NHv"
      }
    },
    {
      "cell_type": "code",
      "source": [
        "i = int(input(\"enter no to check for armstrong\"))\n",
        "orig = i\n",
        "sum=0\n",
        "while(i>0):\n",
        "  sum = sum+(i%10)*(i%10)*(i%10)\n",
        "  i//10\n",
        "if orig==sum:\n",
        "  print(\"no is armstrong\")\n",
        "else:\n",
        "  print(\"no is not armstrong\")"
      ],
      "metadata": {
        "id": "PZuI67pm5jCT"
      },
      "execution_count": null,
      "outputs": []
    },
    {
      "cell_type": "markdown",
      "source": [
        "###`Problem 14`:Calculate the angle between the hour hand and minute hand.\n",
        "\n",
        "Note: There can be two angles between hands; we need to print a minimum of two. Also, we need to print the floor of the final result angle. For example, if the final angle is 10.61, we need to print 10.\n",
        "\n",
        "Input:<br>\n",
        "H = 9 , M = 0<br>\n",
        "Output:<br>\n",
        "90<br>\n",
        "Explanation:<br>\n",
        "The minimum angle between hour and minute\n",
        "hand when the time is 9 is 90 degress."
      ],
      "metadata": {
        "id": "ClCQZMqT7gK0"
      }
    },
    {
      "cell_type": "code",
      "source": [
        "x= float(input(\"enter the hour\"))\n",
        "y= float(input(\"enter the minute\"))\n",
        "hour = 30*x+0.5*y ;\n",
        "minute = 0*x + 6*y ;\n",
        "angle = hour-minute;\n",
        "if angle>180:\n",
        "  angle = 360-angle\n",
        "  print(int(angle))\n",
        "\n"
      ],
      "metadata": {
        "id": "tNBTCZML7jy_",
        "colab": {
          "base_uri": "https://localhost:8080/"
        },
        "outputId": "343ccfbe-1a10-4676-d498-41627e51a795"
      },
      "execution_count": null,
      "outputs": [
        {
          "output_type": "stream",
          "name": "stdout",
          "text": [
            "enter the hour9\n",
            "enter the minute0\n",
            "90\n"
          ]
        }
      ]
    },
    {
      "cell_type": "markdown",
      "source": [
        "###`Problem 15`:Given two rectangles, find if the given two rectangles overlap or not. A rectangle is denoted by providing the x and y coordinates of two points: the left top corner and the right bottom corner of the rectangle. Two rectangles sharing a side are considered overlapping. (L1 and R1 are the extreme points of the first rectangle and L2 and R2 are the extreme points of the second rectangle).\n",
        "\n",
        "Note: It may be assumed that the rectangles are parallel to the coordinate axis.\n",
        "\n",
        "<img src='https://www.geeksforgeeks.org/wp-content/uploads/rectanglesOverlap.png' width='300' height='200'>"
      ],
      "metadata": {
        "id": "GwacF9Co72Qc"
      }
    },
    {
      "cell_type": "code",
      "source": [
        "def check_overlap(L1, R1, L2, R2):\n",
        "    # Check if any of the conditions for non-overlapping are true\n",
        "    if (R1[0] < L2[0]) or (R2[0] < L1[0]) or (R1[1] < L2[1]) or (R2[1] < L1[1]):\n",
        "        return False\n",
        "    else:\n",
        "        return True\n",
        "\n",
        "# Example usage\n",
        "L1 = (0, 0)\n",
        "R1 = (2, 2)\n",
        "L2 = (1, 1)\n",
        "R2 = (3, 3)\n",
        "\n",
        "if check_overlap(L1, R1, L2, R2):\n",
        "    print(\"Rectangles overlap\")\n",
        "else:\n",
        "    print(\"Rectangles do not overlap\")\n"
      ],
      "metadata": {
        "id": "6rrw_lpH78Rs"
      },
      "execution_count": null,
      "outputs": []
    }
  ]
}