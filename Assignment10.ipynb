{
  "cells": [
    {
      "cell_type": "code",
      "source": [
        "#Q1.Create a vehicle class with an init method having instance variables as name_of_vehicle, max_speed and average_of_vehicle.\n",
        "class vehicle:\n",
        "      def  __init__(self, name_of_vehicle, max_speed , average_of_vehicle):\n",
        "          self.name_of_vehicle = name_of_vehicle;\n",
        "          self.max_speed = max_speed;\n",
        "          self.average_of_vehicle = average_of_vehicle;\n"
      ],
      "metadata": {
        "id": "ftJ-4BA83Rdp"
      },
      "id": "ftJ-4BA83Rdp",
      "execution_count": null,
      "outputs": []
    },
    {
      "cell_type": "code",
      "source": [
        "#Q2. Create a child class car from the vehicle class created in Que 1, which will inherit the vehicle class.Create a method named \n",
        "# seating_capacity which takes capacity as an argument and returns the name of the vehicle and its seating capacity.\n",
        "class car(vehicle):\n",
        "      def seating_capacity(self,capacity):\n",
        "          return capacity, self.name_of_vehicle ;"
      ],
      "metadata": {
        "id": "HSXl1j3r49QR"
      },
      "id": "HSXl1j3r49QR",
      "execution_count": null,
      "outputs": []
    },
    {
      "cell_type": "code",
      "source": [
        "lamborghini=car(\"A\",\"B\",\"C\");\n",
        "lamborghini.seating_capacity(22)"
      ],
      "metadata": {
        "id": "9v8AyuIH7YEZ",
        "outputId": "f263e974-b1e5-41e6-c631-d53b7830ff4a",
        "colab": {
          "base_uri": "https://localhost:8080/"
        }
      },
      "id": "9v8AyuIH7YEZ",
      "execution_count": null,
      "outputs": [
        {
          "output_type": "execute_result",
          "data": {
            "text/plain": [
              "(22, 'A')"
            ]
          },
          "metadata": {},
          "execution_count": 14
        }
      ]
    },
    {
      "cell_type": "code",
      "source": [
        "#Q3. What is multiple inheritance? Write a python code to demonstrate multiple inheritance.\n",
        "'''\n",
        "When a child class inherit the property of 2 or more parent class such inheritance is called multiple inheritance '''\n",
        "class M:\n",
        "     def  multi(self,x,y):\n",
        "         return x*y;\n",
        "class D :\n",
        "      def div(self,x,y):\n",
        "          return x/y;\n",
        "class child(M,D):\n",
        "          pass"
      ],
      "metadata": {
        "id": "HBdlkgon8Onx"
      },
      "id": "HBdlkgon8Onx",
      "execution_count": null,
      "outputs": []
    },
    {
      "cell_type": "code",
      "source": [
        "child_obj = child();\n",
        "print(child_obj.multi(3,4));\n"
      ],
      "metadata": {
        "id": "oKLBPHig-A--",
        "outputId": "030b598d-c83c-44cb-dfca-a36031f4a51d",
        "colab": {
          "base_uri": "https://localhost:8080/"
        }
      },
      "id": "oKLBPHig-A--",
      "execution_count": null,
      "outputs": [
        {
          "output_type": "stream",
          "name": "stdout",
          "text": [
            "12\n"
          ]
        }
      ]
    },
    {
      "cell_type": "code",
      "source": [
        "child_obj = child();\n",
        "print(child_obj.div(3,4));"
      ],
      "metadata": {
        "id": "zWkL8vqy-o-j",
        "outputId": "7c2b65ec-a540-41aa-c685-f4f1170a322d",
        "colab": {
          "base_uri": "https://localhost:8080/"
        }
      },
      "id": "zWkL8vqy-o-j",
      "execution_count": null,
      "outputs": [
        {
          "output_type": "stream",
          "name": "stdout",
          "text": [
            "0.75\n"
          ]
        }
      ]
    },
    {
      "cell_type": "code",
      "source": [
        "#Q4. What are getter and setter in python?\n",
        "#setter:- also called an update method and it can change the state of object. These are the methods used in OOPS\n",
        "# feature which helps to set the value to private attributes in a class.\n",
        "\n",
        "\n",
        "#example of setter: \n",
        "class flower :\n",
        "     def __init__(self):\n",
        "        self.type = \"sunflower\"\n",
        "     def set_name(self):\n",
        "         self.type = \"lily\"\n",
        "f= flower()\n",
        "print(f.type)  #before using\n",
        "f.set_name()\n",
        "print(f.type)   #after using setter"
      ],
      "metadata": {
        "id": "gi2jQm1a_ity",
        "outputId": "1856600b-8256-4b20-f635-f9c153f816de",
        "colab": {
          "base_uri": "https://localhost:8080/"
        }
      },
      "id": "gi2jQm1a_ity",
      "execution_count": null,
      "outputs": [
        {
          "output_type": "stream",
          "name": "stdout",
          "text": [
            "sunflower\n",
            "lily\n"
          ]
        }
      ]
    },
    {
      "cell_type": "code",
      "source": [
        "#getter:- this method return the information about the object but do not change the state of object. \n",
        "#These are the methods used in OOPS feature which helps to set the value to private attributes in a class.\n",
        "#example of getter:\n",
        "\n",
        "class flower: \n",
        "     def __init__(self):\n",
        "         self.type = \"sunflower\"\n",
        "     def get_name(self):\n",
        "         return self.type\n",
        "f = flower()\n",
        "a = f.get_name()\n",
        "print(a)"
      ],
      "metadata": {
        "id": "4ThWh-OVHCq5",
        "outputId": "47c89540-2ab1-4c05-e30c-740dd2807582",
        "colab": {
          "base_uri": "https://localhost:8080/"
        }
      },
      "id": "4ThWh-OVHCq5",
      "execution_count": null,
      "outputs": [
        {
          "output_type": "stream",
          "name": "stdout",
          "text": [
            "sunflower\n"
          ]
        }
      ]
    },
    {
      "cell_type": "code",
      "source": [
        "#Q5.What is method overriding in python? Write a python code to demonstrate method overriding.\n",
        "''' whenever we writing method with same signature in parent and child class called method overriding.\n",
        "in this case, the child class's method is called the overriding method and the parent class's method is called the overriden method.'''\n",
        "#example:-\n",
        "class singer:  \n",
        "    def sing(self):  \n",
        "        print(\"singing\")  \n",
        "class dancer(singer):  \n",
        "    def sing(self):  \n",
        "        print(\"Dancing\")  \n",
        "d = dancer()  \n",
        "d.sing()  "
      ],
      "metadata": {
        "id": "CHQ0ZWdYH7bt",
        "outputId": "0fbd09c4-1c3a-4a6b-ecaf-bca97679ccce",
        "colab": {
          "base_uri": "https://localhost:8080/"
        }
      },
      "id": "CHQ0ZWdYH7bt",
      "execution_count": null,
      "outputs": [
        {
          "output_type": "stream",
          "name": "stdout",
          "text": [
            "Dancing\n"
          ]
        }
      ]
    },
    {
      "cell_type": "code",
      "source": [],
      "metadata": {
        "id": "VbGcu_fTNYMm"
      },
      "id": "VbGcu_fTNYMm",
      "execution_count": null,
      "outputs": []
    }
  ],
  "metadata": {
    "kernelspec": {
      "display_name": "Python 3",
      "name": "python3"
    },
    "language_info": {
      "name": "python"
    },
    "colab": {
      "provenance": []
    }
  },
  "nbformat": 4,
  "nbformat_minor": 5
}