{
  "cells": [
    {
      "cell_type": "code",
      "source": [
        "#Q1. Which function is used to open a file? What are the different modes of opening a file? Explain each mode of file opening.\n",
        "\"\"\"In Python, the open() function is used to open a file. The syntax for opening a file is as follows:\n",
        "\n",
        "\n",
        "file_object = open(file_name, mode)\n",
        "\n",
        "where file_name is a string that represents the name of the file and mode is a string that represents the\n",
        "mode in which the file is opened.\n",
        "\n",
        "The different modes of opening a file are:\n",
        "\n",
        "'r' (Read Only): This mode opens a file for reading only. If the file does not exist, an error is raised.\n",
        "\n",
        "'w' (Write Only): This mode opens a file for writing only. If the file exists, \n",
        "its contents are truncated. If the file does not exist, a new file is created.\n",
        "\n",
        "'a' (Append Only): This mode opens a file for writing only. If the file exists,\n",
        "the data is appended to the end of the file. If the file does not exist, a new file is created.\n",
        "\n",
        "'x' (Write and Create Exclusive): This mode opens a file for writing only.\n",
        "If the file exists, an error is raised. If the file does not exist, a new file is created.\n",
        "\n",
        "'b' (Binary): This mode is used to open a binary file. It can be used in combination with any of\n",
        "the above modes, for example 'rb' for reading a binary file, 'wb' for writing a binary file, etc.\n",
        "\n",
        "'t' (Text): This mode is used to open a text file. It is the default mode and can be used in \n",
        "combination with any of the above modes, for example 'rt' for reading a text file, 'wt' for writing a text file, etc.\"\"\"\n"
      ],
      "metadata": {
        "id": "pcqoIuWpaaTz"
      },
      "id": "pcqoIuWpaaTz",
      "execution_count": null,
      "outputs": []
    },
    {
      "cell_type": "code",
      "source": [
        "#Q2. Why close() function is used? Why is it important to close a file?\n",
        "\"\"\"close() function is used to close the file, Closing a file will free up the resources that were tied with the file. \n",
        "It is done using the close() method in Python.\"\"\""
      ],
      "metadata": {
        "id": "n33HFM5ya4jJ"
      },
      "id": "n33HFM5ya4jJ",
      "execution_count": null,
      "outputs": []
    },
    {
      "cell_type": "code",
      "source": [
        "#Q3. Write a python program to create a text file. Write ‘I want to become a Data Scientist’ in that file. Then close the file.\n",
        "# Open this file and read the content of the file."
      ],
      "metadata": {
        "id": "M-oPHwNwbdem"
      },
      "id": "M-oPHwNwbdem",
      "execution_count": null,
      "outputs": []
    },
    {
      "cell_type": "code",
      "source": [
        "file = open(\"textfile.txt\", 'w')"
      ],
      "metadata": {
        "id": "BtvW6n4PhH-d"
      },
      "id": "BtvW6n4PhH-d",
      "execution_count": 1,
      "outputs": []
    },
    {
      "cell_type": "code",
      "source": [
        "file.write(\"I want to become data scientist.\")"
      ],
      "metadata": {
        "colab": {
          "base_uri": "https://localhost:8080/"
        },
        "id": "9P_3DjHahhxv",
        "outputId": "9cbf7fc6-d138-4ef3-812a-c2c01a66cc32"
      },
      "id": "9P_3DjHahhxv",
      "execution_count": 2,
      "outputs": [
        {
          "output_type": "execute_result",
          "data": {
            "text/plain": [
              "32"
            ]
          },
          "metadata": {},
          "execution_count": 2
        }
      ]
    },
    {
      "cell_type": "code",
      "source": [
        "file.close()"
      ],
      "metadata": {
        "id": "2SK3AiTZhvlz"
      },
      "id": "2SK3AiTZhvlz",
      "execution_count": 3,
      "outputs": []
    },
    {
      "cell_type": "code",
      "source": [
        "file = open(\"textfile.txt\", 'r')"
      ],
      "metadata": {
        "id": "PMoVOf0Hh0fE"
      },
      "id": "PMoVOf0Hh0fE",
      "execution_count": 4,
      "outputs": []
    },
    {
      "cell_type": "code",
      "source": [
        "data = file.read()"
      ],
      "metadata": {
        "id": "jF2BLoEMiIQc"
      },
      "id": "jF2BLoEMiIQc",
      "execution_count": 5,
      "outputs": []
    },
    {
      "cell_type": "code",
      "source": [
        "print(data)"
      ],
      "metadata": {
        "colab": {
          "base_uri": "https://localhost:8080/"
        },
        "id": "h-puqvqKiO2E",
        "outputId": "373cd294-411d-42fc-c5ad-3d044cbe365d"
      },
      "id": "h-puqvqKiO2E",
      "execution_count": 6,
      "outputs": [
        {
          "output_type": "stream",
          "name": "stdout",
          "text": [
            "I want to become data scientist.\n"
          ]
        }
      ]
    },
    {
      "cell_type": "code",
      "source": [
        "#Q4. Explain the following with python code: read(), readline() and readlines().\n"
      ],
      "metadata": {
        "id": "Gnu44huziRSs"
      },
      "id": "Gnu44huziRSs",
      "execution_count": null,
      "outputs": []
    },
    {
      "cell_type": "code",
      "source": [
        "#read(n)\n",
        "\"\"\" read at most n bytes , if no n is specified , read the entire file.\n",
        "return the read bytes in the form of a string.\"\"\"\n",
        "#example:-\n",
        "\n",
        "file = open(\"textfile.txt\", \"r\")\n",
        "contents = file.read(6)\n",
        "print(contents)\n",
        "file.close()\n"
      ],
      "metadata": {
        "colab": {
          "base_uri": "https://localhost:8080/"
        },
        "id": "PJ86lDdxnvR2",
        "outputId": "bc09a759-07b3-4bc9-be76-495ef097a187"
      },
      "id": "PJ86lDdxnvR2",
      "execution_count": 10,
      "outputs": [
        {
          "output_type": "stream",
          "name": "stdout",
          "text": [
            "I want\n"
          ]
        }
      ]
    },
    {
      "cell_type": "code",
      "source": [
        "#readline()\n",
        "\"\"\"The readline() method returns one line from the file. if n is specified read at most n bytes\n",
        "return read byte in the form of string ending with \\n charatcer\"\"\"\n",
        "#example:-\n",
        "file = open(\"textfile.txt\", 'w')\n",
        "file.write(\"I am a student of pw batch \\n\" )\n",
        "file.write(\"I want to become data scientist.\")\n",
        "file = open(\"textfile.txt\", \"r\")\n",
        "contents = file.readline()\n",
        "print(contents)\n",
        "file.close()\n"
      ],
      "metadata": {
        "colab": {
          "base_uri": "https://localhost:8080/"
        },
        "id": "VjO9or1lo5Ll",
        "outputId": "5a6b9c43-8b43-4aff-f0a2-610d6cc64b0f"
      },
      "id": "VjO9or1lo5Ll",
      "execution_count": 14,
      "outputs": [
        {
          "output_type": "stream",
          "name": "stdout",
          "text": [
            "I am a student of pw batch \n",
            "\n"
          ]
        }
      ]
    },
    {
      "cell_type": "code",
      "source": [
        "#readlines()\n",
        "\"\"\"read all the lines of text file and\n",
        "return in the form of list\"\"\"\n",
        "#example:-\n",
        "file = open(\"textfile.txt\", 'w')\n",
        "file.write(\"I am a student of pw batch \\n\" )\n",
        "file.write(\"I want to become data scientist.\")\n",
        "file = open(\"textfile.txt\", \"r\")\n",
        "contents = file.readlines()\n",
        "\n",
        "print(contents)\n",
        "file.close()\n",
        "print(\"type = \", type(contents))\n",
        "\n"
      ],
      "metadata": {
        "colab": {
          "base_uri": "https://localhost:8080/"
        },
        "id": "y4QGlCT-pliP",
        "outputId": "3c2085fa-444a-4de3-8200-0101ec742336"
      },
      "id": "y4QGlCT-pliP",
      "execution_count": 17,
      "outputs": [
        {
          "output_type": "stream",
          "name": "stdout",
          "text": [
            "['I am a student of pw batch \\n', 'I want to become data scientist.']\n",
            "type =  <class 'list'>\n"
          ]
        }
      ]
    },
    {
      "cell_type": "code",
      "source": [
        "#Q5. Explain why with statement is used with open(). What is the advantage of using with statement and open() together?\n",
        "\"\"\"The with statement is used with the open() function in Python to create a context in which a \n",
        "file is automatically closed after the block of code inside the with statement has been executed. \n",
        "This is a convenient way to handle files because it ensures that the file is closed even if an exception \n",
        "occurs within the with block, which would normally leave the file open.\"\"\"\n",
        " #advantages:-\n",
        " \"\"\" The advantage of using the with statement with open() is that it makes it easier to handle files correctly,\n",
        "because it ensures that the file is closed, even if an error occurs. This helps to prevent resource leaks and \n",
        "other problems that can occur when a file is not closed properly. Additionally, it makes the code more concise\n",
        "and easier to read, because the file is automatically closed without having to add an explicit close() call.\n",
        "\n",
        "In general, it is a good practice to use the with statement with open() whenever you need to work with a file \n",
        "in Python, because it helps to ensure that files are handled correctly and helps to avoid resource leaks and other problems.\"\"\""
      ],
      "metadata": {
        "id": "zvpgKTCOrOhy"
      },
      "id": "zvpgKTCOrOhy",
      "execution_count": null,
      "outputs": []
    },
    {
      "cell_type": "code",
      "source": [
        "#Q6. Explain the write() and writelines() functions. Give a suitable example.\n",
        "\"\"\" write() is used to write a string to an already opened file\n",
        "writelines() method is used to write a list of strings in an opened file. \"\"\"\n",
        "#example:-\n",
        "file = open(\"textfile.txt\", 'w')\n",
        "file.write('I am coder')  \n",
        "file=open('textfile.txt','r');\n",
        "print(file.read())\n",
        "file.close()\n",
        "\n"
      ],
      "metadata": {
        "colab": {
          "base_uri": "https://localhost:8080/"
        },
        "id": "hoOfB-IMstRc",
        "outputId": "a44cc3e6-16b3-4c9c-92d0-418e497c39d7"
      },
      "id": "hoOfB-IMstRc",
      "execution_count": 21,
      "outputs": [
        {
          "output_type": "stream",
          "name": "stdout",
          "text": [
            "I am coder\n"
          ]
        }
      ]
    },
    {
      "cell_type": "code",
      "source": [
        "file = open('textfile2.txt','w') \n",
        "file.writelines(['I am writelines','\\nwith multiple lines!'])\n",
        "file=open('textfile2.txt','r');\n",
        "print(file.read())\n",
        "file.close()"
      ],
      "metadata": {
        "colab": {
          "base_uri": "https://localhost:8080/"
        },
        "id": "-wemWPoTyqYc",
        "outputId": "8681c5fa-fd32-42b6-cbd1-d8724bec4f43"
      },
      "id": "-wemWPoTyqYc",
      "execution_count": 22,
      "outputs": [
        {
          "output_type": "stream",
          "name": "stdout",
          "text": [
            "I am writelines\n",
            "with multiple lines!\n"
          ]
        }
      ]
    },
    {
      "cell_type": "code",
      "source": [],
      "metadata": {
        "id": "0WBnVMmHzKOS"
      },
      "id": "0WBnVMmHzKOS",
      "execution_count": null,
      "outputs": []
    }
  ],
  "metadata": {
    "kernelspec": {
      "display_name": "Python 3",
      "name": "python3"
    },
    "language_info": {
      "name": "python"
    },
    "colab": {
      "provenance": []
    }
  },
  "nbformat": 4,
  "nbformat_minor": 5
}