{
  "nbformat": 4,
  "nbformat_minor": 0,
  "metadata": {
    "colab": {
      "provenance": []
    },
    "kernelspec": {
      "name": "python3",
      "display_name": "Python 3"
    },
    "language_info": {
      "name": "python"
    }
  },
  "cells": [
    {
      "cell_type": "code",
      "execution_count": null,
      "metadata": {
        "colab": {
          "base_uri": "https://localhost:8080/"
        },
        "id": "a-j8PjgwuV2m",
        "outputId": "ced35560-0d91-4345-9071-5c662021536c"
      },
      "outputs": [
        {
          "output_type": "stream",
          "name": "stdout",
          "text": [
            "Requirement already satisfied: gtts in /usr/local/lib/python3.10/dist-packages (2.3.2)\n",
            "Requirement already satisfied: requests<3,>=2.27 in /usr/local/lib/python3.10/dist-packages (from gtts) (2.27.1)\n",
            "Requirement already satisfied: click<8.2,>=7.1 in /usr/local/lib/python3.10/dist-packages (from gtts) (8.1.6)\n",
            "Requirement already satisfied: urllib3<1.27,>=1.21.1 in /usr/local/lib/python3.10/dist-packages (from requests<3,>=2.27->gtts) (1.26.16)\n",
            "Requirement already satisfied: certifi>=2017.4.17 in /usr/local/lib/python3.10/dist-packages (from requests<3,>=2.27->gtts) (2023.7.22)\n",
            "Requirement already satisfied: charset-normalizer~=2.0.0 in /usr/local/lib/python3.10/dist-packages (from requests<3,>=2.27->gtts) (2.0.12)\n",
            "Requirement already satisfied: idna<4,>=2.5 in /usr/local/lib/python3.10/dist-packages (from requests<3,>=2.27->gtts) (3.4)\n"
          ]
        }
      ],
      "source": [
        "!pip install gtts #google text to speech!\n"
      ]
    },
    {
      "cell_type": "code",
      "source": [
        "from gtts import gTTS        #gTTS is a class from the gtts (Google Text-to-Speech) library.\n",
        "from IPython.display import Audio\n",
        "\n",
        "text = \"Hello, how are you divya.\"\n",
        "tts = gTTS(text=text, lang=\"en\")\n",
        "tts.save(\"welcome.mp3\")\n",
        "\n",
        "# Use IPython Audio to play the audio in the notebook\n",
        "Audio(\"welcome.mp3\", autoplay=True)\n"
      ],
      "metadata": {
        "id": "Hp0Bd5A9xEdV",
        "colab": {
          "base_uri": "https://localhost:8080/",
          "height": 76
        },
        "outputId": "7c984751-31ea-4c78-9303-cb26cf0fcc0e"
      },
      "execution_count": null,
      "outputs": [
        {
          "output_type": "execute_result",
          "data": {
            "text/plain": [
              "<IPython.lib.display.Audio object>"
            ],
            "text/html": [
              "\n",
              "                <audio  controls=\"controls\" autoplay=\"autoplay\">\n",
              "                    <source src=\"data:audio/mpeg;base64,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\" type=\"audio/mpeg\" />\n",
              "                    Your browser does not support the audio element.\n",
              "                </audio>\n",
              "              "
            ]
          },
          "metadata": {},
          "execution_count": 19
        }
      ]
    },
    {
      "cell_type": "code",
      "source": [
        "\"\"\"flow of code:\n",
        "1)Importing Libraries: The code starts by importing two libraries:\n",
        "gTTS from the gtts library: This class is responsible for generating text-to-speech audio using Google's Text-to-Speech API.\n",
        " Audio from IPython.display: This is a part of IPython library used to display audio directly in the notebook.\n",
        "2) defines a text message that needs to be converted into speech.\n",
        "3)It creates an instance(tts) of the gTTS class, which communicates with Google's Text-to-Speech API to generate\n",
        "the audio for the provided text in the desired language (English in this case).\n",
        "4)creating the gTTS object, you can save the generated audio as an MP3 file using the save() method of the gTTS class.\n",
        " save() method is called on the tts object( instance of the gTTS class).\n",
        "4)The generated audio is saved as an MP3 file named \"welcome.mp3.\"\n",
        "5)The audio is then played directly in the notebook using the Audio widget, allowing you to hear the spoken message \"Hello, how are you divya.\"\n",
        "\"\"\""
      ],
      "metadata": {
        "id": "PmELYftaEv9r"
      },
      "execution_count": null,
      "outputs": []
    },
    {
      "cell_type": "code",
      "source": [
        "\"\"\"summary: this program (function) takes input in the form of text and language, and then it communicates\n",
        "with Google's Text-to-Speech API using a URL provided by the gtts library or directly through the alternative code.\n",
        "\n",
        "The API's URL is like a built-in tool provided by Google to handle text-to-speech conversion.\n",
        " It understands the text and language you provide and processes it to generate the corresponding audio output.\n",
        "\n",
        "Once the API successfully generates the audio, it sends it back as a response.\n",
        " Your program retrieves this audio and converts it into a format (using the pydub library) that can be played or manipulated easily.\n",
        " Then, the program can either play the audio directly to the user (using the play function) or save it to a file for future use.\n",
        "\n",
        "So, your program acts as a bridge between your code and Google's Text-to-Speech service, allowing you to integrate text-to-speech\n",
        " functionality into your Python applications without the need to create the entire text-to-speech conversion process from scratch.\"\"\""
      ],
      "metadata": {
        "id": "9HuV1G7j4U_2"
      },
      "execution_count": null,
      "outputs": []
    },
    {
      "cell_type": "code",
      "source": [
        "from gtts import gTTS\n",
        "from IPython.display import Audio\n",
        "txt = input()\n",
        "tts = gTTS(txt,lang =\"hi\")\n",
        "tts.save(\"hello.mp3\")\n",
        "Audio(\"hello.mp3\")"
      ],
      "metadata": {
        "colab": {
          "base_uri": "https://localhost:8080/",
          "height": 93
        },
        "id": "9B8CXPVrGe4k",
        "outputId": "13ec2a49-5b5e-4534-949f-81cfe5d148ca"
      },
      "execution_count": null,
      "outputs": [
        {
          "name": "stdout",
          "output_type": "stream",
          "text": [
            "hey deepa how are you\n"
          ]
        },
        {
          "output_type": "execute_result",
          "data": {
            "text/plain": [
              "<IPython.lib.display.Audio object>"
            ],
            "text/html": [
              "\n",
              "                <audio  controls=\"controls\" >\n",
              "                    <source src=\"data:audio/mpeg;base64,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\" type=\"audio/mpeg\" />\n",
              "                    Your browser does not support the audio element.\n",
              "                </audio>\n",
              "              "
            ]
          },
          "metadata": {},
          "execution_count": 35
        }
      ]
    }
  ]
}