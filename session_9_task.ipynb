{
  "nbformat": 4,
  "nbformat_minor": 0,
  "metadata": {
    "colab": {
      "provenance": []
    },
    "kernelspec": {
      "name": "python3",
      "display_name": "Python 3"
    },
    "language_info": {
      "name": "python"
    }
  },
  "cells": [
    {
      "cell_type": "markdown",
      "source": [
        "### `Problem-1:` Class inheritence\n",
        "\n",
        "Create a **Bus** child class that inherits from the Vehicle class. The default fare charge of any vehicle is seating capacity * 100. If Vehicle is Bus instance, we need to add an extra 10% on full fare as a maintenance charge. So total fare for bus instance will become the final amount = total fare + 10% of the total fare.\n",
        "\n",
        "Note: The bus seating capacity is 50. so the final fare amount should be 5500. You need to override the fare() method of a Vehicle class in Bus class."
      ],
      "metadata": {
        "id": "BCleRtX43caS"
      }
    },
    {
      "cell_type": "code",
      "execution_count": 3,
      "metadata": {
        "id": "6jVFCXKz3YZI"
      },
      "outputs": [],
      "source": [
        "class Vehicle:\n",
        "      def __init__(self,capacity):\n",
        "          self.capacity = capacity\n",
        "\n",
        "      def fare(self):\n",
        "          amount =  self.capacity*100\n",
        "          return amount\n",
        "class Bus(Vehicle):\n",
        "      def fare(self):\n",
        "         default_fare =  super().fare()\n",
        "         final_fare = default_fare + (default_fare*0.1)\n",
        "         return final_fare"
      ]
    },
    {
      "cell_type": "code",
      "source": [
        "b = Bus(50)\n",
        "b.fare()"
      ],
      "metadata": {
        "colab": {
          "base_uri": "https://localhost:8080/"
        },
        "id": "tLgHCdC3NvqF",
        "outputId": "b621a52c-82a2-489e-8de5-fb3f193632e2"
      },
      "execution_count": 4,
      "outputs": [
        {
          "output_type": "execute_result",
          "data": {
            "text/plain": [
              "5500.0"
            ]
          },
          "metadata": {},
          "execution_count": 4
        }
      ]
    },
    {
      "cell_type": "markdown",
      "source": [
        "### `Problem-2:` Class Inheritence\n",
        "\n",
        "Create a Bus class that inherits from the Vehicle class. Give the capacity argument of *Bus.seating_capacity()* a default value of 50.\n",
        "\n",
        "Use the following code for your parent Vehicle class."
      ],
      "metadata": {
        "id": "KBbGNTtQ47mJ"
      }
    },
    {
      "cell_type": "code",
      "source": [
        "class Vehicle:\n",
        "    def __init__(self,capacity):\n",
        "        self.capacity = capacity\n",
        "\n",
        "    def seating_capacity(self):\n",
        "        return self.capacity\n",
        "\n",
        "class Bus(Vehicle):\n",
        "     def seating_capacity(self,capacity =50):\n",
        "        return capacity"
      ],
      "metadata": {
        "id": "MwOnYE_14M-r"
      },
      "execution_count": 9,
      "outputs": []
    },
    {
      "cell_type": "code",
      "source": [
        "b = Bus(60)\n",
        "print(b.seating_capacity())\n",
        "v = Vehicle(60)\n",
        "print(v.seating_capacity())"
      ],
      "metadata": {
        "id": "Py5Gr0ip5OBB",
        "colab": {
          "base_uri": "https://localhost:8080/"
        },
        "outputId": "e89c17f1-42c4-4f2b-e1f5-0850fb1f72e7"
      },
      "execution_count": 10,
      "outputs": [
        {
          "output_type": "stream",
          "name": "stdout",
          "text": [
            "50\n",
            "60\n"
          ]
        }
      ]
    },
    {
      "cell_type": "markdown",
      "source": [
        "### `Problem-3:` Write a program that has a class Point. Define another class Location which has two objects (Location & Destination) of class Point. Also define a function in Location that prints the reflection of Destination on the x axis."
      ],
      "metadata": {
        "id": "ExIxsv4y-oEd"
      }
    },
    {
      "cell_type": "code",
      "source": [
        "#without inheritance\n",
        "\n",
        "class Point:\n",
        "    def __init__(self,x,y):\n",
        "        self.x = x\n",
        "        self.y = y\n",
        "\n",
        "    def __str__(self):\n",
        "        return f\"({self.x},{self.y})\"\n",
        "class Location:\n",
        "      def __init__(self,location, destination):\n",
        "          self.location = Point(*location)\n",
        "          self.destination = Point(*destination)\n",
        "\n",
        "      def reflection_on_x_axis(self):\n",
        "          self.destination.y = - self.destination.y"
      ],
      "metadata": {
        "id": "yT2QtzQp5VAB"
      },
      "execution_count": 41,
      "outputs": []
    },
    {
      "cell_type": "code",
      "source": [
        "\n",
        "location = Location((3,5),(6,4))\n",
        "print(\"before reflection\")\n",
        "print(location.location)\n",
        "print(location.destination)\n",
        "\n",
        "location.reflection_on_x_axis()\n",
        "print(\"after reflection\")\n",
        "print(location.location)\n",
        "print(location.destination)"
      ],
      "metadata": {
        "colab": {
          "base_uri": "https://localhost:8080/"
        },
        "id": "qKaG9i68dj71",
        "outputId": "fc4a577b-5739-4ea4-f797-6d4440f85f6c"
      },
      "execution_count": 42,
      "outputs": [
        {
          "output_type": "stream",
          "name": "stdout",
          "text": [
            "before reflection\n",
            "(3,5)\n",
            "(6,4)\n",
            "after reflection\n",
            "(3,5)\n",
            "(6,-4)\n"
          ]
        }
      ]
    },
    {
      "cell_type": "code",
      "source": [
        "#using INHERITANCE\n",
        "class Point:\n",
        "    def __init__(self,x=0,y=0):\n",
        "        self.x = x\n",
        "        self.y = y\n",
        "\n",
        "    def __str__(self):\n",
        "        return f\"({self.x},{self.y})\"\n",
        "class Location(Point):\n",
        "     def reflection_on_x_axis(self):\n",
        "          self.y = - self.y"
      ],
      "metadata": {
        "id": "ryfTeZjbjAma"
      },
      "execution_count": 47,
      "outputs": []
    },
    {
      "cell_type": "code",
      "source": [
        "#class Location which has two objects (Location & Destination) of class Point.\n",
        "location = Location(3,4)\n",
        "Destination = Location(4,5)\n",
        "print('before reflection')\n",
        "print('location',location)\n",
        "print('destination',Destination)\n",
        "Destination.reflection_on_x_axis()\n",
        "print(\"after reflection\")\n",
        "print('location',location)\n",
        "print('destination',Destination)"
      ],
      "metadata": {
        "colab": {
          "base_uri": "https://localhost:8080/"
        },
        "id": "JCJZyeeAnr_W",
        "outputId": "075a839c-0b88-40b7-9e85-bb4f400f3592"
      },
      "execution_count": 48,
      "outputs": [
        {
          "output_type": "stream",
          "name": "stdout",
          "text": [
            "before reflection\n",
            "location (3,4)\n",
            "destination (4,5)\n",
            "after reflection\n",
            "location (3,4)\n",
            "destination (4,-5)\n"
          ]
        }
      ]
    },
    {
      "cell_type": "markdown",
      "source": [
        "### `Problem-4:` Write a program that has an abstract class Polygon. Derive two classes Rectangle and Triamgle from Polygon and write methods to get the details of their dimensions and hence calculate the area."
      ],
      "metadata": {
        "id": "OcQhJvXVALgp"
      }
    },
    {
      "cell_type": "code",
      "source": [
        "from abc import ABC , abstractmethod\n",
        "class Polygon(ABC):\n",
        "    @abstractmethod\n",
        "    def area(self):\n",
        "        pass\n",
        "\n",
        "class Rectangle(Polygon):\n",
        "      def area(self,length,width):\n",
        "          return length*width\n",
        "\n",
        "class Triangle(Polygon):\n",
        "     def area(self,base,height):\n",
        "         return (base*height)/2\n",
        "\n",
        "\n",
        ""
      ],
      "metadata": {
        "id": "9IMrtdUH__eA"
      },
      "execution_count": 49,
      "outputs": []
    },
    {
      "cell_type": "code",
      "source": [
        "rec = Rectangle()\n",
        "rec.area(3,4)\n",
        "tri = Triangle()\n",
        "tri.area(3,8)"
      ],
      "metadata": {
        "colab": {
          "base_uri": "https://localhost:8080/"
        },
        "id": "JSd9VhaEwKN4",
        "outputId": "ff33e519-eed2-4a7d-c01e-6b79701a6403"
      },
      "execution_count": 54,
      "outputs": [
        {
          "output_type": "execute_result",
          "data": {
            "text/plain": [
              "12.0"
            ]
          },
          "metadata": {},
          "execution_count": 54
        }
      ]
    },
    {
      "cell_type": "markdown",
      "source": [
        "### `Problem-5:` Write a program with class Bill. The users have the option to pay the bill either by cheque or by cash. Use the inheritance to model this situation."
      ],
      "metadata": {
        "id": "sEsGEqOHCSWG"
      }
    },
    {
      "cell_type": "code",
      "source": [
        "from abc import ABC, abstractmethod\n",
        "class Bill(ABC):\n",
        "     def __init__(self,total_amount, bill_details):\n",
        "         self.total_amount = total_amount\n",
        "         self.bill_details = bill_details\n",
        "     @abstractmethod\n",
        "     def pay(self):\n",
        "         pass\n",
        "\n",
        "class ChequeBill(Bill):\n",
        "     def __init__(self,total_amount, bill_details,cheque_number, bank_details):\n",
        "         super().__init__(total_amount, bill_details)\n",
        "         self.cheque_number = cheque_number\n",
        "         self.bank_details = bank_details\n",
        "\n",
        "     def pay(self):\n",
        "        print(\"paying by cheque....\")\n",
        "\n",
        "class CashBill(Bill):\n",
        "     def __init__(self,total_amount, bill_details,cash_tendered):\n",
        "         super().__init__(total_amount, bill_details)\n",
        "         self.cash_tendered = cash_tendered\n",
        "\n",
        "     def pay(self):\n",
        "        print(\"paying by cash..\")\n",
        "\n"
      ],
      "metadata": {
        "id": "l0WFyP2PB3nf"
      },
      "execution_count": 55,
      "outputs": []
    },
    {
      "cell_type": "code",
      "source": [
        "bill_details = \"Bill for service\"\n",
        "total_amount = 10000\n",
        "\n",
        "chequebill = ChequeBill(total_amount, bill_details,\"123456789\", \"ABC Bank\")\n",
        "chequebill.pay()\n",
        "print(chequebill.total_amount)\n",
        "\n",
        "cash_bill = CashBill(total_amount, bill_details, 1500.0)\n",
        "cash_bill.pay()\n"
      ],
      "metadata": {
        "colab": {
          "base_uri": "https://localhost:8080/"
        },
        "id": "0teWImKw4Uqr",
        "outputId": "0c292c71-a51e-430a-b1a3-f89152f3fe24"
      },
      "execution_count": 60,
      "outputs": [
        {
          "output_type": "stream",
          "name": "stdout",
          "text": [
            "paying by cheque....\n",
            "10000\n",
            "paying by cash..\n"
          ]
        }
      ]
    },
    {
      "cell_type": "markdown",
      "source": [
        "###`Q-6:` FlexibleDict\n",
        "As of now we are accessing values from dictionary with exact keys. Now we want to amend accessing values functionality. if a dict have key `1` (int) the even if we try to access values by giving `'1'` (1 as str) as key, we should get the same result and vice versa.\n",
        "\n",
        "Write a class `FlexibleDict` upon builtin `dict` class with above required functionality.\n",
        "\n",
        "Hint- `dict[key] => dict.__getitem__(key)`"
      ],
      "metadata": {
        "id": "v1M5Yh9ZZO0z"
      }
    },
    {
      "cell_type": "markdown",
      "source": [
        "Ex.\n",
        "```\n",
        "fd = FlexibleDict()\n",
        "fd['a'] = 100\n",
        "print(fd['a']) # Like regular dict\n",
        "\n",
        "fd[5] = 500\n",
        "print(fd[5]) # Like regular dict\n",
        "\n",
        "fd[1] = 100\n",
        "print(fd['1']) # actual Key is int but still trying to access through str key.\n",
        "fd['1'] = 100\n",
        "print(fd[1])\n",
        "\n",
        "```\n",
        "`Output:`\n",
        "```\n",
        "100\n",
        "500\n",
        "100\n",
        "100\n",
        "\n",
        "```"
      ],
      "metadata": {
        "id": "uajGeWegbfda"
      }
    },
    {
      "cell_type": "code",
      "source": [
        "class FlexibleDict(dict):\n",
        "    def __getitem__(self,key):\n",
        "       try:\n",
        "           return dict.__getitem__(self,key)\n",
        "       except KeyError:\n",
        "           try:\n",
        "               return dict.__getitem__(self,str(key))\n",
        "           except KeyError:\n",
        "              raise KeyError(key)"
      ],
      "metadata": {
        "id": "OHLbOtCxZ2nw"
      },
      "execution_count": 89,
      "outputs": []
    },
    {
      "cell_type": "code",
      "source": [
        "fd = FlexibleDict()\n",
        "fd[1] = 'one'\n",
        "fd['2'] = 'two'"
      ],
      "metadata": {
        "id": "7NM8r__dmeMf"
      },
      "execution_count": 90,
      "outputs": []
    },
    {
      "cell_type": "code",
      "source": [
        "print(fd[1])\n",
        "print(fd[2])"
      ],
      "metadata": {
        "id": "waHSud8Ymkz-",
        "colab": {
          "base_uri": "https://localhost:8080/"
        },
        "outputId": "ebda3d4b-559b-4e0b-e66f-3a9565fa0ab8"
      },
      "execution_count": 93,
      "outputs": [
        {
          "output_type": "stream",
          "name": "stdout",
          "text": [
            "one\n",
            "two\n"
          ]
        }
      ]
    }
  ]
}