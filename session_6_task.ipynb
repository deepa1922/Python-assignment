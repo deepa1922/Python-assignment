{
  "cells": [
    {
      "cell_type": "markdown",
      "metadata": {
        "id": "h6dDSW5XGZFi"
      },
      "source": [
        "### **`Problem-1:`** Write a Python function that takes a list and returns a new list with unique elements of the first list.\n",
        "\n",
        "**Exercise 1:**\n",
        "\n",
        "Input:\n",
        "\n",
        "```bash\n",
        "[1,2,3,3,3,3,4,5]\n",
        "```\n",
        "\n",
        "Output:\n",
        "\n",
        "```bash\n",
        "[1, 2, 3, 4, 5]\n",
        "```"
      ]
    },
    {
      "cell_type": "code",
      "execution_count": null,
      "metadata": {
        "id": "R5pq1C9LGe1y"
      },
      "outputs": [],
      "source": [
        "def unique_element(L):\n",
        "    unique = list(set(L))\n",
        "    return unique"
      ]
    },
    {
      "cell_type": "code",
      "execution_count": null,
      "metadata": {
        "colab": {
          "base_uri": "https://localhost:8080/"
        },
        "id": "MOU0fxZM9_Zg",
        "outputId": "1b16c4ca-adb5-40e3-f7e9-019ecb570c3c"
      },
      "outputs": [
        {
          "data": {
            "text/plain": [
              "[1, 2, 3, 4, 5]"
            ]
          },
          "execution_count": 5,
          "metadata": {},
          "output_type": "execute_result"
        }
      ],
      "source": [
        "unique_element([1,2,3,3,3,3,4,5])"
      ]
    },
    {
      "cell_type": "markdown",
      "metadata": {
        "id": "UxQ_VoyJGwHj"
      },
      "source": [
        "### **`Problem-2:`** Write a Python function that accepts a hyphen-separated sequence of words as parameter and returns the words in a hyphen-separated sequence after sorting them alphabetically.\n",
        "\n",
        "**Example 1:**\n",
        "\n",
        "Input:\n",
        "```bash\n",
        "green-red-yellow-black-white\n",
        "```\n",
        "\n",
        "Output:\n",
        "```bash\n",
        "black-green-red-white-yellow\n",
        "```"
      ]
    },
    {
      "cell_type": "code",
      "execution_count": null,
      "metadata": {
        "id": "QRiH9sZaHc7f"
      },
      "outputs": [],
      "source": [
        "def sort_hyphened_word(s):\n",
        "  if '-' in s:\n",
        "    word = s.split('-')\n",
        "    sorted_word = sorted(word)\n",
        "    sorted_string = '-'.join(sorted_word)\n",
        "    return sorted_string\n",
        "  else:\n",
        "     return 'string not allowed'"
      ]
    },
    {
      "cell_type": "code",
      "execution_count": null,
      "metadata": {
        "colab": {
          "base_uri": "https://localhost:8080/",
          "height": 52
        },
        "id": "DlN8hrMiITOB",
        "outputId": "f1bf791d-0c3f-4ba8-bf81-0078c52dceb5"
      },
      "outputs": [
        {
          "name": "stdout",
          "output_type": "stream",
          "text": [
            "enter a hyphened seperated stringgreen-red-yellow-black-white\n"
          ]
        },
        {
          "data": {
            "application/vnd.google.colaboratory.intrinsic+json": {
              "type": "string"
            },
            "text/plain": [
              "'black-green-red-white-yellow'"
            ]
          },
          "execution_count": 19,
          "metadata": {},
          "output_type": "execute_result"
        }
      ],
      "source": [
        "s = input(\"enter a hyphened seperated string\")\n",
        "sort_hyphened_word(s)"
      ]
    },
    {
      "cell_type": "markdown",
      "metadata": {
        "id": "IRGH62S7Gx_n"
      },
      "source": [
        "### **`Problem 3:`** Write a Python function that accepts a string and calculate the number of upper case letters and lower case letters.\n",
        "\n",
        "```\n",
        "Sample String : 'CampusX is an Online Mentorship Program fOr EnginEering studentS.'\n",
        "Expected Output :\n",
        "No. of Upper case characters :  9\n",
        "No. of Lower case Characters :  47\n",
        "```"
      ]
    },
    {
      "cell_type": "code",
      "execution_count": null,
      "metadata": {
        "id": "OaUrD8vVG5o8"
      },
      "outputs": [],
      "source": [
        "def count_upper_lower(s):\n",
        "   upper_count = 0\n",
        "   lower_count = 0\n",
        "\n",
        "   for char in s:\n",
        "       if char.isupper():\n",
        "          upper_count += 1\n",
        "       elif char.islower():\n",
        "          lower_count += 1\n",
        "\n",
        "   return upper_count, lower_count\n",
        "\n"
      ]
    },
    {
      "cell_type": "code",
      "execution_count": null,
      "metadata": {
        "colab": {
          "base_uri": "https://localhost:8080/"
        },
        "id": "dxsYrrfUKw9M",
        "outputId": "24f286e7-f042-4de2-d61a-db8061339fb8"
      },
      "outputs": [
        {
          "name": "stdout",
          "output_type": "stream",
          "text": [
            "enter string'CampusX is an Online Mentorship Program fOr EnginEering studentS.'\n",
            "uppercase 9\n",
            "lowercase 47\n"
          ]
        }
      ],
      "source": [
        "s = input(\"enter string\")\n",
        "uppercase, lowercase = count_upper_lower(s)      #tuple unpacked\n",
        "print(\"uppercase\",uppercase)                      #'CampusX is an Online Mentorship Program fOr EnginEering studentS.'\n",
        "print(\"lowercase\",lowercase)"
      ]
    },
    {
      "cell_type": "markdown",
      "metadata": {
        "id": "V1BFFdYQG7Sn"
      },
      "source": [
        "### **`Problem 4:`** Write a Python program to print the even numbers from a given list.\n",
        "```\n",
        "Sample List : [1, 2, 3, 4, 5, 6, 7, 8, 9]\n",
        "Expected Result : [2, 4, 6, 8]\n",
        "```"
      ]
    },
    {
      "cell_type": "code",
      "execution_count": null,
      "metadata": {
        "id": "VvAReLoDG_Z3"
      },
      "outputs": [],
      "source": [
        "\n",
        "def even_num(L):\n",
        "  result = []\n",
        "  for num in L:\n",
        "      if num%2==0:\n",
        "         result.append(num)\n",
        "  return result"
      ]
    },
    {
      "cell_type": "code",
      "execution_count": null,
      "metadata": {
        "colab": {
          "base_uri": "https://localhost:8080/"
        },
        "id": "l74Wo_CJTlif",
        "outputId": "08c88a0e-4cec-49ab-98cf-ae497ad6acbf"
      },
      "outputs": [
        {
          "name": "stdout",
          "output_type": "stream",
          "text": [
            "[2, 4, 6, 8]\n"
          ]
        }
      ],
      "source": [
        "output = even_num( [1, 2, 3, 4, 5, 6, 7, 8, 9])\n",
        "print(output)"
      ]
    },
    {
      "cell_type": "markdown",
      "metadata": {
        "id": "qrK39Gn-HHb4"
      },
      "source": [
        "### **`Problem 5:`** Write a Python function to check whether a number is perfect or not.\n",
        "\n",
        "A Perfect number is a number that is half the sum of all of its positive divisors (including itself).\n",
        "\n",
        "Example :\n",
        "\n",
        "```\n",
        "The first perfect number is 6, because 1, 2, and 3 are its proper positive divisors, and 1 + 2 + 3 = 6.\n",
        "Equivalently, the number 6 is equal to half the sum of all its positive divisors: ( 1 + 2 + 3 + 6 ) / 2 = 6.\n",
        "\n",
        "The next perfect number is 28 = 1 + 2 + 4 + 7 + 14. This is followed by the perfect numbers 496 and 8128.\n",
        "```\n"
      ]
    },
    {
      "cell_type": "code",
      "execution_count": null,
      "metadata": {
        "id": "yhgJrnzCTkdJ"
      },
      "outputs": [],
      "source": [
        "def perfect_num(num):\n",
        "    divisors = []\n",
        "    for i in range(1,num):\n",
        "        if num % i == 0:\n",
        "           divisors.append(i)\n",
        "\n",
        "    sum_divisors = sum(divisors)\n",
        "    if sum_divisors == num:\n",
        "       return 'perfect number'\n",
        "    else:\n",
        "        return 'not perfect'\n"
      ]
    },
    {
      "cell_type": "code",
      "execution_count": null,
      "metadata": {
        "colab": {
          "base_uri": "https://localhost:8080/"
        },
        "id": "P-OI7H78HICs",
        "outputId": "34ad4123-9a3f-4e25-c264-c2b7d15dadca"
      },
      "outputs": [
        {
          "name": "stdout",
          "output_type": "stream",
          "text": [
            "6\n",
            "perfect number\n"
          ]
        }
      ],
      "source": [
        "num = int(input())\n",
        "result = perfect_num(num)\n",
        "print(result)"
      ]
    },
    {
      "cell_type": "code",
      "execution_count": null,
      "metadata": {
        "id": "sFfIbCOudBzS"
      },
      "outputs": [],
      "source": [
        "# another way the number 6 is equal to half the sum of all its positive divisors: ( 1 + 2 + 3 + 6 ) / 2 = 6.\n",
        "def perfect_num(num):\n",
        "   divisors = []\n",
        "   for i in range(1,num+1):\n",
        "       if num%i==0:\n",
        "          divisors.append(i)\n",
        "   sum_divisors = sum(divisors)\n",
        "\n",
        "   if sum_divisors == 2* num :\n",
        "       return 'perfect number'\n",
        "   else:\n",
        "        return 'not perfect'"
      ]
    },
    {
      "cell_type": "code",
      "execution_count": null,
      "metadata": {
        "colab": {
          "base_uri": "https://localhost:8080/"
        },
        "id": "KEaQxpAZeZpe",
        "outputId": "052b0c6d-c7a6-4d04-c347-baa909a18151"
      },
      "outputs": [
        {
          "name": "stdout",
          "output_type": "stream",
          "text": [
            "enter number6\n",
            "perfect number\n"
          ]
        }
      ],
      "source": [
        "num = int(input(\"enter number\"))\n",
        "result = perfect_num(num)\n",
        "print(result)"
      ]
    },
    {
      "cell_type": "markdown",
      "metadata": {
        "id": "oZdpcG77HO-6"
      },
      "source": [
        "### **`Problem-6:`** Write a Python function to concatenate any no of dictionaries to create a new one.\n",
        "\n",
        "```\n",
        "Sample Dictionary :\n",
        "dic1={1:10, 2:20}\n",
        "dic2={3:30, 4:40}\n",
        "dic3={5:50,6:60}\n",
        "Expected Result : {1: 10, 2: 20, 3: 30, 4: 40, 5: 50, 6: 60}\n",
        "```"
      ]
    },
    {
      "cell_type": "code",
      "execution_count": null,
      "metadata": {
        "id": "LQgfAY4ZHPhj"
      },
      "outputs": [],
      "source": [
        "def merge_dict(*dicts):\n",
        "   result ={}\n",
        "   for dictionary in dicts:\n",
        "       result.update(dictionary)\n",
        "   return result"
      ]
    },
    {
      "cell_type": "code",
      "execution_count": null,
      "metadata": {
        "colab": {
          "base_uri": "https://localhost:8080/"
        },
        "id": "ncjFgX7iSZoS",
        "outputId": "21da4d11-3141-44a2-ab65-bf5cc9d59ba1"
      },
      "outputs": [
        {
          "data": {
            "text/plain": [
              "{1: 10, 2: 20, 3: 30, 4: 40, 5: 50, 6: 60}"
            ]
          },
          "execution_count": 7,
          "metadata": {},
          "output_type": "execute_result"
        }
      ],
      "source": [
        "dic1={1:10, 2:20}\n",
        "dic2={3:30, 4:40}\n",
        "dic3={5:50,6:60}\n",
        "merge_dict(dic1, dic2, dic3)"
      ]
    },
    {
      "cell_type": "markdown",
      "metadata": {
        "id": "jQ6SzbCkHRd0"
      },
      "source": [
        "`Problem-7` Write a python function that accepts a string as input and returns the word with most occurence.\n",
        "\n",
        "```\n",
        "Input:\n",
        "hello how are you i am fine thank you\n",
        "```\n",
        "\n",
        "```\n",
        "Output\n",
        "you -> 2\n",
        "```"
      ]
    },
    {
      "cell_type": "code",
      "execution_count": null,
      "metadata": {
        "id": "ss-XRrsJehnB"
      },
      "outputs": [],
      "source": [
        "def most_occur_word(s):\n",
        "    word_count = {}\n",
        "    words = s.split()\n",
        "    for word in words:\n",
        "        if word in word_count:\n",
        "           word_count[word] += 1\n",
        "        else:\n",
        "            word_count[word] = 1                        #word_count = {'hello': 1, 'how': 1, 'are': 1, 'you': 2, 'i': 1, 'am': 1, 'fine': 1, 'thank': 1}\n",
        "    max_count = 0\n",
        "    most_common_word = \"\"\n",
        "    for word,count in word_count.items():\n",
        "       if count> max_count:\n",
        "          max_count = count\n",
        "          most_common_word = word\n",
        "    return most_common_word , max_count\n"
      ]
    },
    {
      "cell_type": "code",
      "execution_count": null,
      "metadata": {
        "colab": {
          "base_uri": "https://localhost:8080/"
        },
        "id": "3goeA-yMi0SC",
        "outputId": "d7a8d22e-08a2-43ee-8d86-d7ff81d2a318"
      },
      "outputs": [
        {
          "name": "stdout",
          "output_type": "stream",
          "text": [
            "you --> 2\n"
          ]
        }
      ],
      "source": [
        "word,count = most_occur_word('hello how are you i am fine thank you')\n",
        "print(word,\"-->\",count)"
      ]
    },
    {
      "cell_type": "code",
      "execution_count": null,
      "metadata": {
        "id": "n26ngQO-mlk1"
      },
      "outputs": [],
      "source": [
        "#2nd way\n",
        "def most_occur_word(s):\n",
        "    word_count = {}\n",
        "    words = s.split()\n",
        "    for word in words:\n",
        "        if word in word_count:\n",
        "           word_count[word] += 1\n",
        "        else:\n",
        "            word_count[word] = 1\n",
        "    most_common_word = max(word_count, key = word_count.get)\n",
        "    return most_common_word, word_count[most_common_word]"
      ]
    },
    {
      "cell_type": "code",
      "execution_count": null,
      "metadata": {
        "colab": {
          "base_uri": "https://localhost:8080/"
        },
        "id": "yyId8un-nBPe",
        "outputId": "6dec8e5e-ce6c-46c9-b897-31c810cb0221"
      },
      "outputs": [
        {
          "name": "stdout",
          "output_type": "stream",
          "text": [
            "you --> 2\n"
          ]
        }
      ],
      "source": [
        "word, count = most_occur_word('hello how are you i am fine thank you')\n",
        "print(word,\"-->\",count)"
      ]
    },
    {
      "cell_type": "code",
      "execution_count": null,
      "metadata": {
        "id": "-IJIAf2zg6WZ"
      },
      "outputs": [],
      "source": [
        "alternative = \"\"\"max_count = 0\n",
        "most_common_word = \"\"\n",
        "for word,count in word_count.items():\n",
        "    if count> max_count:\n",
        "       max_count = count\n",
        "       most_common_word = word\n",
        "return max_count, most_common_count\n",
        "\n",
        "  alternative:\n",
        "  most_common_word = max(word_count, key = word_count.get)\n",
        "  return most_common_word, word_count[most_common_word]\n",
        "       \"\"\""
      ]
    },
    {
      "cell_type": "markdown",
      "metadata": {
        "id": "1r8SpVntI-IW"
      },
      "source": [
        "`Problem-8` Write a python function that receives a list of integers and prints out a histogram of bin size 10\n",
        "\n",
        "```\n",
        "Input:\n",
        "[13,42,15,37,22,39,41,50]\n",
        "```\n",
        "\n",
        "```\n",
        "Output:\n",
        "{11-20:2,21-30:1,31-40:2,41-50:3}\n",
        "```"
      ]
    },
    {
      "cell_type": "code",
      "execution_count": null,
      "metadata": {
        "id": "7W0J8rUjJovg"
      },
      "outputs": [],
      "source": [
        "def print_histogram(numbers):\n",
        "    histogram = {}\n",
        "    for num in numbers:\n",
        "        bin_start = (num//10)*10\n",
        "        bin_end = bin_start+10\n",
        "        bin_label =  f\"{bin_start+1}-{bin_end}\"         # _-_\n",
        "        if bin_label not in histogram:\n",
        "           histogram[bin_label] = 1                                             #other way- histrogram[bin_label] = histrogram.get(bin_label , 0)+1\n",
        "        else:\n",
        "           histogram[bin_label] += 1                                                          #histrogram ={11-20:1,....}   bin_label:count (1)\n",
        "    for bin_label,count in sorted(histogram.items(),key = lambda x: int(x[0].split('-')[0])):                 #sorting based on key-> [0] for value [1]\n",
        "         print(f\"{bin_label}:{count}\")\n"
      ]
    },
    {
      "cell_type": "code",
      "source": [
        "numbers = [13,42,15,37,22,39,41,50]\n",
        "print_histogram(numbers)"
      ],
      "metadata": {
        "colab": {
          "base_uri": "https://localhost:8080/"
        },
        "id": "xmPKGWY6gUSI",
        "outputId": "bae67918-686a-4dd3-ea40-6c3aac1d94ed"
      },
      "execution_count": null,
      "outputs": [
        {
          "output_type": "stream",
          "name": "stdout",
          "text": [
            "11-20:2\n",
            "21-30:1\n",
            "31-40:2\n",
            "41-50:2\n",
            "51-60:1\n"
          ]
        }
      ]
    },
    {
      "cell_type": "markdown",
      "metadata": {
        "id": "1P2-rbgXKE53"
      },
      "source": [
        "`Problem-9` Write a python function that accepts a list of 2D co-ordinates and a query point, and then finds the the co-ordinate which is closest in terms of distance from the query point.\n",
        "\n",
        "```\n",
        "List of Coordinates\n",
        "[(1,1),(2,2),(3,3),(4,4)]\n",
        "Query Point\n",
        "(0,0)\n",
        "```\n",
        "\n",
        "```\n",
        "Output\n",
        "Nearest to (0,0) is (1,1)\n",
        "```"
      ]
    },
    {
      "cell_type": "code",
      "execution_count": null,
      "metadata": {
        "id": "zjn7vSTIJ81G"
      },
      "outputs": [],
      "source": [
        "import math\n",
        "def find_nearest_distance(coordinates,query_pt):\n",
        "    if not coordinates:\n",
        "       return None\n",
        "    min_distance = float('inf')\n",
        "    nearest_coordinate = None\n",
        "    for coordinate in coordinates:\n",
        "        distance = math.sqrt((coordinate[0]-query_pt[0])**2 + (coordinate[1]-query_pt[1])**2)\n",
        "        if  distance < min_distance:\n",
        "            min_distance = distance\n",
        "            nearest_coordinate = coordinate\n",
        "    return nearest_coordinate\n"
      ]
    },
    {
      "cell_type": "code",
      "source": [
        "coordinates= [(1,1),(2,2),(3,3),(4,4)]\n",
        "query_pt = (0,0)\n",
        "nearest = find_nearest_distance(coordinates,query_pt)\n",
        "print(f\"Nearest to {nearest} is {query_pt}\")"
      ],
      "metadata": {
        "colab": {
          "base_uri": "https://localhost:8080/"
        },
        "id": "XBjyppZqxGuh",
        "outputId": "bb08a5b6-ce0c-4561-e77c-4bd3bb411d4c"
      },
      "execution_count": null,
      "outputs": [
        {
          "output_type": "stream",
          "name": "stdout",
          "text": [
            "Nearest to (1, 1) is (0, 0)\n"
          ]
        }
      ]
    },
    {
      "cell_type": "markdown",
      "metadata": {
        "id": "i-B6igmyK9hB"
      },
      "source": [
        "`Problem-10`:Write a python program that receives a list of strings and performs bag of word operation on those strings\n",
        "\n",
        "https://en.wikipedia.org/wiki/Bag-of-words_model"
      ]
    },
    {
      "cell_type": "code",
      "execution_count": null,
      "metadata": {
        "id": "N2l1_AWULT-z"
      },
      "outputs": [],
      "source": [
        "# beg of word -> Bag of words is a technique in natural language processing (NLP) that represents text data by\n",
        "#counting the occurrence of each unique word, disregarding grammar and word order.\n",
        "\n",
        "def bag_of_word(strings):\n",
        "    word_count = {}\n",
        "    for string in strings:\n",
        "        words = string.split()\n",
        "        for word in words:\n",
        "             if word in word_count:\n",
        "                word_count[word] += 1\n",
        "             else:\n",
        "                  word_count[word] = 1\n",
        "    return word_count"
      ]
    },
    {
      "cell_type": "code",
      "source": [
        "strings = [\"I love Python\", \"Python is a powerful language\"]\n",
        "result = bag_of_word(strings)\n",
        "print(result)"
      ],
      "metadata": {
        "colab": {
          "base_uri": "https://localhost:8080/"
        },
        "id": "a9hFppfF3fdU",
        "outputId": "4d9c7f89-0b5f-4a96-a2dd-c6498bbdc883"
      },
      "execution_count": null,
      "outputs": [
        {
          "output_type": "stream",
          "name": "stdout",
          "text": [
            "{'I': 1, 'love': 1, 'Python': 2, 'is': 1, 'a': 1, 'powerful': 1, 'language': 1}\n"
          ]
        }
      ]
    },
    {
      "cell_type": "markdown",
      "metadata": {
        "id": "dHTRKb-DqMLw"
      },
      "source": [
        "###`Problem 11:` Write a Python program to add three given lists using Python map and lambda."
      ]
    },
    {
      "cell_type": "code",
      "execution_count": null,
      "metadata": {
        "id": "NfJdzyNZqNW-",
        "colab": {
          "base_uri": "https://localhost:8080/"
        },
        "outputId": "eaa0c525-e848-4f2c-99c8-d573c64018ba"
      },
      "outputs": [
        {
          "output_type": "stream",
          "name": "stdout",
          "text": [
            "[12, 15, 18]\n"
          ]
        }
      ],
      "source": [
        "list1 = [1, 2, 3]\n",
        "list2 = [4, 5, 6]\n",
        "list3 = [7, 8, 9]\n",
        "summed_list = list(map(lambda x,y,z:x+y+z,list1,list2,list3))\n",
        "print(summed_list)"
      ]
    },
    {
      "cell_type": "markdown",
      "metadata": {
        "id": "MgHP7mbUqO8l"
      },
      "source": [
        "###`Problem-12:`Write a Python program to create a list containing the power of said number in bases raised to the corresponding number in the index using Python map.\n",
        "`Input:`\n",
        "```\n",
        "list1 = [1,2,3,4,5,6]\n",
        "```\n",
        "`Output:`\n",
        "```\n",
        "[1,2,9,64,625,-]\n",
        "```\n"
      ]
    },
    {
      "cell_type": "code",
      "execution_count": null,
      "metadata": {
        "id": "gG3Dc6N3qbvN",
        "colab": {
          "base_uri": "https://localhost:8080/"
        },
        "outputId": "cc388eba-f578-4285-818b-d8b870c41130"
      },
      "outputs": [
        {
          "output_type": "execute_result",
          "data": {
            "text/plain": [
              "[1, 2, 9, 64, 625, 7776]"
            ]
          },
          "metadata": {},
          "execution_count": 6
        }
      ],
      "source": [
        "list1 = [1,2,3,4,5,6]\n",
        "list(map(lambda x,y: x**y,list1, range(len(list1)) ))"
      ]
    },
    {
      "cell_type": "markdown",
      "metadata": {
        "id": "G26SYq6vqdLN"
      },
      "source": [
        "###`Problem-13` Using filter() and list() functions and .lower() method filter all the vowels in a given string.\n",
        "\n"
      ]
    },
    {
      "cell_type": "code",
      "execution_count": null,
      "metadata": {
        "id": "zurga3DIqmEx",
        "colab": {
          "base_uri": "https://localhost:8080/"
        },
        "outputId": "ac47718a-eccc-463a-f8e3-775af24aaab7"
      },
      "outputs": [
        {
          "output_type": "execute_result",
          "data": {
            "text/plain": [
              "['I', 'a', 'e', 'a', 'i', 'o']"
            ]
          },
          "metadata": {},
          "execution_count": 10
        }
      ],
      "source": [
        "s = \"I am Learning Python\"\n",
        "list(filter(lambda x: x.lower() in 'aeiou',s))"
      ]
    },
    {
      "cell_type": "code",
      "source": [
        "s = \"I am Learning Python\"\n",
        "vowel = 'aeiou'\n",
        "list(filter(lambda x : x in 'aeiou',s.lower()))"
      ],
      "metadata": {
        "colab": {
          "base_uri": "https://localhost:8080/"
        },
        "id": "Kx21hryuUhP6",
        "outputId": "66d60353-5dca-4fcb-f29d-27af039ce0b8"
      },
      "execution_count": null,
      "outputs": [
        {
          "output_type": "execute_result",
          "data": {
            "text/plain": [
              "['i', 'a', 'e', 'a', 'i', 'o']"
            ]
          },
          "metadata": {},
          "execution_count": 12
        }
      ]
    },
    {
      "cell_type": "markdown",
      "metadata": {
        "id": "uQrsunZSqoYu"
      },
      "source": [
        "`Problem-14`: Use reduce to convert a 2D list to 1D"
      ]
    },
    {
      "cell_type": "code",
      "execution_count": null,
      "metadata": {
        "id": "E1YUwnfgqnka",
        "colab": {
          "base_uri": "https://localhost:8080/"
        },
        "outputId": "8d74e425-5190-403b-e293-c85b831de44f"
      },
      "outputs": [
        {
          "output_type": "stream",
          "name": "stdout",
          "text": [
            "[1, 2, 3, 3, 6, 7]\n"
          ]
        }
      ],
      "source": [
        "from functools import reduce\n",
        "lst_2d = [[1, 2, 3], [3, 6, 7]]\n",
        "lst_1d = reduce(lambda x,y:x+y,lst_2d)      #Instead of using operator.add to concatenate lists, you can use the + operator\n",
        "print(lst_1d)\n"
      ]
    },
    {
      "cell_type": "code",
      "source": [
        "from functools import reduce\n",
        "import operator\n",
        "lst_2d = [[1, 2, 3], [3, 6, 7]]               #reduce() function takes two arguments: the function (operator.add) and the sequence to be reduced (lst_2d).\n",
        "lst_1d = reduce(operator.add, lst_2d)         #operator.add function is used to concatenate the inner lists together.\n",
        "print(lst_1d)"
      ],
      "metadata": {
        "colab": {
          "base_uri": "https://localhost:8080/"
        },
        "id": "KPsLnv-2YeDN",
        "outputId": "c0360c52-6268-4a29-cf9f-e2fbb0e73e7d"
      },
      "execution_count": null,
      "outputs": [
        {
          "output_type": "stream",
          "name": "stdout",
          "text": [
            "[1, 2, 3, 3, 6, 7]\n"
          ]
        }
      ]
    },
    {
      "cell_type": "markdown",
      "metadata": {
        "id": "8-DLQEawt-_t"
      },
      "source": [
        "`Problem 15`- A dictionary contains following information about 5 employees:\n",
        "- First name\n",
        "- Last name\n",
        "- Age\n",
        "- Grade(Skilled,Semi-skilled,Highly skilled)<br>\n",
        "Write a program using map/filter/reduce to a list of employees(first name + last name) who are highly skilled"
      ]
    },
    {
      "cell_type": "code",
      "execution_count": null,
      "metadata": {
        "id": "OLvptttLs6OU"
      },
      "outputs": [],
      "source": [
        "# Write code here\n",
        "employees = [\n",
        "    {\n",
        "        'fname':'Nitish',\n",
        "        'lname':'Singh',\n",
        "        'age' : 33,\n",
        "        'grade':'skilled'\n",
        "    },\n",
        "    {\n",
        "        'fname':'Ankit',\n",
        "        'lname':'Verma',\n",
        "        'age' : 34,\n",
        "        'grade':'semi-skilled'\n",
        "    },\n",
        "    {\n",
        "        'fname':'Deepa',\n",
        "        'lname':'Saini',\n",
        "        'age' : 20,\n",
        "        'grade':'highly-skilled'\n",
        "    },\n",
        "    {\n",
        "        'fname':'Anurag',\n",
        "        'lname':'Kumar',\n",
        "        'age' : 30,\n",
        "        'grade':'skilled'\n",
        "    },\n",
        "    {\n",
        "        'fname':'Abhinav',\n",
        "        'lname':'Sharma',\n",
        "        'age' : 37,\n",
        "        'grade':'highly-skilled'\n",
        "    }\n",
        "\n",
        "]"
      ]
    },
    {
      "cell_type": "code",
      "execution_count": null,
      "metadata": {
        "colab": {
          "base_uri": "https://localhost:8080/"
        },
        "id": "vLX0FAQkui3y",
        "outputId": "49141099-8da7-4f48-dcc6-a68d88a317e7"
      },
      "outputs": [
        {
          "output_type": "execute_result",
          "data": {
            "text/plain": [
              "['Deepa Saini', 'Abhinav Sharma']"
            ]
          },
          "metadata": {},
          "execution_count": 20
        }
      ],
      "source": [
        "list(map(lambda x:x['fname'] + ' ' + x['lname'],list(filter(lambda x:True if x['grade'] == 'highly-skilled' else False,employees))))"
      ]
    },
    {
      "cell_type": "code",
      "execution_count": null,
      "metadata": {
        "id": "ldMjGfkgAMr9",
        "colab": {
          "base_uri": "https://localhost:8080/"
        },
        "outputId": "e6518a44-00cc-44c5-846d-58c9cf38ed57"
      },
      "outputs": [
        {
          "output_type": "stream",
          "name": "stdout",
          "text": [
            "['Deepa Saini', 'Abhinav Sharma']\n"
          ]
        }
      ],
      "source": [
        "higly_skilled_employee = list(filter(lambda emp: emp['grade']== 'highly-skilled', employees ))\n",
        "combined_name = list(map(lambda emp:emp['fname'] +' '+emp['lname'],higly_skilled_employee))\n",
        "print(combined_name)"
      ]
    },
    {
      "cell_type": "code",
      "source": [],
      "metadata": {
        "id": "9TjtD1IOiYAN"
      },
      "execution_count": null,
      "outputs": []
    }
  ],
  "metadata": {
    "colab": {
      "provenance": []
    },
    "kernelspec": {
      "display_name": "Python 3",
      "name": "python3"
    },
    "language_info": {
      "name": "python"
    }
  },
  "nbformat": 4,
  "nbformat_minor": 0
}