{
  "nbformat": 4,
  "nbformat_minor": 0,
  "metadata": {
    "colab": {
      "provenance": []
    },
    "kernelspec": {
      "name": "python3",
      "display_name": "Python 3"
    },
    "language_info": {
      "name": "python"
    }
  },
  "cells": [
    {
      "cell_type": "markdown",
      "source": [
        "# Task : Session 1\n",
        "Solve these questions own your own and try to test yourself what you have learned in the session.\n",
        "\n",
        "Happy Learning!"
      ],
      "metadata": {
        "id": "A05OG15VqOPF"
      }
    },
    {
      "cell_type": "markdown",
      "source": [
        "### Q1 :- Print the given strings as per stated format.\n",
        "\n",
        "**Given strings**:\n",
        "```\n",
        "\"Data\" \"Science\" \"Mentorship\" \"Program\"\n",
        "\"By\" \"CampusX\"\n",
        "```\n",
        "**Output**:\n",
        "```\n",
        "Data-Science-Mentorship-Program-started-By-CampusX\n",
        "```\n",
        "\n",
        "Concept- [Seperator and End]"
      ],
      "metadata": {
        "id": "2doIXf8bqe9_"
      }
    },
    {
      "cell_type": "code",
      "source": [
        "print(\"Data\", \"Science\" ,\"Mentorship\", \"Program\" ,\"By\" ,\"CampusX\",sep= '-')"
      ],
      "metadata": {
        "id": "-em6d3KErDtp",
        "colab": {
          "base_uri": "https://localhost:8080/"
        },
        "outputId": "42116089-6c72-46bc-becd-89df9fe7e087"
      },
      "execution_count": 3,
      "outputs": [
        {
          "output_type": "stream",
          "name": "stdout",
          "text": [
            "Data-Science-Mentorship-Program-By-CampusX\n"
          ]
        }
      ]
    },
    {
      "cell_type": "markdown",
      "source": [
        "### Q2:- Write a program that will convert celsius value to fahrenheit."
      ],
      "metadata": {
        "id": "1KUpN7ZTrC3_"
      }
    },
    {
      "cell_type": "code",
      "source": [
        "celsius = int(input(\"enter temp in celsius\"))\n",
        "fahrenheit = (celsius*1.8)+ 32\n",
        "print(\"the converted value is\",fahrenheit,\"fahrenheit\")"
      ],
      "metadata": {
        "id": "yxKYhYQiqWfj",
        "colab": {
          "base_uri": "https://localhost:8080/"
        },
        "outputId": "f0693870-fe5e-4389-b652-be3f4c067083"
      },
      "execution_count": 4,
      "outputs": [
        {
          "output_type": "stream",
          "name": "stdout",
          "text": [
            "enter temp in celsius30\n",
            "the converted value is 86.0 fahrenheit\n"
          ]
        }
      ]
    },
    {
      "cell_type": "markdown",
      "source": [
        "### Q3:- Take 2 numbers as input from the user.Write a program to swap the numbers without using any special python syntax."
      ],
      "metadata": {
        "id": "RLrOBBJurLB2"
      }
    },
    {
      "cell_type": "code",
      "source": [
        "# Taking input from the user\n",
        "num1 = int(input(\"Enter the first number: \"))\n",
        "num2 = int(input(\"Enter the second number: \"))\n",
        "\n",
        "print(\"Before swapping:\")\n",
        "print(\"num1 =\", num1)\n",
        "print(\"num2 =\", num2)\n",
        "\n",
        "# Swapping the numbers\n",
        "temp = num1\n",
        "num1 = num2\n",
        "num2 = temp\n",
        "\n",
        "print(\"After swapping:\")\n",
        "print(\"num1 =\", num1)\n",
        "print(\"num2 =\", num2)\n"
      ],
      "metadata": {
        "id": "yPn7if0TrJ4F",
        "colab": {
          "base_uri": "https://localhost:8080/"
        },
        "outputId": "d8fa8613-c663-40ed-c3dd-17aaeb937c02"
      },
      "execution_count": 7,
      "outputs": [
        {
          "output_type": "stream",
          "name": "stdout",
          "text": [
            "Enter the first number: 5\n",
            "Enter the second number: 4\n",
            "Before swapping:\n",
            "num1 = 5\n",
            "num2 = 4\n",
            "After swapping:\n",
            "num1 = 4\n",
            "num2 = 5\n"
          ]
        }
      ]
    },
    {
      "cell_type": "markdown",
      "source": [
        "### Q4:- Write a program to find the euclidean distance between two coordinates.Take both the coordinates from the user as input."
      ],
      "metadata": {
        "id": "waLCP1bjr7ML"
      }
    },
    {
      "cell_type": "code",
      "source": [
        "import math\n",
        "\n",
        "# Taking input from the user\n",
        "x1 = float(input(\"Enter the x-coordinate of the first point: \"))\n",
        "y1 = float(input(\"Enter the y-coordinate of the first point: \"))\n",
        "x2 = float(input(\"Enter the x-coordinate of the second point: \"))\n",
        "y2 = float(input(\"Enter the y-coordinate of the second point: \"))\n",
        "\n",
        "# Calculating the Euclidean distance\n",
        "distance = math.sqrt((x2 - x1)**2 + (y2 - y1)**2)\n",
        "\n",
        "# Printing the Euclidean distance\n",
        "print(\"The Euclidean distance between the two points is:\", distance)\n"
      ],
      "metadata": {
        "id": "Pl1Sv-xnrxnH",
        "colab": {
          "base_uri": "https://localhost:8080/"
        },
        "outputId": "e39a6fc7-02f7-41fd-bae6-65aab9f3011a"
      },
      "execution_count": 12,
      "outputs": [
        {
          "output_type": "stream",
          "name": "stdout",
          "text": [
            "Enter the x-coordinate of the first point: 2\n",
            "Enter the y-coordinate of the first point: 3\n",
            "Enter the x-coordinate of the second point: 4\n",
            "Enter the y-coordinate of the second point: 3\n",
            "The Euclidean distance between the two points is: 2.0\n"
          ]
        }
      ]
    },
    {
      "cell_type": "markdown",
      "source": [
        "### Q5:- Write a program to find the simple interest when the value of principle,rate of interest and time period is provided by the user.\n"
      ],
      "metadata": {
        "id": "VLrhg-FRsHjR"
      }
    },
    {
      "cell_type": "code",
      "source": [
        "# Taking input from the user\n",
        "principle = float(input(\"Enter the principle amount: \"))\n",
        "rate = float(input(\"Enter the rate of interest (in percentage): \"))\n",
        "time = float(input(\"Enter the time period (in years): \"))\n",
        "\n",
        "# Calculating the simple interest\n",
        "interest = (principle * rate * time) / 100\n",
        "\n",
        "# Printing the simple interest\n",
        "print(\"The simple interest is:\", interest)\n"
      ],
      "metadata": {
        "id": "s40DlReZsTmY",
        "colab": {
          "base_uri": "https://localhost:8080/"
        },
        "outputId": "db1cc19f-be17-448c-8229-a2bdeaabf45e"
      },
      "execution_count": 14,
      "outputs": [
        {
          "output_type": "stream",
          "name": "stdout",
          "text": [
            "Enter the principle amount: 5000\n",
            "Enter the rate of interest (in percentage): 10\n",
            "Enter the time period (in years): 10\n",
            "The simple interest is: 5000.0\n"
          ]
        }
      ]
    },
    {
      "cell_type": "markdown",
      "source": [
        "### Q6:- Write a program that will tell the number of dogs and chicken are there when the user will provide the value of total heads and legs.\n",
        "\n",
        "For example:\n",
        "Input:\n",
        "heads -> 4\n",
        "legs -> 12\n",
        "<br>\n",
        "Output:\n",
        "dogs -> 2\n",
        "chicken -> 2\n",
        "\n",
        "\n",
        "\n"
      ],
      "metadata": {
        "id": "LMy0BTUktYKa"
      }
    },
    {
      "cell_type": "code",
      "source": [
        "# Taking input from the user\n",
        "heads = int(input(\"Enter the total number of heads: \"))\n",
        "legs = int(input(\"Enter the total number of legs: \"))\n",
        "\n",
        "# Assuming all animals are chickens initially\n",
        "chickens = heads\n",
        "\n",
        "# Calculating the number of dogs\n",
        "while True:\n",
        "    dogs = heads - chickens\n",
        "    if (2 * chickens + 4 * dogs) == legs:\n",
        "        break\n",
        "    chickens -= 1\n",
        "\n",
        "# Printing the number of dogs and chickens\n",
        "print(\"Number of dogs:\", dogs)\n",
        "print(\"Number of chickens:\", chickens)\n"
      ],
      "metadata": {
        "id": "XSBvJoA4tXaG",
        "colab": {
          "base_uri": "https://localhost:8080/"
        },
        "outputId": "5757ca90-98fe-4077-e241-d4a951adb7c0"
      },
      "execution_count": 15,
      "outputs": [
        {
          "output_type": "stream",
          "name": "stdout",
          "text": [
            "Enter the total number of heads: 4\n",
            "Enter the total number of legs: 12\n",
            "Number of dogs: 2\n",
            "Number of chickens: 2\n"
          ]
        }
      ]
    },
    {
      "cell_type": "markdown",
      "source": [
        "### Q7:- Write a program to find the sum of squares of first n natural numbers where n will be provided by the user."
      ],
      "metadata": {
        "id": "gJ7C5kZYt4BP"
      }
    },
    {
      "cell_type": "code",
      "source": [
        "# Write your code here\n",
        "n = int(input(\"enter the number \"))\n",
        "sum=0\n",
        "i=1\n",
        "while(n>=i):\n",
        "  sum = sum+(i*i)\n",
        "  i+=1\n",
        "print(sum)"
      ],
      "metadata": {
        "id": "_tHsmEHzt2nX",
        "colab": {
          "base_uri": "https://localhost:8080/"
        },
        "outputId": "fb34a99a-7072-45fd-ce49-e2486062069f"
      },
      "execution_count": null,
      "outputs": [
        {
          "output_type": "stream",
          "name": "stdout",
          "text": [
            "enter the number 3\n",
            "14\n"
          ]
        }
      ]
    },
    {
      "cell_type": "markdown",
      "source": [
        "### Q8:- Given the first 2 terms of an Arithmetic Series.Find the Nth term of the series. Assume all inputs are provided by the user."
      ],
      "metadata": {
        "id": "FHrMM7g-yG1h"
      }
    },
    {
      "cell_type": "code",
      "source": [
        "# Write your code here\n",
        "a = int(input(\"enter first number\"))\n",
        "d =int(input(\"enter the difference\"))\n",
        "n = int(input(\"enter nth term \"))\n",
        "an = a+(n-1)*d\n",
        "print(an)"
      ],
      "metadata": {
        "id": "go4_kmZmyVSx",
        "colab": {
          "base_uri": "https://localhost:8080/"
        },
        "outputId": "09f8d8c6-3131-46ff-fcac-bc1a10cdf400"
      },
      "execution_count": null,
      "outputs": [
        {
          "output_type": "stream",
          "name": "stdout",
          "text": [
            "enter first number2\n",
            "enter the difference2\n",
            "enter nth term 5\n",
            "10\n"
          ]
        }
      ]
    },
    {
      "cell_type": "markdown",
      "source": [
        "### Q9:- Given 2 fractions, find the sum of those 2 fractions.Take the numerator and denominator values of the fractions from the user."
      ],
      "metadata": {
        "id": "QgyRX_es1oum"
      }
    },
    {
      "cell_type": "code",
      "source": [
        "# let 2 fraction is A/B , C/D\n",
        "A =int(input())\n",
        "B =int(input())\n",
        "C =int(input())\n",
        "D =int(input())\n",
        "result1 = (A*D)+(C*B)# CROSS MULTIPLY\n",
        "result2 = (B*D)\n",
        "\n",
        "print(\"the result is =\",result1/result2)\n",
        "print(\"the result is = {}/{}\".format(result1,result2))\n"
      ],
      "metadata": {
        "id": "X05xqFS1yW16",
        "colab": {
          "base_uri": "https://localhost:8080/"
        },
        "outputId": "5c8e50e9-dacc-4535-d7fe-255b24ed12d3"
      },
      "execution_count": null,
      "outputs": [
        {
          "output_type": "stream",
          "name": "stdout",
          "text": [
            "2\n",
            "3\n",
            "3\n",
            "7\n",
            "the result is = 1.0952380952380953\n",
            "the result is = 23/21\n"
          ]
        }
      ]
    },
    {
      "cell_type": "markdown",
      "source": [
        "### Q10:- Given the height, width and breadth of a milk tank, you have to find out how many glasses of milk can be obtained? Assume all the inputs are provided by the user.\n",
        "\n",
        "\n",
        "\n",
        "Input:<br>\n",
        "Dimensions of the milk tank<br>\n",
        "H = 20cm, L = 20cm, B = 20cm\n",
        "<br><br>\n",
        "Dimensions of the glass<br>\n",
        "h = 3cm, r = 1cm"
      ],
      "metadata": {
        "id": "eaql38ln13u7"
      }
    },
    {
      "cell_type": "code",
      "source": [
        "# Write your code here\n",
        "ht = int(input(\" height of tank\"))\n",
        "lt = int(input(\" length of tank\"))\n",
        "bt = int(input(\"breadth of tank\"))\n",
        "hg = int(input(\"height of glass \"))\n",
        "rg = int(input(\"radius of glass\"))\n",
        "vol_tank = ht*lt*bt\n",
        "vol_glass = (22/7)*(rg**2)*hg\n",
        "n = vol_tank/vol_glass\n",
        "print(n)"
      ],
      "metadata": {
        "id": "FePZqno74eWv",
        "colab": {
          "base_uri": "https://localhost:8080/"
        },
        "outputId": "53aaf11a-6204-4b62-e4e5-b731d9cddded"
      },
      "execution_count": null,
      "outputs": [
        {
          "output_type": "stream",
          "name": "stdout",
          "text": [
            " height of tank20\n",
            " length of tank20\n",
            "breadth of tank20\n",
            "height of glass 3\n",
            "radius of glass1\n",
            "848.4848484848485\n"
          ]
        }
      ]
    },
    {
      "cell_type": "code",
      "source": [],
      "metadata": {
        "id": "lXuL73cKhh_2"
      },
      "execution_count": null,
      "outputs": []
    }
  ]
}