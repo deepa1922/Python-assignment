{
  "nbformat": 4,
  "nbformat_minor": 0,
  "metadata": {
    "colab": {
      "provenance": []
    },
    "kernelspec": {
      "name": "python3",
      "display_name": "Python 3"
    },
    "language_info": {
      "name": "python"
    }
  },
  "cells": [
    {
      "cell_type": "markdown",
      "source": [
        "##`Q-1:` Rectangle Class\n",
        "1. Write a Rectangle class in Python language, allowing you to build a rectangle with length and width attributes.\n",
        "\n",
        "2. Create a Perimeter() method to calculate the perimeter of the rectangle and a Area() method to calculate the area of ​​the rectangle.\n",
        "\n",
        "3. Create a method display() that display the length, width, perimeter and area of an object created using an instantiation on rectangle class."
      ],
      "metadata": {
        "id": "FyUJ3PRAsPr4"
      }
    },
    {
      "cell_type": "markdown",
      "source": [
        "Eg.\n",
        "After making above classes and methods, on executing below code:-\n",
        "```\n",
        "my_rectangle = Rectangle(3 , 4)\n",
        "my_rectangle.display()\n",
        "```\n",
        "\n",
        "`Output:`\n",
        "```\n",
        "The length of rectangle is:  3\n",
        "The width of rectangle is:  4\n",
        "The perimeter of rectangle is:  14\n",
        "The area of rectangle is:  12\n",
        "```\n"
      ],
      "metadata": {
        "id": "GxUtOqJfssFK"
      }
    },
    {
      "cell_type": "code",
      "source": [
        "class Rectangle :\n",
        "    def __init__(self,x,y):\n",
        "        self.length = x\n",
        "        self.width = y\n",
        "    def RectanglePerimeter(self):\n",
        "        Perimeter = 2*(self.length+self.width)\n",
        "        return Perimeter\n",
        "\n",
        "    def RectangleArea(self):\n",
        "        Area = self.length*self.width\n",
        "        return Area\n",
        "    def Display(self):\n",
        "        print('The length of rectangle is:{}'.format(self.length))\n",
        "        print( 'The width of rectangle is:',self.length)\n",
        "        print( 'The Perimeter of rectangle is:',self.RectanglePerimeter())\n",
        "        print( 'The Area of rectangle is:',self.RectangleArea())\n",
        "\n"
      ],
      "metadata": {
        "id": "92_QT-Uj6NBg"
      },
      "execution_count": null,
      "outputs": []
    },
    {
      "cell_type": "code",
      "source": [
        "my_rectangle = Rectangle(3,4)\n",
        "my_rectangle.Display()\n"
      ],
      "metadata": {
        "colab": {
          "base_uri": "https://localhost:8080/"
        },
        "id": "xnq5zIhtaS6_",
        "outputId": "3e37319b-1a64-4502-a884-fd0b181a05ca"
      },
      "execution_count": null,
      "outputs": [
        {
          "output_type": "stream",
          "name": "stdout",
          "text": [
            "The length of rectangle is:3\n",
            "The width of rectangle is: 3\n",
            "The Perimeter of rectangle is: 14\n",
            "The Area of rectangle is: 12\n"
          ]
        }
      ]
    },
    {
      "cell_type": "markdown",
      "source": [
        "##`Q-2: Bank Class`\n",
        "\n",
        "1. Create a Python class called `BankAccount` which represents a bank account, having as attributes: `accountNumber` (numeric type), `name` (name of the account owner as string type), `balance`.\n",
        "2. Create a constructor with parameters: `accountNumber, name, balance`.\n",
        "3. Create a `Deposit()` method which manages the deposit actions.\n",
        "4. Create a `Withdrawal()` method  which manages withdrawals actions.\n",
        "5. Create an `bankFees()` method to apply the bank fees with a percentage of 5% of the balance account.\n",
        "6. Create a `display()` method to display account details.\n",
        "Give the complete code for the  BankAccount class.\\"
      ],
      "metadata": {
        "id": "r_GxrS0Vrdom"
      }
    },
    {
      "cell_type": "markdown",
      "source": [
        "Eg.\n",
        "After making above classes and methods, on executing below code:-\n",
        "```\n",
        "newAccount = BankAccount(2178514584, \"Mandy\" , 2800)\n",
        "\n",
        "newAccount.Withdrawal(700)\n",
        "\n",
        "newAccount.Deposit(1000)\n",
        "\n",
        "newAccount.display()\n",
        "```\n",
        "\n",
        "`Output:`\n",
        "```\n",
        "Account Number :  2178514584\n",
        "Account Name :  Mandy\n",
        "Account Balance :  3100 ₹\n",
        "```"
      ],
      "metadata": {
        "id": "qvVkOUJgvTV_"
      }
    },
    {
      "cell_type": "code",
      "source": [
        "class BankAccount:\n",
        "    def __init__(self,accountNumber, name, balance):\n",
        "        self.accountNumber = accountNumber\n",
        "        self.name = name\n",
        "        self.balance = balance\n",
        "        self.menu()\n",
        "\n",
        "    def menu(self):\n",
        "        while True:\n",
        "            user_input = input(\"\"\"hi how can i help you press\n",
        "                        1. Deposit money\n",
        "                      2.  withdraw money\n",
        "                      3.display information\n",
        "                      4. Exit\"\"\")\n",
        "            if user_input == '1':\n",
        "                 self.Deposit()\n",
        "            elif user_input == '2':\n",
        "                 self.withdrawal()\n",
        "            elif user_input == '3':\n",
        "                  self.display()\n",
        "            elif user_input =='4':\n",
        "                 break\n",
        "            else:\n",
        "                 print(\"Invalid choice. Please try again.\")\n",
        "\n",
        "\n",
        "    def Deposit(self):\n",
        "        account_number = int(input('enter account number'))\n",
        "        if account_number == self.accountNumber:\n",
        "           deposit_amount = int(input('enter the money to deposit'))\n",
        "           self.balance += deposit_amount\n",
        "           print('successfully deposit!your new  balance is',self.balance)\n",
        "        else:\n",
        "           print('invalid account number. unable to deposit')\n",
        "\n",
        "    def withdrawal(self):\n",
        "        account_number = int(input('enter account number'))\n",
        "        if account_number == self.accountNumber:\n",
        "           withdraw_amount = int(input('enter the amount to withdraw'))\n",
        "           if withdraw_amount <= self.balance:\n",
        "               self.balance -= withdraw_amount\n",
        "               print('withdraw succesfully',self.balance)\n",
        "           else:\n",
        "               print('Insufficient funds. Unable to withdraw.')\n",
        "        else:\n",
        "                print('invalid account number. unable to withdraw')\n",
        "\n",
        "    def bankfees(self):\n",
        "        fees = self.balance*0.5\n",
        "        self.balance = fees\n",
        "\n",
        "    def display(self):\n",
        "          print('name',self.name)\n",
        "          print('account number',self.accountNumber)\n",
        "          print('account balance',self.balance)\n",
        "\n"
      ],
      "metadata": {
        "id": "fUQOmQyA6YDR"
      },
      "execution_count": null,
      "outputs": []
    },
    {
      "cell_type": "code",
      "source": [
        "newAccount = BankAccount(2178514584, \"Mandy\" , 2800)           #when no menu\n"
      ],
      "metadata": {
        "colab": {
          "base_uri": "https://localhost:8080/"
        },
        "id": "-vBEVvoa56Ja",
        "outputId": "9d1737b5-7a63-4c11-da1e-30f111585fa3"
      },
      "execution_count": null,
      "outputs": [
        {
          "name": "stdout",
          "output_type": "stream",
          "text": [
            "hi how can i help you press\n",
            "                        1. Deposit money\n",
            "                      2.  withdraw money\n",
            "                      3.display information\n",
            "                      4. Exit1\n",
            "enter account number2178514584\n",
            "enter the money to deposit340\n",
            "successfully deposit!your new  balance is 3140\n",
            "hi how can i help you press\n",
            "                        1. Deposit money\n",
            "                      2.  withdraw money\n",
            "                      3.display information\n",
            "                      4. Exit4\n"
          ]
        }
      ]
    },
    {
      "cell_type": "code",
      "source": [
        "#2nd way\n",
        "class BankAccount:\n",
        "    def __init__(self,accountNumber,name, balance):\n",
        "       self.accountNumber = accountNumber\n",
        "       self.name = name\n",
        "       self.balance = balance\n",
        "\n",
        "    def Deposit(self,amount):\n",
        "        self.balance += amount\n",
        "    def Withdrawal(self,amount):\n",
        "        if amount <= self.balance:\n",
        "           self.balance -= amount\n",
        "        else:\n",
        "          print(\"insufficient fund\")\n",
        "    def BankFees(self):\n",
        "        fees = self.balaance*0.05\n",
        "        self.balance = fees\n",
        "    def display(self):\n",
        "        print(\"your account number\",self.accountNumber)\n",
        "        print(\"your name\",self.name)\n",
        "        print(\"acount balance\",self.balance)\n",
        "\n",
        "  #test\n",
        "newAccount = BankAccount(2178514584, \"Mandy\" , 2800)\n",
        "\n",
        "newAccount.Withdrawal(700)\n",
        "\n",
        "newAccount.Deposit(1000)\n",
        "\n",
        "newAccount.display()"
      ],
      "metadata": {
        "colab": {
          "base_uri": "https://localhost:8080/"
        },
        "id": "KMOMZerWFJOF",
        "outputId": "12b2beb2-9bc3-4609-8bed-999d41ea1723"
      },
      "execution_count": null,
      "outputs": [
        {
          "output_type": "stream",
          "name": "stdout",
          "text": [
            "your account number 2178514584\n",
            "your name Mandy\n",
            "acount balance 3100\n"
          ]
        }
      ]
    },
    {
      "cell_type": "markdown",
      "source": [
        "##`Q-3:Computation class`\n",
        "\n",
        "1. Create a `Computation` class with a default constructor (without parameters) allowing to perform various calculations on integers numbers.\n",
        "2. Create a method called `Factorial()` which allows to calculate the factorial of an integer n. Integer n as parameter for this method\n",
        "\n",
        "3. Create a method called `naturalSum()` allowing to calculate the sum of the first n integers 1 + 2 + 3 + .. + n. Integer n as parameter for this method.\n",
        "\n",
        "4. Create a method called `testPrime()` in  the Calculation class to test the primality of a given integer n, n is Prime or Not? Integer n as parameter for this method.\n",
        "\n",
        "5. Create  a method called `testPrims()` allowing to test if two numbers are prime between them. Two integers are prime to one another if they have only `1` as their common divisor. Eg. 4 and 9 are prime to each other.\n",
        "\n",
        "5. Create a `tableMult()` method which creates and displays the multiplication table of a given integer. Then create an `allTablesMult()` method to display all the integer multiplication tables 1, 2, 3, ..., 9.\n",
        "\n",
        "6. Create a static `listDiv()` method that gets all the divisors of a given integer on new list called  Ldiv. Create another `listDivPrim()` method that gets all the prime divisors of a given integer."
      ],
      "metadata": {
        "id": "QovcQAZTrgGU"
      }
    },
    {
      "cell_type": "code",
      "source": [
        "class Computation:\n",
        "     def __init__(self):\n",
        "         pass\n",
        "\n",
        "     def Factorial(self,n):\n",
        "         if n<0:\n",
        "            raise ValueError(\"Factorial is not defined for negative number\")\n",
        "         fact = 1\n",
        "         for i in range(1,n+1):\n",
        "            fact *= i\n",
        "         return fact\n",
        "     def naturalSum(self,n) :\n",
        "         sum = 0\n",
        "         for i in range(1,n+1):\n",
        "             sum+= i\n",
        "         return sum\n",
        "     def isPrime(self,n):                   #testprime = isPrime\n",
        "         if n<=1:\n",
        "            return False\n",
        "         for i in range(2,n):\n",
        "              if n%i == 0:\n",
        "                 return False\n",
        "         return True\n",
        "\n",
        "     def testPrime(self,n1,n2):\n",
        "           if self.isPrime(n1) and self.isPrime(n2):         #use self to use isprime method in test prime\n",
        "               return True\n",
        "           else:\n",
        "               return False\n",
        "\n",
        "     def  tableMult(self,n):\n",
        "          if n<1 or n>9:\n",
        "              raise ValueError(\"the number should be between 1 to 9\")\n",
        "          for i in range(1,11):\n",
        "             print(f\"{n} X {i} = {n*i}\")\n",
        "\n",
        "     def  allTablesMult(self):\n",
        "          for i in range(1,10):\n",
        "              f\"multiplication of {i} is :\"\n",
        "              self.tableMult(i)\n",
        "              print()\n",
        "     @staticmethod\n",
        "     def  listDiv(n):\n",
        "          Ldiv = []\n",
        "          for i in range(1,n+1):\n",
        "              if n%i==0 :\n",
        "                 Ldiv.append(i)\n",
        "          return Ldiv\n",
        "\n",
        "\n",
        "     def listDivPrim(self,n):\n",
        "         divisors = self.listDiv(n)\n",
        "         prime_div = []\n",
        "         for divisor in divisors:\n",
        "             if self.isPrime(divisor):\n",
        "                 prime_div.append(divisor)\n",
        "         return prime_div"
      ],
      "metadata": {
        "id": "YEkPH70l6Z-o"
      },
      "execution_count": 79,
      "outputs": []
    },
    {
      "cell_type": "code",
      "source": [
        "comp = Computation()\n",
        "\n",
        "divisors = comp.listDiv(24)\n",
        "print(\"All divisors of 24:\", divisors)\n",
        "\n",
        "divisor_object = Computation()\n",
        "prime_divisors = divisor_object.listDivPrim(24)\n",
        "print(\"All prime divisors of 24:\", prime_divisors)"
      ],
      "metadata": {
        "colab": {
          "base_uri": "https://localhost:8080/"
        },
        "id": "pU9bAwCUJOt4",
        "outputId": "8cf28449-88fc-49be-8a19-655553927e27"
      },
      "execution_count": 78,
      "outputs": [
        {
          "output_type": "stream",
          "name": "stdout",
          "text": [
            "All divisors of 24: [1, 2, 3, 4, 6, 8, 12, 24]\n",
            "All prime divisors of 24: [2, 3]\n"
          ]
        }
      ]
    },
    {
      "cell_type": "code",
      "source": [
        "comp = Computation()\n",
        "\n",
        "divisors = comp.listDiv(24)\n",
        "print(\"All divisors of 24:\", divisors)\n",
        "\n",
        "divisor_object = Computation()\n",
        "prime_divisors = divisor_object.listDivPrim(24)\n",
        "print(\"All prime divisors of 24:\", prime_divisors)\n"
      ],
      "metadata": {
        "colab": {
          "base_uri": "https://localhost:8080/"
        },
        "id": "8XW4JO8RFf45",
        "outputId": "a4aadeab-a6fd-456c-a04e-3c8acc364d3b"
      },
      "execution_count": 74,
      "outputs": [
        {
          "output_type": "stream",
          "name": "stdout",
          "text": [
            "All divisors of 24: [1, 2, 3, 4, 6, 8, 12, 24]\n",
            "All prime divisors of 24: [2, 3]\n"
          ]
        }
      ]
    },
    {
      "cell_type": "code",
      "source": [
        "#non static method so cant call directly Computation.Factorial(5)  need to create instance\n",
        "comp = Computation()\n",
        "print(comp.Factorial(5))\n",
        "print(comp.naturalSum(5))\n",
        "print(comp.isPrime(17))\n",
        "print(comp.testPrime(5,9))\n",
        "print(comp.tableMult(5))\n",
        "#comp.allTablesMult(5)\n",
        "print(Computation.listDiv(24))\n",
        "obj = Computation()\n",
        "print(obj.listDivPrim(24))\n",
        "#print(divisors)"
      ],
      "metadata": {
        "colab": {
          "base_uri": "https://localhost:8080/"
        },
        "id": "Ev3mFq4UpP2o",
        "outputId": "42727fda-b752-49e8-9b9c-115f1dae07af"
      },
      "execution_count": 82,
      "outputs": [
        {
          "output_type": "stream",
          "name": "stdout",
          "text": [
            "120\n",
            "15\n",
            "True\n",
            "False\n",
            "5 X 1 = 5\n",
            "5 X 2 = 10\n",
            "5 X 3 = 15\n",
            "5 X 4 = 20\n",
            "5 X 5 = 25\n",
            "5 X 6 = 30\n",
            "5 X 7 = 35\n",
            "5 X 8 = 40\n",
            "5 X 9 = 45\n",
            "5 X 10 = 50\n",
            "None\n",
            "[1, 2, 3, 4, 6, 8, 12, 24]\n",
            "[2, 3]\n"
          ]
        }
      ]
    },
    {
      "cell_type": "markdown",
      "source": [
        "##`Q-4`: Build flashcard using class in Python.\n",
        "\n",
        "Build a flashcard using class in python. A flashcard is a card having information on both sides, which can be used as an aid in memoization. Flashcards usually have a question on one side and an answer on the other.\n",
        "\n",
        "**Example 1:**\n",
        "\n",
        "Approach:\n",
        "\n",
        "- Create a class named FlashCard.\n",
        "- Initialize dictionary fruits using __init__() method. Here you have to define fruit name as key and it's color as value. E.g., {\"Banana\": \"yellow\", \"Strawberries\": \"pink\"}\n",
        "- Now randomly choose a pair from fruits by using _random_ module and store the key in variable _fruit_ and _value_ in variable color.\n",
        "- Now prompt the user to answer the color of the randomly chosen fruit.\n",
        "- If correct print correct else print wrong.\n",
        "\n",
        "Output:\n",
        "```bash\n",
        "welcome to fruit quiz\n",
        "What is the color of Strawberries\n",
        "pink\n",
        "Correct answer\n",
        "Enter 0, if you want to play again: 0\n",
        "What is the color of watermelon\n",
        "green\n",
        "Correct answer\n",
        "Enter 0, if you want to play again: 1\n",
        "```"
      ],
      "metadata": {
        "id": "0yn23_oEriXa"
      }
    },
    {
      "cell_type": "code",
      "source": [
        "import random\n",
        "class  FlashCard:\n",
        "     def __init__(self):\n",
        "        self.fruits = {\"Banana\": \"yellow\", \"Strawberries\": \"pink\", \"Watermelon\": \"green\"}\n",
        "     def play_flascard(self):\n",
        "           print('welcome to fruit quiz')\n",
        "           play_again = True\n",
        "           while play_again:\n",
        "                 fruit,color = random.choice(list(self.fruits.items()))\n",
        "                 print(\"what is the colour of\",fruit)\n",
        "                 user_answer = input(\"Answer \")\n",
        "                 if user_answer.lower() == color.lower():\n",
        "                    print(\"Correct Answer\")\n",
        "                    play_again = False\n",
        "                 else:\n",
        "                     print(\"wrong answer. the correct answer is\",color)\n",
        "                 play_again = input(\"enter 0 to play again \")=='0'\n",
        ""
      ],
      "metadata": {
        "id": "vCrUF6VU6l6w"
      },
      "execution_count": 12,
      "outputs": []
    },
    {
      "cell_type": "code",
      "source": [
        "flashcard = FlashCard()\n",
        "flashcard.play_flascard()"
      ],
      "metadata": {
        "colab": {
          "base_uri": "https://localhost:8080/"
        },
        "id": "CBk5YO6gwvNb",
        "outputId": "ce41a47a-aca2-49a6-f2ea-24b0c92bd085"
      },
      "execution_count": 13,
      "outputs": [
        {
          "name": "stdout",
          "output_type": "stream",
          "text": [
            "welcome to fruit quiz\n",
            "what is the colour of Banana\n",
            "Answer yellow\n",
            "Correct Answer\n",
            "enter 0 to play again 0\n",
            "what is the colour of Strawberries\n",
            "Answer pink\n",
            "Correct Answer\n",
            "enter 0 to play again 0\n",
            "what is the colour of Strawberries\n",
            "Answer pink\n",
            "Correct Answer\n",
            "enter 0 to play again 0\n",
            "what is the colour of Banana\n",
            "Answer yellow\n",
            "Correct Answer\n",
            "enter 0 to play again 0\n",
            "what is the colour of Watermelon\n",
            "Answer green\n",
            "Correct Answer\n",
            "enter 0 to play again 8\n"
          ]
        }
      ]
    },
    {
      "cell_type": "markdown",
      "source": [
        "## `Q-5:` Problem 5 based on OOP Python.\n",
        "\n",
        "TechWorld, a technology training center, wants to allocate courses for instructors. An instructor is identified by name, technology skills, experience and average feedback. An instructor is allocated a course, if he/she satisfies the below two conditions:\n",
        "- eligibility criteria:\n",
        "    - if experience is more than 3 years, average feedback should be 4.5 or more\n",
        "    - if experience is 3 years or less, average feedback should be 4 or more\n",
        "- he/she should posses the technology skill for the course\n",
        "\n",
        "Identify the class name and attributes to represent instructors. Write a Python program to implement the class chosen with its attributes and methods.\n",
        "\n",
        "**Note:**\n",
        "- Consider all instance variables to be private and methods to be public.\n",
        "- An instructor may have multiple technology skills, so consider instance variable, technology_skill to be a list.\n",
        "- *check_eligibility()*: Return true if eligibility criteria is satisfied by the instructor. Else, return false\n",
        "- *allocate_course(technology)*: Return true if the course which requires the given technology can be allocated to the instructor. Else, return false.\n",
        "\n",
        "Represent a few objects of the class, initialize instance variables using setter methods, invoke\n",
        "appropriate methods and test your program."
      ],
      "metadata": {
        "id": "GN2r0jbRewYr"
      }
    },
    {
      "cell_type": "code",
      "source": [
        "class Instructor:\n",
        "     _eligibility_criteria ={\n",
        "        \"experience\":{\n",
        "           \"more_than_3_year\": 4.5,\n",
        "           \"3_year_or_less\": 4\n",
        "\n",
        "        }\n",
        "     }\n",
        "\n",
        "\n",
        "     def __init__(self,name, technology_skills, experience , average_feedback):\n",
        "         self._name = name\n",
        "         self._technology_skills = technology_skills\n",
        "         self._experience = experience\n",
        "         self._average_feedback = average_feedback\n",
        "     def check_eligibility(self):\n",
        "         if self._experience > 3:\n",
        "            return self._average_feedback >= self._eligibility_criteria[\"experience\"][\"more_than_3_year\"]\n",
        "         else:\n",
        "            return self._average_feedback <= self._eligibility_criteria[\"experience\"][\"3_year_or_less\"]\n",
        "     def allocate_course(self,techenology):\n",
        "         return techenology in self._technology_skills\n",
        "\n"
      ],
      "metadata": {
        "id": "pdMFuVFnlvKL"
      },
      "execution_count": 23,
      "outputs": []
    },
    {
      "cell_type": "code",
      "source": [
        "instructor1 = Instructor(\"John Doe\", [\"Python\", \"Java\", \"HTML\"], 5, 4.8)\n",
        "instructor2 = Instructor(\"Jane Smith\", [\"JavaScript\", \"CSS\", \"React\"], 2, 4.2)\n",
        "print(instructor1.check_eligibility())\n",
        "print(instructor1.allocate_course(\"Python\"))\n",
        "print(instructor1.allocate_course(\"JavaScript\"))"
      ],
      "metadata": {
        "colab": {
          "base_uri": "https://localhost:8080/"
        },
        "id": "m2833TDmDd9t",
        "outputId": "39e889ee-384a-4057-e7c9-616ea7e068df"
      },
      "execution_count": 25,
      "outputs": [
        {
          "output_type": "stream",
          "name": "stdout",
          "text": [
            "True\n",
            "True\n",
            "False\n"
          ]
        }
      ]
    },
    {
      "cell_type": "code",
      "source": [],
      "metadata": {
        "id": "tZiH0Fn1Dj2_"
      },
      "execution_count": null,
      "outputs": []
    }
  ]
}