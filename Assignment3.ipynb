{
 "cells": [
  {
   "cell_type": "code",
   "execution_count": null,
   "id": "15e976ec-5a1a-4afa-902f-8e40fa904644",
   "metadata": {},
   "outputs": [],
   "source": [
    "##2nd feb 2023\n",
    "#question 1 explain with example when to use for loop and while loop\n",
    "#for loop\n",
    "for loops is used to iterate through a sequance like list,tuple for string .\n",
    "it is also used when we know how many times a statement has to be executed.\n",
    "example:-\n",
    "name = 'deepa'\n",
    "for i in name:\n",
    "    print(i)\n",
    "#while loop:-\n",
    "in while loops the condition is checked first,if it evaluates to true, the body of the loop is executed ,otherwise not.\n",
    "It is typically used when the number of iterations is not known.\n",
    "example:-\n",
    "i=0\n",
    "while(i<=5):\n",
    "    print(\"hello world\")\n",
    "    i=i+1"
   ]
  },
  {
   "cell_type": "code",
   "execution_count": 4,
   "id": "0aa4e2eb-38f5-4539-aa1d-5700f137f788",
   "metadata": {},
   "outputs": [
    {
     "name": "stdout",
     "output_type": "stream",
     "text": [
      "sum of first 10 natural number is: 55\n",
      "product of first 10 natural number is: 3628800\n",
      "sum is 55\n",
      "product is 3628800\n"
     ]
    }
   ],
   "source": [
    "#question 2 print the sum and product of first 10 natural number using for loop and while loop\n",
    "#using for loop\n",
    "sum=0 \n",
    "product=1\n",
    "for i in range(1,11):\n",
    "    sum = sum+i\n",
    "    product = product*i\n",
    "print(\"sum of first 10 natural number is:\",sum)\n",
    "print(\"product of first 10 natural number is:\",product)\n",
    "  \n",
    "##using while loop\n",
    "sum = 0\n",
    "product = 1\n",
    "i=1\n",
    "while(i<=10):\n",
    "        sum=sum+i\n",
    "        product = product*i\n",
    "        i = i+1\n",
    "print(\"sum is\",sum)\n",
    "print(\"product is\",product)"
   ]
  },
  {
   "cell_type": "code",
   "execution_count": 19,
   "id": "c1b1970d-2c55-4cb2-aa74-84edb1bc4710",
   "metadata": {},
   "outputs": [
    {
     "name": "stdin",
     "output_type": "stream",
     "text": [
      "enter the unit: 310\n"
     ]
    },
    {
     "name": "stdout",
     "output_type": "stream",
     "text": [
      "unit consumed 310 bill is 2250.0\n"
     ]
    }
   ],
   "source": [
    "##question 3 (to calculate bill) using python compute electricity bill for a household\n",
    "unit = int(input(\"enter the unit:\"))\n",
    "\n",
    "if (unit <=100):\n",
    "           bill = 100*4.5\n",
    "           print(\"bill is: \" , bill)\n",
    "elif(unit <=200):\n",
    "           bill = 100*4.5 + (unit-100)*6\n",
    "           print(\"bill is: \" , bill)\n",
    "elif(unit <=300):\n",
    "           bill = 100*4.5 + 100*6 + (unit-200)*10\n",
    "           print(\"bill is: \" , bill)\n",
    "else:\n",
    "           bill = 100*4.5 + 100*6 + 100*10 + (unit-300)*20\n",
    "           print(\"unit consumed\",unit, \"bill is\",bill)\n",
    "            \n",
    "        "
   ]
  },
  {
   "cell_type": "code",
   "execution_count": 1,
   "id": "7906d423-8fd7-440a-968f-4bfa168482f0",
   "metadata": {},
   "outputs": [
    {
     "name": "stdout",
     "output_type": "stream",
     "text": [
      "[2, 4, 5, 6, 8, 10, 12, 14, 15, 16, 18, 20, 22, 24, 25, 26, 28, 30, 32, 34, 35, 36, 38, 40, 42, 44, 45, 46, 48, 50, 52, 54, 55, 56, 58, 60, 62, 64, 65, 66, 68, 70, 72, 74, 75, 76, 78, 80, 82, 84, 85, 86, 88, 90, 92, 94, 95, 96, 98, 100]\n"
     ]
    }
   ],
   "source": [
    "##question 4 create list from number 1 to 100. use for loop and while loop to calculate the cube of each number and\n",
    "##if that number is divisble by 4 or 5 then append that number in a list and print that list.\n",
    "l_ans=[]\n",
    "i=1\n",
    "while i<101:\n",
    "    n=i**3\n",
    "    if(n%4==0 or n%5==0):\n",
    "        l_ans.append(i)\n",
    "    i += 1\n",
    "print(l_ans)\n"
   ]
  },
  {
   "cell_type": "code",
   "execution_count": 5,
   "id": "b19bdf75-c602-4c39-874e-d8876f85a7cd",
   "metadata": {},
   "outputs": [
    {
     "name": "stdout",
     "output_type": "stream",
     "text": [
      "12\n"
     ]
    }
   ],
   "source": [
    "##question  5 write program to filter count vowels in below given string\n",
    "string = \"i want to become a data science\"\n",
    "count = 0;\n",
    "for item in string:\n",
    "        i=item.lower();\n",
    "        if(i=='a' or i=='e' or i=='i' or i=='o' or i=='u'):\n",
    "            count += 1;\n",
    "print(count)\n"
   ]
  },
  {
   "cell_type": "code",
   "execution_count": null,
   "id": "47f85e7c-62ba-4497-9ceb-55e068fd3b21",
   "metadata": {},
   "outputs": [],
   "source": []
  }
 ],
 "metadata": {
  "kernelspec": {
   "display_name": "Python 3 (ipykernel)",
   "language": "python",
   "name": "python3"
  },
  "language_info": {
   "codemirror_mode": {
    "name": "ipython",
    "version": 3
   },
   "file_extension": ".py",
   "mimetype": "text/x-python",
   "name": "python",
   "nbconvert_exporter": "python",
   "pygments_lexer": "ipython3",
   "version": "3.10.8"
  }
 },
 "nbformat": 4,
 "nbformat_minor": 5
}
