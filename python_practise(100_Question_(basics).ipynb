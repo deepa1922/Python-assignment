{
  "cells": [
    {
      "cell_type": "code",
      "execution_count": null,
      "metadata": {
        "colab": {
          "base_uri": "https://localhost:8080/"
        },
        "id": "7uG2mCMCsIEm",
        "outputId": "c4ce6081-558e-4b83-abea-443450198d27"
      },
      "outputs": [
        {
          "name": "stdout",
          "output_type": "stream",
          "text": [
            "hello ,world\n"
          ]
        }
      ],
      "source": [
        "#1 Python Program to Print Hello world!\n",
        "print(\"hello ,world\")"
      ]
    },
    {
      "cell_type": "code",
      "execution_count": null,
      "metadata": {
        "colab": {
          "base_uri": "https://localhost:8080/"
        },
        "id": "S0lbLRcxd01e",
        "outputId": "45ced7a7-8b71-4846-8601-83a0ba21bc20"
      },
      "outputs": [
        {
          "name": "stdout",
          "output_type": "stream",
          "text": [
            "5\n",
            "6\n",
            "11\n"
          ]
        }
      ],
      "source": [
        "#2 Python Program to Add Two Numbers\n",
        "a = int(input())\n",
        "b= int(input())\n",
        "print(a+b)"
      ]
    },
    {
      "cell_type": "code",
      "execution_count": null,
      "metadata": {
        "colab": {
          "base_uri": "https://localhost:8080/"
        },
        "id": "w1R1Bp5oweun",
        "outputId": "06e19849-e594-4289-e01f-306522500958"
      },
      "outputs": [
        {
          "name": "stdout",
          "output_type": "stream",
          "text": [
            "2.8284271247461903\n"
          ]
        }
      ],
      "source": [
        "#3 Python Program to Find the Square Root\n",
        "import cmath\n",
        "num = 8\n",
        "num_sqrt = num**0.5\n",
        "print(num_sqrt)"
      ]
    },
    {
      "cell_type": "code",
      "execution_count": null,
      "metadata": {
        "colab": {
          "base_uri": "https://localhost:8080/"
        },
        "id": "gr9sDCSt1qBG",
        "outputId": "986ef1ec-52a7-4353-a8c2-a1bd8982a2af"
      },
      "outputs": [
        {
          "name": "stdout",
          "output_type": "stream",
          "text": [
            "1+2j\n",
            "(1.272019649514069+0.7861513777574233j)\n"
          ]
        }
      ],
      "source": [
        "num = eval(input())\n",
        "num_sqrt = cmath.sqrt(num)\n",
        "print(num_sqrt)"
      ]
    },
    {
      "cell_type": "code",
      "execution_count": null,
      "metadata": {
        "colab": {
          "base_uri": "https://localhost:8080/"
        },
        "id": "9keVlpnU2HxA",
        "outputId": "61110ec2-e158-421f-a2fb-6407b8a98a54"
      },
      "outputs": [
        {
          "name": "stdout",
          "output_type": "stream",
          "text": [
            "3.1\n",
            "2\n",
            "5\n",
            "1.225456547577267\n"
          ]
        }
      ],
      "source": [
        "#4 Python Program to Calculate the Area of a Triangle\n",
        "#s = (a+b+c)/2\n",
        "#area = √(s(s-a)*(s-b)*(s-c))\n",
        "a = float(input())\n",
        "b = float(input())\n",
        "c = float(input())\n",
        "s = (a+b+c)/2\n",
        "area = (s*(s-a)*(s-b)*(s-c))**0.5\n",
        "print(area)"
      ]
    },
    {
      "cell_type": "code",
      "execution_count": null,
      "metadata": {
        "colab": {
          "base_uri": "https://localhost:8080/"
        },
        "id": "QmYKI5RN4xVT",
        "outputId": "e002aced-117e-44fc-aa30-dfca244cc888"
      },
      "outputs": [
        {
          "name": "stdout",
          "output_type": "stream",
          "text": [
            "the sol are-3.0 and -2.0\n"
          ]
        }
      ],
      "source": [
        "#5 Python Program to Solve Quadratic Equation\n",
        "a = 1\n",
        "b = 5\n",
        "c =6\n",
        "# calculate the discriminant\n",
        "discriminant = (b**2)-(4*a*c)\n",
        "sol1 = (-b-(discriminant**0.5))/(2*a)\n",
        "sol2 = (-b+(discriminant**0.5 ))/(2*a)\n",
        "print('the sol are{0} and {1}'.format(sol1,sol2))"
      ]
    },
    {
      "cell_type": "code",
      "execution_count": null,
      "metadata": {
        "colab": {
          "base_uri": "https://localhost:8080/"
        },
        "id": "ookfh3y4_qks",
        "outputId": "f6ba5153-e1df-4ccf-af16-f15bc379543b"
      },
      "outputs": [
        {
          "name": "stdout",
          "output_type": "stream",
          "text": [
            "the value of x after after swapping:20\n",
            "the value of y after after swapping:10\n"
          ]
        }
      ],
      "source": [
        "#6Python Program to Swap Two Variables\n",
        "x=10\n",
        "y=20\n",
        "temp = x\n",
        "x = y\n",
        "y = temp\n",
        "print(\"the value of x after after swapping:{}\".format(x))\n",
        "print(\"the value of y after after swapping:{}\".format(y))"
      ]
    },
    {
      "cell_type": "code",
      "execution_count": null,
      "metadata": {
        "colab": {
          "base_uri": "https://localhost:8080/"
        },
        "id": "SyCsM6BrDtm6",
        "outputId": "4d97c058-223d-4e66-f9bd-9dafca9c0116"
      },
      "outputs": [
        {
          "name": "stdout",
          "output_type": "stream",
          "text": [
            "after swapping, x = 10 and y= 5\n"
          ]
        }
      ],
      "source": [
        "#  arithmetic operations #x,y = y,x\n",
        "\"\"\"x = x*y\n",
        "   y = x/y\n",
        "   x = x/y\"\"\"\n",
        "\n",
        "x =5\n",
        "y = 10\n",
        "x = x+y\n",
        "y = x-y\n",
        "x = x-y\n",
        "print(\"after swapping, x =\",x,\"and y=\",y)"
      ]
    },
    {
      "cell_type": "code",
      "execution_count": null,
      "metadata": {
        "colab": {
          "base_uri": "https://localhost:8080/"
        },
        "id": "iLbj7-kWEv_J",
        "outputId": "0aae99ea-e740-48bc-f49e-d8eaa3cc7424"
      },
      "outputs": [
        {
          "name": "stdout",
          "output_type": "stream",
          "text": [
            "7\n"
          ]
        }
      ],
      "source": [
        "#7 Python Program to Generate a Random Number\n",
        "import random\n",
        "print(random.randint(0,9))"
      ]
    },
    {
      "cell_type": "code",
      "execution_count": null,
      "metadata": {
        "colab": {
          "base_uri": "https://localhost:8080/"
        },
        "id": "J03Bd4owH-jv",
        "outputId": "bf3a536f-9ab3-4f1a-b4a2-50515bc8bea9"
      },
      "outputs": [
        {
          "name": "stdout",
          "output_type": "stream",
          "text": [
            "3.55\n",
            "3.5 kilometer is equal to 2.21 miles\n"
          ]
        }
      ],
      "source": [
        "#8 Python Program to Convert Kilometers to Miles\n",
        "kilometers = float(input())\n",
        "conv_factor = 0.621371\n",
        "miles   =kilometers  *conv_factor\n",
        "print('%0.1f kilometer is equal to %0.2f miles'%(kilometers,miles))\n",
        "\n",
        "#to convert miles to kilometers\n",
        "# kilometers = miles / conv_factor"
      ]
    },
    {
      "cell_type": "code",
      "execution_count": null,
      "metadata": {
        "colab": {
          "base_uri": "https://localhost:8080/"
        },
        "id": "FWmQ8GdGMQB3",
        "outputId": "90c66b2d-d27a-4d3e-dc29-2cf709a59af8"
      },
      "outputs": [
        {
          "name": "stdout",
          "output_type": "stream",
          "text": [
            "37.5 degree celsius is equal to 99.5 fahrenheit \n"
          ]
        }
      ],
      "source": [
        "#9 Python Program to Convert Celsius To Fahrenheit\n",
        "celsius = 37.5\n",
        "Fahrenheit = (celsius*1.8)+ 32\n",
        "print('%0.1f degree celsius is equal to %0.1f fahrenheit '%(celsius,Fahrenheit))"
      ]
    },
    {
      "cell_type": "code",
      "execution_count": null,
      "metadata": {
        "colab": {
          "base_uri": "https://localhost:8080/"
        },
        "id": "6cKj2yeEP-OJ",
        "outputId": "83b2c41c-c405-4463-8360-6e3dc57a4d50"
      },
      "outputs": [
        {
          "name": "stdout",
          "output_type": "stream",
          "text": [
            "99.5 degree fahrenheit is equal to 37.5 celsius\n"
          ]
        }
      ],
      "source": [
        "# to convert Fahrenheit to Celsius\n",
        "Fahrenheit = 99.5\n",
        "celsius =(Fahrenheit - 32)/1.8\n",
        "print('%0.1f degree fahrenheit is equal to %0.1f celsius'%(Fahrenheit,celsius))"
      ]
    },
    {
      "cell_type": "code",
      "execution_count": null,
      "metadata": {
        "colab": {
          "base_uri": "https://localhost:8080/"
        },
        "id": "zZiDKx9YQvXb",
        "outputId": "53c51f30-b6c4-40c4-92ab-3f76b46dd04c"
      },
      "outputs": [
        {
          "name": "stdout",
          "output_type": "stream",
          "text": [
            "655\n",
            "positive no\n"
          ]
        }
      ],
      "source": [
        "#10 Python Program to Check if a Number is Positive, Negative or 0\n",
        "num = int(input())\n",
        "if num<0:\n",
        "  print(\"negative no\")\n",
        "elif num>0:\n",
        "  print(\"positive no\")\n",
        "else:\n",
        "  print(\"zero\")\n"
      ]
    },
    {
      "cell_type": "code",
      "execution_count": null,
      "metadata": {
        "colab": {
          "base_uri": "https://localhost:8080/"
        },
        "id": "8Zu3LPMFRdr-",
        "outputId": "ab7af199-90f8-425a-ec3b-34719c6db0b3"
      },
      "outputs": [
        {
          "name": "stdout",
          "output_type": "stream",
          "text": [
            "6.8\n",
            "positive number\n"
          ]
        }
      ],
      "source": [
        "#Using Nested if\n",
        "num = float(input())\n",
        "if num >= 0:\n",
        "  if num==0:\n",
        "    print(\"zero\")\n",
        "  else:\n",
        "    print(\"positive number\")\n",
        "else:\n",
        "  print(\"negative number\")"
      ]
    },
    {
      "cell_type": "code",
      "execution_count": null,
      "metadata": {
        "colab": {
          "base_uri": "https://localhost:8080/"
        },
        "id": "akLtTiivSFdN",
        "outputId": "289662f9-a240-48ab-b34f-213eb38e9aba"
      },
      "outputs": [
        {
          "name": "stdout",
          "output_type": "stream",
          "text": [
            "5\n",
            "5 is odd number\n"
          ]
        }
      ],
      "source": [
        "#11 Python Program to Check if a Number is Odd or Even\n",
        "num = int(input())\n",
        "if num%2==0:\n",
        "  print(\"{} is even number\".format(num))\n",
        "else:\n",
        "  print(\"{} is odd number\".format(num))"
      ]
    },
    {
      "cell_type": "code",
      "execution_count": null,
      "metadata": {
        "colab": {
          "base_uri": "https://localhost:8080/"
        },
        "id": "qHrXkOnM1Zmp",
        "outputId": "4f9c97b0-1973-4059-ed19-dc1010cba51f"
      },
      "outputs": [
        {
          "name": "stdout",
          "output_type": "stream",
          "text": [
            "2024\n",
            "2024 is a leap year\n"
          ]
        }
      ],
      "source": [
        "#12 Python Program to Check Leap Year\n",
        "year = int(input())\n",
        "if (year%400==0) and (year%100==0):\n",
        "   print(\"{} is a leap year\".format(year))\n",
        "elif (year%4==0) and (year%100!=0):\n",
        "   print(\"{} is a leap year\".format(year))\n",
        "else:\n",
        "  print(\"{} is a leap year\".format(year))"
      ]
    },
    {
      "cell_type": "code",
      "execution_count": null,
      "metadata": {
        "colab": {
          "base_uri": "https://localhost:8080/"
        },
        "id": "uBccl6ox7-dO",
        "outputId": "468ca387-35b7-4f3b-97c6-cd81be38ed56"
      },
      "outputs": [
        {
          "name": "stdout",
          "output_type": "stream",
          "text": [
            "6\n",
            "7\n",
            "8\n",
            "the largest no is 8\n"
          ]
        }
      ],
      "source": [
        "#13 Python Program to Find the Largest Among Three Numbers\n",
        "a = int(input())\n",
        "b = int(input())\n",
        "c = int(input())\n",
        "if a>= b and a>=c:\n",
        "  largest = a\n",
        "elif b>=a and b>=c:\n",
        "  largest = b\n",
        "else:\n",
        "  largest = c\n",
        "print(\"the largest no is\",largest)\n",
        "\n"
      ]
    },
    {
      "cell_type": "code",
      "execution_count": null,
      "metadata": {
        "colab": {
          "base_uri": "https://localhost:8080/"
        },
        "id": "3ukmh8Ay_CEU",
        "outputId": "2d336234-0a1a-4bf3-c4f2-6505532ca93f"
      },
      "outputs": [
        {
          "name": "stdout",
          "output_type": "stream",
          "text": [
            "17\n",
            "17 is prime number\n"
          ]
        }
      ],
      "source": [
        "# 14 Python Program to Check Prime Number\n",
        "num = int(input())\n",
        "for i in range(2,num):\n",
        "  if (num%i)==0:\n",
        "    print(num,\"is not a prime number\")\n",
        "    break\n",
        "else:\n",
        "  print(num,\"is prime number\")\n"
      ]
    },
    {
      "cell_type": "code",
      "execution_count": null,
      "metadata": {
        "colab": {
          "base_uri": "https://localhost:8080/"
        },
        "id": "XVPP6hxkLu7a",
        "outputId": "b4e6ad0d-5e8b-4ba4-fded-7b0dceb4a88f"
      },
      "outputs": [
        {
          "name": "stdout",
          "output_type": "stream",
          "text": [
            "907\n",
            "911\n",
            "919\n",
            "929\n",
            "937\n",
            "941\n",
            "947\n"
          ]
        }
      ],
      "source": [
        "#15 Python Program to Print all Prime Numbers in an Interval\n",
        "lower = 900\n",
        "upper = 950\n",
        "for num in range(lower,upper+1):\n",
        "   if num>1:\n",
        "      for i in range(2,num):\n",
        "         if (num%i)==0:\n",
        "          break\n",
        "      else:\n",
        "        print(num)"
      ]
    },
    {
      "cell_type": "code",
      "execution_count": null,
      "metadata": {
        "colab": {
          "base_uri": "https://localhost:8080/"
        },
        "id": "zkIMILsmTzLN",
        "outputId": "fd48e4e4-8081-4a0f-b09b-58ba92df06ae"
      },
      "outputs": [
        {
          "name": "stdout",
          "output_type": "stream",
          "text": [
            "3\n",
            "factorial 6\n"
          ]
        }
      ],
      "source": [
        "# 16 Python Program to Find the Factorial of a Number\n",
        "fact = 1\n",
        "num = int(input())\n",
        "while (num > 0):\n",
        "  fact = fact*num\n",
        "  num -= 1\n",
        "print(\"factorial\",fact)\n",
        "\n"
      ]
    },
    {
      "cell_type": "code",
      "execution_count": null,
      "metadata": {
        "colab": {
          "base_uri": "https://localhost:8080/"
        },
        "id": "W2SuVjQOaU2K",
        "outputId": "cc026764-569b-4ebb-84f0-e7f15296e997"
      },
      "outputs": [
        {
          "name": "stdout",
          "output_type": "stream",
          "text": [
            "6\n",
            "factorial 720\n"
          ]
        }
      ],
      "source": [
        "#using for loop\n",
        "num = int(input())\n",
        "fact = 1\n",
        "if num<0:\n",
        "  print(\"factorial does not exist for negative number \")\n",
        "elif num == 0:\n",
        "     print(\"factorial of 0 is 1\")\n",
        "else:\n",
        "  for i in range(1,num+1):\n",
        "    fact = fact*i\n",
        "  print(\"factorial\",fact)"
      ]
    },
    {
      "cell_type": "code",
      "execution_count": null,
      "metadata": {
        "colab": {
          "background_save": true,
          "base_uri": "https://localhost:8080/"
        },
        "id": "Ut7xBtLBczP8",
        "outputId": "57746504-5d37-4f09-d83e-6096502a733d"
      },
      "outputs": [
        {
          "name": "stdout",
          "output_type": "stream",
          "text": [
            "2\n",
            "4\n",
            "6\n",
            "8\n",
            "10\n",
            "12\n",
            "14\n",
            "16\n",
            "18\n",
            "20\n"
          ]
        }
      ],
      "source": [
        "# 17 Python Program to Display the multiplication Table\n",
        "num = int(input())\n",
        "for i in range(1,11):\n"
      ]
    },
    {
      "cell_type": "code",
      "execution_count": null,
      "metadata": {
        "colab": {
          "base_uri": "https://localhost:8080/"
        },
        "id": "ybhGNA08fIL3",
        "outputId": "04e35770-86c2-4fd2-d8ef-6ebc3f4a7dfb"
      },
      "outputs": [
        {
          "name": "stdout",
          "output_type": "stream",
          "text": [
            "5\n",
            "0\n",
            "1\n",
            "1\n",
            "2\n",
            "3\n"
          ]
        }
      ],
      "source": [
        "#18 Python Program to Print the Fibonacci sequence\n",
        "nterm = int(input())\n",
        "count = 0\n",
        "x = 0\n",
        "y = 1\n",
        "while count < nterm:\n",
        "  print(x)\n",
        "  z = x+y\n",
        "  x = y\n",
        "  y = z\n",
        "  count+=1"
      ]
    },
    {
      "cell_type": "code",
      "execution_count": null,
      "metadata": {
        "colab": {
          "base_uri": "https://localhost:8080/"
        },
        "id": "9X_i6sPGj9rs",
        "outputId": "37c6bfb2-e362-4bc5-82e4-a4000bffc277"
      },
      "outputs": [
        {
          "name": "stdout",
          "output_type": "stream",
          "text": [
            "153\n",
            "153 is armstrong\n"
          ]
        }
      ],
      "source": [
        "#19 Python Program to Check Armstrong Number\n",
        "i = int(input())\n",
        "sum = 0\n",
        "orig = i\n",
        "while i > 0:\n",
        "  sum = sum + (i%10)*(i%10)*(i%10)\n",
        "  i = i//10\n",
        "if orig == sum:\n",
        "  print(\"{} is armstrong\".format(orig))\n",
        "else:\n",
        "  print(orig,\"not an armstrong number\")"
      ]
    },
    {
      "cell_type": "code",
      "execution_count": null,
      "metadata": {
        "colab": {
          "base_uri": "https://localhost:8080/"
        },
        "id": "2Q_gsLloq4wv",
        "outputId": "ff9ea3da-92cd-49ed-e5c3-2af3efe6b0f4"
      },
      "outputs": [
        {
          "name": "stdout",
          "output_type": "stream",
          "text": [
            "9474\n",
            "9474 is armstrong\n"
          ]
        }
      ],
      "source": [
        "# for n digit\n",
        "i = int(input())\n",
        "sum = 0\n",
        "orig = i\n",
        "power = len(str(i))\n",
        "while i>0:\n",
        "  sum = sum+ (i%10)**power\n",
        "  i=i//10\n",
        "if orig == sum:\n",
        "  print(\"{} is armstrong\".format(orig))\n",
        "else:\n",
        "  print(orig,\"not an armstrong number\")"
      ]
    },
    {
      "cell_type": "code",
      "execution_count": null,
      "metadata": {
        "colab": {
          "base_uri": "https://localhost:8080/"
        },
        "id": "9dbKv7p5tT7f",
        "outputId": "14b85d9d-4829-42e2-a42f-deadfd332541"
      },
      "outputs": [
        {
          "name": "stdout",
          "output_type": "stream",
          "text": [
            "1\n",
            "200\n",
            "1\n",
            "2\n",
            "3\n",
            "4\n",
            "5\n",
            "6\n",
            "7\n",
            "8\n",
            "9\n",
            "153\n"
          ]
        }
      ],
      "source": [
        "#20 Python Program to Find Armstrong Number in an Interval\n",
        "lower = int(input())\n",
        "upper  = int(input())\n",
        "\n",
        "for i in range(lower,upper+1):\n",
        "  power = len(str(i))\n",
        "  sum = 0\n",
        "  orig = i\n",
        "  while i>0:\n",
        "    sum = sum+ (i%10)**power\n",
        "    i = i//10\n",
        "\n",
        "  if orig == sum:\n",
        "    print(orig)"
      ]
    },
    {
      "cell_type": "code",
      "execution_count": null,
      "metadata": {
        "colab": {
          "base_uri": "https://localhost:8080/"
        },
        "id": "C3d07YR5tz7s",
        "outputId": "4402685b-f821-49bc-cc07-64ebe013b149"
      },
      "outputs": [
        {
          "name": "stdout",
          "output_type": "stream",
          "text": [
            "============================================\n",
            "I finished this task at 2023-07-25 16:01:11.\n",
            "============================================\n"
          ]
        }
      ],
      "source": [
        "import datetime\n",
        "\n",
        "# Get current date and time\n",
        "current_datetime = datetime.datetime.now()\n",
        "formatted_datetime = current_datetime.strftime(\"%Y-%m-%d %H:%M:%S\")\n",
        "msg = \"I finished this task at {}.\".format(formatted_datetime)\n",
        "\n",
        "\n",
        "line = \"=\" * len(msg)\n",
        "print(line)\n",
        "print(msg)\n",
        "print(line)\n"
      ]
    },
    {
      "cell_type": "code",
      "execution_count": null,
      "metadata": {
        "colab": {
          "base_uri": "https://localhost:8080/"
        },
        "id": "S7h3v3IgBdMt",
        "outputId": "15e3bbb9-c38d-4c5a-e704-894b8326aba4"
      },
      "outputs": [
        {
          "name": "stdout",
          "output_type": "stream",
          "text": [
            "55\n"
          ]
        }
      ],
      "source": [
        "#21 Python Program to Find the Sum of Natural Numbers\n",
        "\n",
        "sum = 0\n",
        "for i in range(1,11):\n",
        "  sum = sum+i\n",
        "\n",
        "print(sum)"
      ]
    },
    {
      "cell_type": "code",
      "execution_count": null,
      "metadata": {
        "colab": {
          "base_uri": "https://localhost:8080/"
        },
        "id": "DWHWL6g5Bm8G",
        "outputId": "816a8152-398a-434c-8b1c-7d2e8313189d"
      },
      "outputs": [
        {
          "name": "stdout",
          "output_type": "stream",
          "text": [
            "10\n",
            "55\n"
          ]
        }
      ],
      "source": [
        "sum =0\n",
        "n = int(input())\n",
        "i=1\n",
        "while i<= n :\n",
        "  sum = sum+i\n",
        "  i = i+1\n",
        "print(sum)"
      ]
    },
    {
      "cell_type": "code",
      "execution_count": null,
      "metadata": {
        "colab": {
          "base_uri": "https://localhost:8080/"
        },
        "id": "1S7-EoH6CSrm",
        "outputId": "6ce15513-f7d5-47ba-87a4-c927c69b0e3e"
      },
      "outputs": [
        {
          "name": "stdout",
          "output_type": "stream",
          "text": [
            "10\n",
            "55.0\n"
          ]
        }
      ],
      "source": [
        "\n",
        "n = int(input())\n",
        "sum = n * (n +1)/ 2;\n",
        "print(sum)"
      ]
    },
    {
      "cell_type": "code",
      "execution_count": null,
      "metadata": {
        "colab": {
          "base_uri": "https://localhost:8080/"
        },
        "id": "UWNhiLMCFVqU",
        "outputId": "71bc23db-014d-4fbd-c28d-c76248d37a82"
      },
      "outputs": [
        {
          "name": "stdout",
          "output_type": "stream",
          "text": [
            "11\n",
            "2 raised to power 0 is 1\n",
            "2 raised to power 1 is 2\n",
            "2 raised to power 2 is 4\n",
            "2 raised to power 3 is 8\n",
            "2 raised to power 4 is 16\n",
            "2 raised to power 5 is 32\n",
            "2 raised to power 6 is 64\n",
            "2 raised to power 7 is 128\n",
            "2 raised to power 8 is 256\n",
            "2 raised to power 9 is 512\n",
            "2 raised to power 10 is 1024\n"
          ]
        }
      ],
      "source": [
        "#22 Python Program to Display Powers of 2 Using Anonymous Function\n",
        "terms = int(input())\n",
        "result = list(map(lambda x:2**x,range(terms)))\n",
        "for i in range(terms):\n",
        "  print(\"2 raised to power\",i,\"is\",result[i])\n"
      ]
    },
    {
      "cell_type": "code",
      "execution_count": null,
      "metadata": {
        "colab": {
          "base_uri": "https://localhost:8080/"
        },
        "id": "d-XH_QEfGSAP",
        "outputId": "8926ef08-389e-438a-b695-8ee5593d28ce"
      },
      "outputs": [
        {
          "name": "stdout",
          "output_type": "stream",
          "text": [
            "number divisible by 13 in range 1 to 100  [13, 26, 39, 52, 65, 78, 91]\n"
          ]
        }
      ],
      "source": [
        "#23 Python Program to Find Numbers Divisible by Another Number\n",
        "#L = [range(1,100)] error->L becomes a list that contains a single element, which is the range(1, 100)\n",
        "L = list(range(1,100))\n",
        "result = list(filter(lambda x:x%13==0, L))\n",
        "print(\"number divisible by 13 in range 1 to 100 \",result)"
      ]
    },
    {
      "cell_type": "code",
      "execution_count": null,
      "metadata": {
        "colab": {
          "base_uri": "https://localhost:8080/"
        },
        "id": "vf-_B9LFUciw",
        "outputId": "f79d4312-fb40-4a9b-998a-f1db5e0021bb"
      },
      "outputs": [
        {
          "name": "stdout",
          "output_type": "stream",
          "text": [
            "344\n",
            "binary 0b101011000\n",
            "octal 0o530\n",
            "hexadecimal 0x158\n"
          ]
        }
      ],
      "source": [
        "#24 Python Program to Convert Decimal to Binary, Octal and Hexadecimal\n",
        "dec = 344\n",
        "print(dec)\n",
        "print(\"binary\",bin(dec))\n",
        "print(\"octal\",oct(dec))\n",
        "print(\"hexadecimal\",hex(dec))"
      ]
    },
    {
      "cell_type": "code",
      "execution_count": null,
      "metadata": {
        "colab": {
          "base_uri": "https://localhost:8080/",
          "height": 52
        },
        "id": "L8xCpmtIY7n7",
        "outputId": "218ab101-379e-4d69-f918-8141523694bb"
      },
      "outputs": [
        {
          "name": "stdout",
          "output_type": "stream",
          "text": [
            "ASCII value of 'd' is 100\n"
          ]
        },
        {
          "data": {
            "application/vnd.google.colaboratory.intrinsic+json": {
              "type": "string"
            },
            "text/plain": [
              "'d'"
            ]
          },
          "execution_count": 42,
          "metadata": {},
          "output_type": "execute_result"
        }
      ],
      "source": [
        "#25 Python Program to Find ASCII Value of Character\n",
        "#ord() and chr()\n",
        "c= 'd'\n",
        "print(\"ASCII value of '\"  + c + \"' is\",ord(c))\n",
        "d = 100\n",
        "chr(d)"
      ]
    },
    {
      "cell_type": "code",
      "execution_count": null,
      "metadata": {
        "colab": {
          "base_uri": "https://localhost:8080/"
        },
        "id": "x00-teJCbhwq",
        "outputId": "de6ddc93-b9af-4c51-f2a6-fce08bf19cb0"
      },
      "outputs": [
        {
          "name": "stdout",
          "output_type": "stream",
          "text": [
            "HCF 6\n"
          ]
        }
      ],
      "source": [
        "#26 Python Program to Find HCF or GCD\n",
        "def compute_hcf(x,y):\n",
        "  if x>y:\n",
        "    smaller = y\n",
        "  else:\n",
        "    smaller = x\n",
        "  for i in range(1,smaller+1):\n",
        "    if x%i==0 and y%i==0:\n",
        "      hcf = i\n",
        "  return hcf\n",
        "\n",
        "num1 = 12\n",
        "num2 = 18\n",
        "print(\"HCF\",compute_hcf(num1,num2))"
      ]
    },
    {
      "cell_type": "code",
      "execution_count": null,
      "metadata": {
        "colab": {
          "base_uri": "https://localhost:8080/"
        },
        "id": "9FixzTs2j2z2",
        "outputId": "a31710ad-8830-4969-b6be-babc40c83e50"
      },
      "outputs": [
        {
          "name": "stdout",
          "output_type": "stream",
          "text": [
            "HCF 6\n"
          ]
        }
      ],
      "source": [
        "#Using Euclidian algorithm\n",
        "def compute_hcf(x,y):\n",
        "    while y!=0:\n",
        "       x,y = y,x%y\n",
        "    return x\n",
        "num1 = 12\n",
        "num2 = 18\n",
        "print(\"HCF\",compute_hcf(num1,num2))\n"
      ]
    },
    {
      "cell_type": "code",
      "execution_count": null,
      "metadata": {
        "colab": {
          "base_uri": "https://localhost:8080/"
        },
        "id": "4oCM4fGCneBe",
        "outputId": "571479d7-bcd2-458e-92c8-2ceaba05f53e"
      },
      "outputs": [
        {
          "name": "stdout",
          "output_type": "stream",
          "text": [
            "LCM 36\n"
          ]
        }
      ],
      "source": [
        "#27 Python Program to Find LCM\n",
        "def compute_lcm(x,y):\n",
        "   if x>y:\n",
        "      greater = x\n",
        "   else:\n",
        "       greater = y\n",
        "   while True:\n",
        "    if greater%x==0 and greater%y==0:\n",
        "      lcm= greater\n",
        "      break\n",
        "    greater +=1\n",
        "   return lcm\n",
        "\n",
        "num1 = 12\n",
        "num2  = 18\n",
        "print(\"LCM\",compute_lcm(num1,num2))\n"
      ]
    },
    {
      "cell_type": "code",
      "execution_count": null,
      "metadata": {
        "colab": {
          "base_uri": "https://localhost:8080/"
        },
        "id": "jseJU1EOtpry",
        "outputId": "4c41234e-d63f-49e6-e720-0661ae221569"
      },
      "outputs": [
        {
          "name": "stdout",
          "output_type": "stream",
          "text": [
            "LCM 36\n"
          ]
        }
      ],
      "source": [
        "from prompt_toolkit.shortcuts.dialogs import yes_no_dialog\n",
        "#Compute LCM Using GCD Number1 * Number2 = L.C.M. * G.C.D.\n",
        "def compute_gcd(x,y):\n",
        "  while y!=0:\n",
        "      x,y = y,x%y\n",
        "  return x\n",
        "\n",
        "def compute_lcm(x,y):\n",
        "  lcm = (x*y)// compute_gcd(x,y)\n",
        "  return lcm\n",
        "\n",
        "num1 = 12\n",
        "num2  = 18\n",
        "print(\"LCM\",compute_lcm(num1,num2))\n"
      ]
    },
    {
      "cell_type": "code",
      "execution_count": null,
      "metadata": {
        "colab": {
          "base_uri": "https://localhost:8080/"
        },
        "id": "bTXOiCXfuvfo",
        "outputId": "6b287e64-1e36-43e6-967b-fea376f78ffb"
      },
      "outputs": [
        {
          "name": "stdout",
          "output_type": "stream",
          "text": [
            "1\n",
            "2\n",
            "5\n",
            "10\n"
          ]
        }
      ],
      "source": [
        "#28 Python Program to Find the Factors of a Number\n",
        "def print_factor(x):\n",
        "  for i in range(1,x+1):\n",
        "    if x%i==0 :\n",
        "      print(i)\n",
        "\n",
        "print_factor(10)"
      ]
    },
    {
      "cell_type": "code",
      "execution_count": null,
      "metadata": {
        "colab": {
          "base_uri": "https://localhost:8080/"
        },
        "id": "rDZOHvSrvzNw",
        "outputId": "09566456-87d6-4d96-e610-18db955ca55f"
      },
      "outputs": [
        {
          "name": "stdout",
          "output_type": "stream",
          "text": [
            "Select operation:\n",
            "1. Add\n",
            "2. Subtract\n",
            "3. Multiply\n",
            "4. Divide\n",
            "enter choice 1/2/3/43\n",
            "enter first number67\n",
            "enter second number0\n",
            "0.0\n"
          ]
        }
      ],
      "source": [
        "#29 Python Program to Make a Simple Calculator\n",
        "def add(x,y):\n",
        "  return x+y\n",
        "\n",
        "def subtract(x,y):\n",
        "   return x-y\n",
        "\n",
        "def multiply(x,y):\n",
        "   return x*y\n",
        "\n",
        "def divide(x,y):\n",
        "  if y==0:\n",
        "    return \"Error:cannot divide by zero\"\n",
        "  return x/y\n",
        "print(\"Select operation:\")\n",
        "print(\"1. Add\")\n",
        "print(\"2. Subtract\")\n",
        "print(\"3. Multiply\")\n",
        "print(\"4. Divide\")\n",
        "\n",
        "choice = input(\"enter choice 1/2/3/4\")\n",
        "num1 = float(input(\"enter first number\"))\n",
        "num2 = float(input(\"enter second number\"))\n",
        "\n",
        "if choice=='1':\n",
        "   print(add(num1,num2))\n",
        "elif choice =='2':\n",
        "    print(subtract(num1,num2))\n",
        "elif choice=='3':\n",
        "    print(multiply(num1,num2))\n",
        "elif choice =='4':\n",
        "    print(divide(num1,num2))\n",
        "else:\n",
        "   print(\"invalid choice!\")"
      ]
    },
    {
      "cell_type": "code",
      "execution_count": null,
      "metadata": {
        "colab": {
          "base_uri": "https://localhost:8080/"
        },
        "id": "u2IMyVWiwehr",
        "outputId": "000b9778-87b7-48a1-9a14-7b63ab819b5b"
      },
      "outputs": [
        {
          "name": "stdout",
          "output_type": "stream",
          "text": [
            "3 of Club\n",
            "1 of Club\n",
            "12 of Diamond\n",
            "11 of Diamond\n",
            "2 of Spade\n"
          ]
        }
      ],
      "source": [
        "#30 Python Program to Shuffle Deck of Cards\n",
        "import itertools,random #itertool contain product function to find cartesian product all possible combination\n",
        "deck = list(itertools.product(range(1,14),['Spade', 'Heart', 'Diamond', 'Club']))\n",
        "random.shuffle(deck)\n",
        "\n",
        "for i in range(5):\n",
        "  print(deck[i][0],\"of\",deck[i][1])"
      ]
    },
    {
      "cell_type": "code",
      "execution_count": null,
      "metadata": {
        "colab": {
          "base_uri": "https://localhost:8080/"
        },
        "id": "Aw6KS5rS3Vti",
        "outputId": "432850c1-f001-4dcb-ac9c-c7b3a887f414"
      },
      "outputs": [
        {
          "name": "stdout",
          "output_type": "stream",
          "text": [
            "enter year2024\n",
            "enter month1\n",
            "    January 2024\n",
            "Mo Tu We Th Fr Sa Su\n",
            " 1  2  3  4  5  6  7\n",
            " 8  9 10 11 12 13 14\n",
            "15 16 17 18 19 20 21\n",
            "22 23 24 25 26 27 28\n",
            "29 30 31\n",
            "\n"
          ]
        }
      ],
      "source": [
        "#31 Python Program to Display Calendar\n",
        "import calendar\n",
        "yy = int(input(\"enter year\"))\n",
        "mm = int(input(\"enter month\"))\n",
        "print(calendar.month(yy,mm))\n"
      ]
    },
    {
      "cell_type": "code",
      "execution_count": null,
      "metadata": {
        "colab": {
          "base_uri": "https://localhost:8080/"
        },
        "id": "s2uqhCBowteR",
        "outputId": "5c25e465-bb5e-4c78-d42e-949b0db8029d"
      },
      "outputs": [
        {
          "name": "stdout",
          "output_type": "stream",
          "text": [
            "5\n",
            "0\n",
            "1\n",
            "1\n",
            "2\n",
            "3\n"
          ]
        }
      ],
      "source": [
        "#32 Python Program to Display Fibonacci Sequence Using Recursion\n",
        "\n",
        "def fibo(n):\n",
        "  if n==0:\n",
        "    return 0\n",
        "  if n==1:\n",
        "     return 1\n",
        "  return (fibo(n-1)+fibo(n-2))\n",
        "n = int(input())\n",
        "for i in range(n):\n",
        "  print(fibo(i))"
      ]
    },
    {
      "cell_type": "code",
      "execution_count": null,
      "metadata": {
        "colab": {
          "base_uri": "https://localhost:8080/"
        },
        "id": "9yXVFutun4kQ",
        "outputId": "f8b750be-2473-49b7-a242-7b000393c37f"
      },
      "outputs": [
        {
          "name": "stdout",
          "output_type": "stream",
          "text": [
            "5\n"
          ]
        },
        {
          "data": {
            "text/plain": [
              "15"
            ]
          },
          "execution_count": 8,
          "metadata": {},
          "output_type": "execute_result"
        }
      ],
      "source": [
        "#33 Python Program to Find Sum of Natural Numbers Using Recursion\n",
        "def summ(n):\n",
        "  if n==1:\n",
        "    return 1\n",
        "  else:\n",
        "    return n+ summ(n-1)\n",
        "\n",
        "n = int(input())\n",
        "summ(n)"
      ]
    },
    {
      "cell_type": "code",
      "execution_count": null,
      "metadata": {
        "colab": {
          "base_uri": "https://localhost:8080/"
        },
        "id": "56UqD0JXpmAu",
        "outputId": "a98e4427-2db4-4e85-f003-35c2d825f0d1"
      },
      "outputs": [
        {
          "name": "stdout",
          "output_type": "stream",
          "text": [
            "4\n"
          ]
        },
        {
          "data": {
            "text/plain": [
              "24"
            ]
          },
          "execution_count": 10,
          "metadata": {},
          "output_type": "execute_result"
        }
      ],
      "source": [
        "#34 Python Program to Find Factorial of Number Using Recursion\n",
        "def fact(n):\n",
        "  if n==1:\n",
        "    return 1\n",
        "  else:\n",
        "    return n*fact(n-1)\n",
        "\n",
        "n = int(input())\n",
        "fact(n)"
      ]
    },
    {
      "cell_type": "code",
      "execution_count": null,
      "metadata": {
        "colab": {
          "base_uri": "https://localhost:8080/"
        },
        "id": "NkWnad9FrYqF",
        "outputId": "01cf25ff-9a37-47df-e2be-0a789c98cab5"
      },
      "outputs": [
        {
          "name": "stdout",
          "output_type": "stream",
          "text": [
            "9\n",
            "1001"
          ]
        }
      ],
      "source": [
        "#35 Python Program to Convert Decimal to Binary Using Recursion\n",
        "def convertBinary(n):\n",
        "  if n == 0:\n",
        "     return\n",
        "  else:\n",
        "     convertBinary(n//2)\n",
        "     print(n%2 ,end=\"\")\n",
        "\n",
        "n = int(input())\n",
        "convertBinary(n)"
      ]
    },
    {
      "cell_type": "code",
      "execution_count": null,
      "metadata": {
        "colab": {
          "base_uri": "https://localhost:8080/"
        },
        "id": "RUuaHA7Q4Q2x",
        "outputId": "a45e6271-c36c-4954-fa13-539ab8f82662"
      },
      "outputs": [
        {
          "name": "stdout",
          "output_type": "stream",
          "text": [
            "[17, 15, 4]\n",
            "[10, 12, 9]\n",
            "[11, 13, 18]\n"
          ]
        }
      ],
      "source": [
        "#36 Python Program to Add Two Matrices\n",
        "# Program to add two matrices using nested loop\n",
        "\n",
        "X = [[12,7,3],\n",
        "    [4 ,5,6],\n",
        "    [7 ,8,9]]\n",
        "\n",
        "Y = [[5,8,1],\n",
        "    [6,7,3],\n",
        "    [4,5,9]]\n",
        "\n",
        "result = [[0,0,0],\n",
        "         [0,0,0],\n",
        "         [0,0,0]]\n",
        "\n",
        "\n",
        "for j in range(len(X[0])):\n",
        "  for i in range(len(X)):\n",
        "    result[i][j]= X[i][j]+Y[i][j]\n",
        "\n",
        "for row in result:\n",
        "   print(row)"
      ]
    },
    {
      "cell_type": "code",
      "execution_count": null,
      "metadata": {
        "colab": {
          "base_uri": "https://localhost:8080/"
        },
        "id": "W2oPtEI0ZUtc",
        "outputId": "e058d616-2589-4373-a1cf-f818c1b3f90c"
      },
      "outputs": [
        {
          "name": "stdout",
          "output_type": "stream",
          "text": [
            "[1, 1, 1]\n",
            "[2, 2, 2]\n",
            "[3, 3, 3]\n"
          ]
        }
      ],
      "source": [
        "#37 Python Program to Transpose a Matrix\n",
        "X = [[1,2,3],\n",
        "     [1,2,3],\n",
        "     [1,2,3]]\n",
        "\n",
        "result = [[0,0,0],\n",
        "          [0,0,0],\n",
        "          [0,0,0]]\n",
        "\n",
        "for i in range(len(X)):\n",
        "  for j in range(len(X[0])):\n",
        "     result[i][j]= X[j][i]\n",
        "\n",
        "for row in result:\n",
        "     print(row)\n"
      ]
    },
    {
      "cell_type": "code",
      "execution_count": null,
      "metadata": {
        "colab": {
          "base_uri": "https://localhost:8080/"
        },
        "id": "lF4MMbh0jxD9",
        "outputId": "754ee249-bcfc-4373-c436-a102b0dccea8"
      },
      "outputs": [
        {
          "name": "stdout",
          "output_type": "stream",
          "text": [
            "[29, 37, 34]\n",
            "[13, 18, 19]\n",
            "[32, 42, 20]\n"
          ]
        }
      ],
      "source": [
        "#38 Python Program to Multiply Two Matrices\n",
        "X = [[1,2,3],\n",
        "    [1 ,0,2],\n",
        "    [2 ,3,1]]\n",
        "\n",
        "Y = [[5,8,1],\n",
        "    [6,7,3],\n",
        "    [4,5,9]]\n",
        "\n",
        "result = [[0,0,0],\n",
        "         [0,0,0],\n",
        "         [0,0,0]]\n",
        "\n",
        "for i in range(len(X)):\n",
        "  for j in range(len(X[0])):\n",
        "    for k in range(len(Y)):\n",
        "        result[i][j] += X[i][k]*Y[k][j]\n",
        "\n",
        "for row in result:\n",
        "     print(row)"
      ]
    },
    {
      "cell_type": "code",
      "execution_count": null,
      "metadata": {
        "colab": {
          "base_uri": "https://localhost:8080/"
        },
        "id": "z2Y0FWZEmdXh",
        "outputId": "1f92ac72-7946-4f25-d177-ebeef6a6b529"
      },
      "outputs": [
        {
          "name": "stdout",
          "output_type": "stream",
          "text": [
            "enter stringdad\n",
            "palindrome\n"
          ]
        }
      ],
      "source": [
        "#39 Python Program to Check Whether a String is Palindrome or not\n",
        "s= input(\"enter string\")\n",
        "s = s.replace(\" \",\"\").lower()\n",
        "\n",
        "if s == s[::-1]:\n",
        "  print(\"palindrome\")\n",
        "else:\n",
        "  print(\"not plaindrome\")"
      ]
    },
    {
      "cell_type": "code",
      "execution_count": null,
      "metadata": {
        "colab": {
          "base_uri": "https://localhost:8080/"
        },
        "id": "PohHgQ232nRK",
        "outputId": "2cd6a668-ec5d-4d45-f220-7d73e10098e4"
      },
      "outputs": [
        {
          "name": "stdout",
          "output_type": "stream",
          "text": [
            "The string is a palindrome.\n"
          ]
        }
      ],
      "source": [
        "my_str = 'aIbohPhoBiA'\n",
        "\n",
        "# make it suitable for caseless comparison\n",
        "my_str = my_str.casefold()\n",
        "\n",
        "# reverse the string\n",
        "rev_str = reversed(my_str)\n",
        "\n",
        "# check if the string is equal to its reverse\n",
        "if list(my_str) == list(rev_str):\n",
        "   print(\"The string is a palindrome.\")\n",
        "else:\n",
        "   print(\"The string is not a palindrome.\")"
      ]
    },
    {
      "cell_type": "code",
      "execution_count": null,
      "metadata": {
        "colab": {
          "base_uri": "https://localhost:8080/"
        },
        "id": "s90kmdnz4a0R",
        "outputId": "639965ee-4f18-432a-91ea-9846bd792acf"
      },
      "outputs": [
        {
          "name": "stdout",
          "output_type": "stream",
          "text": [
            "enter stringHello!!!, he said ---and went.\n",
            "Hello he said and went\n"
          ]
        }
      ],
      "source": [
        "#40 Python Program to Remove Punctuations From a String\n",
        "string = input(\"enter string\")\n",
        "punctuations = '''!()-[]{};:'\"\\,<>./?@#$%^&*_~'''\n",
        "result_string = \"\"\n",
        "for char in string:\n",
        "  if char not in punctuations:\n",
        "    result_string += char\n",
        "\n",
        "print(result_string)"
      ]
    },
    {
      "cell_type": "code",
      "execution_count": null,
      "metadata": {
        "colab": {
          "base_uri": "https://localhost:8080/"
        },
        "id": "fYyROur88Put",
        "outputId": "5f30f331-aa34-46ca-ddb5-ae3c3cf566e7"
      },
      "outputs": [
        {
          "name": "stdout",
          "output_type": "stream",
          "text": [
            "27-07-2023  20:59:51\n"
          ]
        }
      ],
      "source": [
        "from datetime import datetime\n",
        "import pytz\n",
        "print(datetime.now(pytz.timezone('Asia/Kolkata')).strftime(\"%d-%m-%Y  %H:%M:%S\"))"
      ]
    },
    {
      "cell_type": "code",
      "execution_count": null,
      "metadata": {
        "colab": {
          "base_uri": "https://localhost:8080/"
        },
        "id": "RzhlU0TD9K7X",
        "outputId": "c9961100-6503-436e-e5b4-91e1300c8d21"
      },
      "outputs": [
        {
          "name": "stdout",
          "output_type": "stream",
          "text": [
            "an\n",
            "cased\n",
            "example\n",
            "hello\n",
            "is\n",
            "letters\n",
            "this\n",
            "with\n"
          ]
        }
      ],
      "source": [
        "#41 Python Program to Sort Words in Alphabetic Order #sort\n",
        "\"\"\" you cannot solve it directly using sort(s) because sort() is a method applicable to lists, not strings  Strings are immutable in Python, which means they cannot be changed in place, and therefore they don't have a sort() method.\n",
        "To sort the words in alphabetic order in the given string s, you need to first split the string into individual words, then sort the words,\"\"\"\n",
        "\n",
        "s = \"Hello this Is an Example With cased letters\"\n",
        "words = [word.lower() for word in s.split()]\n",
        "words.sort()\n",
        "for word in words:\n",
        "  print(word)"
      ]
    },
    {
      "cell_type": "code",
      "execution_count": null,
      "metadata": {
        "colab": {
          "base_uri": "https://localhost:8080/"
        },
        "id": "CiJFtIj00NYO",
        "outputId": "71eac301-5835-4199-9a6a-424cf61b8412"
      },
      "outputs": [
        {
          "name": "stdout",
          "output_type": "stream",
          "text": [
            "union {1, 2, 3, 4, 5, 6, 7}\n",
            "intersection {1, 2}\n",
            "difference {3, 4}\n",
            "symmetric difference {3, 4, 5, 6, 7}\n"
          ]
        }
      ],
      "source": [
        "#42 Python Program to Illustrate Different Set Operations\n",
        "A ={1,2,3,4}\n",
        "B = {2,5,6,7,1}\n",
        "\n",
        "print(\"union\",A|B)\n",
        "print(\"intersection\", A&B)\n",
        "print(\"difference\",A-B)\n",
        "print(\"symmetric difference\",A^B) #symmetric difference-> set of elements that are unique to each set and do not appear in both sets simultaneously."
      ]
    },
    {
      "cell_type": "code",
      "execution_count": null,
      "metadata": {
        "colab": {
          "base_uri": "https://localhost:8080/"
        },
        "id": "IWKF5x0b8Riq",
        "outputId": "2531f1c4-9737-4036-d22d-79b150fe8440"
      },
      "outputs": [
        {
          "name": "stdout",
          "output_type": "stream",
          "text": [
            "{'a': 1, 'e': 3, 'i': 2, 'o': 0, 'u': 0}\n"
          ]
        }
      ],
      "source": [
        "#43 Python Program to Count the Number of Each Vowel\n",
        "s = \"I am Independent\"\n",
        "vowel = \"aeiou\"\n",
        "s = s.casefold()\n",
        "count = {}.fromkeys(vowel,0)\n",
        "for char in s:\n",
        "  if char in vowel:\n",
        "     count[char] += 1\n",
        "\n",
        "print(count)\n"
      ]
    },
    {
      "cell_type": "code",
      "execution_count": null,
      "metadata": {
        "colab": {
          "base_uri": "https://localhost:8080/"
        },
        "id": "X9DwGKWME4q1",
        "outputId": "dc316b61-2225-434f-9011-ed410ebe0e9e"
      },
      "outputs": [
        {
          "name": "stdout",
          "output_type": "stream",
          "text": [
            "{'a': 1, 'e': 3, 'i': 2, 'o': 0, 'u': 0}\n"
          ]
        }
      ],
      "source": [
        "#Using a list and a dictionary comprehension\n",
        "s = \"I am Independent\"\n",
        "vowels = \"aeiou\"\n",
        "s = s.casefold()\n",
        "vowel_list = [char for char in s if char in vowels]\n",
        "# Create a dictionary with each vowel as key and its count as value\n",
        "count = {vowel: vowel_list.count(vowel) for vowel in vowels}\n",
        "print(count)"
      ]
    },
    {
      "cell_type": "code",
      "execution_count": null,
      "metadata": {
        "id": "DuzoUnIxQiXY"
      },
      "outputs": [],
      "source": [
        "#44 Python Program to Merge Mails\n",
        "L = [\"divya\\n\",\"jyoti\\n\",\"meghna\\n\",\"viku\\n\",\"aleena\\n\",\"neha mam\\n\",\"kuljeet sir\\n\",\"sonam\\n\",\"nisha\\n\",\"nishu\\n\",\"vaibhav\\n\",\"bhavya\\n\",\"alishba\\n\",\"data scientist\\n\",\"kusha\\n\",\"manu\\n\",\"special one\\n\"]\n",
        "with open(\"names.txt\",'w')  as n:\n",
        "   n.writelines(L)"
      ]
    },
    {
      "cell_type": "code",
      "execution_count": null,
      "metadata": {
        "id": "fXN4LYiQc37y"
      },
      "outputs": [],
      "source": [
        "B = \"\"\"🎉 You're Invited! 🎉\n",
        "\n",
        "Join me as I celebrate my 22nd birthday after 21 years! 🎂🎈\n",
        "\n",
        "Date: 1-1-2025\n",
        "Time: [8:00 PM]\n",
        "Venue: [Gurgaon]\n",
        "\n",
        "Let's make this day extra special with joy, laughter, and good company! 🎊\n",
        "\n",
        "Looking forward to seeing you there! 🥳\"\"\"\n",
        "with open(\"body.txt\",'w') as t:\n",
        "    t.write(B)"
      ]
    },
    {
      "cell_type": "code",
      "execution_count": null,
      "metadata": {
        "id": "ZW77XeTWeTOj"
      },
      "outputs": [],
      "source": [
        "with open(\"names.txt\",'r') as name_file:\n",
        "  with open(\"body.txt\",'r') as body_file:\n",
        "      body = body_file.read()\n",
        "      for name in name_file:\n",
        "        mail = \"hey! \"+name.strip()+\"\\n\"+body\n",
        "        with open(name.strip()+\".txt\",'w') as mail_file:\n",
        "          mail_file.write(mail)"
      ]
    },
    {
      "cell_type": "code",
      "execution_count": null,
      "metadata": {
        "colab": {
          "base_uri": "https://localhost:8080/"
        },
        "id": "bPJno-hpf1Ec",
        "outputId": "bf37ff65-73ac-4094-c021-5e3d4fb4b42f"
      },
      "outputs": [
        {
          "name": "stdout",
          "output_type": "stream",
          "text": [
            "Requirement already satisfied: pillow in /usr/local/lib/python3.10/dist-packages (9.4.0)\n"
          ]
        }
      ],
      "source": [
        "#45 Python Program to Find the Size (Resolution) of a Image #install pillow\n",
        "!pip install pillow"
      ]
    },
    {
      "cell_type": "code",
      "execution_count": null,
      "metadata": {
        "colab": {
          "base_uri": "https://localhost:8080/"
        },
        "id": "P1HzJXOOoWCI",
        "outputId": "2f2c704b-4d6b-40ff-94db-03982f9533cd"
      },
      "outputs": [
        {
          "name": "stdout",
          "output_type": "stream",
          "text": [
            "Resolution of image width x height is  1927 x 1730\n"
          ]
        }
      ],
      "source": [
        "from PIL import Image\n",
        "filepath = \"/content/question13.jpg\"\n",
        "img_name = Image.open(filepath)\n",
        "width = img_name.width\n",
        "height = img_name.height\n",
        "\n",
        "print(\"Resolution of image width x height is \",width,\"x\",height)\n"
      ]
    },
    {
      "cell_type": "code",
      "execution_count": null,
      "metadata": {
        "id": "H_xJ3mGA1zXN"
      },
      "outputs": [],
      "source": [
        "#46 Python Program to Find Hash of File\n"
      ]
    },
    {
      "cell_type": "code",
      "execution_count": null,
      "metadata": {
        "colab": {
          "base_uri": "https://localhost:8080/"
        },
        "id": "OrjcxD2P5_FS",
        "outputId": "2f5d1e50-6c68-44e0-a3a2-e7c9e8c58e38"
      },
      "outputs": [
        {
          "name": "stdout",
          "output_type": "stream",
          "text": [
            "*\n",
            "**\n",
            "***\n",
            "****\n",
            "*****\n"
          ]
        }
      ],
      "source": [
        "#47 Python Program to Create Pyramid Patterns\n",
        "#Example 1: Program to print half pyramid using *\n",
        "rows = 5\n",
        "for i in range(rows):\n",
        "  for j in range(i+1):\n",
        "    print(\"*\",end ='')\n",
        "  print()"
      ]
    },
    {
      "cell_type": "code",
      "execution_count": null,
      "metadata": {
        "colab": {
          "base_uri": "https://localhost:8080/"
        },
        "id": "TM7i-_z1QufM",
        "outputId": "cf41c827-f310-4282-a6fe-ca5b4b08125d"
      },
      "outputs": [
        {
          "name": "stdout",
          "output_type": "stream",
          "text": [
            "1 \n",
            "1 2 \n",
            "1 2 3 \n",
            "1 2 3 4 \n",
            "1 2 3 4 5 \n"
          ]
        }
      ],
      "source": [
        "#Example 2: Program to print half pyramid a using numbers\n",
        "rows = 5\n",
        "for i in range(rows):\n",
        "  for j in range(i+1):\n",
        "    print(j+1,end=' ')\n",
        "  print()"
      ]
    },
    {
      "cell_type": "code",
      "execution_count": null,
      "metadata": {
        "colab": {
          "base_uri": "https://localhost:8080/"
        },
        "id": "2JhbMdEERK-2",
        "outputId": "c1a406a1-e2f0-4dea-e499-a9e962b0119a"
      },
      "outputs": [
        {
          "name": "stdout",
          "output_type": "stream",
          "text": [
            "A \n",
            "B B \n",
            "C C C \n",
            "D D D D \n",
            "E E E E E \n"
          ]
        }
      ],
      "source": [
        "#Example 3: Program to print half pyramid using alphabets\n",
        "rows = 5\n",
        "ascii_value = 65\n",
        "for i in range(rows):\n",
        "  for j in range(i+1):\n",
        "    alphabat = chr(ascii_value)\n",
        "    print(alphabat,end=' ')\n",
        "  ascii_value +=1\n",
        "  print()"
      ]
    },
    {
      "cell_type": "code",
      "execution_count": null,
      "metadata": {
        "colab": {
          "base_uri": "https://localhost:8080/"
        },
        "id": "u2oNrrAPV2vV",
        "outputId": "8a604b79-a207-47a7-c5e2-833c4b828465"
      },
      "outputs": [
        {
          "name": "stdout",
          "output_type": "stream",
          "text": [
            "* * * * * \n",
            "* * * * \n",
            "* * * \n",
            "* * \n",
            "* \n"
          ]
        }
      ],
      "source": [
        "#Example 4: Inverted half pyramid using *\n",
        "rows = 5\n",
        "for i in range(rows,0,-1):\n",
        "  for j in range(0,i):\n",
        "    print(\"*\",end=' ')\n",
        "  print()\n"
      ]
    },
    {
      "cell_type": "code",
      "execution_count": null,
      "metadata": {
        "colab": {
          "base_uri": "https://localhost:8080/"
        },
        "id": "-6FZcwGTYNOd",
        "outputId": "f656afaa-38a5-4770-ea81-567cb9c456cc"
      },
      "outputs": [
        {
          "name": "stdout",
          "output_type": "stream",
          "text": [
            "1 2 3 4 5 \n",
            "1 2 3 4 \n",
            "1 2 3 \n",
            "1 2 \n",
            "1 \n"
          ]
        }
      ],
      "source": [
        "#Example 5: Inverted half pyramid using numbers\n",
        "rows = 5\n",
        "for i in range(rows,0,-1):\n",
        "  for j in range(0,i):             #or j in range(1,i+1) print(j)\n",
        "    print(j+1,end=' ')\n",
        "  print()"
      ]
    },
    {
      "cell_type": "code",
      "execution_count": null,
      "metadata": {
        "colab": {
          "base_uri": "https://localhost:8080/"
        },
        "id": "vKYGM2FNY0Ss",
        "outputId": "e3851bf9-86ef-419b-c075-a549e1c38993"
      },
      "outputs": [
        {
          "name": "stdout",
          "output_type": "stream",
          "text": [
            "    \n",
            "   *\n",
            "  ***\n",
            " *****\n",
            "*******\n"
          ]
        }
      ],
      "source": [
        "#Example 6: Program to print full pyramid using *\n",
        "n = 5\n",
        "for i in range(n):\n",
        "  for j in range(n-i-1):\n",
        "    print(\" \",end=\"\")\n",
        "  for j in range(2*i-1):\n",
        "     print(\"*\",end=\"\")\n",
        "  print()"
      ]
    },
    {
      "cell_type": "code",
      "execution_count": null,
      "metadata": {
        "id": "7HcEbXk6eVnm"
      },
      "outputs": [],
      "source": [
        "#Example 7: Full Pyramid of Numbers\n",
        "#Example 8: Inverted full pyramid of *\n",
        "#Example 9: Pascal's Triangle\n",
        "#Example 10: Floyd's Triangle"
      ]
    },
    {
      "cell_type": "code",
      "execution_count": null,
      "metadata": {
        "colab": {
          "base_uri": "https://localhost:8080/"
        },
        "id": "dcOXjckwoWIm",
        "outputId": "c5332a9c-b24c-4d67-8429-bfc0331832df"
      },
      "outputs": [
        {
          "name": "stdout",
          "output_type": "stream",
          "text": [
            "{'a': 1, 'b': 2, 'c': 3, 'd': 4}\n"
          ]
        }
      ],
      "source": [
        "#48 Python Program to Merge Two Dictionaries\n",
        "dict1 = {'a':1,'b':2}\n",
        "dict2 = {'c':3,'d':4}\n",
        "print(dict1|dict2)"
      ]
    },
    {
      "cell_type": "code",
      "execution_count": null,
      "metadata": {
        "colab": {
          "base_uri": "https://localhost:8080/"
        },
        "id": "j46FxT46osgl",
        "outputId": "ebf7708b-67c7-4bdb-eba4-3b98d4881cc7"
      },
      "outputs": [
        {
          "name": "stdout",
          "output_type": "stream",
          "text": [
            "{'a': 1, 'b': 2, 'c': 3, 'd': 4}\n"
          ]
        }
      ],
      "source": [
        "#Using the ** Operator\n",
        "print({**dict1,**dict2})"
      ]
    },
    {
      "cell_type": "code",
      "execution_count": null,
      "metadata": {
        "colab": {
          "base_uri": "https://localhost:8080/"
        },
        "id": "UFZJnL7ooyIM",
        "outputId": "3b727b8b-8d89-49a3-f7f2-a5add632bb32"
      },
      "outputs": [
        {
          "name": "stdout",
          "output_type": "stream",
          "text": [
            "{'c': 3, 'd': 4, 'a': 1, 'b': 2}\n"
          ]
        }
      ],
      "source": [
        "#Using copy() and update()\n",
        "dict3 = dict2.copy()\n",
        "dict3.update(dict1)\n",
        "print(dict3)"
      ]
    },
    {
      "cell_type": "code",
      "execution_count": null,
      "metadata": {
        "colab": {
          "base_uri": "https://localhost:8080/"
        },
        "id": "KbDGY-ysp3Zk",
        "outputId": "9ca9e692-7af2-43fa-bce2-900aca420197"
      },
      "outputs": [
        {
          "name": "stdout",
          "output_type": "stream",
          "text": [
            "/content/D/root/folder1\n"
          ]
        }
      ],
      "source": [
        "#49 Python Program to Safely Create a Nested Directory\n",
        "from pathlib import Path\n",
        "Path('D/root/folder1').mkdir(parents = True,exist_ok=True)\n",
        "dirct_path = Path('D/root/folder1').resolve()\n",
        "print(dirct_path)"
      ]
    },
    {
      "cell_type": "code",
      "execution_count": null,
      "metadata": {
        "colab": {
          "base_uri": "https://localhost:8080/"
        },
        "id": "ZylXQvpzssHO",
        "outputId": "12449b57-29f7-48f6-dad5-50490e1ca6a2"
      },
      "outputs": [
        {
          "name": "stdout",
          "output_type": "stream",
          "text": [
            "21 0\n",
            "22 1\n",
            "45 2\n",
            "6 3\n",
            "7 4\n"
          ]
        }
      ],
      "source": [
        "#50 Python Program to Access Index of a List Using for Loop\n",
        "L = [21,22,45,6,7]\n",
        "for i in range(len(L)):\n",
        "  value = L[i]\n",
        "\n",
        "  print(value,i)"
      ]
    },
    {
      "cell_type": "code",
      "execution_count": null,
      "metadata": {
        "colab": {
          "base_uri": "https://localhost:8080/"
        },
        "id": "83QvjT1zs-gT",
        "outputId": "6c71295b-9770-40af-b1e0-938ee491c51f"
      },
      "outputs": [
        {
          "name": "stdout",
          "output_type": "stream",
          "text": [
            "0 21\n",
            "1 22\n",
            "2 45\n",
            "3 6\n",
            "4 7\n"
          ]
        }
      ],
      "source": [
        "#Using enumerate\n",
        "L = [21,22,45,6,7]\n",
        "for i,value in enumerate(L):\n",
        "  print(i,value)"
      ]
    },
    {
      "cell_type": "code",
      "execution_count": null,
      "metadata": {
        "colab": {
          "base_uri": "https://localhost:8080/"
        },
        "id": "VzIF0VXluLt7",
        "outputId": "faf6b086-cf58-41ac-bf44-b2fd12b24083"
      },
      "outputs": [
        {
          "name": "stdout",
          "output_type": "stream",
          "text": [
            "28-07-2023  23:00:27\n"
          ]
        }
      ],
      "source": [
        "from datetime import datetime\n",
        "import pytz\n",
        "print(datetime.now(pytz.timezone('Asia/Kolkata')).strftime(\"%d-%m-%Y  %H:%M:%S\"))"
      ]
    },
    {
      "cell_type": "code",
      "execution_count": null,
      "metadata": {
        "colab": {
          "base_uri": "https://localhost:8080/"
        },
        "id": "Ngk5ngdnjNXb",
        "outputId": "afb81401-ff58-4dd4-a06a-050776e730eb"
      },
      "outputs": [
        {
          "name": "stdout",
          "output_type": "stream",
          "text": [
            "[1, 2, 3, 4, 5, 6, 7, 8, 9]\n"
          ]
        }
      ],
      "source": [
        "#51 Python Program to Flatten a Nested List\n",
        "nested_list = [[1, 2, 3], [4, 5, 6], [7, 8, 9]]\n",
        "flatten_list = []\n",
        "\n",
        "for sublist in nested_list:\n",
        "  for element in sublist:\n",
        "     #if element not in flatten_list:\n",
        "      flatten_list.append(element)\n",
        "\n",
        "print(flatten_list)"
      ]
    },
    {
      "cell_type": "code",
      "execution_count": null,
      "metadata": {
        "colab": {
          "base_uri": "https://localhost:8080/"
        },
        "id": "jfoRWfsvY0cy",
        "outputId": "15db58a0-2f4c-476a-bd88-b8011a18d59b"
      },
      "outputs": [
        {
          "data": {
            "text/plain": [
              "[1, 2, 3, 4, 5, 6, 7, 8, 9]"
            ]
          },
          "execution_count": 7,
          "metadata": {},
          "output_type": "execute_result"
        }
      ],
      "source": [
        "#Using List Comprehension\n",
        "[element  for sublist in nested_list for element in sublist]"
      ]
    },
    {
      "cell_type": "code",
      "execution_count": null,
      "metadata": {
        "colab": {
          "base_uri": "https://localhost:8080/"
        },
        "id": "QhfGqpIkcAYb",
        "outputId": "cfd2da99-f02a-491b-dad6-8a98cdc300f6"
      },
      "outputs": [
        {
          "name": "stdout",
          "output_type": "stream",
          "text": [
            "[1, 2, 3, 4, 5, 6, 7, 8, 9]\n"
          ]
        }
      ],
      "source": [
        "# Using sum()\n",
        "flat_list = sum(nested_list,[])\n",
        "print(flat_list)"
      ]
    },
    {
      "cell_type": "code",
      "execution_count": null,
      "metadata": {
        "colab": {
          "base_uri": "https://localhost:8080/"
        },
        "id": "0Ocs-J0qdWWa",
        "outputId": "a24f4157-3e74-4c82-874e-19a5b7867ae0"
      },
      "outputs": [
        {
          "name": "stdout",
          "output_type": "stream",
          "text": [
            "[1, 2, 3, 4, 5, 6, 7, 8, 9]\n"
          ]
        }
      ],
      "source": [
        "# Using lambda and reduce()\n",
        "from functools import reduce\n",
        "print(reduce(lambda x,y: x+y,nested_list))"
      ]
    },
    {
      "cell_type": "code",
      "execution_count": null,
      "metadata": {
        "colab": {
          "base_uri": "https://localhost:8080/"
        },
        "id": "yc93Kma2fVpD",
        "outputId": "cc7dc521-c853-499b-c836-207b289ec455"
      },
      "outputs": [
        {
          "data": {
            "text/plain": [
              "[2, 3, 55, 76, 44]"
            ]
          },
          "execution_count": 11,
          "metadata": {},
          "output_type": "execute_result"
        }
      ],
      "source": [
        "#52 Python Program to Slice Lists\n",
        "L = [2,3,55,76,44,33]\n",
        "L[0:5]"
      ]
    },
    {
      "cell_type": "code",
      "execution_count": null,
      "metadata": {
        "colab": {
          "background_save": true,
          "base_uri": "https://localhost:8080/"
        },
        "id": "RL_90cPXf1Id",
        "outputId": "d9288585-ef93-4175-a31b-dfdd84a001d3"
      },
      "outputs": [
        {
          "name": "stdout",
          "output_type": "stream",
          "text": [
            "a 1\n",
            "b 2\n"
          ]
        }
      ],
      "source": [
        "#53 Python Program to Iterate Over Dictionaries Using for Loop\n",
        "#without using items()\n",
        "dict1 = {'a':1,'b':2}\n",
        "for keys in dict1:\n",
        "  print(keys,dict1[keys])"
      ]
    },
    {
      "cell_type": "code",
      "execution_count": null,
      "metadata": {
        "colab": {
          "base_uri": "https://localhost:8080/"
        },
        "id": "77p6zFCPguyE",
        "outputId": "8e6bdd48-c4d0-4b8d-bddb-4e07e6e47f98"
      },
      "outputs": [
        {
          "name": "stdout",
          "output_type": "stream",
          "text": [
            "a 1\n",
            "b 2\n"
          ]
        }
      ],
      "source": [
        "# Access both key and value using items()\n",
        "for key,value in dict1.items():\n",
        "  print(key,value)"
      ]
    },
    {
      "cell_type": "code",
      "execution_count": null,
      "metadata": {
        "colab": {
          "base_uri": "https://localhost:8080/"
        },
        "id": "0WTLJiN1iJ2i",
        "outputId": "90c4eb42-09bd-44fb-bc20-6f37907848d5"
      },
      "outputs": [
        {
          "name": "stdout",
          "output_type": "stream",
          "text": [
            "a\n",
            "b\n",
            "1\n",
            "2\n"
          ]
        }
      ],
      "source": [
        "# Return keys or values explicitly\n",
        "for key in dict1.keys():\n",
        "    print(key)\n",
        "for value in dict1.values():\n",
        "    print(value)"
      ]
    },
    {
      "cell_type": "code",
      "execution_count": null,
      "metadata": {
        "colab": {
          "background_save": true,
          "base_uri": "https://localhost:8080/"
        },
        "id": "W9TXhuPJijSQ",
        "outputId": "f02c427b-aa30-43b9-d1fe-1a7734a875f3"
      },
      "outputs": [
        {
          "name": "stdout",
          "output_type": "stream",
          "text": [
            "[3, 4, 6]\n"
          ]
        }
      ],
      "source": [
        "#54 Python Program to Sort a Dictionary by Value\n",
        "dt = {5:4, 1:6, 6:3}\n",
        "dt.values()"
      ]
    },
    {
      "cell_type": "code",
      "execution_count": null,
      "metadata": {
        "colab": {
          "base_uri": "https://localhost:8080/"
        },
        "id": "BuKUamOCkKsn",
        "outputId": "9e49b344-9cfb-42c0-9256-33e15ab41fee"
      },
      "outputs": [
        {
          "name": "stdout",
          "output_type": "stream",
          "text": [
            "{6: 3, 5: 4, 1: 6}\n"
          ]
        }
      ],
      "source": [
        "#Sort the dictionary based on values\n",
        "dt = {5:4, 1:6, 6:3}\n",
        "sorted_dt = {key:value for key,value in sorted(dt.items(),key= lambda item:item[1])}\n",
        "print(sorted_dt)"
      ]
    },
    {
      "cell_type": "code",
      "execution_count": null,
      "metadata": {
        "colab": {
          "base_uri": "https://localhost:8080/"
        },
        "id": "jOseJrGOmg_y",
        "outputId": "5d94192b-b325-4633-efdc-254ae63924a2"
      },
      "outputs": [
        {
          "name": "stdout",
          "output_type": "stream",
          "text": [
            "empty list\n"
          ]
        }
      ],
      "source": [
        "#55 Python Program to Check If a List is Empty\n",
        "L = []\n",
        "if len(L)==0:\n",
        "   print(\"empty list\")"
      ]
    },
    {
      "cell_type": "code",
      "execution_count": null,
      "metadata": {
        "colab": {
          "base_uri": "https://localhost:8080/"
        },
        "id": "WXvebPn2p4o3",
        "outputId": "7df0e784-8b91-49dc-e09d-afc9e98de245"
      },
      "outputs": [
        {
          "name": "stdout",
          "output_type": "stream",
          "text": [
            "empty list\n"
          ]
        }
      ],
      "source": [
        "#Using Boolean operation\n",
        "my_list =[]\n",
        "if not my_list:\n",
        "  print(\"empty list\")"
      ]
    },
    {
      "cell_type": "code",
      "execution_count": null,
      "metadata": {
        "colab": {
          "base_uri": "https://localhost:8080/"
        },
        "id": "dPr06M5uqJ1r",
        "outputId": "325a1116-68f1-450e-c995-ad2db84f7e21"
      },
      "outputs": [
        {
          "name": "stdout",
          "output_type": "stream",
          "text": [
            "empty list\n"
          ]
        }
      ],
      "source": [
        "#Comparing with []\n",
        "if my_list == []:\n",
        "  print(\"empty list\")"
      ]
    },
    {
      "cell_type": "code",
      "execution_count": null,
      "metadata": {
        "colab": {
          "base_uri": "https://localhost:8080/"
        },
        "id": "TQDWboRksPwz",
        "outputId": "f6ccf4bd-14c2-4c87-864c-fc8ac689f945"
      },
      "outputs": [
        {
          "name": "stdout",
          "output_type": "stream",
          "text": [
            "a\n",
            "b\n",
            "invalid literal for int() with base 10: 'b'\n"
          ]
        }
      ],
      "source": [
        "#56 Python Program to Catch Multiple Exceptions in One Line\n",
        "#Multiple exceptions as a parenthesized tuple\n",
        "string = input()\n",
        "try:\n",
        "  num = int(input())\n",
        "  print(string+num)\n",
        "except (TypeError,ValueError) as e:\n",
        "  print(e)"
      ]
    },
    {
      "cell_type": "code",
      "execution_count": null,
      "metadata": {
        "id": "X7EK8ZWAuEFb"
      },
      "outputs": [],
      "source": [
        "#57 Python Program to Copy a File\n",
        "#Using shutil module\n",
        "with open('file1.txt','w') as f:\n",
        "  f.write(\"hi how are you pagl!\")\n"
      ]
    },
    {
      "cell_type": "code",
      "execution_count": null,
      "metadata": {
        "colab": {
          "base_uri": "https://localhost:8080/",
          "height": 35
        },
        "id": "IinLp0It31qB",
        "outputId": "9cf9f8da-b17a-4432-886b-556ffd50e151"
      },
      "outputs": [
        {
          "data": {
            "application/vnd.google.colaboratory.intrinsic+json": {
              "type": "string"
            },
            "text/plain": [
              "'/content/file2.txt'"
            ]
          },
          "execution_count": 62,
          "metadata": {},
          "output_type": "execute_result"
        }
      ],
      "source": [
        "from shutil import copyfile\n",
        "copyfile('/content/file1.txt','/content/file2.txt')"
      ]
    },
    {
      "cell_type": "code",
      "execution_count": null,
      "metadata": {
        "colab": {
          "base_uri": "https://localhost:8080/"
        },
        "id": "8ss5O_a73xpq",
        "outputId": "a436ad48-904e-4c95-ab2c-e1be0ada93df"
      },
      "outputs": [
        {
          "name": "stdout",
          "output_type": "stream",
          "text": [
            "hi how are you pagl!\n"
          ]
        }
      ],
      "source": [
        "with open('file2.txt','r') as r:\n",
        "    print(r.read())"
      ]
    },
    {
      "cell_type": "code",
      "execution_count": null,
      "metadata": {
        "colab": {
          "base_uri": "https://localhost:8080/"
        },
        "id": "OfvK6b3nyITr",
        "outputId": "ac9d03c8-2139-4ebd-964b-551965ea0852"
      },
      "outputs": [
        {
          "name": "stdout",
          "output_type": "stream",
          "text": [
            "[3, 4, 6, 7, 8, 3, 6, 44, 32, 2]\n"
          ]
        }
      ],
      "source": [
        "#58 Python Program to Concatenate Two Lists\n",
        "# Using + operator\n",
        "L1 = [3,4,6,7,8]\n",
        "L2= [3,6,44,32,2]\n",
        "print(L1+L2)"
      ]
    },
    {
      "cell_type": "code",
      "execution_count": null,
      "metadata": {
        "colab": {
          "base_uri": "https://localhost:8080/"
        },
        "id": "f0CM7eDDyT1j",
        "outputId": "2ccc0860-3d38-47dc-b8fb-2a6e65863889"
      },
      "outputs": [
        {
          "name": "stdout",
          "output_type": "stream",
          "text": [
            "[3, 4, 6, 7, 8, 3, 6, 44, 32, 2]\n"
          ]
        }
      ],
      "source": [
        "#Using iterable unpacking operator *\n",
        "print([*L1,*L2])"
      ]
    },
    {
      "cell_type": "code",
      "execution_count": null,
      "metadata": {
        "colab": {
          "base_uri": "https://localhost:8080/"
        },
        "id": "sRnpZ7XCysT_",
        "outputId": "f6b42dc0-e236-44c9-d276-a0e121191ee2"
      },
      "outputs": [
        {
          "name": "stdout",
          "output_type": "stream",
          "text": [
            "[3, 4, 6, 7, 8, 3, 6, 44, 32, 2]\n"
          ]
        }
      ],
      "source": [
        "#Using extend()\n",
        "L1 = [3,4,6,7,8]\n",
        "L2= [3,6,44,32,2]\n",
        "L1.extend(L2)\n",
        "print(L1)"
      ]
    },
    {
      "cell_type": "code",
      "execution_count": null,
      "metadata": {
        "colab": {
          "base_uri": "https://localhost:8080/"
        },
        "id": "-vyfNzPUy-nP",
        "outputId": "ee7f7ce7-b459-4d8a-ee59-f9726e087fe0"
      },
      "outputs": [
        {
          "name": "stdout",
          "output_type": "stream",
          "text": [
            "[32, 2, 3, 4, 6, 7, 8, 44]\n"
          ]
        }
      ],
      "source": [
        "# With unique values\n",
        "L1 = [3,4,6,7,8]\n",
        "L2= [3,6,44,32,2]\n",
        "print(list(set(L1+L2)))"
      ]
    },
    {
      "cell_type": "code",
      "execution_count": null,
      "metadata": {
        "colab": {
          "base_uri": "https://localhost:8080/"
        },
        "id": "nS6Wo8-Ozbpn",
        "outputId": "c303822e-8319-4894-81db-7b0f241132c5"
      },
      "outputs": [
        {
          "name": "stdout",
          "output_type": "stream",
          "text": [
            "present\n"
          ]
        }
      ],
      "source": [
        "#59 Python Program to Check if a Key is Already Present in a Dictionary\n",
        "#Using in keyword\n",
        "dict1 = {'a':1,'b':2,'c':3}\n",
        "if 'c' in dict1:\n",
        "  print(\"present\")"
      ]
    },
    {
      "cell_type": "code",
      "execution_count": null,
      "metadata": {
        "colab": {
          "base_uri": "https://localhost:8080/"
        },
        "id": "Q22FJ8ac0P86",
        "outputId": "523a4fc9-8e07-4ea6-82c3-17dbeb90362d"
      },
      "outputs": [
        {
          "name": "stdout",
          "output_type": "stream",
          "text": [
            "[[1, 2, 3, 4, 5], [6, 7, 8, 9, 10]]\n"
          ]
        }
      ],
      "source": [
        "#60 Python Program to Split a List Into Evenly Sized Chunks\n",
        "#Using yield\n",
        "def split(list1,chunk_size):\n",
        "    for i in range(0,len(list1),chunk_size):\n",
        "      yield list1[i:i+chunk_size]\n",
        "\n",
        "\n",
        "list1 = [1,2,3,4,5,6,7,8,9,10]\n",
        "chunk_size = 5\n",
        "print(list(split(list1,chunk_size)))"
      ]
    },
    {
      "cell_type": "code",
      "execution_count": null,
      "metadata": {
        "colab": {
          "base_uri": "https://localhost:8080/"
        },
        "id": "wXU54eFO9sVL",
        "outputId": "48dead3f-6268-4614-8f1c-4d4beeaf70f5"
      },
      "outputs": [
        {
          "name": "stdout",
          "output_type": "stream",
          "text": [
            "[1, 2, 3, 4]\n",
            "[2, 3, 4, 5]\n",
            "[3, 4, 5, 6]\n"
          ]
        }
      ],
      "source": [
        "#using for loop\n",
        "list1 = [1,2,3,4,5,6,7,8,9,10]\n",
        "for x in range(len(list1[::4])):\n",
        "  print(list1[x:x+4])"
      ]
    },
    {
      "cell_type": "code",
      "execution_count": null,
      "metadata": {
        "colab": {
          "base_uri": "https://localhost:8080/"
        },
        "id": "6gJo4e6W-EYn",
        "outputId": "bcb8e4cf-d58e-4aa7-e7ff-952ebb8ac136"
      },
      "outputs": [
        {
          "name": "stdout",
          "output_type": "stream",
          "text": [
            "<class 'int'>\n",
            "2455\n"
          ]
        }
      ],
      "source": [
        "#61 Python Program to Parse a String to a Float or Int\n",
        "#Parse string into integer\n",
        "str1 = '2455'\n",
        "str1_int = int(str1)\n",
        "print(type(str1_int))\n",
        "print(str1_int)"
      ]
    },
    {
      "cell_type": "code",
      "execution_count": null,
      "metadata": {
        "colab": {
          "base_uri": "https://localhost:8080/"
        },
        "id": "pFRUotkxVvuD",
        "outputId": "18c40ca2-9359-47f5-c621-0c0a180da8f3"
      },
      "outputs": [
        {
          "name": "stdout",
          "output_type": "stream",
          "text": [
            "<class 'float'>\n",
            "567.3\n"
          ]
        }
      ],
      "source": [
        "# Parse string into float\n",
        "str2 = '567.3'\n",
        "str2_float = float(str2)\n",
        "print(type(str2_float))\n",
        "print(str2_float)"
      ]
    },
    {
      "cell_type": "code",
      "execution_count": null,
      "metadata": {
        "colab": {
          "base_uri": "https://localhost:8080/"
        },
        "id": "UBLtvV4cWDhH",
        "outputId": "a0313d4a-f18d-4ef0-e779-52a1f470e8a0"
      },
      "outputs": [
        {
          "name": "stdout",
          "output_type": "stream",
          "text": [
            "<class 'int'>\n",
            "157\n"
          ]
        }
      ],
      "source": [
        "#A string float numeral into integer\n",
        "str3 = '157.88'\n",
        "str3_int = int(float(str3))\n",
        "print(type(str3_int))\n",
        "print(str3_int)"
      ]
    },
    {
      "cell_type": "code",
      "execution_count": null,
      "metadata": {
        "colab": {
          "base_uri": "https://localhost:8080/"
        },
        "id": "JHe51GFXXTYi",
        "outputId": "0c2d1c64-d2f1-4b4e-9dba-89a2be36e05d"
      },
      "outputs": [
        {
          "name": "stdout",
          "output_type": "stream",
          "text": [
            "Deepa\n"
          ]
        }
      ],
      "source": [
        "#62 Python Program to Print Colored Text to the Terminal\n",
        "#Using python module termcolor\n",
        "from termcolor import colored\n",
        "print(colored('Deepa','red')) #it does not work in google colab\n"
      ]
    },
    {
      "cell_type": "code",
      "execution_count": null,
      "metadata": {
        "colab": {
          "base_uri": "https://localhost:8080/",
          "height": 52
        },
        "id": "2ZKdoZAhYGvH",
        "outputId": "46cb48a0-dcb9-470e-c6c9-a6be2a707bee"
      },
      "outputs": [
        {
          "data": {
            "text/html": [
              "<span style=\"color: red;\">This is red text</span>"
            ],
            "text/plain": [
              "<IPython.core.display.HTML object>"
            ]
          },
          "metadata": {},
          "output_type": "display_data"
        },
        {
          "data": {
            "text/html": [
              "<span style=\"color: green;\">This is green text</span>"
            ],
            "text/plain": [
              "<IPython.core.display.HTML object>"
            ]
          },
          "metadata": {},
          "output_type": "display_data"
        }
      ],
      "source": [
        "from IPython.display import HTML\n",
        "\n",
        "def display_colored_text(text, color):\n",
        "    colored_text = f'<span style=\"color: {color};\">{text}</span>'\n",
        "    display(HTML(colored_text))\n",
        "\n",
        "# Example usage\n",
        "display_colored_text('This is red text', 'red')\n",
        "display_colored_text('This is green text', 'green')"
      ]
    },
    {
      "cell_type": "code",
      "execution_count": null,
      "metadata": {
        "colab": {
          "base_uri": "https://localhost:8080/"
        },
        "id": "JOLkUOgzaLZ-",
        "outputId": "d4baa2e2-08d0-469e-8724-cdfc5e5f6a29"
      },
      "outputs": [
        {
          "name": "stdout",
          "output_type": "stream",
          "text": [
            "\u001b[38;2;5;86;243mProgramiz\u001b[0m\n"
          ]
        }
      ],
      "source": [
        "#Using ANSI escape sequences\n",
        "print('\\x1b[38;2;5;86;243m' + 'Programiz' + '\\x1b[0m')"
      ]
    },
    {
      "cell_type": "code",
      "execution_count": null,
      "metadata": {
        "colab": {
          "base_uri": "https://localhost:8080/"
        },
        "id": "rX8ebFhLat_1",
        "outputId": "24869936-b169-4621-c7e1-2989fd2f53c5"
      },
      "outputs": [
        {
          "name": "stdout",
          "output_type": "stream",
          "text": [
            "<class 'datetime.datetime'>\n",
            "2023-07-25 12:30:45\n"
          ]
        }
      ],
      "source": [
        "#63 Python Program to Convert String to Datetime\n",
        "# Using datetime module\n",
        "from datetime import datetime\n",
        "date_str = \"2023-07-25 12:30:45\"\n",
        "date_format = \"%Y-%m-%d  %H:%M:%S\"\n",
        "date_obj = datetime.strptime(date_str,date_format)\n",
        "print(type(date_obj))\n",
        "print(date_obj)"
      ]
    },
    {
      "cell_type": "code",
      "execution_count": null,
      "metadata": {
        "colab": {
          "base_uri": "https://localhost:8080/"
        },
        "id": "F0ThMWcUeANS",
        "outputId": "932e3382-ef8c-4d63-ed09-aca8a7b62ead"
      },
      "outputs": [
        {
          "name": "stdout",
          "output_type": "stream",
          "text": [
            "2003-01-01 12:00:00\n"
          ]
        }
      ],
      "source": [
        "# Using dateutil module\n",
        "from dateutil import parser\n",
        "date_time = parser.parse(\"jan 1 2003 12:00PM\")\n",
        "print(date_time)"
      ]
    },
    {
      "cell_type": "code",
      "execution_count": null,
      "metadata": {
        "colab": {
          "base_uri": "https://localhost:8080/"
        },
        "id": "e_grI-D1eenx",
        "outputId": "3d4fca57-f44a-4d98-9ce1-4bcbcfb20dfb"
      },
      "outputs": [
        {
          "data": {
            "text/plain": [
              "[4]"
            ]
          },
          "execution_count": 27,
          "metadata": {},
          "output_type": "execute_result"
        }
      ],
      "source": [
        "#64 Python Program to Get the Last Element of the List\n",
        "L = [1,2,3,4]\n",
        "L[-1:]"
      ]
    },
    {
      "cell_type": "code",
      "execution_count": null,
      "metadata": {
        "colab": {
          "base_uri": "https://localhost:8080/"
        },
        "id": "YmCcyccZgLIl",
        "outputId": "4b5b01af-dfd9-431a-a575-7b731121dee1"
      },
      "outputs": [
        {
          "name": "stdout",
          "output_type": "stream",
          "text": [
            "4\n"
          ]
        }
      ],
      "source": [
        "#Using negative indexing\n",
        "L = [1,2,3,4]\n",
        "print(L[-1])"
      ]
    },
    {
      "cell_type": "code",
      "execution_count": null,
      "metadata": {
        "colab": {
          "base_uri": "https://localhost:8080/"
        },
        "id": "HN7oRYfFgbmo",
        "outputId": "9e22740a-d4dd-4448-febd-049d6c167249"
      },
      "outputs": [
        {
          "name": "stdout",
          "output_type": "stream",
          "text": [
            "I\n",
            "Love \n",
            "I Love pytho\n"
          ]
        }
      ],
      "source": [
        "#65 Python Program to Get a Substring of a String\n",
        "str1 = 'I Love python'\n",
        "print(str1[:1])\n",
        "print(str1[2:7])\n",
        "print(str1[:-1])"
      ]
    },
    {
      "cell_type": "code",
      "execution_count": null,
      "metadata": {
        "colab": {
          "base_uri": "https://localhost:8080/"
        },
        "id": "GwCOuJFjgy9a",
        "outputId": "e6028ab7-8342-4ede-88a3-582898ebfc75"
      },
      "outputs": [
        {
          "name": "stdout",
          "output_type": "stream",
          "text": [
            "Python is easiest programming language\n"
          ]
        }
      ],
      "source": [
        "#66 Python Program to Print Output Without a Newline\n",
        "print(\"Python\",end=' ')\n",
        "print(\"is easiest programming language\")"
      ]
    },
    {
      "cell_type": "code",
      "execution_count": null,
      "metadata": {
        "id": "Zd4ZN1NShqur"
      },
      "outputs": [],
      "source": [
        "#67 Python Program Read a File Line by Line Into a List\n",
        "L = ['honda 1948\\n','mercedes 1926\\n','ford 1903\\n']\n",
        "with open('read.txt','w') as f:\n",
        "    f.writelines(L)\n"
      ]
    },
    {
      "cell_type": "code",
      "execution_count": null,
      "metadata": {
        "colab": {
          "base_uri": "https://localhost:8080/"
        },
        "id": "KRlFbRxgiUYe",
        "outputId": "a36124b9-9599-4ac9-c906-ad9705923878"
      },
      "outputs": [
        {
          "name": "stdout",
          "output_type": "stream",
          "text": [
            "['honda 1948', 'mercedes 1926', 'ford 1903']\n"
          ]
        }
      ],
      "source": [
        "with open('read.txt','r') as r:\n",
        "  lines = r.readlines()\n",
        "  new_line = [line.strip() for line in lines]\n",
        "print(new_line)"
      ]
    },
    {
      "cell_type": "code",
      "execution_count": null,
      "metadata": {
        "colab": {
          "background_save": true,
          "base_uri": "https://localhost:8080/"
        },
        "id": "KkLXS5mmisXA",
        "outputId": "a3c33aef-3824-48b5-9eab-7356b9ee27d6"
      },
      "outputs": [
        {
          "name": "stdout",
          "output_type": "stream",
          "text": [
            "he wants to talk but cant\n"
          ]
        }
      ],
      "source": [
        "#68 Python Program to Randomly Select an Element From the List\n",
        "import random\n",
        "fun = [\"he miss you\",'no he doesnt care','he is busy','he wants to talk but cant']\n",
        "print(random.choice(fun))"
      ]
    },
    {
      "cell_type": "code",
      "execution_count": null,
      "metadata": {
        "colab": {
          "base_uri": "https://localhost:8080/"
        },
        "id": "YNLL3-Uvmzbi",
        "outputId": "77776e35-5d12-4af2-879a-0236050c50a2"
      },
      "outputs": [
        {
          "name": "stdout",
          "output_type": "stream",
          "text": [
            "no you sholdn't\n"
          ]
        }
      ],
      "source": [
        "#using secret\n",
        "import secrets\n",
        "Luck = ['yes,you should go',\"no you sholdn't\",'wait for megajob fair day']\n",
        "print(secrets.choice(Luck))"
      ]
    },
    {
      "cell_type": "code",
      "execution_count": null,
      "metadata": {
        "colab": {
          "base_uri": "https://localhost:8080/"
        },
        "id": "-v1L3O14njdh",
        "outputId": "9059f830-4d89-483f-a40c-887ce697129b"
      },
      "outputs": [
        {
          "name": "stdout",
          "output_type": "stream",
          "text": [
            "True\n",
            "False\n"
          ]
        }
      ],
      "source": [
        "#69 Python Program to Check If a String Is a Number (Float)\n",
        "def isfloat(num):\n",
        "  try:\n",
        "     float(num)\n",
        "     return True\n",
        "  except ValueError:\n",
        "    return False\n",
        "print(isfloat('1.12'))\n",
        "print(isfloat('sr1'))\n"
      ]
    },
    {
      "cell_type": "code",
      "execution_count": null,
      "metadata": {
        "colab": {
          "base_uri": "https://localhost:8080/"
        },
        "id": "f0LSFVbLqewd",
        "outputId": "4d747650-e64e-4141-ac86-16b1cf624c47"
      },
      "outputs": [
        {
          "data": {
            "text/plain": [
              "4"
            ]
          },
          "execution_count": 59,
          "metadata": {},
          "output_type": "execute_result"
        }
      ],
      "source": [
        "#70 Python Program to Count the Occurrence of an Item in a List\n",
        "L = [1,2,4,6,3,2,2,2]\n",
        "L.count(2)"
      ]
    },
    {
      "cell_type": "code",
      "execution_count": null,
      "metadata": {
        "colab": {
          "base_uri": "https://localhost:8080/"
        },
        "id": "Fld3IH_jqh06",
        "outputId": "cc03583c-a8c9-412a-d1dc-e9ef43c5e31a"
      },
      "outputs": [
        {
          "name": "stdout",
          "output_type": "stream",
          "text": [
            "alishba wants to txt you but she is busy\n",
            "alishba wants to txt you but she is busy\n",
            "alishba wants to txt you but she is busy\n"
          ]
        }
      ],
      "source": [
        "#just for fun\n",
        "guess = ['alishba is missing you','no she isnot missing you','alishba wants to txt you but she is busy','you should txt her']\n",
        "import secrets\n",
        "print(secrets.choice(guess))\n",
        "print(secrets.choice(guess))\n",
        "print(secrets.choice(guess))"
      ]
    },
    {
      "cell_type": "code",
      "execution_count": null,
      "metadata": {
        "colab": {
          "base_uri": "https://localhost:8080/"
        },
        "id": "J-P2bcphrwDV",
        "outputId": "d30e1283-1521-4f7b-bd33-050ba88d5689"
      },
      "outputs": [
        {
          "name": "stdout",
          "output_type": "stream",
          "text": [
            "donot do more question,you should rest\n",
            "donot do more question,you should rest\n",
            "enjoy your day\n"
          ]
        }
      ],
      "source": [
        "guess2 = ['you should do 10 more question','donot do more question,you should rest','enjoy your day']\n",
        "import secrets\n",
        "print(secrets.choice(guess2))\n",
        "print(secrets.choice(guess2))\n",
        "print(secrets.choice(guess2))"
      ]
    },
    {
      "cell_type": "code",
      "execution_count": null,
      "metadata": {
        "id": "h7_YpIWXswei"
      },
      "outputs": [],
      "source": [
        "#71Python Program to Append to a File\n",
        "with open('/content/read.txt','a') as f:\n",
        "  f.write(\"\\n to append a file we need to opent that file in'a' append mode!\")"
      ]
    },
    {
      "cell_type": "code",
      "execution_count": null,
      "metadata": {
        "colab": {
          "base_uri": "https://localhost:8080/"
        },
        "id": "K9F5RKbbZexv",
        "outputId": "151672e5-159c-444b-fcfc-65f520bffd8e"
      },
      "outputs": [
        {
          "name": "stdout",
          "output_type": "stream",
          "text": [
            "{'a': 1, 'c': 3}\n"
          ]
        }
      ],
      "source": [
        "#72Python Program to Delete an Element From a Dictionary\n",
        "dict1 = {'a':1,'b':2,'c':3}\n",
        "del dict1['b']\n",
        "print(dict1)"
      ]
    },
    {
      "cell_type": "code",
      "execution_count": null,
      "metadata": {
        "colab": {
          "base_uri": "https://localhost:8080/"
        },
        "id": "xXJW-JEzZuMY",
        "outputId": "f1853978-4854-4b84-c661-1dd4dc3ea7ea"
      },
      "outputs": [
        {
          "name": "stdout",
          "output_type": "stream",
          "text": [
            "{'a': 1, 'b': 2}\n"
          ]
        }
      ],
      "source": [
        "#using pop\n",
        "dict1 = {'a':1,'b':2,'c':3}\n",
        "dict1.pop('c')\n",
        "print(dict1)"
      ]
    },
    {
      "cell_type": "code",
      "execution_count": null,
      "metadata": {
        "colab": {
          "base_uri": "https://localhost:8080/"
        },
        "id": "ETK9cl8ia_RB",
        "outputId": "d1886bd4-8945-4332-c929-3d94b812210c"
      },
      "outputs": [
        {
          "name": "stdout",
          "output_type": "stream",
          "text": [
            " the only\n",
            "way to program is\n",
            "by writing code...\n"
          ]
        }
      ],
      "source": [
        "#73 Python Program to Create a Long Multiline String\n",
        "# Using triple quotes\n",
        "s =\"\"\" the only\n",
        "way to program is\n",
        "by writing code...\"\"\"\n",
        "print(s)"
      ]
    },
    {
      "cell_type": "code",
      "execution_count": null,
      "metadata": {
        "colab": {
          "base_uri": "https://localhost:8080/"
        },
        "id": "fKfPbczbbepS",
        "outputId": "9d14e260-6d2d-4755-c950-c26d513fa67e"
      },
      "outputs": [
        {
          "name": "stdout",
          "output_type": "stream",
          "text": [
            "the only\n",
            "way to program is\n",
            "by writing code...\n"
          ]
        }
      ],
      "source": [
        "#Using parentheses and a single/double quotes\n",
        "s1 = (\"the only\\n\"\n",
        "\"way to program is\\n\"\n",
        "\"by writing code...\")\n",
        "print(s1)"
      ]
    },
    {
      "cell_type": "code",
      "execution_count": null,
      "metadata": {
        "colab": {
          "base_uri": "https://localhost:8080/"
        },
        "id": "GChpIjS6cwWO",
        "outputId": "9c6007e9-ae4f-4589-a999-84594c2f7131"
      },
      "outputs": [
        {
          "name": "stdout",
          "output_type": "stream",
          "text": [
            "the only\n",
            "way to program is\n",
            "by writing code...\n"
          ]
        }
      ],
      "source": [
        "# Using \\\n",
        "s2 = \"the only\\n\"\\\n",
        "\"way to program is\\n\"\\\n",
        "\"by writing code...\"\n",
        "print(s2)"
      ]
    },
    {
      "cell_type": "code",
      "execution_count": null,
      "metadata": {
        "colab": {
          "base_uri": "https://localhost:8080/"
        },
        "id": "785IrDHOc_TL",
        "outputId": "e3049c2d-94bf-4016-9eb7-f72bdedae993"
      },
      "outputs": [
        {
          "name": "stdout",
          "output_type": "stream",
          "text": [
            "princi.txt\n",
            "extension-  txt\n"
          ]
        }
      ],
      "source": [
        "#74 Python Program to Extract Extension From the File Name\n",
        "file_name = input()\n",
        "extension = file_name.split('.')[1]\n",
        "print(\"extension- \",extension)"
      ]
    },
    {
      "cell_type": "code",
      "execution_count": null,
      "metadata": {
        "colab": {
          "base_uri": "https://localhost:8080/"
        },
        "id": "4fAQzvNbhouA",
        "outputId": "6724ea6e-d861-4fda-cc6d-9d7b710effd7"
      },
      "outputs": [
        {
          "name": "stdout",
          "output_type": "stream",
          "text": [
            "txt\n"
          ]
        }
      ],
      "source": [
        "#using function\n",
        "def extract_extension(file_name):\n",
        "  base ,extension = file_name.split('.',1)\n",
        "  return extension\n",
        "\n",
        "file_name = 'document.txt'\n",
        "\n",
        "print(extract_extension(file_name))"
      ]
    },
    {
      "cell_type": "code",
      "execution_count": null,
      "metadata": {
        "colab": {
          "base_uri": "https://localhost:8080/"
        },
        "id": "gQbmzWGFicXg",
        "outputId": "8c067261-ef0f-435f-c166-ebb66e9c1228"
      },
      "outputs": [
        {
          "name": "stdout",
          "output_type": "stream",
          "text": [
            ".ext\n"
          ]
        }
      ],
      "source": [
        "#Using pathlib module\n",
        "import pathlib\n",
        "print(pathlib.Path('file.ext').suffix)"
      ]
    },
    {
      "cell_type": "code",
      "execution_count": null,
      "metadata": {
        "colab": {
          "base_uri": "https://localhost:8080/"
        },
        "id": "J7WtOQW8dezF",
        "outputId": "095f296b-2e00-4b73-fcb6-386f41bb55b5"
      },
      "outputs": [
        {
          "name": "stdout",
          "output_type": "stream",
          "text": [
            "552\n",
            "0.008455276489257812\n"
          ]
        }
      ],
      "source": [
        "#75Python Program to Measure the Elapsed Time in Python\n",
        "#Using time module\n",
        "import time\n",
        "start = time.time()\n",
        "print(23*24)\n",
        "end = time.time()\n",
        "print(end-start)"
      ]
    },
    {
      "cell_type": "code",
      "execution_count": null,
      "metadata": {
        "colab": {
          "base_uri": "https://localhost:8080/"
        },
        "id": "Nmcu9FrmltsE",
        "outputId": "b10194e9-fbf5-4b4d-a7b4-988a55462b87"
      },
      "outputs": [
        {
          "name": "stdout",
          "output_type": "stream",
          "text": [
            "552\n",
            "0.006308772000011231\n"
          ]
        }
      ],
      "source": [
        "# Using timeit module\n",
        "from timeit import default_timer as timer\n",
        "start = timer()\n",
        "print(23*24)\n",
        "end = timer()\n",
        "print(end-start)"
      ]
    },
    {
      "cell_type": "code",
      "execution_count": null,
      "metadata": {
        "colab": {
          "base_uri": "https://localhost:8080/"
        },
        "id": "W2bIWxrHnODE",
        "outputId": "5b695faf-e230-4991-fa97-5d6a93734e1c"
      },
      "outputs": [
        {
          "name": "stdout",
          "output_type": "stream",
          "text": [
            "class name- Vehicle\n"
          ]
        }
      ],
      "source": [
        "#76 Python Program to Get the Class Name of an Instance\n",
        "#Using __class__.__name__\n",
        "class Vehicle:\n",
        "    def name(self,name):\n",
        "       return name\n",
        "v = Vehicle()\n",
        "print(\"class name-\",v.__class__.__name__)"
      ]
    },
    {
      "cell_type": "code",
      "execution_count": null,
      "metadata": {
        "colab": {
          "base_uri": "https://localhost:8080/"
        },
        "id": "tiFlTZkkq2nE",
        "outputId": "de74507b-1075-47b4-97ff-17c96b68a32f"
      },
      "outputs": [
        {
          "name": "stdout",
          "output_type": "stream",
          "text": [
            "Vehicle\n"
          ]
        }
      ],
      "source": [
        "#Using type() and __name__ attribute\n",
        "class Vehicle:\n",
        "    def name(self,name):\n",
        "       return name\n",
        "v = Vehicle()\n",
        "print(type(v).__name__)"
      ]
    },
    {
      "cell_type": "code",
      "execution_count": null,
      "metadata": {
        "colab": {
          "base_uri": "https://localhost:8080/"
        },
        "id": "nkk0ltCGrdKq",
        "outputId": "412f957f-63b9-4148-d5e5-9dca2f9c618f"
      },
      "outputs": [
        {
          "name": "stdout",
          "output_type": "stream",
          "text": [
            "{2: 7, 4: 5, 6: 32, 7: 3}\n"
          ]
        }
      ],
      "source": [
        "#77 Python Program to Convert Two Lists Into a Dictionary\n",
        "L1 = [2,4,6,7]\n",
        "L2 = [7,5,32,3]\n",
        "print(dict(zip(L1,L2)))"
      ]
    },
    {
      "cell_type": "code",
      "execution_count": null,
      "metadata": {
        "colab": {
          "base_uri": "https://localhost:8080/"
        },
        "id": "TxbpvHX5t-VW",
        "outputId": "1f45101c-f452-49d2-d789-73eb4b875d03"
      },
      "outputs": [
        {
          "name": "stdout",
          "output_type": "stream",
          "text": [
            "{1: 'python', 2: 'c', 3: 'c++'}\n"
          ]
        }
      ],
      "source": [
        "#Using list comprehension\n",
        "index = [1,2,3]\n",
        "language = ['python','c','c++']\n",
        "dictionary = {k:v for k,v in zip(index,language)}\n",
        "print(dictionary)"
      ]
    },
    {
      "cell_type": "code",
      "execution_count": null,
      "metadata": {
        "colab": {
          "base_uri": "https://localhost:8080/"
        },
        "id": "MZfjUzsLxFhK",
        "outputId": "4abe81ce-6118-42a5-a40c-f51b74ab34ee"
      },
      "outputs": [
        {
          "name": "stdout",
          "output_type": "stream",
          "text": [
            "<class '__main__.Polygon'>\n",
            "<class '__main__.Triangle'>\n",
            "True\n",
            "True\n"
          ]
        }
      ],
      "source": [
        "#78 Python Program to Differentiate Between type() and isinstance()\n",
        "class Polygon:\n",
        "  def sides_no(self):\n",
        "    pass\n",
        "class Triangle:\n",
        "  def area(self):\n",
        "    pass\n",
        "obj_polygon = Polygon()\n",
        "obj_triangle = Triangle()\n",
        "\n",
        "print(type(obj_polygon))\n",
        "print(type(obj_triangle))\n",
        "\n",
        "print(isinstance(obj_polygon,Polygon))\n",
        "print(isinstance(obj_triangle,Triangle))\n",
        "\n",
        "\"\"\" type() to directly get the type of an object and isinstance()\n",
        "to check if an object is an instance of a particular class or its subclass.\n",
        "\"\"\""
      ]
    },
    {
      "cell_type": "code",
      "execution_count": null,
      "metadata": {
        "colab": {
          "base_uri": "https://localhost:8080/"
        },
        "id": "LnqSFCpdzaAn",
        "outputId": "ffe2a850-a8f2-401f-b660-4f75d48d3a12"
      },
      "outputs": [
        {
          "name": "stdout",
          "output_type": "stream",
          "text": [
            "  Python Programming   \n",
            "Python Programming\n"
          ]
        }
      ],
      "source": [
        "#79 Python Program to Trim Whitespace From a String\n",
        "s = \"  Python Programming   \"\n",
        "print(s)\n",
        "print(s.strip())\n"
      ]
    },
    {
      "cell_type": "code",
      "execution_count": null,
      "metadata": {
        "colab": {
          "base_uri": "https://localhost:8080/"
        },
        "id": "Zo5dgiL00UW3",
        "outputId": "29d81c08-e076-4a20-fb4f-ffe7c9d83d9a"
      },
      "outputs": [
        {
          "name": "stdout",
          "output_type": "stream",
          "text": [
            "file.txt\n"
          ]
        }
      ],
      "source": [
        "#80 Python Program to Get the File Name From the File Path\n",
        "import os\n",
        "file_name = os.path.basename('/root/file.txt')\n",
        "print(file_name)"
      ]
    },
    {
      "cell_type": "code",
      "execution_count": null,
      "metadata": {
        "colab": {
          "base_uri": "https://localhost:8080/"
        },
        "id": "tULPK5Fz4J8q",
        "outputId": "2ce4f55a-bcd9-4ee5-a6f5-f86cfd3bec82"
      },
      "outputs": [
        {
          "name": "stdout",
          "output_type": "stream",
          "text": [
            "file\n"
          ]
        }
      ],
      "source": [
        "#without extension\n",
        "import os\n",
        "file_name = os.path.basename('/root/file.txt')\n",
        "print(os.path.splitext(file_name)[0])"
      ]
    },
    {
      "cell_type": "code",
      "execution_count": null,
      "metadata": {
        "colab": {
          "base_uri": "https://localhost:8080/"
        },
        "id": "1BTM35Fv5zqG",
        "outputId": "ecf4e7b4-c666-4692-94b7-db876ba451c2"
      },
      "outputs": [
        {
          "name": "stdout",
          "output_type": "stream",
          "text": [
            "file\n"
          ]
        }
      ],
      "source": [
        "# Using Path module\n",
        "# \"stem\" refers to the base name of a file without its extension.\n",
        "from pathlib import Path\n",
        "print(Path('/root/file.ext').stem)"
      ]
    },
    {
      "cell_type": "code",
      "execution_count": null,
      "metadata": {
        "colab": {
          "base_uri": "https://localhost:8080/"
        },
        "id": "l22wz8xW6IJ2",
        "outputId": "dd411256-5584-4807-e34c-6b0b22979463"
      },
      "outputs": [
        {
          "name": "stdout",
          "output_type": "stream",
          "text": [
            "color.RED\n",
            "RED\n",
            "1\n"
          ]
        }
      ],
      "source": [
        "#81 Python Program to Represent enum\n",
        "from enum import Enum\n",
        "class color(Enum):\n",
        "    RED = 1\n",
        "    GREEN = 2\n",
        "    BLUE=3\n",
        "# print the enum member\n",
        "print(color.RED)\n",
        "# get the name of the enum member\n",
        "print(color.RED.name)\n",
        "# get the value of the enum member\n",
        "print(color.RED.value)"
      ]
    },
    {
      "cell_type": "code",
      "execution_count": null,
      "metadata": {
        "colab": {
          "base_uri": "https://localhost:8080/"
        },
        "id": "Wz8QuJsIgRoO",
        "outputId": "5a80b0ee-0c1f-493e-9e83-b612ab19fa5c"
      },
      "outputs": [
        {
          "name": "stdout",
          "output_type": "stream",
          "text": [
            "Deepa\n",
            "20\n",
            "graduate\n"
          ]
        }
      ],
      "source": [
        "#82 Python Program to Return Multiple Values From a Function\n",
        "#Return values using comma\n",
        "def Student():\n",
        "  name = 'Deepa'\n",
        "  age = 20\n",
        "  grade = 'graduate'\n",
        "\n",
        "  return name,age,grade\n",
        "#print the tuple with the returned values\n",
        "print(Student())\n",
        "# get the individual items\n",
        "Sname,Sage,Sgrade = Student()\n",
        "print(Sname)\n",
        "print(Sage)\n",
        "print(Sgrade)"
      ]
    },
    {
      "cell_type": "code",
      "execution_count": null,
      "metadata": {
        "colab": {
          "base_uri": "https://localhost:8080/"
        },
        "id": "gfGNgExpAc3Y",
        "outputId": "bad51762-51fc-4836-aa42-b3be8841d6d2"
      },
      "outputs": [
        {
          "name": "stdout",
          "output_type": "stream",
          "text": [
            "{'name': 'Deepa', 'age': 20}\n"
          ]
        }
      ],
      "source": [
        "#Using a dictionary\n",
        "def Student():\n",
        "  name = 'Deepa'\n",
        "  age = 20\n",
        "  grade = 'graduate'\n",
        "\n",
        "  return {'name': name,'age':age}\n",
        "\n",
        "s = Student()\n",
        "print(s)"
      ]
    },
    {
      "cell_type": "code",
      "execution_count": null,
      "metadata": {
        "id": "ZLE6xlPHCCx2"
      },
      "outputs": [],
      "source": [
        "#83 Python Program to Get Line Count of a File\n",
        "L = 'Hello\\n'',This is a sample file\\n.','It contains multiple lines.\\n'\n",
        "with open('file.txt','w') as f:\n",
        "  f.writelines(L)"
      ]
    },
    {
      "cell_type": "code",
      "execution_count": null,
      "metadata": {
        "colab": {
          "base_uri": "https://localhost:8080/"
        },
        "id": "q57TpRj3F1p7",
        "outputId": "450fb735-e4a8-409b-bd74-6813b75a92f5"
      },
      "outputs": [
        {
          "data": {
            "text/plain": [
              "3"
            ]
          },
          "execution_count": 36,
          "metadata": {},
          "output_type": "execute_result"
        }
      ],
      "source": [
        "def file_len(fname):\n",
        "# default mode for opening a file using the open() function  is 'r',so need to specify 'r' mode\n",
        "  with open(fname) as r:\n",
        "    for i,l in enumerate(r):\n",
        "       pass\n",
        "#indexing starts from 0, the actual number of lines in the file is i + 1\n",
        "  return i+1\n",
        "file_len(\"file.txt\")"
      ]
    },
    {
      "cell_type": "code",
      "execution_count": null,
      "metadata": {
        "colab": {
          "base_uri": "https://localhost:8080/"
        },
        "id": "ptgRiehGJcum",
        "outputId": "0951c65a-6189-4cdf-9127-63184c1618ae"
      },
      "outputs": [
        {
          "name": "stdout",
          "output_type": "stream",
          "text": [
            "3\n"
          ]
        }
      ],
      "source": [
        "def file_len(fname):\n",
        "    with open(fname) as f:\n",
        "        for i, l in enumerate(f):\n",
        "            pass\n",
        "    return i + 1\n",
        "\n",
        "print(file_len(\"file.txt\"))"
      ]
    },
    {
      "cell_type": "code",
      "execution_count": null,
      "metadata": {
        "colab": {
          "base_uri": "https://localhost:8080/"
        },
        "id": "AIChNmOiK4Lk",
        "outputId": "73e19a29-d169-4d97-9ad4-f3b708e1266d"
      },
      "outputs": [
        {
          "name": "stdout",
          "output_type": "stream",
          "text": [
            "3\n"
          ]
        }
      ],
      "source": [
        "# Using list comprehension\n",
        "#generator expression is 1 for l in open('my_file.txt'), which means we are generating 1 for each line in the file.\n",
        "#generator- generate values on-the-fly, rather than storing them all in memory at once.\n",
        "# generator expression-(expression for item in iterable)\n",
        "num_of_lines = sum(1 for l in open('file.txt'))\n",
        "print(num_of_lines)"
      ]
    },
    {
      "cell_type": "code",
      "execution_count": null,
      "metadata": {
        "colab": {
          "base_uri": "https://localhost:8080/"
        },
        "id": "zhJlZa_kQzMt",
        "outputId": "e219275d-50fe-49fe-89f9-9a4807e0538b"
      },
      "outputs": [
        {
          "output_type": "stream",
          "name": "stdout",
          "text": [
            "files created succesfully\n"
          ]
        }
      ],
      "source": [
        "#84 Python Program to Find All File with .txt Extension Present Inside a Directory\n",
        "#Using os\n",
        "import os\n",
        "os.makedirs(\"my_dir\",exist_ok = True)\n",
        "files = [\"file.txt\", \"file2.csv\",\"file3.py\",'file.html']\n",
        "for file in files:\n",
        "  file_path = os.path.join(\"my_dir\",file)\n",
        "  with open(file_path,'w') as f:\n",
        "    f.write(\"this is the content of {} file\".format(file))\n",
        "\n",
        "print(\"files created succesfully\")\n"
      ]
    },
    {
      "cell_type": "code",
      "source": [
        "import os\n",
        "for file in os.listdir(\"my_dir\"):\n",
        "  if file.endswith(\".txt\"):\n",
        "      print(file)"
      ],
      "metadata": {
        "colab": {
          "base_uri": "https://localhost:8080/"
        },
        "id": "dGWV-ukBz9eU",
        "outputId": "8a498b93-7476-4846-9b13-ff1272ea707b"
      },
      "execution_count": null,
      "outputs": [
        {
          "output_type": "stream",
          "name": "stdout",
          "text": [
            "file.txt\n"
          ]
        }
      ]
    },
    {
      "cell_type": "code",
      "source": [
        "#85 Python Program to Get File Creation and Modification Date\n",
        "# Using os module\n",
        "import os,time\n",
        "file_name = 'Pandas short notes.pdf'\n",
        "#time.ctime() - method to convert a time into second\n",
        "c_file = time.ctime(os.path.getctime(file_name))\n",
        "m_file = time.ctime(os.path.getmtime(file_name))\n",
        "a_file = time.ctime(os.path.getatime(file_name))\n",
        "\n",
        "print(\"the file name is\",file_name)\n",
        "print(\"the file created date is\",c_file)\n",
        "print(\"the file modified date is\",m_file)\n",
        "print(\"the last time acess date is\",a_file)"
      ],
      "metadata": {
        "colab": {
          "base_uri": "https://localhost:8080/"
        },
        "id": "DuBCgZbr0sKJ",
        "outputId": "2a1695db-02b9-4b6a-b5b6-aaa148d6c89c"
      },
      "execution_count": null,
      "outputs": [
        {
          "output_type": "stream",
          "name": "stdout",
          "text": [
            "the file name is Pandas short notes.pdf\n",
            "the file created date is Mon Jul 31 12:56:52 2023\n",
            "the file modified date is Mon Jul 31 12:56:52 2023\n",
            "the last time acess date is Mon Jul 31 12:56:52 2023\n"
          ]
        }
      ]
    },
    {
      "cell_type": "code",
      "source": [
        "#86 Python Program to Get the Full Path of the Current Working Directory\n",
        "#using os module\n",
        "import os\n",
        "#current working directory\n",
        "print(os.path.abspath(os.getcwd()))\n",
        "#path of the given file\n",
        "print(os.path.dirname(os.path.abspath('/content/Pandas short notes.pdf')))\n"
      ],
      "metadata": {
        "colab": {
          "base_uri": "https://localhost:8080/"
        },
        "id": "UsiE-e3EBLCM",
        "outputId": "e32406fb-542b-4fd6-a517-11385033ef0e"
      },
      "execution_count": null,
      "outputs": [
        {
          "output_type": "stream",
          "name": "stdout",
          "text": [
            "/content\n",
            "/content\n"
          ]
        }
      ]
    },
    {
      "cell_type": "code",
      "source": [
        "#87 Python Program to Iterate Through Two Lists in Parallel\n",
        "#Using zip (Python 3+)\n",
        "L1 = [1,2,3,4]\n",
        "L2 = ['a','b','c','d']\n",
        "for i,j in zip(L1,L2):\n",
        "  print(i,j)"
      ],
      "metadata": {
        "colab": {
          "base_uri": "https://localhost:8080/"
        },
        "id": "m27OJjNKEshb",
        "outputId": "05ff8f02-c579-415c-d6df-676835be04cd"
      },
      "execution_count": null,
      "outputs": [
        {
          "output_type": "stream",
          "name": "stdout",
          "text": [
            "1 a\n",
            "2 b\n",
            "3 c\n",
            "4 d\n"
          ]
        }
      ]
    },
    {
      "cell_type": "code",
      "source": [
        "#88 Python Program to Check the File Size\n",
        "#Using os module\n",
        "import os\n",
        "file_stat = os.stat('/content/my_dir/file.txt')\n",
        "print(file_stat.st_size)"
      ],
      "metadata": {
        "colab": {
          "base_uri": "https://localhost:8080/"
        },
        "id": "dch4TEKmFyre",
        "outputId": "08213438-a1f7-466a-99f9-e1c2c76aab01"
      },
      "execution_count": null,
      "outputs": [
        {
          "output_type": "stream",
          "name": "stdout",
          "text": [
            "36\n"
          ]
        }
      ]
    },
    {
      "cell_type": "code",
      "source": [
        "#using pathlib module\n",
        "from pathlib import Path\n",
        "file = Path('/content/my_dir/file.txt')\n",
        "print(file.stat().st_size)"
      ],
      "metadata": {
        "colab": {
          "base_uri": "https://localhost:8080/"
        },
        "id": "xDzWyweTHUT5",
        "outputId": "c9c1b737-7bb0-48e8-8bed-069a4794d839"
      },
      "execution_count": null,
      "outputs": [
        {
          "output_type": "stream",
          "name": "stdout",
          "text": [
            "36\n"
          ]
        }
      ]
    },
    {
      "cell_type": "code",
      "source": [
        "#89 Python Program to Reverse a Number\n",
        "#Using String slicing\n",
        "num = 12345\n",
        "print(str(num)[::-1])"
      ],
      "metadata": {
        "colab": {
          "base_uri": "https://localhost:8080/"
        },
        "id": "EfsRxev-HrIt",
        "outputId": "9833d6c7-5f2e-4a74-9c0a-b59a6b08da63"
      },
      "execution_count": null,
      "outputs": [
        {
          "output_type": "stream",
          "name": "stdout",
          "text": [
            "54321\n"
          ]
        }
      ]
    },
    {
      "cell_type": "code",
      "source": [
        "#Reverse a Number using a while loop\n",
        "num = 1234\n",
        "while num!=0:\n",
        "     reminder = num%10\n",
        "     print(reminder,end=\"\")\n",
        "     num = num//10"
      ],
      "metadata": {
        "colab": {
          "base_uri": "https://localhost:8080/"
        },
        "id": "7NsfVB6QIBOW",
        "outputId": "b7d6f4c7-f4a9-499e-ee6a-dc285fcba4b8"
      },
      "execution_count": null,
      "outputs": [
        {
          "output_type": "stream",
          "name": "stdout",
          "text": [
            "4321"
          ]
        }
      ]
    },
    {
      "cell_type": "code",
      "source": [
        "num = 1234\n",
        "reversed_num = 0\n",
        "\n",
        "while num != 0:\n",
        "    digit = num % 10\n",
        "    reversed_num = reversed_num * 10 + digit\n",
        "    num //= 10\n",
        "\n",
        "print(\"Reversed Number: \" + str(reversed_num))"
      ],
      "metadata": {
        "colab": {
          "base_uri": "https://localhost:8080/"
        },
        "id": "UKpvUKrYIesB",
        "outputId": "2381c999-c952-405d-9faa-6a4fdf8b05fd"
      },
      "execution_count": null,
      "outputs": [
        {
          "output_type": "stream",
          "name": "stdout",
          "text": [
            "Reversed Number: 4321\n"
          ]
        }
      ]
    },
    {
      "cell_type": "code",
      "source": [
        "#90 Python Program to Compute the Power of a Number\n",
        "#Calculate the power of a number using pow() function\n",
        "base =3\n",
        "exponent = 4\n",
        "result = pow(base,exponent)\n",
        "print(result)"
      ],
      "metadata": {
        "colab": {
          "base_uri": "https://localhost:8080/"
        },
        "id": "YONhG81IItLv",
        "outputId": "d8499092-3759-4190-a5fe-c841515ae62a"
      },
      "execution_count": null,
      "outputs": [
        {
          "output_type": "stream",
          "name": "stdout",
          "text": [
            "81\n"
          ]
        }
      ]
    },
    {
      "cell_type": "code",
      "source": [
        "#using def\n",
        "def power(base,exponent):\n",
        "  result = 1\n",
        "\n",
        "  for _ in range(exponent):\n",
        "    result *= base\n",
        "  return result\n",
        "\n",
        "base = 2\n",
        "exponent = 3\n",
        "result = power(base,exponent)\n",
        "\n",
        "print(result)"
      ],
      "metadata": {
        "id": "0H1G2_WOJDK6",
        "colab": {
          "base_uri": "https://localhost:8080/"
        },
        "outputId": "7efa5ccb-ef2e-453b-98d1-5fca95348335"
      },
      "execution_count": null,
      "outputs": [
        {
          "output_type": "stream",
          "name": "stdout",
          "text": [
            "8\n"
          ]
        }
      ]
    },
    {
      "cell_type": "code",
      "source": [
        "#91 Python Program to Count the Number of Digits Present In a Number\n",
        "num = 1234\n",
        "count = 0\n",
        "while num!=0:\n",
        "   num = num//10\n",
        "   count += 1\n",
        "print(count)"
      ],
      "metadata": {
        "colab": {
          "base_uri": "https://localhost:8080/"
        },
        "id": "Kg-q3XaWflsU",
        "outputId": "dbc1c352-5993-49e0-a684-13c569417ac1"
      },
      "execution_count": null,
      "outputs": [
        {
          "output_type": "stream",
          "name": "stdout",
          "text": [
            "4\n"
          ]
        }
      ]
    },
    {
      "cell_type": "code",
      "source": [
        "#Using inbuilt methods\n",
        "num = 1234\n",
        "print(len(str(num)))"
      ],
      "metadata": {
        "colab": {
          "base_uri": "https://localhost:8080/"
        },
        "id": "ccmWQYZnftIJ",
        "outputId": "bd152d0a-bc8a-44ac-db62-fe023f4ae020"
      },
      "execution_count": null,
      "outputs": [
        {
          "output_type": "stream",
          "name": "stdout",
          "text": [
            "4\n"
          ]
        }
      ]
    },
    {
      "cell_type": "code",
      "source": [
        "#92 Python Program to Check If Two Strings are Anagram\n",
        "str1 = 'listen'\n",
        "str2 = 'silent'\n",
        "str1 = str1.lower()\n",
        "str2 = str2.lower()\n",
        "if sorted(str1) == sorted(str2):\n",
        "  print(str1 + \" and \" + str2+ \" are anagrams\")\n",
        "else:\n",
        "  print(str1 + \" and \" + str2+ \" are not anagrams\")"
      ],
      "metadata": {
        "colab": {
          "base_uri": "https://localhost:8080/"
        },
        "id": "AuVme52Phd8R",
        "outputId": "7ee8d8ee-e0fc-4cff-d41f-ae4a165c30e2"
      },
      "execution_count": null,
      "outputs": [
        {
          "output_type": "stream",
          "name": "stdout",
          "text": [
            "listen and silent are anagrams\n"
          ]
        }
      ]
    },
    {
      "cell_type": "code",
      "source": [
        "#93 Python Program to Capitalize the First Character of a String\n",
        "#Using inbuilt method capitalize()\n",
        "str1 = \"i am about to complete my 100 questions practise yeeee!\"\n",
        "print(str1.capitalize())"
      ],
      "metadata": {
        "colab": {
          "base_uri": "https://localhost:8080/"
        },
        "id": "QXdjDX5DiycD",
        "outputId": "fc1a6da1-b514-4f5c-f05a-83368b28940c"
      },
      "execution_count": null,
      "outputs": [
        {
          "output_type": "stream",
          "name": "stdout",
          "text": [
            "I am about to complete my 100 questions practise yeeee!\n"
          ]
        }
      ]
    },
    {
      "cell_type": "code",
      "source": [
        "#Using list slicing\n",
        "print(str1[0].upper()+ str1[1:])"
      ],
      "metadata": {
        "colab": {
          "base_uri": "https://localhost:8080/"
        },
        "id": "rmKp29ZelJbj",
        "outputId": "ff4a6182-3a73-442d-e1ec-60670460fa81"
      },
      "execution_count": null,
      "outputs": [
        {
          "output_type": "stream",
          "name": "stdout",
          "text": [
            "I am about to complete my 100 questions practise yeeee!\n"
          ]
        }
      ]
    },
    {
      "cell_type": "code",
      "source": [
        "#94 Python Program to Compute all the Permutation of the String 4*3*2*1\n",
        "#using itertools\n",
        "from itertools import permutations\n",
        "s = 'deepa'\n",
        "str_per = list(permutations(s))\n",
        "\n",
        "out_str = [''.join(i) for i in str_per]\n",
        "print(out_str)\n",
        "print(len(out_str))"
      ],
      "metadata": {
        "colab": {
          "base_uri": "https://localhost:8080/"
        },
        "id": "RgiXaNcqlUiA",
        "outputId": "5ae41ad3-6b4e-4203-c939-bf6b7d23466f"
      },
      "execution_count": null,
      "outputs": [
        {
          "output_type": "stream",
          "name": "stdout",
          "text": [
            "['abcd', 'abdc', 'acbd', 'acdb', 'adbc', 'adcb', 'bacd', 'badc', 'bcad', 'bcda', 'bdac', 'bdca', 'cabd', 'cadb', 'cbad', 'cbda', 'cdab', 'cdba', 'dabc', 'dacb', 'dbac', 'dbca', 'dcab', 'dcba']\n",
            "24\n"
          ]
        }
      ]
    },
    {
      "cell_type": "code",
      "source": [
        "#95 Python Program to Create a Countdown Timer\n",
        "#using for loop\n",
        "import time\n",
        "my_time = int(input(\"enter time in second\"))\n",
        "\n",
        "for x in range(my_time,0,-1):\n",
        "  seconds = x%60\n",
        "  minutes = int(x/60)%60\n",
        "  hours = int(x/3600)\n",
        "  print(f\"{hours:02}:{minutes:02}:{seconds:02}\")\n",
        "  time.sleep(1)\n",
        "\n",
        "print(\"TIME'S UP!\")"
      ],
      "metadata": {
        "id": "O40gOXlDpRVE",
        "colab": {
          "base_uri": "https://localhost:8080/"
        },
        "outputId": "4aa3322c-c43a-4329-9c74-c1549eaecca1"
      },
      "execution_count": null,
      "outputs": [
        {
          "output_type": "stream",
          "name": "stdout",
          "text": [
            "enter time in second3\n",
            "00:00:03\n",
            "00:00:02\n",
            "00:00:01\n",
            "TIME'S UP!\n"
          ]
        }
      ]
    },
    {
      "cell_type": "code",
      "source": [
        "import time\n",
        "def countdown(t):\n",
        "  while t>0:\n",
        "    print(t)\n",
        "    t = t-1\n",
        "    time.sleep(1)\n",
        "  print(\"times up\")\n",
        "\n",
        "print(\"how many seconds to count down enter an integer\")\n",
        "seconds = input()\n",
        "while not seconds.isdigit():\n",
        "    print(\"that wasnt an iteger number\")\n",
        "    seconds = (input())\n",
        "\n",
        "seconds = int(seconds)\n",
        "countdown(seconds)"
      ],
      "metadata": {
        "colab": {
          "base_uri": "https://localhost:8080/"
        },
        "id": "1pjAKZ0Nyra3",
        "outputId": "530f868e-16ae-46e8-dd39-4e5c7f6bba4a"
      },
      "execution_count": null,
      "outputs": [
        {
          "output_type": "stream",
          "name": "stdout",
          "text": [
            "how many seconds to count down enter an integer\n",
            "5\n",
            "5\n",
            "4\n",
            "3\n",
            "2\n",
            "1\n",
            "times up\n"
          ]
        }
      ]
    },
    {
      "cell_type": "code",
      "source": [
        "#96 Python Program to Count the Number of Occurrence of a Character in String\n",
        "#Using method count()\n",
        "s = \"deepa\"\n",
        "print(s.count('e'))"
      ],
      "metadata": {
        "colab": {
          "base_uri": "https://localhost:8080/"
        },
        "id": "cu1h4Wz4z15j",
        "outputId": "b7cf25c5-0b81-4ce3-f4a9-249039e5ed4e"
      },
      "execution_count": null,
      "outputs": [
        {
          "output_type": "stream",
          "name": "stdout",
          "text": [
            "2\n"
          ]
        }
      ]
    },
    {
      "cell_type": "code",
      "source": [
        "#Using a for loop\n",
        "count = 0\n",
        "s1 = \"deepa\"\n",
        "my_char = \"e\"\n",
        "for char in s1:\n",
        "  if char == my_char:\n",
        "    count +=1\n",
        "\n",
        "print(count)"
      ],
      "metadata": {
        "colab": {
          "base_uri": "https://localhost:8080/"
        },
        "id": "DRrUhjGI05_5",
        "outputId": "92550a8b-7a3c-44c2-bad0-697d74c00eee"
      },
      "execution_count": null,
      "outputs": [
        {
          "output_type": "stream",
          "name": "stdout",
          "text": [
            "2\n"
          ]
        }
      ]
    },
    {
      "cell_type": "code",
      "source": [
        "#97 Python Program to Remove Duplicate Element From a List\n",
        "#using set\n",
        "l1 = [1,2,3,3,2,3]\n",
        "print(list(set(l1)))"
      ],
      "metadata": {
        "colab": {
          "base_uri": "https://localhost:8080/"
        },
        "id": "X2-o_Nq51SAf",
        "outputId": "c94f1f31-2c30-4a39-b0fe-79a584dba8a4"
      },
      "execution_count": null,
      "outputs": [
        {
          "output_type": "stream",
          "name": "stdout",
          "text": [
            "[1, 2, 3]\n"
          ]
        }
      ]
    },
    {
      "cell_type": "code",
      "source": [
        "#: Remove the items that are duplicated in two lists\n",
        "l1 =[1,2,3,33,2,]\n",
        "l2 = [1,2,3,2,2]\n",
        "print(list(set(l1)^set(l2)))"
      ],
      "metadata": {
        "colab": {
          "base_uri": "https://localhost:8080/"
        },
        "id": "hKU9cfhx1prd",
        "outputId": "33eb5e25-5de7-4d75-ae8e-2e90e285956c"
      },
      "execution_count": null,
      "outputs": [
        {
          "output_type": "stream",
          "name": "stdout",
          "text": [
            "[33]\n"
          ]
        }
      ]
    },
    {
      "cell_type": "code",
      "source": [
        "#98 Python Program to Convert Bytes to a String\n",
        "#decode() method takes an optional argument that specifies the encoding to be used.\n",
        "# If no encoding is specified, it will use the default encoding, which is 'utf-8'.\n",
        "bytes_data =   b'Easy \\xE2\\x9C\\x85'\n",
        "string_data = bytes_data.decode()\n",
        "print(\"bytes data\",bytes_data)\n",
        "print(\"string data\",string_data)"
      ],
      "metadata": {
        "colab": {
          "base_uri": "https://localhost:8080/"
        },
        "id": "RjnbqLNk19qX",
        "outputId": "9f346587-e7f6-4624-c7fc-226e9c35ed2e"
      },
      "execution_count": null,
      "outputs": [
        {
          "output_type": "stream",
          "name": "stdout",
          "text": [
            "bytes data b'Easy \\xe2\\x9c\\x85'\n",
            "string data Easy ✅\n"
          ]
        }
      ]
    },
    {
      "cell_type": "code",
      "source": [
        "import datetime\n",
        "current_datetime = datetime.datetime.now()\n",
        "formatted_datetime = current_datetime.strftime(\"%Y-%m-%d %H:%M:%S\")\n",
        "msg = \"DONE WITH 98 QUESTIONS PRACTISE {}.\".format(formatted_datetime)\n",
        "\n",
        "line = \"=\" * len(msg)\n",
        "print(line)\n",
        "print(msg)\n",
        "print(line)\n"
      ],
      "metadata": {
        "id": "-LSr8noz4Kcp",
        "colab": {
          "base_uri": "https://localhost:8080/"
        },
        "outputId": "71278e5c-8a72-4756-f975-6121371616b0"
      },
      "execution_count": null,
      "outputs": [
        {
          "output_type": "stream",
          "name": "stdout",
          "text": [
            "====================================================\n",
            "DONE WITH 98 QUESTIONS PRACTISE 2023-08-01 12:02:49.\n",
            "====================================================\n"
          ]
        }
      ]
    },
    {
      "cell_type": "code",
      "source": [
        "#1 august 2023 5:30 PM"
      ],
      "metadata": {
        "id": "MCwaSSN1-T-6"
      },
      "execution_count": null,
      "outputs": []
    },
    {
      "cell_type": "code",
      "source": [],
      "metadata": {
        "id": "thkWtoY2-2Np"
      },
      "execution_count": null,
      "outputs": []
    }
  ],
  "metadata": {
    "colab": {
      "provenance": []
    },
    "kernelspec": {
      "display_name": "Python 3",
      "name": "python3"
    },
    "language_info": {
      "name": "python"
    }
  },
  "nbformat": 4,
  "nbformat_minor": 0
}