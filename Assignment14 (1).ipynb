{
  "cells": [
    {
      "cell_type": "code",
      "source": [
        "#Q1 what is multithreading in python? why is it used? Name the module used to handle threads in python?\n",
        "'''Multithreading in Python refers to a technique that allows multiple threads \n",
        "of execution to run concurrently within a single process.\n",
        "It is used to improve the performance of certain types of programs that can benefit from parallelism.\n",
        "\n",
        "The threading module is used to handle threads in Python.'''"
      ],
      "metadata": {
        "id": "4XRlpzxvkGu-"
      },
      "id": "4XRlpzxvkGu-",
      "execution_count": null,
      "outputs": []
    },
    {
      "cell_type": "code",
      "source": [
        "# Question 2. Why threading module used? Write the use of the following functions \n",
        "# a. activeCount() \n",
        "# b. currentThread() \n",
        "# c. enumerate() \n",
        "\n",
        "'''The threading module in Python is used to create, manage, and synchronize threads in a \n",
        "multithreaded program. It provides a way to run multiple threads of execution concurrently\n",
        "within a single process, which can improve the performance of certain types of programs\n",
        "that can benefit from parallelism.\n",
        "\n",
        "Here are the uses of the following functions of the threading module:'''\n",
        "\n",
        "#activeCount(): This function is used to get the number of currently active threads in the program.\n",
        "\n",
        "#currentThread(): This function is used to get a reference to the current thread object,\n",
        "#which can be used to get information about the current thread.\n",
        "\n",
        "#enumerate():\n",
        "'''This function is used to get a list of all currently active thread objects \n",
        "in the program. It returns a list of Thread objects, which can be used to get information\n",
        "about each thread, such as its name and status.'''"
      ],
      "metadata": {
        "id": "R7ujc1M0l1s4"
      },
      "id": "R7ujc1M0l1s4",
      "execution_count": null,
      "outputs": []
    },
    {
      "cell_type": "code",
      "source": [
        "# Question 3. Explain the following functions \n",
        "# a. run() \n",
        "# b. start() \n",
        "# c. join() \n",
        "# d. isAlive() \n",
        "\"\"\"Here are the explanations of the following functions in the threading module:\n",
        "\n",
        "run(): This method is the entry point for a thread, and it defines the behavior \n",
        "of the thread when it is started. When a thread is started, its run() method is \n",
        "called, and it executes until the method returns or the thread is stopped.\n",
        "\n",
        "start(): This method is used to start a thread. When this method is called, a \n",
        "new thread of execution is created, and the thread's run() method is called in that new thread.\n",
        "\n",
        "join(): This method is used to wait for a thread to complete its execution. \n",
        "When this method is called, the calling thread is blocked until the thread it \n",
        "is joining completes its execution.\n",
        "\n",
        "isAlive(): This method is used to check if a thread is currently running. \n",
        "It returns True if the thread is currently running, and False otherwise. \n",
        "This method can be used to check if a thread is still running before attempting to \n",
        "join it or perform other operations on it.\"\"\""
      ],
      "metadata": {
        "id": "EvZxKhaQm5nP"
      },
      "id": "EvZxKhaQm5nP",
      "execution_count": null,
      "outputs": []
    },
    {
      "cell_type": "code",
      "source": [
        "#Q4.write a python program to create two threads. Thread one must print the list of squares and thread two must print the list of cubes. \n",
        "'''Answer: the squares() function prints the list of squares of numbers from 1 to 10, and the cubes() function \n",
        "prints the list of cubes of numbers from 1 to 10. Two threads are created using the Thread class from the threading module, \n",
        "one for each function. The start() method is called on both threads to start their execution, and the join() method is called \n",
        "on both threads to wait for their completion. Finally, a message is printed indicating that the program has finished executing. \n",
        "When run, this program should print the list of squares and cubes in parallel, interleaving the output of the two threads.'''"
      ],
      "metadata": {
        "id": "uq_p69TTnqwO"
      },
      "id": "uq_p69TTnqwO",
      "execution_count": null,
      "outputs": []
    },
    {
      "cell_type": "code",
      "source": [
        "import threading \n",
        "\n",
        "def squares():\n",
        "    for i in range(1,10):\n",
        "         print(f\"Square of {i} is {i**2}\")\n",
        "\n",
        "def cubes():\n",
        "    for i in range(1,10):\n",
        "        print(f\"cubes of {i} is {i**3}\")\n"
      ],
      "metadata": {
        "id": "qiBEWcCKpGLi"
      },
      "id": "qiBEWcCKpGLi",
      "execution_count": 6,
      "outputs": []
    },
    {
      "cell_type": "code",
      "source": [
        "t1 = threading.Thread(target=squares)\n",
        "t2 = threading.Thread(target=cubes)"
      ],
      "metadata": {
        "id": "rFgzT7x1p7FN"
      },
      "id": "rFgzT7x1p7FN",
      "execution_count": 7,
      "outputs": []
    },
    {
      "cell_type": "code",
      "source": [
        "t1.start()\n",
        "t2.start()\n",
        "# Wait for both threads to complete\n",
        "t1.join()\n",
        "t2.join()"
      ],
      "metadata": {
        "colab": {
          "base_uri": "https://localhost:8080/"
        },
        "id": "EEQS3LpIqjm6",
        "outputId": "94108439-2129-4d0f-af02-817bba9934d8"
      },
      "id": "EEQS3LpIqjm6",
      "execution_count": 8,
      "outputs": [
        {
          "output_type": "stream",
          "name": "stdout",
          "text": [
            "Square of 1 is 1\n",
            "Square of 2 is 4\n",
            "Square of 3 is 9\n",
            "Square of 4 is 16\n",
            "Square of 5 is 25\n",
            "Square of 6 is 36\n",
            "Square of 7 is 49\n",
            "Square of 8 is 64\n",
            "Square of 9 is 81\n",
            "cubes of 1 is 1\n",
            "cubes of 2 is 8\n",
            "cubes of 3 is 27\n",
            "cubes of 4 is 64\n",
            "cubes of 5 is 125\n",
            "cubes of 6 is 216\n",
            "cubes of 7 is 343\n",
            "cubes of 8 is 512\n",
            "cubes of 9 is 729\n"
          ]
        }
      ]
    },
    {
      "cell_type": "code",
      "source": [
        "# Q5 State advantages and disadvantages of multithreading. \n",
        "#Advantages of multithreading:\n",
        "'''\n",
        "1-Improved performance: Multithreading can improve the performance of certain types\n",
        "of programs that can benefit from parallelism by allowing multiple tasks to run concurrently.\n",
        "\n",
        "2-Increased responsiveness: Multithreading can make a program more responsive by \n",
        "allowing the user interface to remain active while other tasks are running in the background.\n",
        "\n",
        "3-Simplified design: Multithreading can simplify the design of a program by allowing \n",
        "tasks to be separated into smaller, more manageable units.\n",
        "\n",
        "4-Resource sharing: Multithreading can allow threads to share resources, such as memory \n",
        "or data structures, without the need for expensive synchronization mechanisms.'''\n",
        "\n",
        "#Disadvantages of multithreading:\n",
        "\n",
        "'''1-Complexity: Multithreading can make a program more complex and harder to debug, \n",
        "especially when dealing with synchronization and concurrency issues.\n",
        "\n",
        "2-Increased overhead: Multithreading can introduce additional overhead, such as \n",
        "context switching and synchronization, which can reduce performance and increase \n",
        "the risk of race conditions and deadlocks.\n",
        "\n",
        "3-Non-determinism: Multithreading can introduce non-determinism into a program, \n",
        "as the order in which threads execute is not guaranteed and can vary depending \n",
        "on factors such as system load and scheduling policies.\n",
        "\n",
        "4-Security risks: Multithreading can introduce security risks, such as data races \n",
        "and other concurrency-related vulnerabilities, if not implemented carefully and with\n",
        "appropriate safeguards.'''"
      ],
      "metadata": {
        "id": "Kus80bIGs9lg"
      },
      "id": "Kus80bIGs9lg",
      "execution_count": null,
      "outputs": []
    },
    {
      "cell_type": "code",
      "source": [
        "# Q6. Explain deadlocks and race conditions. \n",
        "'''Deadlocks and race conditions are common problems that can occur in multithreaded programs.\n",
        "\n",
        "A deadlock occurs when two or more threads are waiting for each other to release a resource, \n",
        "but none of them is willing or able to release the resource. This can result in a situation\n",
        "where both threads are blocked and cannot continue to execute, causing the program to hang.\n",
        "Deadlocks can be caused by improper resource allocation and management or by poor synchronization\n",
        "between threads.\n",
        "\n",
        "A race condition occurs when the behavior of a program depends on the timing or sequence of \n",
        "events that are not under the control of the program. In other words, the output of the program \n",
        "depends on which thread executes first, and this can lead to unpredictable and inconsistent behavior.\n",
        "Race conditions can be caused by shared resources that are accessed concurrently by multiple threads\n",
        "without proper synchronization, leading to inconsistencies or incorrect results.\n",
        "\n",
        "Both deadlocks and race conditions are difficult to detect and can be challenging to resolve. \n",
        "To prevent deadlocks, it is essential to ensure that threads do not hold resources for an \n",
        "extended period and release them as soon as they are no longer needed. To prevent race conditions,\n",
        "it is crucial to use synchronization mechanisms, such as locks or semaphores, to coordinate access\n",
        "to shared resources and ensure that only one thread can access the resource at a time. \n",
        "Proper design and testing are also critical to minimizing the risk of deadlocks and race conditions.'''"
      ],
      "metadata": {
        "id": "dUDAd8bJtQAv"
      },
      "id": "dUDAd8bJtQAv",
      "execution_count": null,
      "outputs": []
    }
  ],
  "metadata": {
    "kernelspec": {
      "display_name": "Python 3",
      "name": "python3"
    },
    "language_info": {
      "name": "python"
    },
    "colab": {
      "provenance": []
    }
  },
  "nbformat": 4,
  "nbformat_minor": 5
}